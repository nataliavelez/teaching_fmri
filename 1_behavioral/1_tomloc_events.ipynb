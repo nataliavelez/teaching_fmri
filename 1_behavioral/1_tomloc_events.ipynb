{
 "cells": [
  {
   "cell_type": "markdown",
   "metadata": {},
   "source": [
    "# ToM localizer: Make event files\n",
    "Natalia Vélez, September 2021"
   ]
  },
  {
   "cell_type": "code",
   "execution_count": 1,
   "metadata": {},
   "outputs": [],
   "source": [
    "import glob, sys\n",
    "import scipy.io\n",
    "import pandas as pd\n",
    "import numpy as np\n",
    "from os.path import join as opj\n",
    "\n",
    "sys.path.append('..')\n",
    "from utils import str_extract, int_extract"
   ]
  },
  {
   "cell_type": "markdown",
   "metadata": {},
   "source": [
    "Find data files:"
   ]
  },
  {
   "cell_type": "code",
   "execution_count": 2,
   "metadata": {},
   "outputs": [
    {
     "name": "stdout",
     "output_type": "stream",
     "text": [
      "59 files found\n",
      "../../tomloc/teaching_01.tom_localizer.1.mat\n",
      "../../tomloc/teaching_01.tom_localizer.2.mat\n",
      "../../tomloc/teaching_02.tom_localizer.1.mat\n",
      "../../tomloc/teaching_02.tom_localizer.2.mat\n",
      "../../tomloc/teaching_03.tom_localizer.1.mat\n",
      "../../tomloc/teaching_04.tom_localizer.1.mat\n",
      "../../tomloc/teaching_04.tom_localizer.2.mat\n",
      "../../tomloc/teaching_05.tom_localizer.1.mat\n",
      "../../tomloc/teaching_05.tom_localizer.2.mat\n",
      "../../tomloc/teaching_06.tom_localizer.1.mat\n",
      "../../tomloc/teaching_06.tom_localizer.2.mat\n",
      "../../tomloc/teaching_07.tom_localizer.1.mat\n",
      "../../tomloc/teaching_07.tom_localizer.2.mat\n",
      "../../tomloc/teaching_08.tom_localizer.1.mat\n",
      "../../tomloc/teaching_08.tom_localizer.2.mat\n",
      "../../tomloc/teaching_09.tom_localizer.1.mat\n",
      "../../tomloc/teaching_09.tom_localizer.2.mat\n",
      "../../tomloc/teaching_10.tom_localizer.1.mat\n",
      "../../tomloc/teaching_10.tom_localizer.2.mat\n",
      "../../tomloc/teaching_11.tom_localizer.1.mat\n",
      "...\n"
     ]
    }
   ],
   "source": [
    "tomloc_files = glob.glob('../../tomloc/*.mat')\n",
    "tomloc_files.sort()\n",
    "\n",
    "print('%i files found' % len(tomloc_files))\n",
    "print(*tomloc_files[:20], sep='\\n')\n",
    "print('...')"
   ]
  },
  {
   "cell_type": "markdown",
   "metadata": {},
   "source": [
    "Main loop: Data wrangling"
   ]
  },
  {
   "cell_type": "code",
   "execution_count": 3,
   "metadata": {},
   "outputs": [],
   "source": [
    "out_dir = '/ncf/gershman/User/nvelezalicea/teaching/BIDS_data/'\n",
    "out_template = opj(out_dir, 'sub-%02d', 'func', 'sub-%02d_task-tomloc_run-%02d_events.tsv')\n",
    "\n",
    "for f in tomloc_files:\n",
    "\n",
    "    # Name output file\n",
    "    sub_no = int_extract('(?<=teaching_)[0-9]+', f)\n",
    "    run_no = int_extract('[1-2](?=\\.mat$)', f)\n",
    "    out_file = out_template % (sub_no, sub_no, run_no)\n",
    "\n",
    "    # Data wrangling\n",
    "    run_data = scipy.io.loadmat(f)\n",
    "    run_df = pd.DataFrame({'trial_type': run_data['design'][0], 'onset': run_data['trialsOnsets'].T[0], 'duration': 14})\n",
    "    run_df['trial_type'] = np.where(run_df.trial_type == 1, 'belief', 'photo')\n",
    "\n",
    "    # Save to file\n",
    "    run_df = run_df[['onset', 'duration', 'trial_type']]\n",
    "    run_df.to_csv(out_file, sep='\\t', index=False)"
   ]
  }
 ],
 "metadata": {
  "kernelspec": {
   "display_name": "Python [conda env:root] *",
   "language": "python",
   "name": "conda-root-py"
  },
  "language_info": {
   "codemirror_mode": {
    "name": "ipython",
    "version": 3
   },
   "file_extension": ".py",
   "mimetype": "text/x-python",
   "name": "python",
   "nbconvert_exporter": "python",
   "pygments_lexer": "ipython3",
   "version": "3.8.5"
  }
 },
 "nbformat": 4,
 "nbformat_minor": 4
}
