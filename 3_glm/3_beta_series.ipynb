{
 "cells": [
  {
   "cell_type": "markdown",
   "metadata": {},
   "source": [
    "# Define beta series regression\n",
    "Natalia Vélez, February 2022"
   ]
  },
  {
   "cell_type": "code",
   "execution_count": 3,
   "metadata": {},
   "outputs": [],
   "source": [
    "%matplotlib inline\n",
    "\n",
    "import os,sys\n",
    "import numpy as np\n",
    "import pandas as pd\n",
    "\n",
    "sys.path.append('..')\n",
    "from utils import str_extract, gsearch, read_json"
   ]
  },
  {
   "cell_type": "markdown",
   "metadata": {},
   "source": [
    "Find original timing files:"
   ]
  },
  {
   "cell_type": "code",
   "execution_count": 5,
   "metadata": {},
   "outputs": [
    {
     "data": {
      "text/plain": [
       "['sub-01_task-teaching_run-01_bold.nii',\n",
       " 'sub-01_task-teaching_run-01_bold.json',\n",
       " 'sub-01_task-teaching_run-02_bold.nii',\n",
       " 'sub-01_task-teaching_run-02_bold.json',\n",
       " 'sub-01_task-teaching_run-03_bold.nii',\n",
       " 'sub-01_task-teaching_run-03_bold.json',\n",
       " 'sub-01_task-teaching_run-04_bold.nii',\n",
       " 'sub-01_task-teaching_run-04_bold.json',\n",
       " 'sub-01_task-teaching_run-05_bold.nii',\n",
       " 'sub-01_task-teaching_run-05_bold.json',\n",
       " 'sub-01_task-teaching_run-06_bold.nii',\n",
       " 'sub-01_task-teaching_run-06_bold.json',\n",
       " 'sub-01_task-teaching_run-07_bold.nii',\n",
       " 'sub-01_task-teaching_run-07_bold.json',\n",
       " 'sub-01_task-teaching_run-08_bold.nii',\n",
       " 'sub-01_task-teaching_run-08_bold.json',\n",
       " 'sub-01_task-teaching_run-09_bold.nii',\n",
       " 'sub-01_task-teaching_run-09_bold.json',\n",
       " 'sub-01_task-teaching_run-10_bold.nii',\n",
       " 'sub-01_task-teaching_run-10_bold.json',\n",
       " 'sub-01_task-tomloc_run-01_bold.nii',\n",
       " 'sub-01_task-tomloc_run-01_bold.json',\n",
       " 'sub-01_task-tomloc_run-02_bold.nii',\n",
       " 'sub-01_task-tomloc_run-02_bold.json',\n",
       " 'sub-01_task-teaching_run-01_sbref.nii',\n",
       " 'sub-01_task-teaching_run-01_sbref.json',\n",
       " 'sub-01_task-teaching_run-02_sbref.nii',\n",
       " 'sub-01_task-teaching_run-02_sbref.json',\n",
       " 'sub-01_task-teaching_run-03_sbref.nii',\n",
       " 'sub-01_task-teaching_run-03_sbref.json',\n",
       " 'sub-01_task-teaching_run-04_sbref.nii',\n",
       " 'sub-01_task-teaching_run-04_sbref.json',\n",
       " 'sub-01_task-teaching_run-05_sbref.nii',\n",
       " 'sub-01_task-teaching_run-05_sbref.json',\n",
       " 'sub-01_task-teaching_run-06_sbref.nii',\n",
       " 'sub-01_task-teaching_run-06_sbref.json',\n",
       " 'sub-01_task-teaching_run-07_sbref.nii',\n",
       " 'sub-01_task-teaching_run-07_sbref.json',\n",
       " 'sub-01_task-teaching_run-08_sbref.nii',\n",
       " 'sub-01_task-teaching_run-08_sbref.json',\n",
       " 'sub-01_task-teaching_run-09_sbref.nii',\n",
       " 'sub-01_task-teaching_run-09_sbref.json',\n",
       " 'sub-01_task-teaching_run-10_sbref.nii',\n",
       " 'sub-01_task-teaching_run-10_sbref.json',\n",
       " 'sub-01_task-tomloc_run-01_sbref.nii',\n",
       " 'sub-01_task-tomloc_run-01_sbref.json',\n",
       " 'sub-01_task-tomloc_run-02_sbref.nii',\n",
       " 'sub-01_task-tomloc_run-02_sbref.json',\n",
       " 'sub-01_task-tomloc_run-01_events.tsv',\n",
       " '.ipynb_checkpoints',\n",
       " 'sub-01_task-tomloc_run-02_events.tsv']"
      ]
     },
     "execution_count": 5,
     "metadata": {},
     "output_type": "execute_result"
    }
   ],
   "source": [
    "os.listdir('../../BIDS_data/sub-01/func')"
   ]
  },
  {
   "cell_type": "code",
   "execution_count": null,
   "metadata": {},
   "outputs": [],
   "source": []
  }
 ],
 "metadata": {
  "kernelspec": {
   "display_name": "Python [conda env:.conda-py3]",
   "language": "python",
   "name": "conda-env-.conda-py3-py"
  },
  "language_info": {
   "codemirror_mode": {
    "name": "ipython",
    "version": 3
   },
   "file_extension": ".py",
   "mimetype": "text/x-python",
   "name": "python",
   "nbconvert_exporter": "python",
   "pygments_lexer": "ipython3",
   "version": "3.6.10"
  }
 },
 "nbformat": 4,
 "nbformat_minor": 4
}
