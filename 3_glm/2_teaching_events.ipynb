{
 "cells": [
  {
   "cell_type": "markdown",
   "metadata": {},
   "source": [
    "# Teaching task event files\n",
    "Natalia Vélez, March 2022"
   ]
  },
  {
   "cell_type": "code",
   "execution_count": 1,
   "metadata": {},
   "outputs": [],
   "source": [
    "import os,sys\n",
    "import pandas as pd\n",
    "import numpy as np\n",
    "from os.path import join as opj\n",
    "\n",
    "sys.path.append('..')\n",
    "from utils import str_extract, int_extract, gsearch, read_json, write_json"
   ]
  },
  {
   "cell_type": "markdown",
   "metadata": {},
   "source": [
    "Load valid participants:"
   ]
  },
  {
   "cell_type": "code",
   "execution_count": 2,
   "metadata": {},
   "outputs": [
    {
     "name": "stdout",
     "output_type": "stream",
     "text": [
      "['sub-01', 'sub-02', 'sub-04', 'sub-05', 'sub-06', 'sub-07', 'sub-08', 'sub-09', 'sub-10', 'sub-11', 'sub-12', 'sub-13', 'sub-14', 'sub-15', 'sub-16', 'sub-18', 'sub-19', 'sub-20', 'sub-21', 'sub-22', 'sub-23', 'sub-24', 'sub-25', 'sub-26', 'sub-27', 'sub-28', 'sub-29', 'sub-30']\n"
     ]
    }
   ],
   "source": [
    "valid_participants = np.loadtxt('../1_preprocessing/outputs/valid_participants.txt')\n",
    "valid_participants = ['sub-%02d' % s for s in valid_participants]\n",
    "print(valid_participants)"
   ]
  },
  {
   "cell_type": "markdown",
   "metadata": {},
   "source": [
    "### Vanilla event files (for top-level folder)"
   ]
  },
  {
   "cell_type": "markdown",
   "metadata": {},
   "source": [
    "Find behavioral files:"
   ]
  },
  {
   "cell_type": "code",
   "execution_count": 3,
   "metadata": {},
   "outputs": [
    {
     "name": "stdout",
     "output_type": "stream",
     "text": [
      "Found 299 behavioral files\n",
      "../../behavioral/sub-01_task-teaching_run-01_behavioral_1628798255.json\n",
      "../../behavioral/sub-01_task-teaching_run-02_behavioral_1628798680.json\n",
      "../../behavioral/sub-01_task-teaching_run-03_behavioral_1628799162.json\n",
      "../../behavioral/sub-01_task-teaching_run-04_behavioral_1628800012.json\n",
      "../../behavioral/sub-01_task-teaching_run-05_behavioral_1628800423.json\n",
      "../../behavioral/sub-01_task-teaching_run-06_behavioral_1628800796.json\n",
      "../../behavioral/sub-01_task-teaching_run-07_behavioral_1628801177.json\n",
      "../../behavioral/sub-01_task-teaching_run-08_behavioral_1628801584.json\n",
      "../../behavioral/sub-01_task-teaching_run-09_behavioral_1628802076.json\n",
      "../../behavioral/sub-01_task-teaching_run-10_behavioral_1628802432.json\n"
     ]
    }
   ],
   "source": [
    "original_files = gsearch('../../behavioral/*.json')\n",
    "original_files = [f for f in original_files if 'run-practice' not in f] # trim out practice runs\n",
    "original_files.sort()\n",
    "\n",
    "print(f'Found {len(original_files)} behavioral files')\n",
    "print(*original_files[:10], sep='\\n')"
   ]
  },
  {
   "cell_type": "markdown",
   "metadata": {},
   "source": [
    "Helper function: Transforms raw data into BIDS-compliant events files"
   ]
  },
  {
   "cell_type": "code",
   "execution_count": 4,
   "metadata": {},
   "outputs": [],
   "source": [
    "def data_wrangling(f):\n",
    "\n",
    "    # load input data\n",
    "    in_df = pd.read_json(f)\n",
    "\n",
    "    # copy input data\n",
    "    out_df = (\n",
    "        in_df\n",
    "        .copy()\n",
    "        .rename(columns={\n",
    "            'ons': 'onset',\n",
    "            'dur': 'duration',\n",
    "            'type': 'trial_type',\n",
    "            'problem_idx': 'block_no',\n",
    "            'ex_idx': 'trial_no',\n",
    "            'problem': 'stimuli',\n",
    "            'order': 'stimuli_order',\n",
    "            'rt': 'response_time'\n",
    "        })\n",
    "    )\n",
    "\n",
    "    # create additional rows for motor response\n",
    "    choose_trials = out_df[~pd.isna(out_df.movements)]\n",
    "    rate_trials = out_df[out_df.trial_type == 'rate']\n",
    "\n",
    "    # add cursor movements from choose trials\n",
    "    movement_list = []\n",
    "    for _, row in choose_trials.iterrows():\n",
    "        movements = row.movements\n",
    "        movement_dict = [{'trial_type': 'motor', 'onset': row.onset + m[1], 'duration': 0} for m in movements if m[1] >= 0]\n",
    "        movement_list += movement_dict\n",
    "\n",
    "    # add cursor movements from rate trials\n",
    "    for _, row in rate_trials.iterrows():\n",
    "        movement_dict = {'trial_type': 'motor', 'onset': row.onset+row.response_time, 'duration': 0}\n",
    "        movement_list.append(movement_dict)\n",
    "\n",
    "    # add to main event df\n",
    "    movement_df = pd.DataFrame(movement_list)\n",
    "    out_df = pd.concat([out_df, movement_df])\n",
    "\n",
    "    # make a single \"response\" column\n",
    "    response = np.empty(out_df.shape[0])\n",
    "    response = np.where(out_df.example.isna(), out_df.rating, out_df.example)\n",
    "    out_df['response'] = response\n",
    "\n",
    "    # reorganize df\n",
    "    out_df = (\n",
    "        out_df\n",
    "        .sort_values(by='onset')\n",
    "        .dropna(axis='index', subset=['onset'])\n",
    "        .reset_index(drop=True)\n",
    "        [['onset', 'duration', 'trial_type', 'block_no', 'trial_no', 'stimuli',\n",
    "          'stimuli_order', 'response', 'response_time']]\n",
    "    )\n",
    "\n",
    "    return out_df"
   ]
  },
  {
   "cell_type": "markdown",
   "metadata": {},
   "source": [
    "Main loop: Iterate through all behavioral files"
   ]
  },
  {
   "cell_type": "code",
   "execution_count": 5,
   "metadata": {},
   "outputs": [],
   "source": [
    "data_dir = '../../BIDS_data/'\n",
    "\n",
    "for f in original_files:\n",
    "    \n",
    "#     print(f'Loading file: {f}')\n",
    "    sub = str_extract('sub-[0-9]{2}', f)\n",
    "    run = str_extract('run-[0-9]{2}', f)\n",
    "    out_f = opj(data_dir, sub, 'func', f'{sub}_task-teaching_{run}_events.tsv')\n",
    "    \n",
    "#     print(f'Saving to: {out_f}\\n')\n",
    "    out_df = data_wrangling(f)\n",
    "    out_df.to_csv(out_f, sep='\\t', index=False, na_rep='n/a')"
   ]
  },
  {
   "cell_type": "markdown",
   "metadata": {},
   "source": [
    "### Model-generated regressors (for GLM)"
   ]
  },
  {
   "cell_type": "markdown",
   "metadata": {},
   "source": [
    "Load model regressors"
   ]
  },
  {
   "cell_type": "code",
   "execution_count": null,
   "metadata": {},
   "outputs": [],
   "source": [
    "model_reg = (\n",
    "    pd.read_csv('../2_behavioral/outputs/model_regressor_values.csv')\n",
    "    .rename(columns={'block_idx': 'block_no', 'ex_idx': 'trial_no', 'problem': 'stimuli'})\n",
    ")\n",
    "model_reg.head()"
   ]
  },
  {
   "cell_type": "markdown",
   "metadata": {},
   "source": [
    "Helper function: Merge model-based regressors with vanilla event files"
   ]
  },
  {
   "cell_type": "code",
   "execution_count": null,
   "metadata": {},
   "outputs": [],
   "source": [
    "def make_model_reg(f):\n",
    "\n",
    "    # get event data\n",
    "    event_df = data_wrangling(f)\n",
    "    event_df.head()\n",
    "\n",
    "    # get regressors\n",
    "    sub = int_extract('(?<=sub-)[0-9]{2}', f)\n",
    "    run = int_extract('(?<=run-)[0-9]{2}', f)\n",
    "    run_reg = model_reg[(model_reg.subject == sub) & (model_reg.run == run)]\n",
    "    run_reg = run_reg[['block_no', 'trial_no', 'pTrue', 'KL']]\n",
    "\n",
    "    # merge with event files\n",
    "    show_trials = (\n",
    "        event_df\n",
    "        [event_df.trial_type == 'show']\n",
    "        .copy()\n",
    "        .drop(columns='trial_type')\n",
    "        .merge(run_reg, on=['block_no', 'trial_no'])\n",
    "        .melt(id_vars=['onset', 'duration', 'block_no', 'trial_no', 'stimuli', 'stimuli_order', 'response', 'response_time'],\n",
    "              value_vars=['pTrue', 'KL'], var_name='trial_type', value_name='value')\n",
    "    )\n",
    "\n",
    "    # trim variables\n",
    "    model_events = pd.concat([event_df, show_trials])\n",
    "    model_events = (\n",
    "        model_events\n",
    "        .assign(trial_type=model_events.trial_type.astype('category').cat.reorder_categories(event_df.trial_type.unique().tolist() + ['pTrue', 'KL']))\n",
    "        .sort_values(by=['onset', 'duration', 'trial_type'])\n",
    "        [['onset', 'duration', 'trial_type', 'value']]\n",
    "        .reset_index(drop=True)\n",
    "    )\n",
    "    \n",
    "    return model_events"
   ]
  },
  {
   "cell_type": "markdown",
   "metadata": {},
   "source": [
    "Save to file:"
   ]
  },
  {
   "cell_type": "code",
   "execution_count": null,
   "metadata": {},
   "outputs": [],
   "source": [
    "out_dir = '../../BIDS_data/derivatives/model_events'\n",
    "os.makedirs(out_dir, exist_ok=True)\n",
    "\n",
    "for f in original_files:\n",
    "    sub = str_extract('sub-[0-9]{2}', f)\n",
    "    run = str_extract('run-[0-9]{2}', f)\n",
    "    out_f = opj(out_dir, sub, 'func', f'{sub}_task-teaching_{run}_model-main_events.tsv')\n",
    "    \n",
    "    if sub in valid_participants:\n",
    "        print(f'Loading file: {f}')\n",
    "        out_df = make_model_reg(f)\n",
    "        \n",
    "        print(f'Saving to: {out_f}\\n')\n",
    "        os.makedirs(opj(out_dir, sub, 'func'), exist_ok=True)\n",
    "        out_df.to_csv(out_f, sep='\\t', index=False, na_rep='n/a')"
   ]
  }
 ],
 "metadata": {
  "kernelspec": {
   "display_name": "Python [conda env:.conda-py3]",
   "language": "python",
   "name": "conda-env-.conda-py3-py"
  },
  "language_info": {
   "codemirror_mode": {
    "name": "ipython",
    "version": 3
   },
   "file_extension": ".py",
   "mimetype": "text/x-python",
   "name": "python",
   "nbconvert_exporter": "python",
   "pygments_lexer": "ipython3",
   "version": "3.8.5"
  }
 },
 "nbformat": 4,
 "nbformat_minor": 4
}
