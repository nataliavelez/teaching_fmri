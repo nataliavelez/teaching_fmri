{
 "cells": [
  {
   "cell_type": "markdown",
   "metadata": {},
   "source": [
    "# Plot model comparison results\n",
    "Natalia Vélez, May 2022"
   ]
  },
  {
   "cell_type": "code",
   "execution_count": 9,
   "metadata": {},
   "outputs": [],
   "source": [
    "%matplotlib inline\n",
    "\n",
    "import numpy as np\n",
    "import pandas as pd\n",
    "import matplotlib.pyplot as plt\n",
    "from matplotlib import colors\n",
    "import seaborn as sns\n",
    "\n",
    "sns.set_context('talk')\n",
    "sns.set_style('white')"
   ]
  },
  {
   "cell_type": "markdown",
   "metadata": {},
   "source": [
    "Load model comparison results:"
   ]
  },
  {
   "cell_type": "code",
   "execution_count": 10,
   "metadata": {},
   "outputs": [
    {
     "data": {
      "text/html": [
       "<div>\n",
       "<style scoped>\n",
       "    .dataframe tbody tr th:only-of-type {\n",
       "        vertical-align: middle;\n",
       "    }\n",
       "\n",
       "    .dataframe tbody tr th {\n",
       "        vertical-align: top;\n",
       "    }\n",
       "\n",
       "    .dataframe thead th {\n",
       "        text-align: right;\n",
       "    }\n",
       "</style>\n",
       "<table border=\"1\" class=\"dataframe\">\n",
       "  <thead>\n",
       "    <tr style=\"text-align: right;\">\n",
       "      <th></th>\n",
       "      <th>roi</th>\n",
       "      <th>model</th>\n",
       "      <th>pxp</th>\n",
       "    </tr>\n",
       "  </thead>\n",
       "  <tbody>\n",
       "    <tr>\n",
       "      <th>0</th>\n",
       "      <td>ACC</td>\n",
       "      <td>Non-parametric</td>\n",
       "      <td>0.000274</td>\n",
       "    </tr>\n",
       "    <tr>\n",
       "      <th>1</th>\n",
       "      <td>DMPFC</td>\n",
       "      <td>Non-parametric</td>\n",
       "      <td>0.850326</td>\n",
       "    </tr>\n",
       "    <tr>\n",
       "      <th>2</th>\n",
       "      <td>LTPJ</td>\n",
       "      <td>Non-parametric</td>\n",
       "      <td>0.879004</td>\n",
       "    </tr>\n",
       "    <tr>\n",
       "      <th>3</th>\n",
       "      <td>MMPFC</td>\n",
       "      <td>Non-parametric</td>\n",
       "      <td>0.997840</td>\n",
       "    </tr>\n",
       "    <tr>\n",
       "      <th>4</th>\n",
       "      <td>PC</td>\n",
       "      <td>Non-parametric</td>\n",
       "      <td>0.907198</td>\n",
       "    </tr>\n",
       "  </tbody>\n",
       "</table>\n",
       "</div>"
      ],
      "text/plain": [
       "     roi           model       pxp\n",
       "0    ACC  Non-parametric  0.000274\n",
       "1  DMPFC  Non-parametric  0.850326\n",
       "2   LTPJ  Non-parametric  0.879004\n",
       "3  MMPFC  Non-parametric  0.997840\n",
       "4     PC  Non-parametric  0.907198"
      ]
     },
     "execution_count": 10,
     "metadata": {},
     "output_type": "execute_result"
    }
   ],
   "source": [
    "all_models = (\n",
    "    pd.read_csv('outputs/model_comparison_all.csv')\n",
    "    .rename(columns={'Row': 'roi'})\n",
    "    .melt(id_vars=['roi'], var_name='model', value_name='pxp')\n",
    ")\n",
    "all_models['model'] = all_models.model.astype('category').cat.rename_categories({'nonparametric': 'Non-parametric', 'parametricKL': 'KL', 'parametricpTrue': 'pTrue', 'parametric': 'Full model'})\n",
    "\n",
    "all_models.head()"
   ]
  },
  {
   "cell_type": "code",
   "execution_count": 11,
   "metadata": {},
   "outputs": [
    {
     "data": {
      "text/html": [
       "<div>\n",
       "<style scoped>\n",
       "    .dataframe tbody tr th:only-of-type {\n",
       "        vertical-align: middle;\n",
       "    }\n",
       "\n",
       "    .dataframe tbody tr th {\n",
       "        vertical-align: top;\n",
       "    }\n",
       "\n",
       "    .dataframe thead th {\n",
       "        text-align: right;\n",
       "    }\n",
       "</style>\n",
       "<table border=\"1\" class=\"dataframe\">\n",
       "  <thead>\n",
       "    <tr style=\"text-align: right;\">\n",
       "      <th></th>\n",
       "      <th>roi</th>\n",
       "      <th>model</th>\n",
       "      <th>pxp</th>\n",
       "    </tr>\n",
       "  </thead>\n",
       "  <tbody>\n",
       "    <tr>\n",
       "      <th>0</th>\n",
       "      <td>ACC</td>\n",
       "      <td>Full model</td>\n",
       "      <td>0.954538</td>\n",
       "    </tr>\n",
       "    <tr>\n",
       "      <th>1</th>\n",
       "      <td>DMPFC</td>\n",
       "      <td>Full model</td>\n",
       "      <td>0.153693</td>\n",
       "    </tr>\n",
       "    <tr>\n",
       "      <th>2</th>\n",
       "      <td>LTPJ</td>\n",
       "      <td>Full model</td>\n",
       "      <td>0.281743</td>\n",
       "    </tr>\n",
       "    <tr>\n",
       "      <th>3</th>\n",
       "      <td>MMPFC</td>\n",
       "      <td>Full model</td>\n",
       "      <td>0.005981</td>\n",
       "    </tr>\n",
       "    <tr>\n",
       "      <th>4</th>\n",
       "      <td>PC</td>\n",
       "      <td>Full model</td>\n",
       "      <td>0.021882</td>\n",
       "    </tr>\n",
       "  </tbody>\n",
       "</table>\n",
       "</div>"
      ],
      "text/plain": [
       "     roi       model       pxp\n",
       "0    ACC  Full model  0.954538\n",
       "1  DMPFC  Full model  0.153693\n",
       "2   LTPJ  Full model  0.281743\n",
       "3  MMPFC  Full model  0.005981\n",
       "4     PC  Full model  0.021882"
      ]
     },
     "execution_count": 11,
     "metadata": {},
     "output_type": "execute_result"
    }
   ],
   "source": [
    "param_models = (\n",
    "    pd.read_csv('outputs/model_comparison_parametric.csv')\n",
    "    .rename(columns={'Row': 'roi'})\n",
    "    .melt(id_vars=['roi'], var_name='model', value_name='pxp')\n",
    ")\n",
    "param_models['model'] = param_models.model.astype('category').cat.rename_categories({'nonparametric': 'Non-parametric', 'parametricKL': 'KL', 'parametricpTrue': 'pTrue', 'parametric': 'Full model'})\n",
    "\n",
    "param_models.head()"
   ]
  },
  {
   "cell_type": "code",
   "execution_count": 12,
   "metadata": {},
   "outputs": [
    {
     "data": {
      "text/html": [
       "<div>\n",
       "<style scoped>\n",
       "    .dataframe tbody tr th:only-of-type {\n",
       "        vertical-align: middle;\n",
       "    }\n",
       "\n",
       "    .dataframe tbody tr th {\n",
       "        vertical-align: top;\n",
       "    }\n",
       "\n",
       "    .dataframe thead th {\n",
       "        text-align: right;\n",
       "    }\n",
       "</style>\n",
       "<table border=\"1\" class=\"dataframe\">\n",
       "  <thead>\n",
       "    <tr style=\"text-align: right;\">\n",
       "      <th></th>\n",
       "      <th>roi</th>\n",
       "      <th>model</th>\n",
       "      <th>exp_r</th>\n",
       "    </tr>\n",
       "  </thead>\n",
       "  <tbody>\n",
       "    <tr>\n",
       "      <th>0</th>\n",
       "      <td>ACC</td>\n",
       "      <td>Non-parametric</td>\n",
       "      <td>0.062500</td>\n",
       "    </tr>\n",
       "    <tr>\n",
       "      <th>1</th>\n",
       "      <td>DMPFC</td>\n",
       "      <td>Non-parametric</td>\n",
       "      <td>0.500000</td>\n",
       "    </tr>\n",
       "    <tr>\n",
       "      <th>2</th>\n",
       "      <td>LTPJ</td>\n",
       "      <td>Non-parametric</td>\n",
       "      <td>0.500000</td>\n",
       "    </tr>\n",
       "    <tr>\n",
       "      <th>3</th>\n",
       "      <td>MMPFC</td>\n",
       "      <td>Non-parametric</td>\n",
       "      <td>0.645161</td>\n",
       "    </tr>\n",
       "    <tr>\n",
       "      <th>4</th>\n",
       "      <td>PC</td>\n",
       "      <td>Non-parametric</td>\n",
       "      <td>0.500000</td>\n",
       "    </tr>\n",
       "  </tbody>\n",
       "</table>\n",
       "</div>"
      ],
      "text/plain": [
       "     roi           model     exp_r\n",
       "0    ACC  Non-parametric  0.062500\n",
       "1  DMPFC  Non-parametric  0.500000\n",
       "2   LTPJ  Non-parametric  0.500000\n",
       "3  MMPFC  Non-parametric  0.645161\n",
       "4     PC  Non-parametric  0.500000"
      ]
     },
     "execution_count": 12,
     "metadata": {},
     "output_type": "execute_result"
    }
   ],
   "source": [
    "all_models_expr = (\n",
    "    pd.read_csv('outputs/model_comparison_all_expr.csv')\n",
    "    .rename(columns={'Row': 'roi'})\n",
    "    .melt(id_vars=['roi'], var_name='model', value_name='exp_r')\n",
    ")\n",
    "all_models_expr['model'] = all_models_expr.model.astype('category').cat.rename_categories({'nonparametric': 'Non-parametric', 'parametricKL': 'KL', 'parametricpTrue': 'pTrue', 'parametric': 'Full model'})\n",
    "\n",
    "all_models_expr.head()"
   ]
  },
  {
   "cell_type": "code",
   "execution_count": 13,
   "metadata": {},
   "outputs": [
    {
     "data": {
      "text/html": [
       "<div>\n",
       "<style scoped>\n",
       "    .dataframe tbody tr th:only-of-type {\n",
       "        vertical-align: middle;\n",
       "    }\n",
       "\n",
       "    .dataframe tbody tr th {\n",
       "        vertical-align: top;\n",
       "    }\n",
       "\n",
       "    .dataframe thead th {\n",
       "        text-align: right;\n",
       "    }\n",
       "</style>\n",
       "<table border=\"1\" class=\"dataframe\">\n",
       "  <thead>\n",
       "    <tr style=\"text-align: right;\">\n",
       "      <th></th>\n",
       "      <th>roi</th>\n",
       "      <th>model</th>\n",
       "      <th>exp_r</th>\n",
       "    </tr>\n",
       "  </thead>\n",
       "  <tbody>\n",
       "    <tr>\n",
       "      <th>0</th>\n",
       "      <td>ACC</td>\n",
       "      <td>Full model</td>\n",
       "      <td>0.612903</td>\n",
       "    </tr>\n",
       "    <tr>\n",
       "      <th>1</th>\n",
       "      <td>DMPFC</td>\n",
       "      <td>Full model</td>\n",
       "      <td>0.161290</td>\n",
       "    </tr>\n",
       "    <tr>\n",
       "      <th>2</th>\n",
       "      <td>LTPJ</td>\n",
       "      <td>Full model</td>\n",
       "      <td>0.225806</td>\n",
       "    </tr>\n",
       "    <tr>\n",
       "      <th>3</th>\n",
       "      <td>MMPFC</td>\n",
       "      <td>Full model</td>\n",
       "      <td>0.100000</td>\n",
       "    </tr>\n",
       "    <tr>\n",
       "      <th>4</th>\n",
       "      <td>PC</td>\n",
       "      <td>Full model</td>\n",
       "      <td>0.096774</td>\n",
       "    </tr>\n",
       "  </tbody>\n",
       "</table>\n",
       "</div>"
      ],
      "text/plain": [
       "     roi       model     exp_r\n",
       "0    ACC  Full model  0.612903\n",
       "1  DMPFC  Full model  0.161290\n",
       "2   LTPJ  Full model  0.225806\n",
       "3  MMPFC  Full model  0.100000\n",
       "4     PC  Full model  0.096774"
      ]
     },
     "execution_count": 13,
     "metadata": {},
     "output_type": "execute_result"
    }
   ],
   "source": [
    "param_models_expr = (\n",
    "    pd.read_csv('outputs/model_comparison_parametric_expr.csv')\n",
    "    .rename(columns={'Row': 'roi'})\n",
    "    .melt(id_vars=['roi'], var_name='model', value_name='exp_r')\n",
    ")\n",
    "param_models_expr['model'] = param_models_expr.model.astype('category').cat.rename_categories({'nonparametric': 'Non-parametric', 'parametricKL': 'KL', 'parametricpTrue': 'pTrue', 'parametric': 'Full model'})\n",
    "\n",
    "param_models_expr.head()"
   ]
  },
  {
   "cell_type": "markdown",
   "metadata": {},
   "source": [
    "Plot:"
   ]
  },
  {
   "cell_type": "code",
   "execution_count": 14,
   "metadata": {},
   "outputs": [
    {
     "data": {
      "text/plain": [
       "[Text(0.5, 0, ''), Text(0, 0.5, 'PXP')]"
      ]
     },
     "execution_count": 14,
     "metadata": {},
     "output_type": "execute_result"
    },
    {
     "data": {
      "image/png": "[encoded data removed]",
      "text/plain": [
       "<Figure size 864x288 with 1 Axes>"
      ]
     },
     "metadata": {},
     "output_type": "display_data"
    }
   ],
   "source": [
    "pal = ['#ccc', '#1a936f', '#FFD20A', '#6F8EC3']\n",
    "fig,ax = plt.subplots(figsize=(12,4))\n",
    "sns.barplot(data=all_models, x='roi', y='pxp', hue='model', ax=ax, palette=pal)\n",
    "ax.legend(title='Model', bbox_to_anchor=(1.05, 1), loc=2, borderaxespad=0.)\n",
    "ax.set(xlabel='', ylabel='PXP')"
   ]
  },
  {
   "cell_type": "code",
   "execution_count": 15,
   "metadata": {},
   "outputs": [
    {
     "data": {
      "text/plain": [
       "[Text(0.5, 0, ''), Text(0, 0.5, 'Expected posterior')]"
      ]
     },
     "execution_count": 15,
     "metadata": {},
     "output_type": "execute_result"
    },
    {
     "data": {
      "image/png": "[encoded data removed]",
      "text/plain": [
       "<Figure size 864x288 with 1 Axes>"
      ]
     },
     "metadata": {},
     "output_type": "display_data"
    }
   ],
   "source": [
    "pal = ['#ccc', '#1a936f', '#FFD20A', '#6F8EC3']\n",
    "fig,ax = plt.subplots(figsize=(12,4))\n",
    "sns.barplot(data=all_models_expr, x='roi', y='exp_r', hue='model', ax=ax, palette=pal)\n",
    "ax.legend(title='Model', bbox_to_anchor=(1.05, 1), loc=2, borderaxespad=0.)\n",
    "ax.set(xlabel='', ylabel='Expected posterior')"
   ]
  },
  {
   "cell_type": "code",
   "execution_count": 16,
   "metadata": {},
   "outputs": [
    {
     "data": {
      "text/plain": [
       "[Text(0.5, 0, ''), Text(0, 0.5, 'PXP')]"
      ]
     },
     "execution_count": 16,
     "metadata": {},
     "output_type": "execute_result"
    },
    {
     "data": {
      "image/png": "[encoded data removed]",
      "text/plain": [
       "<Figure size 864x288 with 1 Axes>"
      ]
     },
     "metadata": {},
     "output_type": "display_data"
    }
   ],
   "source": [
    "fig,ax = plt.subplots(figsize=(12,4))\n",
    "sns.barplot(data=param_models, x='roi', y='pxp', hue='model', ax=ax, palette = pal[1:])\n",
    "ax.legend(title='Model', bbox_to_anchor=(1.05, 1), loc=2, borderaxespad=0.)\n",
    "ax.set(xlabel='', ylabel='PXP')"
   ]
  },
  {
   "cell_type": "code",
   "execution_count": 17,
   "metadata": {},
   "outputs": [
    {
     "data": {
      "text/plain": [
       "[Text(0.5, 0, ''), Text(0, 0.5, 'Expected posterior')]"
      ]
     },
     "execution_count": 17,
     "metadata": {},
     "output_type": "execute_result"
    },
    {
     "data": {
      "image/png": "[encoded data removed]",
      "text/plain": [
       "<Figure size 864x288 with 1 Axes>"
      ]
     },
     "metadata": {},
     "output_type": "display_data"
    }
   ],
   "source": [
    "fig,ax = plt.subplots(figsize=(12,4))\n",
    "sns.barplot(data=param_models_expr, x='roi', y='exp_r', hue='model', ax=ax, palette=pal[1:])\n",
    "ax.legend(title='Model', bbox_to_anchor=(1.05, 1), loc=2, borderaxespad=0.)\n",
    "ax.set(xlabel='', ylabel='Expected posterior')"
   ]
  },
  {
   "cell_type": "code",
   "execution_count": null,
   "metadata": {},
   "outputs": [],
   "source": []
  }
 ],
 "metadata": {
  "kernelspec": {
   "display_name": "Python 3",
   "language": "python",
   "name": "python3"
  },
  "language_info": {
   "codemirror_mode": {
    "name": "ipython",
    "version": 3
   },
   "file_extension": ".py",
   "mimetype": "text/x-python",
   "name": "python",
   "nbconvert_exporter": "python",
   "pygments_lexer": "ipython3",
   "version": "3.8.5"
  }
 },
 "nbformat": 4,
 "nbformat_minor": 4
}
