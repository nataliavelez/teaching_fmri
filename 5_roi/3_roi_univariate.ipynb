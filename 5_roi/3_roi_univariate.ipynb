{
 "cells": [
  {
   "cell_type": "markdown",
   "metadata": {},
   "source": [
    "# ROI-based univariate analyses\n",
    "Natalia Vélez, April 2022"
   ]
  },
  {
   "cell_type": "code",
   "execution_count": null,
   "metadata": {},
   "outputs": [],
   "source": [
    "%matplotlib inline\n",
    "\n",
    "import os, sys\n",
    "import pandas as pd\n",
    "import numpy as np\n",
    "from nilearn import image,plotting,masking\n",
    "import matplotlib.pyplot as plt\n",
    "import seaborn as sns\n",
    "from os.path import join as opj\n",
    "from scipy.io import loadmat\n",
    "from scipy import stats\n",
    "\n",
    "sys.path.append('..')\n",
    "from utils import gsearch, str_extract\n",
    "\n",
    "sns.set_style('white')\n",
    "sns.set_context('talk')"
   ]
  },
  {
   "cell_type": "markdown",
   "metadata": {},
   "source": [
    "## Setup"
   ]
  },
  {
   "cell_type": "markdown",
   "metadata": {},
   "source": [
    "Valid subjects:"
   ]
  },
  {
   "cell_type": "code",
   "execution_count": null,
   "metadata": {},
   "outputs": [],
   "source": [
    "subjects = np.loadtxt('../1_preprocessing/outputs/valid_participants.txt', dtype=int)\n",
    "print(subjects)"
   ]
  },
  {
   "cell_type": "markdown",
   "metadata": {},
   "source": [
    "Project directory:"
   ]
  },
  {
   "cell_type": "code",
   "execution_count": null,
   "metadata": {},
   "outputs": [],
   "source": [
    "data_dir = '/n/gershman_ncf/Lab/natalia_teaching/BIDS_data/derivatives'\n",
    "model_name = 'task-teaching_model-parametricnonortho'"
   ]
  },
  {
   "cell_type": "markdown",
   "metadata": {},
   "source": [
    "Find ACC:"
   ]
  },
  {
   "cell_type": "code",
   "execution_count": null,
   "metadata": {},
   "outputs": [],
   "source": [
    "acc_file = '/ncf/gershman/User/nvelezalicea/fmri_analysis/roi_library/fmriprep_space/bilateral_ACCg.nii.gz'\n",
    "os.path.exists(acc_file)"
   ]
  },
  {
   "cell_type": "markdown",
   "metadata": {},
   "source": [
    "Find functional ROI files:"
   ]
  },
  {
   "cell_type": "code",
   "execution_count": null,
   "metadata": {},
   "outputs": [],
   "source": [
    "roi_files = gsearch(data_dir, 'roi_picker', 'sub-*', 'func', '*.nii.gz')\n",
    "roi_files.sort()\n",
    "\n",
    "print(f'Found {len(roi_files)} ROI files')\n",
    "print(*roi_files[:10]+['...'], sep='\\n')"
   ]
  },
  {
   "cell_type": "markdown",
   "metadata": {},
   "source": [
    "Find contrast files:"
   ]
  },
  {
   "cell_type": "code",
   "execution_count": null,
   "metadata": {},
   "outputs": [],
   "source": [
    "con_files = gsearch(data_dir, 'glm', 'sub-*', 'func', model_name, 'con*')\n",
    "con_files.sort()\n",
    "\n",
    "print(f'Found {len(con_files)} contrast files')\n",
    "print(*con_files[:10]+['...'], sep='\\n')"
   ]
  },
  {
   "cell_type": "markdown",
   "metadata": {},
   "source": [
    "Load contrast names:"
   ]
  },
  {
   "cell_type": "code",
   "execution_count": null,
   "metadata": {},
   "outputs": [],
   "source": [
    "con_file = opj(data_dir, 'glm', 'group', model_name, 'contrasts.mat')\n",
    "con_data = loadmat(con_file)\n",
    "contrasts_raw = con_data['contrasts']\n",
    "contrasts = [c[0].replace('+', '') for c in contrasts_raw[0]] # all a hacky way of reading mat files\n",
    "print(f'Found {len(contrasts)} contrasts')\n",
    "print(*contrasts, sep='\\n')"
   ]
  },
  {
   "cell_type": "markdown",
   "metadata": {},
   "source": [
    "## GLM 1: Full model with model-based regressors"
   ]
  },
  {
   "cell_type": "markdown",
   "metadata": {},
   "source": [
    "### First-level contrasts"
   ]
  },
  {
   "cell_type": "markdown",
   "metadata": {},
   "source": [
    "Main loop: Extract data from all ROIs"
   ]
  },
  {
   "cell_type": "code",
   "execution_count": null,
   "metadata": {},
   "outputs": [],
   "source": [
    "# Initialize output\n",
    "roi_list = []\n",
    "\n",
    "# Iterate over subjects and contrasts\n",
    "for sub in subjects:\n",
    "    for con_idx,con_name in enumerate(contrasts):\n",
    "        \n",
    "        # Format subject, contrast numbers nicely\n",
    "        sub_id = 'sub-%02d' % sub\n",
    "        con_id = 'con_%04d' % (con_idx+1)\n",
    "\n",
    "        # Filter out contrast, ROI files\n",
    "        sub_con = [f for f in con_files if sub_id in f and con_id in f]\n",
    "        sub_con = sub_con[0] # should be a unique file\n",
    "\n",
    "        sub_roi = [f for f in roi_files if sub_id in f]\n",
    "        sub_roi.append(acc_file) # add anatomical ACC ROI\n",
    "        sub_roi.sort() # list of files\n",
    "                \n",
    "        # Extract average t from each ROI\n",
    "        for roi in sub_roi:\n",
    "            roi_name = str_extract('(?<=desc-)[A-Za-z]+|ACC', roi)            \n",
    "            masked_t = masking.apply_mask(sub_con, roi)\n",
    "            mean_t = masked_t.mean()\n",
    "            \n",
    "            roi_list.append((sub, con_name, roi_name, mean_t))"
   ]
  },
  {
   "cell_type": "code",
   "execution_count": null,
   "metadata": {},
   "outputs": [],
   "source": [
    "# put it all together\n",
    "roi_df = pd.DataFrame(roi_list, columns=['subject', 'contrast', 'roi', 'beta'])\n",
    "roi_df['roi'] = roi_df.roi.astype('category')\n",
    "roi_df = roi_df.sort_values(by=['subject', 'contrast', 'roi']).reset_index(drop=True)\n",
    "print(roi_df.shape)\n",
    "roi_df.head(8)"
   ]
  },
  {
   "cell_type": "markdown",
   "metadata": {},
   "source": [
    "Do one-sample t-tests with Bonferroni correction:"
   ]
  },
  {
   "cell_type": "code",
   "execution_count": null,
   "metadata": {},
   "outputs": [],
   "source": [
    "t_list = []\n",
    "\n",
    "# do one-sample t-tests on average ROI betas\n",
    "for name,group in roi_df.groupby(['roi', 'contrast']):\n",
    "    # find CI (for plotting)\n",
    "    ci_lo, ci_hi = sns.utils.ci(sns.algorithms.bootstrap(group.beta))\n",
    "    group_mean = group.beta.mean()\n",
    "    \n",
    "    res = stats.ttest_1samp(group.beta, 0)\n",
    "    t_list.append(name+(group_mean, res.statistic, res.pvalue, ci_lo, ci_hi))\n",
    "    \n",
    "t_df = (\n",
    "    pd.DataFrame(t_list, columns=['roi', 'contrast', 'avg', 'statistic', 'pvalue', 'ci_lo', 'ci_hi'])\n",
    "    .sort_values(by=['contrast', 'roi'])\n",
    "    .reset_index(drop=True)\n",
    ")\n",
    "t_df['roi'] = t_df['roi'].astype('category')\n",
    "\n",
    "# mark ROIs that survive Bonferroni correction\n",
    "p_thresh = 0.05/(t_df.roi.nunique()+1)\n",
    "t_df['sig'] = np.where(t_df.pvalue < p_thresh, '*', '') # extra vars for plotting\n",
    "t_df['sig_y'] = np.where(t_df.avg >= 0, t_df.ci_hi+.1, t_df.ci_lo-.3)\n",
    "t_df['sig_x'] = t_df.roi.cat.codes-.11\n",
    "\n",
    "t_df"
   ]
  },
  {
   "cell_type": "markdown",
   "metadata": {},
   "source": [
    "#### 1) Posterior probability of true hypothesis"
   ]
  },
  {
   "cell_type": "markdown",
   "metadata": {},
   "source": [
    "Plot results:"
   ]
  },
  {
   "cell_type": "code",
   "execution_count": null,
   "metadata": {},
   "outputs": [],
   "source": [
    "pTrue_df = roi_df[roi_df.contrast == 'pTrue']\n",
    "fig,ax = plt.subplots(figsize=(8,4))\n",
    "sns.barplot(data=pTrue_df, x='roi', y='beta', fc='#007fcf', ax=ax)\n",
    "\n",
    "pTrue_sig = t_df[t_df.contrast == 'pTrue']\n",
    "for _, row in pTrue_sig.iterrows():\n",
    "    ax.text(row.sig_x, row.sig_y, row.sig)\n",
    "\n",
    "ax.set(xlabel='', ylabel='Beta', title = r'Belief in true hypothesis: $P_L(h_T|d)$', ylim=(\n",
    "    pTrue_sig.ci_lo.min()*1.25,\n",
    "    pTrue_sig.ci_hi.max()*1.25\n",
    "))"
   ]
  },
  {
   "cell_type": "markdown",
   "metadata": {},
   "source": [
    "#### 2) Belief update"
   ]
  },
  {
   "cell_type": "code",
   "execution_count": null,
   "metadata": {},
   "outputs": [],
   "source": [
    "KL_df = roi_df[roi_df.contrast == 'KL']\n",
    "fig,ax = plt.subplots(figsize=(8,4))\n",
    "sns.barplot(data=KL_df, x='roi', y='beta', fc='#ff9b0f', ax=ax)\n",
    "\n",
    "KL_sig = t_df[t_df.contrast == 'KL']\n",
    "for _, row in KL_sig.iterrows():\n",
    "    ax.text(row.sig_x, row.sig_y, row.sig)\n",
    "\n",
    "ax.set(xlabel='', ylabel='Beta', title = 'Belief update (KL divergence)', ylim=(\n",
    "    KL_sig.ci_lo.min()*1.25,\n",
    "    KL_sig.ci_hi.max()*1.25\n",
    "))"
   ]
  },
  {
   "cell_type": "markdown",
   "metadata": {},
   "source": [
    "### (Exploratory) Second-level contrasts"
   ]
  },
  {
   "cell_type": "markdown",
   "metadata": {},
   "source": [
    "Load participant-specific predictors:"
   ]
  },
  {
   "cell_type": "code",
   "execution_count": null,
   "metadata": {},
   "outputs": [],
   "source": [
    "sub_models = pd.read_csv('../2_behavioral/outputs/second_level_model_regressors.csv')\n",
    "sub_models.head()"
   ]
  },
  {
   "cell_type": "markdown",
   "metadata": {},
   "source": [
    "Merge with subject-specific betas:"
   ]
  },
  {
   "cell_type": "code",
   "execution_count": null,
   "metadata": {},
   "outputs": [],
   "source": [
    "second_level = roi_df.merge(sub_models)\n",
    "second_level.head()"
   ]
  },
  {
   "cell_type": "markdown",
   "metadata": {},
   "source": [
    "#### 1) Posterior probability of true hypothesis"
   ]
  },
  {
   "cell_type": "markdown",
   "metadata": {},
   "source": [
    "Plot second-order relationships:"
   ]
  },
  {
   "cell_type": "code",
   "execution_count": null,
   "metadata": {},
   "outputs": [],
   "source": [
    "second_pTrue = second_level[second_level.contrast == 'pTrue']\n",
    "\n",
    "g = sns.lmplot(data=second_pTrue, x=\"logBF\", y=\"beta\", col=\"roi\", col_wrap=4)\n",
    "g.set_titles('{col_name}')\n",
    "g.fig.subplots_adjust(top=0.9)\n",
    "g.fig.suptitle(r'Belief in true hypothesis: $P_L(h_T|d)$')"
   ]
  },
  {
   "cell_type": "markdown",
   "metadata": {},
   "source": [
    "Correlation tests:"
   ]
  },
  {
   "cell_type": "code",
   "execution_count": null,
   "metadata": {},
   "outputs": [],
   "source": [
    "pTrue_corr_list = []\n",
    "for name,group in second_pTrue.groupby('roi'):\n",
    "    r,p = stats.pearsonr(group.logBF, group.beta)\n",
    "    pTrue_corr_list.append((name, r, p))\n",
    "    \n",
    "pTrue_corr = pd.DataFrame(pTrue_corr_list, columns=['roi', 'correlation', 'pvalue'])\n",
    "pTrue_corr"
   ]
  },
  {
   "cell_type": "markdown",
   "metadata": {},
   "source": [
    "#### 2) Belief update"
   ]
  },
  {
   "cell_type": "markdown",
   "metadata": {},
   "source": [
    "Plot second-order relationships:"
   ]
  },
  {
   "cell_type": "code",
   "execution_count": null,
   "metadata": {},
   "outputs": [],
   "source": [
    "second_KL = second_level[second_level.contrast == 'KL']\n",
    "\n",
    "g = sns.lmplot(data=second_KL, x=\"logBF\", y=\"beta\", col=\"roi\", col_wrap=4, scatter_kws={'color':'#ff9b0f'}, line_kws={'color':'#ff9b0f'})\n",
    "g.set_titles('{col_name}')\n",
    "g.fig.subplots_adjust(top=0.9)\n",
    "g.fig.suptitle('Belief update (KL divergence)')"
   ]
  },
  {
   "cell_type": "markdown",
   "metadata": {},
   "source": [
    "Correlation tests:"
   ]
  },
  {
   "cell_type": "code",
   "execution_count": null,
   "metadata": {},
   "outputs": [],
   "source": [
    "KL_corr_list = []\n",
    "for name,group in second_KL.groupby('roi'):\n",
    "    r,p = stats.pearsonr(group.logBF, group.beta)\n",
    "    KL_corr_list.append((name, r, p))\n",
    "    \n",
    "KL_corr = pd.DataFrame(KL_corr_list, columns=['roi', 'correlation', 'pvalue'])\n",
    "KL_corr"
   ]
  },
  {
   "cell_type": "markdown",
   "metadata": {},
   "source": [
    "## GLM 2: Parametric regressors derived from student responses"
   ]
  },
  {
   "cell_type": "markdown",
   "metadata": {},
   "source": [
    "### First-level contrasts"
   ]
  },
  {
   "cell_type": "code",
   "execution_count": null,
   "metadata": {},
   "outputs": [],
   "source": []
  },
  {
   "cell_type": "markdown",
   "metadata": {},
   "source": [
    "### (Exploratory) Second-level contrasts"
   ]
  },
  {
   "cell_type": "code",
   "execution_count": null,
   "metadata": {},
   "outputs": [],
   "source": []
  },
  {
   "cell_type": "markdown",
   "metadata": {},
   "source": [
    "### (Exploratory) Comparing to student performance"
   ]
  },
  {
   "cell_type": "code",
   "execution_count": null,
   "metadata": {},
   "outputs": [],
   "source": []
  },
  {
   "cell_type": "markdown",
   "metadata": {},
   "source": [
    "## GLM 3-4: Model-based regressors estimated in separate GLMs"
   ]
  },
  {
   "cell_type": "markdown",
   "metadata": {},
   "source": [
    "### First-level contrasts"
   ]
  },
  {
   "cell_type": "code",
   "execution_count": null,
   "metadata": {},
   "outputs": [],
   "source": []
  },
  {
   "cell_type": "markdown",
   "metadata": {},
   "source": [
    "### (Exploratory) Second-level contrasts"
   ]
  },
  {
   "cell_type": "code",
   "execution_count": null,
   "metadata": {},
   "outputs": [],
   "source": []
  }
 ],
 "metadata": {
  "kernelspec": {
   "display_name": "Python [conda env:.conda-py3]",
   "language": "python",
   "name": "conda-env-.conda-py3-py"
  },
  "language_info": {
   "codemirror_mode": {
    "name": "ipython",
    "version": 3
   },
   "file_extension": ".py",
   "mimetype": "text/x-python",
   "name": "python",
   "nbconvert_exporter": "python",
   "pygments_lexer": "ipython3",
   "version": "3.8.5"
  }
 },
 "nbformat": 4,
 "nbformat_minor": 4
}
