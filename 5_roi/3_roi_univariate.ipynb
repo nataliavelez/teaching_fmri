{
 "cells": [
  {
   "cell_type": "markdown",
   "metadata": {},
   "source": [
    "# ROI-based univariate analyses\n",
    "Natalia Vélez, April 2022"
   ]
  },
  {
   "cell_type": "code",
   "execution_count": 1,
   "metadata": {},
   "outputs": [
    {
     "ename": "ModuleNotFoundError",
     "evalue": "No module named 'nilearn'",
     "output_type": "error",
     "traceback": [
      "\u001b[0;31m---------------------------------------------------------------------------\u001b[0m",
      "\u001b[0;31mModuleNotFoundError\u001b[0m                       Traceback (most recent call last)",
      "\u001b[0;32m<ipython-input-1-0d8c4c8c1d4c>\u001b[0m in \u001b[0;36m<module>\u001b[0;34m\u001b[0m\n\u001b[1;32m      4\u001b[0m \u001b[0;32mimport\u001b[0m \u001b[0mpandas\u001b[0m \u001b[0;32mas\u001b[0m \u001b[0mpd\u001b[0m\u001b[0;34m\u001b[0m\u001b[0;34m\u001b[0m\u001b[0m\n\u001b[1;32m      5\u001b[0m \u001b[0;32mimport\u001b[0m \u001b[0mnumpy\u001b[0m \u001b[0;32mas\u001b[0m \u001b[0mnp\u001b[0m\u001b[0;34m\u001b[0m\u001b[0;34m\u001b[0m\u001b[0m\n\u001b[0;32m----> 6\u001b[0;31m \u001b[0;32mfrom\u001b[0m \u001b[0mnilearn\u001b[0m \u001b[0;32mimport\u001b[0m \u001b[0mimage\u001b[0m\u001b[0;34m,\u001b[0m\u001b[0mplotting\u001b[0m\u001b[0;34m,\u001b[0m\u001b[0mmasking\u001b[0m\u001b[0;34m\u001b[0m\u001b[0;34m\u001b[0m\u001b[0m\n\u001b[0m\u001b[1;32m      7\u001b[0m \u001b[0;32mimport\u001b[0m \u001b[0mmatplotlib\u001b[0m\u001b[0;34m.\u001b[0m\u001b[0mpyplot\u001b[0m \u001b[0;32mas\u001b[0m \u001b[0mplt\u001b[0m\u001b[0;34m\u001b[0m\u001b[0;34m\u001b[0m\u001b[0m\n\u001b[1;32m      8\u001b[0m \u001b[0;32mfrom\u001b[0m \u001b[0mmatplotlib\u001b[0m \u001b[0;32mimport\u001b[0m \u001b[0mcolors\u001b[0m\u001b[0;34m\u001b[0m\u001b[0;34m\u001b[0m\u001b[0m\n",
      "\u001b[0;31mModuleNotFoundError\u001b[0m: No module named 'nilearn'"
     ]
    }
   ],
   "source": [
    "%matplotlib inline\n",
    "\n",
    "import os, sys\n",
    "import pandas as pd\n",
    "import numpy as np\n",
    "from nilearn import image,plotting,masking\n",
    "import matplotlib.pyplot as plt\n",
    "from matplotlib import colors\n",
    "import seaborn as sns\n",
    "from os.path import join as opj\n",
    "from scipy.io import loadmat\n",
    "from scipy import stats\n",
    "\n",
    "sys.path.append('..')\n",
    "from utils import gsearch, str_extract, print_list\n",
    "\n",
    "sns.set_style('white')\n",
    "sns.set_context('talk')"
   ]
  },
  {
   "cell_type": "markdown",
   "metadata": {},
   "source": [
    "## Setup"
   ]
  },
  {
   "cell_type": "markdown",
   "metadata": {},
   "source": [
    "Valid subjects:"
   ]
  },
  {
   "cell_type": "code",
   "execution_count": null,
   "metadata": {},
   "outputs": [],
   "source": [
    "subjects = np.loadtxt('../1_preprocessing/outputs/valid_participants.txt', dtype=int)\n",
    "print(subjects)"
   ]
  },
  {
   "cell_type": "markdown",
   "metadata": {},
   "source": [
    "Project directory:"
   ]
  },
  {
   "cell_type": "code",
   "execution_count": null,
   "metadata": {},
   "outputs": [],
   "source": [
    "data_dir = '/n/gershman_ncf/Lab/natalia_teaching/BIDS_data/derivatives'\n",
    "model_name = 'task-teaching_model-parametric'"
   ]
  },
  {
   "cell_type": "markdown",
   "metadata": {},
   "source": [
    "Find ACC:"
   ]
  },
  {
   "cell_type": "code",
   "execution_count": null,
   "metadata": {},
   "outputs": [],
   "source": [
    "acc_file = '/ncf/gershman/User/nvelezalicea/fmri_analysis/roi_library/fmriprep_space/bilateral_ACCg.nii.gz'\n",
    "os.path.exists(acc_file)"
   ]
  },
  {
   "cell_type": "markdown",
   "metadata": {},
   "source": [
    "Find functional ROI files:"
   ]
  },
  {
   "cell_type": "code",
   "execution_count": null,
   "metadata": {},
   "outputs": [],
   "source": [
    "roi_files = gsearch(data_dir, 'roi_picker', 'sub-*', 'func', '*.nii.gz')\n",
    "roi_files.sort()\n",
    "\n",
    "print_list(roi_files, 'ROI files')"
   ]
  },
  {
   "cell_type": "markdown",
   "metadata": {},
   "source": [
    "Find contrast files:"
   ]
  },
  {
   "cell_type": "code",
   "execution_count": null,
   "metadata": {},
   "outputs": [],
   "source": [
    "con_files = gsearch(data_dir, 'glm', 'sub-*', 'func', model_name, 'con*')\n",
    "con_files.sort()\n",
    "\n",
    "print_list(con_files, 'contrast files')"
   ]
  },
  {
   "cell_type": "markdown",
   "metadata": {},
   "source": [
    "Load contrast names:"
   ]
  },
  {
   "cell_type": "code",
   "execution_count": null,
   "metadata": {},
   "outputs": [],
   "source": [
    "con_file = opj(data_dir, 'glm', 'group', model_name, 'contrasts.mat')\n",
    "con_data = loadmat(con_file)\n",
    "contrasts_raw = con_data['contrasts']\n",
    "contrasts = [c[0].replace('+', '') for c in contrasts_raw[0]] # all a hacky way of reading mat files\n",
    "\n",
    "print_list(contrasts, 'contrasts')"
   ]
  },
  {
   "cell_type": "markdown",
   "metadata": {},
   "source": [
    "## GLM 1: Full model with model-based regressors"
   ]
  },
  {
   "cell_type": "markdown",
   "metadata": {},
   "source": [
    "### First-level contrasts"
   ]
  },
  {
   "cell_type": "markdown",
   "metadata": {},
   "source": [
    "Main loop: Extract data from all ROIs"
   ]
  },
  {
   "cell_type": "code",
   "execution_count": null,
   "metadata": {},
   "outputs": [],
   "source": [
    "# Initialize output\n",
    "roi_list = []\n",
    "\n",
    "# Iterate over subjects and contrasts\n",
    "for sub in subjects:\n",
    "    for con_idx,con_name in enumerate(contrasts):\n",
    "        \n",
    "        # Format subject, contrast numbers nicely\n",
    "        sub_id = 'sub-%02d' % sub\n",
    "        con_id = 'con_%04d' % (con_idx+1)\n",
    "\n",
    "        # Filter out contrast, ROI files\n",
    "        sub_con = [f for f in con_files if sub_id in f and con_id in f]\n",
    "        sub_con = sub_con[0] # should be a unique file\n",
    "\n",
    "        sub_roi = [f for f in roi_files if sub_id in f]\n",
    "        sub_roi.append(acc_file) # add anatomical ACC ROI\n",
    "        sub_roi.sort() # list of files\n",
    "                \n",
    "        # Extract average t from each ROI\n",
    "        for roi in sub_roi:\n",
    "            roi_name = str_extract('(?<=desc-)[A-Za-z]+|ACC', roi)            \n",
    "            masked_t = masking.apply_mask(sub_con, roi)\n",
    "            mean_t = masked_t.mean()\n",
    "            \n",
    "            roi_list.append((sub, con_name, roi_name, mean_t))"
   ]
  },
  {
   "cell_type": "code",
   "execution_count": null,
   "metadata": {},
   "outputs": [],
   "source": [
    "# put it all together\n",
    "roi_df = pd.DataFrame(roi_list, columns=['subject', 'contrast', 'roi', 'beta'])\n",
    "roi_df['roi'] = roi_df.roi.astype('category')\n",
    "roi_df = roi_df.sort_values(by=['subject', 'contrast', 'roi']).reset_index(drop=True)\n",
    "print(roi_df.shape)\n",
    "roi_df.head(8)"
   ]
  },
  {
   "cell_type": "markdown",
   "metadata": {},
   "source": [
    "Do one-sample t-tests with Bonferroni correction:"
   ]
  },
  {
   "cell_type": "code",
   "execution_count": null,
   "metadata": {},
   "outputs": [],
   "source": [
    "t_list = []\n",
    "\n",
    "# do one-sample t-tests on average ROI betas\n",
    "for name,group in roi_df.groupby(['roi', 'contrast']):\n",
    "    # find CI (for plotting)\n",
    "    ci_lo, ci_hi = sns.utils.ci(sns.algorithms.bootstrap(group.beta))\n",
    "    group_mean = group.beta.mean()\n",
    "    \n",
    "    res = stats.ttest_1samp(group.beta, 0)\n",
    "    t_list.append(name+(group_mean, res.statistic, res.pvalue, ci_lo, ci_hi))\n",
    "    \n",
    "t_df = (\n",
    "    pd.DataFrame(t_list, columns=['roi', 'contrast', 'avg', 'statistic', 'pvalue', 'ci_lo', 'ci_hi'])\n",
    "    .sort_values(by=['contrast', 'roi'])\n",
    "    .reset_index(drop=True)\n",
    ")\n",
    "t_df['roi'] = t_df['roi'].astype('category')\n",
    "\n",
    "# mark ROIs that survive Bonferroni correction\n",
    "p_thresh = 0.05/(t_df.roi.nunique())\n",
    "t_df['sig'] = np.where(t_df.pvalue < p_thresh, '*', '') # extra vars for plotting\n",
    "t_df['sig_y'] = np.where(t_df.avg >= 0, t_df.ci_hi+.1, t_df.ci_lo-.1)\n",
    "t_df['sig_x'] = t_df.roi.cat.codes-.11\n",
    "\n",
    "t_df"
   ]
  },
  {
   "cell_type": "markdown",
   "metadata": {},
   "source": [
    "#### 1) Posterior probability of true hypothesis"
   ]
  },
  {
   "cell_type": "markdown",
   "metadata": {},
   "source": [
    "Plot results:"
   ]
  },
  {
   "cell_type": "code",
   "execution_count": null,
   "metadata": {},
   "outputs": [],
   "source": [
    "roi_colors = ['#1A7AB4', '#D79316', '#18A27B', '#CB7FBD', '#C9976B', '#9C9C9C', '#E5DD40', '#62B3E4']\n",
    "\n",
    "pTrue_df = roi_df[roi_df.contrast == 'pTrue']\n",
    "fig,ax = plt.subplots(figsize=(8,4))\n",
    "sns.barplot(data=pTrue_df, x='roi', y='beta', ax=ax, palette=roi_colors, saturation=1)\n",
    "\n",
    "pTrue_sig = t_df[t_df.contrast == 'pTrue']\n",
    "for _, row in pTrue_sig.iterrows():\n",
    "    ax.text(row.sig_x, row.sig_y, row.sig)\n",
    "\n",
    "ax.set(xlabel='', ylabel='Beta', title = r'Belief in correct answer: $P_L(h_T|d)$', ylim=(\n",
    "    pTrue_sig.ci_lo.min()*1.25,\n",
    "    pTrue_sig.ci_hi.max()*1.25\n",
    "))\n",
    "\n",
    "plt.savefig('plots/main_pTrue.png')"
   ]
  },
  {
   "cell_type": "markdown",
   "metadata": {},
   "source": [
    "#### 2) Belief update"
   ]
  },
  {
   "cell_type": "code",
   "execution_count": null,
   "metadata": {},
   "outputs": [],
   "source": [
    "KL_df = roi_df[roi_df.contrast == 'KL']\n",
    "fig,ax = plt.subplots(figsize=(8,4))\n",
    "sns.barplot(data=KL_df, x='roi', y='beta', fc='#ff9b0f', ax=ax)\n",
    "\n",
    "KL_sig = t_df[t_df.contrast == 'KL']\n",
    "for _, row in KL_sig.iterrows():\n",
    "    ax.text(row.sig_x, row.sig_y, row.sig)\n",
    "\n",
    "ax.set(xlabel='', ylabel='Beta', title = 'Belief update (KL divergence)', ylim=(\n",
    "    KL_sig.ci_lo.min()*1.25,\n",
    "    KL_sig.ci_hi.max()*1.25\n",
    "))\n",
    "\n",
    "plt.savefig('plots/main_KL.png')"
   ]
  },
  {
   "cell_type": "markdown",
   "metadata": {},
   "source": [
    "## GLM 2: Parametric regressors derived from student responses"
   ]
  },
  {
   "cell_type": "markdown",
   "metadata": {},
   "source": [
    "Empirical regressor files:"
   ]
  },
  {
   "cell_type": "code",
   "execution_count": null,
   "metadata": {},
   "outputs": [],
   "source": [
    "empirical_con = gsearch(data_dir, 'glm', 'sub-*', 'func', 'task-teaching_model-student', 'con*')\n",
    "empirical_con.sort()\n",
    "\n",
    "print_list(empirical_con, 'contrast files')"
   ]
  },
  {
   "cell_type": "markdown",
   "metadata": {},
   "source": [
    "Extract average betas from ROIs:"
   ]
  },
  {
   "cell_type": "code",
   "execution_count": null,
   "metadata": {},
   "outputs": [],
   "source": [
    "# Initialize output\n",
    "empirical_list = []\n",
    "\n",
    "# Iterate over subjects and contrasts\n",
    "for sub in subjects:\n",
    "    for con_idx,con_name in enumerate(contrasts):\n",
    "        \n",
    "        # Format subject, contrast numbers nicely\n",
    "        sub_id = 'sub-%02d' % sub\n",
    "        con_id = 'con_%04d' % (con_idx+1)\n",
    "\n",
    "        # Filter out contrast, ROI files\n",
    "        sub_con = [f for f in empirical_con if sub_id in f and con_id in f]\n",
    "        sub_con = sub_con[0] # should be a unique file\n",
    "\n",
    "        sub_roi = [f for f in roi_files if sub_id in f]\n",
    "        sub_roi.append(acc_file) # add anatomical ACC ROI\n",
    "        sub_roi.sort() # list of files\n",
    "                \n",
    "        # Extract average t from each ROI\n",
    "        for roi in sub_roi:\n",
    "            roi_name = str_extract('(?<=desc-)[A-Za-z]+|ACC', roi)            \n",
    "            masked_t = masking.apply_mask(sub_con, roi)\n",
    "            mean_t = masked_t.mean()\n",
    "            \n",
    "            empirical_list.append((sub, con_name, roi_name, mean_t))"
   ]
  },
  {
   "cell_type": "code",
   "execution_count": null,
   "metadata": {},
   "outputs": [],
   "source": [
    "# put it all together\n",
    "empirical_df = pd.DataFrame(empirical_list, columns=['subject', 'contrast', 'roi', 'beta'])\n",
    "empirical_df['roi'] = empirical_df.roi.astype('category')\n",
    "empirical_df = empirical_df.sort_values(by=['subject', 'contrast', 'roi']).reset_index(drop=True)\n",
    "print(empirical_df.shape)\n",
    "empirical_df.head(8)"
   ]
  },
  {
   "cell_type": "markdown",
   "metadata": {},
   "source": [
    "Do one-sample t-tests with Bonferroni correction"
   ]
  },
  {
   "cell_type": "code",
   "execution_count": null,
   "metadata": {},
   "outputs": [],
   "source": [
    "t_list = []\n",
    "\n",
    "# do one-sample t-tests on average ROI betas\n",
    "for name,group in empirical_df.groupby(['roi', 'contrast']):\n",
    "    # find CI (for plotting)\n",
    "    ci_lo, ci_hi = sns.utils.ci(sns.algorithms.bootstrap(group.beta))\n",
    "    group_mean = group.beta.mean()\n",
    "    \n",
    "    res = stats.ttest_1samp(group.beta, 0)\n",
    "    t_list.append(name+(group_mean, res.statistic, res.pvalue, ci_lo, ci_hi))\n",
    "    \n",
    "empirical_t = (\n",
    "    pd.DataFrame(t_list, columns=['roi', 'contrast', 'avg', 'statistic', 'pvalue', 'ci_lo', 'ci_hi'])\n",
    "    .sort_values(by=['contrast', 'roi'])\n",
    "    .reset_index(drop=True)\n",
    ")\n",
    "empirical_t['roi'] = empirical_t['roi'].astype('category')\n",
    "\n",
    "# mark ROIs that survive Bonferroni correction\n",
    "p_thresh = 0.05/(empirical_t.roi.nunique())\n",
    "empirical_t['sig'] = np.where(empirical_t.pvalue < p_thresh, '*', '') # extra vars for plotting\n",
    "empirical_t['sig_y'] = np.where(empirical_t.avg >= 0, empirical_t.ci_hi+.1, empirical_t.ci_lo-.3)\n",
    "empirical_t['sig_x'] = empirical_t.roi.cat.codes-.11\n",
    "\n",
    "empirical_t"
   ]
  },
  {
   "cell_type": "markdown",
   "metadata": {},
   "source": [
    "Plot results:"
   ]
  },
  {
   "cell_type": "code",
   "execution_count": null,
   "metadata": {},
   "outputs": [],
   "source": [
    "pTrue_df = empirical_df[empirical_df.contrast == 'pTrue']\n",
    "fig,ax = plt.subplots(figsize=(8,4))\n",
    "sns.barplot(data=pTrue_df, x='roi', y='beta', ax=ax, palette=roi_colors, saturation=1)\n",
    "\n",
    "pTrue_sig = empirical_t[empirical_t.contrast == 'pTrue']\n",
    "for _, row in pTrue_sig.iterrows():\n",
    "    ax.text(row.sig_x, row.sig_y, row.sig)\n",
    "\n",
    "ax.set(xlabel='', ylabel='Beta', title = r'Belief in correct answer: $P_L(h_T|d)$', ylim=(\n",
    "    pTrue_sig.ci_lo.min()*1.25,\n",
    "    pTrue_sig.ci_hi.max()*1.25\n",
    "))\n",
    "\n",
    "plt.savefig('plots/empirical_pTrue.png')"
   ]
  },
  {
   "cell_type": "code",
   "execution_count": null,
   "metadata": {},
   "outputs": [],
   "source": [
    "KL_df = empirical_df[empirical_df.contrast == 'KL']\n",
    "fig,ax = plt.subplots(figsize=(8,4))\n",
    "sns.barplot(data=KL_df, x='roi', y='beta', fc='#ff9b0f', ax=ax)\n",
    "\n",
    "KL_sig = empirical_t[empirical_t.contrast == 'KL']\n",
    "for _, row in KL_sig.iterrows():\n",
    "    ax.text(row.sig_x, row.sig_y, row.sig)\n",
    "\n",
    "ax.set(xlabel='', ylabel='Beta', title = 'Belief update (KL divergence)', ylim=(\n",
    "    KL_sig.ci_lo.min()*1.25,\n",
    "    KL_sig.ci_hi.max()*1.25\n",
    "))\n",
    "\n",
    "plt.savefig('plots/empirical_KL.png')"
   ]
  },
  {
   "cell_type": "markdown",
   "metadata": {},
   "source": [
    "## GLM 3-4: Model-based regressors estimated in separate GLMs"
   ]
  },
  {
   "cell_type": "markdown",
   "metadata": {},
   "source": [
    "#### pTrue"
   ]
  },
  {
   "cell_type": "markdown",
   "metadata": {},
   "source": [
    "Regressor files:"
   ]
  },
  {
   "cell_type": "code",
   "execution_count": null,
   "metadata": {},
   "outputs": [],
   "source": [
    "pTrue_con = gsearch(data_dir, 'glm', 'sub-*', 'func', 'task-teaching_model-parametricpTrue', 'con_0001*')\n",
    "pTrue_con.sort()\n",
    "\n",
    "print_list(pTrue_con, 'contrast files')"
   ]
  },
  {
   "cell_type": "markdown",
   "metadata": {},
   "source": [
    "Extract average betas from ROIs:"
   ]
  },
  {
   "cell_type": "code",
   "execution_count": null,
   "metadata": {},
   "outputs": [],
   "source": [
    "# Initialize output\n",
    "pTrue_list = []\n",
    "\n",
    "# Iterate over subjects and contrasts\n",
    "for sub in subjects:\n",
    "    sub_id = 'sub-%02d' % sub\n",
    "    con_name = 'pTrue'\n",
    "    # Filter out contrast, ROI files\n",
    "    sub_con = [f for f in pTrue_con if sub_id in f]\n",
    "    sub_con = sub_con[0] # should be a unique file\n",
    "\n",
    "    sub_roi = [f for f in roi_files if sub_id in f]\n",
    "    sub_roi.append(acc_file) # add anatomical ACC ROI\n",
    "    sub_roi.sort() # list of files\n",
    "\n",
    "    # Extract average t from each ROI\n",
    "    for roi in sub_roi:\n",
    "        roi_name = str_extract('(?<=desc-)[A-Za-z]+|ACC', roi)            \n",
    "        masked_t = masking.apply_mask(sub_con, roi)\n",
    "        mean_t = masked_t.mean()\n",
    "\n",
    "        pTrue_list.append((sub, con_name, roi_name, mean_t))"
   ]
  },
  {
   "cell_type": "code",
   "execution_count": null,
   "metadata": {},
   "outputs": [],
   "source": [
    "# put it all together\n",
    "pTrue_df = pd.DataFrame(pTrue_list, columns=['subject', 'contrast', 'roi', 'beta'])\n",
    "pTrue_df['roi'] = pTrue_df.roi.astype('category')\n",
    "pTrue_df = pTrue_df.sort_values(by=['subject', 'contrast', 'roi']).reset_index(drop=True)\n",
    "print(pTrue_df.shape)\n",
    "pTrue_df.head(8)"
   ]
  },
  {
   "cell_type": "markdown",
   "metadata": {},
   "source": [
    "Do one-sample t-tests with Bonferroni correction"
   ]
  },
  {
   "cell_type": "code",
   "execution_count": null,
   "metadata": {},
   "outputs": [],
   "source": [
    "pTrue_t_list = []\n",
    "\n",
    "# do one-sample t-tests on average ROI betas\n",
    "for name,group in pTrue_df.groupby(['roi', 'contrast']):\n",
    "    # find CI (for plotting)\n",
    "    ci_lo, ci_hi = sns.utils.ci(sns.algorithms.bootstrap(group.beta))\n",
    "    group_mean = group.beta.mean()\n",
    "    \n",
    "    res = stats.ttest_1samp(group.beta, 0)\n",
    "    pTrue_t_list.append(name+(group_mean, res.statistic, res.pvalue, ci_lo, ci_hi))\n",
    "    \n",
    "pTrue_t = (\n",
    "    pd.DataFrame(pTrue_t_list, columns=['roi', 'contrast', 'avg', 'statistic', 'pvalue', 'ci_lo', 'ci_hi'])\n",
    "    .sort_values(by=['contrast', 'roi'])\n",
    "    .reset_index(drop=True)\n",
    ")\n",
    "pTrue_t['roi'] = pTrue_t['roi'].astype('category')\n",
    "\n",
    "# mark ROIs that survive Bonferroni correction\n",
    "p_thresh = 0.05/(pTrue_t.roi.nunique())\n",
    "pTrue_t['sig'] = np.where(pTrue_t.pvalue < p_thresh, '*', '') # extra vars for plotting\n",
    "pTrue_t['sig_y'] = np.where(pTrue_t.avg >= 0, pTrue_t.ci_hi+.1, pTrue_t.ci_lo-.3)\n",
    "pTrue_t['sig_x'] = pTrue_t.roi.cat.codes-.11\n",
    "\n",
    "pTrue_t"
   ]
  },
  {
   "cell_type": "markdown",
   "metadata": {},
   "source": [
    "Plot results:"
   ]
  },
  {
   "cell_type": "code",
   "execution_count": null,
   "metadata": {},
   "outputs": [],
   "source": [
    "fig,ax = plt.subplots(figsize=(8,4))\n",
    "sns.barplot(data=pTrue_df, x='roi', y='beta', fc='#007fcf', ax=ax)\n",
    "\n",
    "for _, row in pTrue_t.iterrows():\n",
    "    ax.text(row.sig_x, row.sig_y, row.sig)\n",
    "\n",
    "ax.set(xlabel='', ylabel='Beta', title = r'Belief in true hypothesis: $P_L(h_T|d)$', ylim=(\n",
    "    pTrue_sig.ci_lo.min()*1.25,\n",
    "    pTrue_sig.ci_hi.max()*1.25\n",
    "))\n",
    "\n",
    "plt.savefig('plots/separate_pTrue.png')"
   ]
  },
  {
   "cell_type": "markdown",
   "metadata": {},
   "source": [
    "#### KL"
   ]
  },
  {
   "cell_type": "markdown",
   "metadata": {},
   "source": [
    "Regressor files:"
   ]
  },
  {
   "cell_type": "code",
   "execution_count": null,
   "metadata": {},
   "outputs": [],
   "source": [
    "KL_con = gsearch(data_dir, 'glm', 'sub-*', 'func', 'task-teaching_model-parametricKL', 'con_0001*')\n",
    "KL_con.sort()\n",
    "\n",
    "print_list(KL_con, 'contrast files')"
   ]
  },
  {
   "cell_type": "markdown",
   "metadata": {},
   "source": [
    "Extract average betas from ROIs:"
   ]
  },
  {
   "cell_type": "code",
   "execution_count": null,
   "metadata": {},
   "outputs": [],
   "source": [
    "# Initialize output\n",
    "KL_list = []\n",
    "\n",
    "# Iterate over subjects and contrasts\n",
    "for sub in subjects:\n",
    "    sub_id = 'sub-%02d' % sub\n",
    "    con_name = 'pTrue'\n",
    "    # Filter out contrast, ROI files\n",
    "    sub_con = [f for f in KL_con if sub_id in f]\n",
    "    sub_con = sub_con[0] # should be a unique file\n",
    "\n",
    "    sub_roi = [f for f in roi_files if sub_id in f]\n",
    "    sub_roi.append(acc_file) # add anatomical ACC ROI\n",
    "    sub_roi.sort() # list of files\n",
    "\n",
    "    # Extract average t from each ROI\n",
    "    for roi in sub_roi:\n",
    "        roi_name = str_extract('(?<=desc-)[A-Za-z]+|ACC', roi)            \n",
    "        masked_t = masking.apply_mask(sub_con, roi)\n",
    "        mean_t = masked_t.mean()\n",
    "\n",
    "        KL_list.append((sub, con_name, roi_name, mean_t))"
   ]
  },
  {
   "cell_type": "code",
   "execution_count": null,
   "metadata": {},
   "outputs": [],
   "source": [
    "# put it all together\n",
    "KL_df = pd.DataFrame(KL_list, columns=['subject', 'contrast', 'roi', 'beta'])\n",
    "KL_df['roi'] = KL_df.roi.astype('category')\n",
    "KL_df = KL_df.sort_values(by=['subject', 'contrast', 'roi']).reset_index(drop=True)\n",
    "print(KL_df.shape)\n",
    "KL_df.head(8)"
   ]
  },
  {
   "cell_type": "markdown",
   "metadata": {},
   "source": [
    "Do one-sample t-tests with Bonferroni correction"
   ]
  },
  {
   "cell_type": "code",
   "execution_count": null,
   "metadata": {},
   "outputs": [],
   "source": [
    "KL_t_list = []\n",
    "\n",
    "# do one-sample t-tests on average ROI betas\n",
    "for name,group in KL_df.groupby(['roi', 'contrast']):\n",
    "    # find CI (for plotting)\n",
    "    ci_lo, ci_hi = sns.utils.ci(sns.algorithms.bootstrap(group.beta))\n",
    "    group_mean = group.beta.mean()\n",
    "    \n",
    "    res = stats.ttest_1samp(group.beta, 0)\n",
    "    KL_t_list.append(name+(group_mean, res.statistic, res.pvalue, ci_lo, ci_hi))\n",
    "    \n",
    "KL_t = (\n",
    "    pd.DataFrame(KL_t_list, columns=['roi', 'contrast', 'avg', 'statistic', 'pvalue', 'ci_lo', 'ci_hi'])\n",
    "    .sort_values(by=['contrast', 'roi'])\n",
    "    .reset_index(drop=True)\n",
    ")\n",
    "KL_t['roi'] = KL_t['roi'].astype('category')\n",
    "\n",
    "# mark ROIs that survive Bonferroni correction\n",
    "p_thresh = 0.05/(KL_t.roi.nunique())\n",
    "KL_t['sig'] = np.where(KL_t.pvalue < p_thresh, '*', '') # extra vars for plotting\n",
    "KL_t['sig_y'] = np.where(KL_t.avg >= 0, KL_t.ci_hi+.1, KL_t.ci_lo-.1)\n",
    "KL_t['sig_x'] = KL_t.roi.cat.codes-.11\n",
    "\n",
    "KL_t"
   ]
  },
  {
   "cell_type": "markdown",
   "metadata": {},
   "source": [
    "Plot results:"
   ]
  },
  {
   "cell_type": "code",
   "execution_count": null,
   "metadata": {},
   "outputs": [],
   "source": [
    "fig,ax = plt.subplots(figsize=(8,4))\n",
    "sns.barplot(data=KL_df, x='roi', y='beta', fc='#ff9b0f', ax=ax)\n",
    "\n",
    "for _, row in KL_t.iterrows():\n",
    "    ax.text(row.sig_x, row.sig_y, row.sig)\n",
    "\n",
    "ax.set(xlabel='', ylabel='Beta', title = r'Belief update (KL divergence)', ylim=(\n",
    "    KL_t.ci_lo.min()*1.25,\n",
    "    KL_t.ci_hi.max()*1.25\n",
    "))\n",
    "\n",
    "plt.savefig('plots/separate_KL.png')"
   ]
  },
  {
   "cell_type": "code",
   "execution_count": null,
   "metadata": {},
   "outputs": [],
   "source": [
    "KL_df = empirical_df[empirical_df.contrast == 'KL']\n",
    "fig,ax = plt.subplots(figsize=(8,4))\n",
    "sns.barplot(data=KL_df, x='roi', y='beta', fc='#ff9b0f', ax=ax)\n",
    "\n",
    "KL_sig = empirical_t[empirical_t.contrast == 'KL']\n",
    "for _, row in KL_sig.iterrows():\n",
    "    ax.text(row.sig_x, row.sig_y, row.sig)\n",
    "\n",
    "ax.set(xlabel='', ylabel='Beta', title = 'Belief update (KL divergence)', ylim=(\n",
    "    KL_sig.ci_lo.min()*1.25,\n",
    "    KL_sig.ci_hi.max()*1.25\n",
    "))"
   ]
  }
 ],
 "metadata": {
  "kernelspec": {
   "display_name": "Python3 (py3)",
   "language": "python",
   "name": "py3"
  },
  "language_info": {
   "codemirror_mode": {
    "name": "ipython",
    "version": 3
   },
   "file_extension": ".py",
   "mimetype": "text/x-python",
   "name": "python",
   "nbconvert_exporter": "python",
   "pygments_lexer": "ipython3",
   "version": "3.8.5"
  }
 },
 "nbformat": 4,
 "nbformat_minor": 4
}
