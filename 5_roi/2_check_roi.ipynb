{
 "cells": [
  {
   "cell_type": "markdown",
   "metadata": {},
   "source": [
    "# Check ToM ROIs\n",
    "Natalia Vélez, February 2022"
   ]
  },
  {
   "cell_type": "code",
   "execution_count": null,
   "metadata": {},
   "outputs": [],
   "source": [
    "%matplotlib inline\n",
    "\n",
    "import os, sys\n",
    "import pandas as pd\n",
    "import numpy as np\n",
    "from nilearn import image,plotting\n",
    "import matplotlib.pyplot as plt\n",
    "import seaborn as sns\n",
    "from os.path import join as opj\n",
    "\n",
    "sys.path.append('..')\n",
    "from utils import gsearch\n",
    "\n",
    "sns.set_style('white')\n",
    "sns.set_context('talk')"
   ]
  },
  {
   "cell_type": "markdown",
   "metadata": {},
   "source": [
    "Make output directory:"
   ]
  },
  {
   "cell_type": "code",
   "execution_count": null,
   "metadata": {},
   "outputs": [],
   "source": [
    "out_dir = 'outputs/roi_picker'\n",
    "os.makedirs(out_dir, exist_ok=True)"
   ]
  },
  {
   "cell_type": "markdown",
   "metadata": {},
   "source": [
    "Find ROI files:"
   ]
  },
  {
   "cell_type": "code",
   "execution_count": null,
   "metadata": {},
   "outputs": [],
   "source": [
    "data_dir = '../../BIDS_data/derivatives/'\n",
    "roi_dir = opj(data_dir, 'roi_picker')\n",
    "\n",
    "roi_files = gsearch(roi_dir, '**', 'func', '*.nii.gz')\n",
    "roi_files.sort()\n",
    "\n",
    "print('Found %i ROI files' % len(roi_files))\n",
    "print(*roi_files[:10], sep='\\n')"
   ]
  },
  {
   "cell_type": "markdown",
   "metadata": {},
   "source": [
    "## Tally functional ROIs"
   ]
  },
  {
   "cell_type": "markdown",
   "metadata": {},
   "source": [
    "Tally files"
   ]
  },
  {
   "cell_type": "code",
   "execution_count": null,
   "metadata": {},
   "outputs": [],
   "source": [
    "roi_df = pd.DataFrame({'path': roi_files})\n",
    "roi_df['subject'] = roi_df.path.str.extract('(sub-[0-9]{2})')\n",
    "roi_df['roi'] = roi_df.path.str.extract('(?<=desc-)([A-Z]+)')\n",
    "roi_df.head()"
   ]
  },
  {
   "cell_type": "markdown",
   "metadata": {},
   "source": [
    "Did all participants run successfully?"
   ]
  },
  {
   "cell_type": "code",
   "execution_count": null,
   "metadata": {},
   "outputs": [],
   "source": [
    "roi_df['subject'].agg('nunique')"
   ]
  },
  {
   "cell_type": "markdown",
   "metadata": {},
   "source": [
    "How many participants have each ROI?"
   ]
  },
  {
   "cell_type": "code",
   "execution_count": null,
   "metadata": {},
   "outputs": [],
   "source": [
    "roi_df.groupby('roi').agg({'subject': 'nunique'})"
   ]
  },
  {
   "cell_type": "markdown",
   "metadata": {},
   "source": [
    "Who's missing ROIs?"
   ]
  },
  {
   "cell_type": "code",
   "execution_count": null,
   "metadata": {},
   "outputs": [],
   "source": [
    "roi_pivot = roi_df.groupby(['subject', 'roi']).size().unstack(fill_value=0).astype(bool)\n",
    "roi_pivot[~roi_pivot.all(axis=1)]"
   ]
  },
  {
   "cell_type": "markdown",
   "metadata": {},
   "source": [
    "## Check ROI location and extent"
   ]
  },
  {
   "cell_type": "markdown",
   "metadata": {},
   "source": [
    "Plot locations and extent of each ROI:"
   ]
  },
  {
   "cell_type": "code",
   "execution_count": null,
   "metadata": {},
   "outputs": [],
   "source": [
    "extent_list = []\n",
    "\n",
    "for name, group in roi_df.groupby('roi'):\n",
    "    # Load all ROI images\n",
    "    roi_images = image.load_img(group.path.values.tolist())\n",
    "\n",
    "    # Plot mean ROI\n",
    "    mean_roi = image.mean_img(roi_images)\n",
    "    mean_roi_plot = plotting.plot_glass_brain(mean_roi, colorbar=True, title=name)\n",
    "    mean_roi_plot.savefig(opj(out_dir, '%s_location.png' % name))\n",
    "\n",
    "    # Get ROI extent\n",
    "    roi_extents = np.apply_over_axes(np.sum, roi_images.dataobj, range(roi_images.dataobj.ndim - 1)).flatten()\n",
    "    roi_extents_df = group.copy()\n",
    "    roi_extents_df['extent'] = roi_extents\n",
    "    extent_list.append(roi_extents_df)\n",
    "\n",
    "    fig,ax=plt.subplots()\n",
    "    sns.distplot(roi_extents, rug=True, ax=ax)\n",
    "    ax.set(title=name)\n",
    "    plt.savefig(opj(out_dir, '%s_extent.png' % name))"
   ]
  },
  {
   "cell_type": "markdown",
   "metadata": {},
   "source": [
    "Put together dataframe of ROI extents"
   ]
  },
  {
   "cell_type": "code",
   "execution_count": null,
   "metadata": {},
   "outputs": [],
   "source": [
    "all_roi_extents = pd.concat(extent_list)\n",
    "all_roi_extents.to_csv(opj(out_dir, 'all_roi_extents.csv'), index=False)\n",
    "all_roi_extents.groupby('roi').agg({'extent': ['min', 'max', 'median']})"
   ]
  }
 ],
 "metadata": {
  "kernelspec": {
   "display_name": "Python [conda env:.conda-py3]",
   "language": "python",
   "name": "conda-env-.conda-py3-py"
  },
  "language_info": {
   "codemirror_mode": {
    "name": "ipython",
    "version": 3
   },
   "file_extension": ".py",
   "mimetype": "text/x-python",
   "name": "python",
   "nbconvert_exporter": "python",
   "pygments_lexer": "ipython3",
   "version": "3.8.5"
  }
 },
 "nbformat": 4,
 "nbformat_minor": 4
}
