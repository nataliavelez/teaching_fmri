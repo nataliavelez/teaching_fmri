{
 "cells": [
  {
   "cell_type": "markdown",
   "metadata": {},
   "source": [
    "# QA: Plot behavioral model comparisons\n",
    "Natalia Vélez, February 2023"
   ]
  },
  {
   "cell_type": "code",
   "execution_count": null,
   "metadata": {},
   "outputs": [],
   "source": [
    "%matplotlib inline\n",
    "\n",
    "import pandas as pd\n",
    "import numpy as np\n",
    "import matplotlib.pyplot as plt\n",
    "import seaborn as sns\n",
    "from scipy import stats\n",
    "\n",
    "sns.set_context('talk')\n",
    "sns.set_style('white')"
   ]
  },
  {
   "cell_type": "markdown",
   "metadata": {},
   "source": [
    "## Load data"
   ]
  },
  {
   "cell_type": "markdown",
   "metadata": {},
   "source": [
    "Teacher data"
   ]
  },
  {
   "cell_type": "code",
   "execution_count": null,
   "metadata": {},
   "outputs": [],
   "source": [
    "teacher_df = pd.read_csv('../2_behavioral/outputs/teaching_behavior.csv')\n",
    "teacher_df['count'] = 1-pd.isna(teacher_df['example'])*1\n",
    "teacher_df['num_hint'] = teacher_df.groupby(['subject', 'run', 'problem'])['count'].agg('cumsum')\n",
    "teacher_df = teacher_df.dropna(subset=['example', 'rating'])\n",
    "teacher_df.head()"
   ]
  },
  {
   "cell_type": "markdown",
   "metadata": {},
   "source": [
    "Student data"
   ]
  },
  {
   "cell_type": "code",
   "execution_count": null,
   "metadata": {},
   "outputs": [],
   "source": [
    "student_df = pd.read_csv('outputs/student_beliefs.csv').sort_values(by=['worker', 'num_trial'])\n",
    "student_df.head()"
   ]
  },
  {
   "cell_type": "markdown",
   "metadata": {},
   "source": [
    "Model predictions"
   ]
  },
  {
   "cell_type": "code",
   "execution_count": null,
   "metadata": {},
   "outputs": [],
   "source": [
    "model_df = pd.read_csv('../2_behavioral/outputs/model_regressor_values.csv')\n",
    "model_df['count'] = 1\n",
    "model_df['num_hint'] = model_df.groupby(['subject', 'run', 'problem'])['count'].agg('cumsum')\n",
    "model_df.head()"
   ]
  },
  {
   "cell_type": "markdown",
   "metadata": {},
   "source": [
    "Regression model comparisons:"
   ]
  },
  {
   "cell_type": "code",
   "execution_count": null,
   "metadata": {},
   "outputs": [],
   "source": [
    "teacher_vs_time = pd.read_csv('outputs/teacher_vs_time.csv')\n",
    "teacher_vs_time['term'] = (\n",
    "    teacher_vs_time['term'].astype('category')\n",
    "    .cat.reorder_categories(['time_teacher', 'belief_teacher', 'full_teacher'])\n",
    "    .cat.rename_categories({'time_teacher': 'Time', 'belief_teacher': 'Beliefs', 'full_teacher': 'Time +\\nBeliefs'})\n",
    ")\n",
    "\n",
    "teacher_vs_time.head()"
   ]
  },
  {
   "cell_type": "code",
   "execution_count": null,
   "metadata": {},
   "outputs": [],
   "source": [
    "student_vs_time = pd.read_csv('outputs/student_vs_time.csv')\n",
    "student_vs_time['term'] = (\n",
    "    student_vs_time['term'].astype('category')\n",
    "    .cat.reorder_categories(['time_student', 'belief_student', 'full_student'])\n",
    "    .cat.rename_categories({'time_student': 'Time', 'belief_student': 'Beliefs', 'full_student': 'Time +\\nBeliefs'})\n",
    ")\n",
    "\n",
    "student_vs_time.head()"
   ]
  },
  {
   "cell_type": "markdown",
   "metadata": {},
   "source": [
    "## Check 1: Correlations between belief regressors & time"
   ]
  },
  {
   "cell_type": "markdown",
   "metadata": {},
   "source": [
    "Model-based belief regressors:"
   ]
  },
  {
   "cell_type": "code",
   "execution_count": null,
   "metadata": {},
   "outputs": [],
   "source": [
    "model_time_corr = model_df[['num_hint', 'pTrue_unscaled']].corr('spearman')\n",
    "print(stats.spearmanr(model_df['num_hint'], model_df['pTrue_unscaled']))\n",
    "mt_r = model_time_corr.loc['num_hint', 'pTrue_unscaled']\n",
    "\n",
    "g = sns.jointplot(data=model_df, x='num_hint', y='pTrue_unscaled', kind='hex')\n",
    "g.ax_joint.set(xlabel = '# Examples', ylabel = r'Belief in correct answer', xticks=[1,2,3], yticks=[0,.25,.5,.75,1])\n",
    "g.ax_joint.text(0.95,0.95, r\"$r = %.2f$\" % (mt_r))\n",
    "g.fig.suptitle('GLM 1: Model-based', y = 1.025)\n",
    "\n",
    "plt.savefig('plots/model_vs_time_corr.pdf', bbox_inches='tight')"
   ]
  },
  {
   "cell_type": "markdown",
   "metadata": {},
   "source": [
    "Empirical belief regressors:"
   ]
  },
  {
   "cell_type": "code",
   "execution_count": null,
   "metadata": {},
   "outputs": [],
   "source": [
    "empirical_time_corr = student_df[['num_hint', 'belief_in_true']].corr('spearman')\n",
    "print(stats.spearmanr(student_df['num_hint'], student_df['belief_in_true']))\n",
    "et_r = empirical_time_corr.loc['num_hint', 'belief_in_true']\n",
    "\n",
    "g = sns.jointplot(data=student_df, x='num_hint', y='belief_in_true', kind='hex')\n",
    "g.ax_joint.set(xlabel = '# Examples', ylabel = r'Belief in correct answer', xticks=[1,2,3], yticks=[0,.25,.5,.75,1])\n",
    "g.ax_joint.text(0.95,0.95, r\"$r = %.2f$\" % (et_r))\n",
    "g.fig.suptitle('GLM 2: Human learners', y=1.025)\n",
    "\n",
    "plt.savefig('plots/empirical_vs_time_corr.pdf', bbox_inches='tight')"
   ]
  },
  {
   "cell_type": "markdown",
   "metadata": {},
   "source": [
    "## Check 2: Teacher ratings"
   ]
  },
  {
   "cell_type": "markdown",
   "metadata": {},
   "source": [
    "Plot change in ratings over time:"
   ]
  },
  {
   "cell_type": "code",
   "execution_count": null,
   "metadata": {},
   "outputs": [],
   "source": [
    "problem_pal = ['#333']*teacher_df.problem.nunique()\n",
    "g = sns.relplot(data=teacher_df, x='num_hint', y='rating', hue='problem', kind='line', height=4.5, aspect=1,legend=False, palette=problem_pal, alpha=.01, ci=False)\n",
    "g.set(xlabel='# Examples', ylabel='Rating')\n",
    "sns.lineplot(data=teacher_df, x='num_hint', y='rating', ax=g.axes[0,0], ci=False, linewidth=6, color='#00A2FF')\n",
    "\n",
    "plt.savefig('plots/teacher_ratings_over_time.pdf', bbox_inches='tight')"
   ]
  },
  {
   "cell_type": "markdown",
   "metadata": {},
   "source": [
    "Plot model comparison:"
   ]
  },
  {
   "cell_type": "code",
   "execution_count": null,
   "metadata": {},
   "outputs": [],
   "source": [
    "# color palette for exposition\n",
    "pal = ['#aaa', '#aaa', '#333']\n",
    "\n",
    "# draw plot\n",
    "fig,ax = plt.subplots(figsize=(4.5,3))\n",
    "sns.barplot(data=teacher_vs_time, x='term', y='BIC', palette=pal)\n",
    "ax.set(xlabel='', title='Teacher ratings')\n",
    "\n",
    "plt.savefig('plots/teacher_rating_model_comparison.pdf', bbox_inches='tight')"
   ]
  },
  {
   "cell_type": "markdown",
   "metadata": {},
   "source": [
    "## Check 3: Student performance"
   ]
  },
  {
   "cell_type": "markdown",
   "metadata": {},
   "source": [
    "Plot change in performance over time:"
   ]
  },
  {
   "cell_type": "code",
   "execution_count": null,
   "metadata": {},
   "outputs": [],
   "source": [
    "problem_pal = ['#333']*student_df.problem.nunique()\n",
    "g = sns.relplot(data=student_df, x='num_hint', y='belief_in_true', hue='problem', kind='line', height=4.5, aspect=1,legend=False, palette=problem_pal, alpha=.01, ci=False)\n",
    "g.set(xlabel='# Examples', ylabel='Belief in true hypothesis')\n",
    "sns.lineplot(data=student_df, x='num_hint', y='belief_in_true', ax=g.axes[0,0], ci=False, linewidth=6, color='#00A2FF')\n",
    "\n",
    "plt.savefig('plots/student_performance_over_time.pdf', bbox_inches='tight')"
   ]
  },
  {
   "cell_type": "markdown",
   "metadata": {},
   "source": [
    "Plot model comparison:"
   ]
  },
  {
   "cell_type": "code",
   "execution_count": null,
   "metadata": {},
   "outputs": [],
   "source": [
    "fig,ax = plt.subplots(figsize=(4.5,3))\n",
    "sns.barplot(data=student_vs_time, x='term', y='BIC', palette=pal)\n",
    "ax.set(xlabel='', title='Student performance')\n",
    "\n",
    "plt.savefig('plots/student_performance_model_comparison.pdf', bbox_inches='tight')"
   ]
  }
 ],
 "metadata": {
  "kernelspec": {
   "display_name": "Python3 (py3)",
   "language": "python",
   "name": "py3"
  },
  "language_info": {
   "codemirror_mode": {
    "name": "ipython",
    "version": 3
   },
   "file_extension": ".py",
   "mimetype": "text/x-python",
   "name": "python",
   "nbconvert_exporter": "python",
   "pygments_lexer": "ipython3",
   "version": "3.8.5"
  }
 },
 "nbformat": 4,
 "nbformat_minor": 4
}
