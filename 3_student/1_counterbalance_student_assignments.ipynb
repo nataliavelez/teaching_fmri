{
 "cells": [
  {
   "cell_type": "markdown",
   "metadata": {},
   "source": [
    "# Counterbalance student assignments\n",
    "Taylor Burke, January 2022; updated by Natalia Vélez, January 2022"
   ]
  },
  {
   "cell_type": "markdown",
   "metadata": {},
   "source": [
    "#### Constraints:\n",
    "1. Each student only sees one problem once\n",
    "2. Each student sees 40 problems total\n",
    "3. There are missing problems and teachers.\n",
    "\n",
    "#### Balancing:\n",
    "1. The no. of students each teacher's problem is shown to (ideally, 5)\n",
    "2. The no. of teachers each student gets shown (each student sees every teacher at least once)\n",
    "\n",
    "#### Goal:\n",
    "  \n",
    "1. Generate a list of the optimal counterbalanced trial orderings."
   ]
  },
  {
   "cell_type": "code",
   "execution_count": 1,
   "metadata": {},
   "outputs": [],
   "source": [
    "import random, sys, json\n",
    "import numpy as np\n",
    "import collections\n",
    "import pandas as pd\n",
    "import seaborn as sns\n",
    "from collections import defaultdict\n",
    "from matplotlib import pyplot as plt \n",
    "from ast import literal_eval\n",
    "from tqdm import tqdm\n",
    "from random import shuffle\n",
    "\n",
    "sys.path.append('..')\n",
    "from utils import int_extract, write_json\n",
    "\n",
    "from configparser import ConfigParser\n",
    "from mysql.connector import MySQLConnection, Error"
   ]
  },
  {
   "cell_type": "markdown",
   "metadata": {},
   "source": [
    "## Load teacher data"
   ]
  },
  {
   "cell_type": "markdown",
   "metadata": {},
   "source": [
    "Here, we'll load the behavioral data from the fMRI task to identify valid teacher/problem pairings"
   ]
  },
  {
   "cell_type": "code",
   "execution_count": 2,
   "metadata": {},
   "outputs": [
    {
     "name": "stdout",
     "output_type": "stream",
     "text": [
      "Found 1111 valid teacher-problem combinations\n"
     ]
    },
    {
     "data": {
      "text/html": [
       "<div>\n",
       "<style scoped>\n",
       "    .dataframe tbody tr th:only-of-type {\n",
       "        vertical-align: middle;\n",
       "    }\n",
       "\n",
       "    .dataframe tbody tr th {\n",
       "        vertical-align: top;\n",
       "    }\n",
       "\n",
       "    .dataframe thead th {\n",
       "        text-align: right;\n",
       "    }\n",
       "</style>\n",
       "<table border=\"1\" class=\"dataframe\">\n",
       "  <thead>\n",
       "    <tr style=\"text-align: right;\">\n",
       "      <th></th>\n",
       "      <th>teacher</th>\n",
       "      <th>problem</th>\n",
       "      <th>ex_idx</th>\n",
       "    </tr>\n",
       "  </thead>\n",
       "  <tbody>\n",
       "    <tr>\n",
       "      <th>0</th>\n",
       "      <td>1</td>\n",
       "      <td>0</td>\n",
       "      <td>3</td>\n",
       "    </tr>\n",
       "    <tr>\n",
       "      <th>1</th>\n",
       "      <td>1</td>\n",
       "      <td>1</td>\n",
       "      <td>3</td>\n",
       "    </tr>\n",
       "    <tr>\n",
       "      <th>2</th>\n",
       "      <td>1</td>\n",
       "      <td>2</td>\n",
       "      <td>3</td>\n",
       "    </tr>\n",
       "    <tr>\n",
       "      <th>3</th>\n",
       "      <td>1</td>\n",
       "      <td>3</td>\n",
       "      <td>3</td>\n",
       "    </tr>\n",
       "    <tr>\n",
       "      <th>4</th>\n",
       "      <td>1</td>\n",
       "      <td>4</td>\n",
       "      <td>3</td>\n",
       "    </tr>\n",
       "  </tbody>\n",
       "</table>\n",
       "</div>"
      ],
      "text/plain": [
       "   teacher  problem  ex_idx\n",
       "0        1        0       3\n",
       "1        1        1       3\n",
       "2        1        2       3\n",
       "3        1        3       3\n",
       "4        1        4       3"
      ]
     },
     "execution_count": 2,
     "metadata": {},
     "output_type": "execute_result"
    }
   ],
   "source": [
    "excluded = np.loadtxt('../1_preprocessing/outputs/excluded_participants.txt', dtype=str)\n",
    "excluded = [int_extract('(?<=sub-)[0-9]+', s) for s in excluded]\n",
    "\n",
    "teaching_df = pd.read_csv('../2_behavioral/outputs/teaching_behavior.csv')\n",
    "teaching_df = teaching_df[~teaching_df.subject.isin(excluded)]\n",
    "teaching_df = teaching_df.dropna(subset=['example'])\n",
    "teaching_df['example'] = teaching_df['example'].apply(literal_eval)\n",
    "teaching_df['order'] = teaching_df['order'].apply(literal_eval)\n",
    "\n",
    "n_hints = (teaching_df\n",
    "           .groupby(['subject','problem'])['ex_idx']\n",
    "           .agg('count')\n",
    "           .reset_index()\n",
    "           .rename(columns={'subject': 'teacher'}))\n",
    "valid_hints = n_hints[n_hints.ex_idx > 1].copy()\n",
    "\n",
    "print('Found %i valid teacher-problem combinations' % valid_hints.shape[0])\n",
    "valid_hints.head()"
   ]
  },
  {
   "cell_type": "markdown",
   "metadata": {},
   "source": [
    "Make a matrix of teachers x hints, where each cell represents the number of times that a hint has already been assigned.\n",
    "By default, invalid teacher-problem pairings have a value of `maxint` so that they're never selected."
   ]
  },
  {
   "cell_type": "code",
   "execution_count": 3,
   "metadata": {},
   "outputs": [],
   "source": [
    "hint_mtx = valid_hints.pivot(index='teacher', columns='problem', values='ex_idx')\n",
    "hint_mtx[np.isnan(hint_mtx)] = np.inf\n",
    "hint_mtx[np.isfinite(hint_mtx)] = 0"
   ]
  },
  {
   "cell_type": "markdown",
   "metadata": {},
   "source": [
    "We'll also format teachers' hints correctly, to save them alongside the assignments"
   ]
  },
  {
   "cell_type": "code",
   "execution_count": 4,
   "metadata": {},
   "outputs": [],
   "source": [
    "hint_bank = {}\n",
    "\n",
    "for sub, sub_data in valid_hints.groupby('teacher'):\n",
    "    sub_id = 'sub-%02d' % sub\n",
    "    hint_bank[sub_id] = {}\n",
    "    \n",
    "    for _, block in sub_data.iterrows():\n",
    "        # read in examples for each problem\n",
    "        prob = block.problem\n",
    "        prob_data = teaching_df[(teaching_df.subject == sub) & (teaching_df.problem == prob)]\n",
    "        \n",
    "        # initialize state\n",
    "        state = np.zeros((6,6), dtype=int)\n",
    "        state_list = []\n",
    "        \n",
    "        # update state after each example\n",
    "        for _, trial in prob_data.iterrows():\n",
    "            state[trial.example[0], trial.example[1]] = 1\n",
    "            state_t = state.copy()\n",
    "            state_list.append(state_t.tolist())\n",
    "            \n",
    "        # add states to hint bank\n",
    "        hint_bank[sub_id][prob] = {'order': trial.order, 'states': state_list}"
   ]
  },
  {
   "cell_type": "code",
   "execution_count": 5,
   "metadata": {},
   "outputs": [
    {
     "data": {
      "text/plain": [
       "{'order': ['B', 'C', 'D', 'A'],\n",
       " 'states': [[[0, 0, 1, 0, 0, 0],\n",
       "   [0, 0, 0, 0, 0, 0],\n",
       "   [0, 0, 0, 0, 0, 0],\n",
       "   [0, 0, 0, 0, 0, 0],\n",
       "   [0, 0, 0, 0, 0, 0],\n",
       "   [0, 0, 0, 0, 0, 0]],\n",
       "  [[0, 0, 1, 0, 0, 0],\n",
       "   [0, 0, 0, 0, 0, 0],\n",
       "   [0, 0, 0, 0, 0, 1],\n",
       "   [0, 0, 0, 0, 0, 0],\n",
       "   [0, 0, 0, 0, 0, 0],\n",
       "   [0, 0, 0, 0, 0, 0]],\n",
       "  [[0, 0, 1, 0, 0, 0],\n",
       "   [0, 0, 0, 0, 0, 0],\n",
       "   [0, 0, 0, 0, 0, 1],\n",
       "   [0, 0, 0, 0, 0, 0],\n",
       "   [0, 0, 0, 0, 0, 0],\n",
       "   [0, 0, 0, 1, 0, 0]]]}"
      ]
     },
     "execution_count": 5,
     "metadata": {},
     "output_type": "execute_result"
    }
   ],
   "source": [
    "hint_bank['sub-10'][0] # let's test it out!"
   ]
  },
  {
   "cell_type": "markdown",
   "metadata": {},
   "source": [
    "## Functions for visually evaluating assignments"
   ]
  },
  {
   "cell_type": "code",
   "execution_count": 6,
   "metadata": {},
   "outputs": [],
   "source": [
    "def plot_problem_distribution(all_teacher_problem_counts):\n",
    "    plt.figure(figsize=(16,9))\n",
    "    plt.xlabel(\"Problem No.\")\n",
    "    plt.ylabel(\"Teacher ID\")\n",
    "    plt.title('Frequency of Problem Assignments')\n",
    "    sns.heatmap(all_teacher_problem_counts, linewidths=.5, annot=True, cmap=\"YlGnBu\")\n",
    "    plt.show()\n",
    "\n",
    "def plot_student_distribution(all_teacher_problem_counts):\n",
    "    # remove inf values    \n",
    "    values, counts = np.unique(all_teacher_problem_counts, return_counts=True)\n",
    "    nan_loc = np.isfinite(values)\n",
    "    values = values[nan_loc]\n",
    "    counts = counts[nan_loc]\n",
    "    \n",
    "    bars =  plt.bar(values, counts)\n",
    "    \n",
    "    for bar in bars:\n",
    "        height = bar.get_height()\n",
    "        plt.text(bar.get_x() + bar.get_width() / 2.0, height, f'{height:.0f}', ha='center', va='bottom')\n",
    "        \n",
    "    plt.xticks(values)\n",
    "    plt.xlabel(\"No. of Students Assigned to a problem\")\n",
    "    plt.ylabel(\"Count\")\n",
    "    plt.title('Frequency of Students Across Problems')\n",
    "    plt.show()\n",
    "    \n",
    "def plot_teacher_distribution(all_teacher_problem_counts):\n",
    "    unique_teacher_frequency = defaultdict(lambda: 0)\n",
    "\n",
    "    for student_assignments in all_student_assignments:\n",
    "        unique_teacher_frequency[len(np.unique(student_assignments))] += 1\n",
    "\n",
    "    unique_teachers = list(unique_teacher_frequency.keys())\n",
    "    unique_teacher_counts = [unique_teacher_frequency[value] for value in unique_teachers]\n",
    "    \n",
    "    bars = plt.bar(unique_teachers, unique_teacher_counts)\n",
    "    \n",
    "    for bar in bars:\n",
    "        height = bar.get_height()\n",
    "        plt.text(bar.get_x() + bar.get_width() / 2.0, height, f'{height:.0f}', ha='center', va='bottom')\n",
    "\n",
    "    plt.xlabel(\"No. of Teachers Assigned to a student\")\n",
    "    plt.ylabel(\"Count\")\n",
    "    plt.title('Frequency of Teachers Across Students')\n",
    "    plt.show()\n",
    "    \n",
    "    mean_unique_teachers = np.mean(unique_teachers)\n",
    "    print(\"Each student sees on average {} teachers\".format(mean_unique_teachers))\n",
    "    \n",
    "    \n",
    "def visualize_distributions(all_student_assignments, all_teacher_problem_counts):\n",
    "    plot_problem_distribution(all_teacher_problem_counts)\n",
    "    plot_student_distribution(all_teacher_problem_counts)\n",
    "    plot_teacher_distribution(all_teacher_problem_counts)\n",
    "    print(\"There are {} unique trial orders\".format(len(np.unique(all_student_assignments, axis=0))))"
   ]
  },
  {
   "cell_type": "markdown",
   "metadata": {},
   "source": [
    "## Distribute hints"
   ]
  },
  {
   "cell_type": "code",
   "execution_count": 7,
   "metadata": {},
   "outputs": [],
   "source": [
    "def counterbalance_assignments():\n",
    "    teachers = hint_mtx.index.values\n",
    "    problems = hint_mtx.columns.values\n",
    "\n",
    "    num_teachers = len(teachers)\n",
    "    num_problems = len(problems) # Number of problems in the the teaching experiment. \n",
    "    num_students = num_teachers*5 # The target number of participants in the student experiment.\n",
    "\n",
    "    # Matrix containing assigned teacher IDs that is indexed by student ID then problem ID\n",
    "    all_student_assignments = np.zeros((num_students, num_problems), dtype=int)\n",
    "\n",
    "    # Matrix containing problem counts (no. of times problem has been assigned to a student) \n",
    "    # that is indexed by teacher ID then problem ID\n",
    "    all_teacher_counts = hint_mtx.copy()\n",
    "\n",
    "    for student in range(num_students):\n",
    "        seen_teachers = set()\n",
    "\n",
    "        for problem in problems:\n",
    "\n",
    "            teacher_counts = all_teacher_counts[problem]\n",
    "            lowest_count = teacher_counts.min()\n",
    "\n",
    "            # Once all teachers have been seen, students can relearn from teachers again.\n",
    "            if len(seen_teachers) == num_teachers:\n",
    "                seen_teachers = set()\n",
    "                unseen_teachers_with_lowest_count = set(teachers)\n",
    "\n",
    "            # # Find the student's unseen teachers who have presented this problem the least amount of times.\n",
    "            teachers_with_lowest_count = set(teacher_counts[teacher_counts == lowest_count].index)\n",
    "            unseen_teachers_with_lowest_count = teachers_with_lowest_count.difference(seen_teachers)\n",
    "\n",
    "            # If there are no unseen teachers with the lowest count, try finding a seen teacher with the lowest count.\n",
    "            if len(unseen_teachers_with_lowest_count) == 0:\n",
    "                unseen_teachers_with_lowest_count = teachers_with_lowest_count\n",
    "\n",
    "            # Randomly select a teacher's problem to assign to a student.\n",
    "            teacher = random.sample(unseen_teachers_with_lowest_count, 1)[0]\n",
    "\n",
    "            # # Updata variables based on the new assignment.\n",
    "            all_student_assignments[student,problem] = teacher\n",
    "            all_teacher_counts[problem][teacher] += 1\n",
    "            seen_teachers.add(teacher)\n",
    "\n",
    "    return all_student_assignments, all_teacher_counts"
   ]
  },
  {
   "cell_type": "code",
   "execution_count": 8,
   "metadata": {},
   "outputs": [],
   "source": [
    "test_students, test_teachers = counterbalance_assignments() # let's test it out!"
   ]
  },
  {
   "cell_type": "markdown",
   "metadata": {},
   "source": [
    "## Find best counterbalanced assignments"
   ]
  },
  {
   "cell_type": "markdown",
   "metadata": {},
   "source": [
    "Criterion: How many students see each hint?"
   ]
  },
  {
   "cell_type": "code",
   "execution_count": 9,
   "metadata": {},
   "outputs": [],
   "source": [
    "def evaluate_distributions(all_student_assignments, all_teacher_problem_counts):\n",
    "    \n",
    "    unique_counts = np.unique(all_teacher_problem_counts)\n",
    "    unique_counts = unique_counts[np.isfinite(unique_counts)]\n",
    "\n",
    "    # If not every problem is only shown 5 or 6 times, return the average no. of teachers each student sees.\n",
    "    if min(unique_counts) < 5 or max(unique_counts) > 6:\n",
    "        unique_teacher_frequency = defaultdict(lambda: 0)\n",
    "\n",
    "        for student_assignments in all_student_assignments:\n",
    "            unique_teacher_frequency[len(np.unique(student_assignments))] += 1\n",
    "\n",
    "        unique_teachers = list(unique_teacher_frequency.keys())\n",
    "        return np.mean(unique_teachers), unique_teacher_frequency[28]\n",
    "    \n",
    "    return 0, 0"
   ]
  },
  {
   "cell_type": "code",
   "execution_count": 10,
   "metadata": {},
   "outputs": [
    {
     "data": {
      "text/plain": [
       "(0, 0)"
      ]
     },
     "execution_count": 10,
     "metadata": {},
     "output_type": "execute_result"
    }
   ],
   "source": [
    "evaluate_distributions(test_students, test_teachers) # let's test it out!"
   ]
  },
  {
   "cell_type": "markdown",
   "metadata": {},
   "source": [
    "Pick the best of 100 assignments:"
   ]
  },
  {
   "cell_type": "code",
   "execution_count": 11,
   "metadata": {},
   "outputs": [
    {
     "name": "stderr",
     "output_type": "stream",
     "text": [
      "100%|██████████| 100/100 [03:02<00:00,  1.83s/it]\n"
     ]
    },
    {
     "data": {
      "image/png": "[encoded data removed]",
      "text/plain": [
       "<Figure size 1152x648 with 2 Axes>"
      ]
     },
     "metadata": {
      "needs_background": "light"
     },
     "output_type": "display_data"
    },
    {
     "data": {
      "image/png": "[encoded data removed]",
      "text/plain": [
       "<Figure size 432x288 with 1 Axes>"
      ]
     },
     "metadata": {
      "needs_background": "light"
     },
     "output_type": "display_data"
    },
    {
     "data": {
      "image/png": "[encoded data removed]",
      "text/plain": [
       "<Figure size 432x288 with 1 Axes>"
      ]
     },
     "metadata": {
      "needs_background": "light"
     },
     "output_type": "display_data"
    },
    {
     "name": "stdout",
     "output_type": "stream",
     "text": [
      "Each student sees on average 25.5 teachers\n",
      "There are 140 unique trial orders\n"
     ]
    }
   ],
   "source": [
    "np.random.seed(1234)\n",
    "\n",
    "# initialize assignments\n",
    "best_all_student_assignments, best_all_teacher_problem_counts = counterbalance_assignments()\n",
    "best_avg_teachers_seen, best_num_students_seen_all_teachers = evaluate_distributions(best_all_student_assignments, \n",
    "                                                                                     best_all_teacher_problem_counts)\n",
    "\n",
    "# select best of 100\n",
    "n_iter = 100\n",
    "for __ in tqdm(range(n_iter)):\n",
    "    all_student_assignments, all_teacher_problem_counts = counterbalance_assignments()\n",
    "    avg_teachers_seen, num_students_seen_all_teachers = evaluate_distributions(all_student_assignments, all_teacher_problem_counts)\n",
    "    \n",
    "    # Maximizing the average number of unique teachers that students see\n",
    "    if avg_teachers_seen >= best_avg_teachers_seen and num_students_seen_all_teachers >= best_num_students_seen_all_teachers:\n",
    "        best_all_student_assignments = all_student_assignments\n",
    "        best_all_teacher_problem_counts = all_teacher_problem_counts\n",
    "        best_num_students_seen_all_teachers = num_students_seen_all_teachers\n",
    "\n",
    "# show best distribution\n",
    "visualize_distributions(best_all_student_assignments, best_all_teacher_problem_counts)"
   ]
  },
  {
   "cell_type": "markdown",
   "metadata": {},
   "source": [
    "Format the winning assignment:"
   ]
  },
  {
   "cell_type": "code",
   "execution_count": 12,
   "metadata": {},
   "outputs": [
    {
     "data": {
      "text/html": [
       "<div>\n",
       "<style scoped>\n",
       "    .dataframe tbody tr th:only-of-type {\n",
       "        vertical-align: middle;\n",
       "    }\n",
       "\n",
       "    .dataframe tbody tr th {\n",
       "        vertical-align: top;\n",
       "    }\n",
       "\n",
       "    .dataframe thead th {\n",
       "        text-align: right;\n",
       "    }\n",
       "</style>\n",
       "<table border=\"1\" class=\"dataframe\">\n",
       "  <thead>\n",
       "    <tr style=\"text-align: right;\">\n",
       "      <th></th>\n",
       "      <th>student</th>\n",
       "      <th>problem</th>\n",
       "      <th>teacher</th>\n",
       "    </tr>\n",
       "  </thead>\n",
       "  <tbody>\n",
       "    <tr>\n",
       "      <th>0</th>\n",
       "      <td>0</td>\n",
       "      <td>0</td>\n",
       "      <td>15</td>\n",
       "    </tr>\n",
       "    <tr>\n",
       "      <th>1</th>\n",
       "      <td>0</td>\n",
       "      <td>1</td>\n",
       "      <td>30</td>\n",
       "    </tr>\n",
       "    <tr>\n",
       "      <th>2</th>\n",
       "      <td>0</td>\n",
       "      <td>2</td>\n",
       "      <td>4</td>\n",
       "    </tr>\n",
       "    <tr>\n",
       "      <th>3</th>\n",
       "      <td>0</td>\n",
       "      <td>3</td>\n",
       "      <td>11</td>\n",
       "    </tr>\n",
       "    <tr>\n",
       "      <th>4</th>\n",
       "      <td>0</td>\n",
       "      <td>4</td>\n",
       "      <td>24</td>\n",
       "    </tr>\n",
       "    <tr>\n",
       "      <th>...</th>\n",
       "      <td>...</td>\n",
       "      <td>...</td>\n",
       "      <td>...</td>\n",
       "    </tr>\n",
       "    <tr>\n",
       "      <th>5595</th>\n",
       "      <td>139</td>\n",
       "      <td>35</td>\n",
       "      <td>18</td>\n",
       "    </tr>\n",
       "    <tr>\n",
       "      <th>5596</th>\n",
       "      <td>139</td>\n",
       "      <td>36</td>\n",
       "      <td>10</td>\n",
       "    </tr>\n",
       "    <tr>\n",
       "      <th>5597</th>\n",
       "      <td>139</td>\n",
       "      <td>37</td>\n",
       "      <td>27</td>\n",
       "    </tr>\n",
       "    <tr>\n",
       "      <th>5598</th>\n",
       "      <td>139</td>\n",
       "      <td>38</td>\n",
       "      <td>30</td>\n",
       "    </tr>\n",
       "    <tr>\n",
       "      <th>5599</th>\n",
       "      <td>139</td>\n",
       "      <td>39</td>\n",
       "      <td>6</td>\n",
       "    </tr>\n",
       "  </tbody>\n",
       "</table>\n",
       "<p>5600 rows × 3 columns</p>\n",
       "</div>"
      ],
      "text/plain": [
       "      student problem  teacher\n",
       "0           0       0       15\n",
       "1           0       1       30\n",
       "2           0       2        4\n",
       "3           0       3       11\n",
       "4           0       4       24\n",
       "...       ...     ...      ...\n",
       "5595      139      35       18\n",
       "5596      139      36       10\n",
       "5597      139      37       27\n",
       "5598      139      38       30\n",
       "5599      139      39        6\n",
       "\n",
       "[5600 rows x 3 columns]"
      ]
     },
     "execution_count": 12,
     "metadata": {},
     "output_type": "execute_result"
    }
   ],
   "source": [
    "assignments_df = (\n",
    "    pd.DataFrame(best_all_student_assignments)\n",
    "    .reset_index()\n",
    "    .melt(id_vars='index', var_name='problem', value_name='teacher')\n",
    "    .rename(columns={'index': 'student'})\n",
    "    .sort_values(by=['student', 'problem'])\n",
    "    .reset_index(drop=True)\n",
    ")\n",
    "\n",
    "assignments_df"
   ]
  },
  {
   "cell_type": "markdown",
   "metadata": {},
   "source": [
    "## Sanity check: Do the best assignments satisfy all constraints?"
   ]
  },
  {
   "cell_type": "markdown",
   "metadata": {},
   "source": [
    "(1) Are the student, problem, teacher indices in the right range?"
   ]
  },
  {
   "cell_type": "code",
   "execution_count": 13,
   "metadata": {},
   "outputs": [
    {
     "data": {
      "text/html": [
       "<div>\n",
       "<style scoped>\n",
       "    .dataframe tbody tr th:only-of-type {\n",
       "        vertical-align: middle;\n",
       "    }\n",
       "\n",
       "    .dataframe tbody tr th {\n",
       "        vertical-align: top;\n",
       "    }\n",
       "\n",
       "    .dataframe thead th {\n",
       "        text-align: right;\n",
       "    }\n",
       "</style>\n",
       "<table border=\"1\" class=\"dataframe\">\n",
       "  <thead>\n",
       "    <tr style=\"text-align: right;\">\n",
       "      <th></th>\n",
       "      <th>student</th>\n",
       "      <th>problem</th>\n",
       "      <th>teacher</th>\n",
       "    </tr>\n",
       "  </thead>\n",
       "  <tbody>\n",
       "    <tr>\n",
       "      <th>min</th>\n",
       "      <td>0</td>\n",
       "      <td>0</td>\n",
       "      <td>1</td>\n",
       "    </tr>\n",
       "    <tr>\n",
       "      <th>max</th>\n",
       "      <td>139</td>\n",
       "      <td>39</td>\n",
       "      <td>30</td>\n",
       "    </tr>\n",
       "    <tr>\n",
       "      <th>nunique</th>\n",
       "      <td>140</td>\n",
       "      <td>40</td>\n",
       "      <td>28</td>\n",
       "    </tr>\n",
       "  </tbody>\n",
       "</table>\n",
       "</div>"
      ],
      "text/plain": [
       "         student  problem  teacher\n",
       "min            0        0        1\n",
       "max          139       39       30\n",
       "nunique      140       40       28"
      ]
     },
     "execution_count": 13,
     "metadata": {},
     "output_type": "execute_result"
    }
   ],
   "source": [
    "assignments_df.agg(['min', 'max', 'nunique'])"
   ]
  },
  {
   "cell_type": "markdown",
   "metadata": {},
   "source": [
    "(2) Does each student see every problem exactly once?"
   ]
  },
  {
   "cell_type": "code",
   "execution_count": 14,
   "metadata": {},
   "outputs": [
    {
     "data": {
      "text/plain": [
       "False"
      ]
     },
     "execution_count": 14,
     "metadata": {},
     "output_type": "execute_result"
    }
   ],
   "source": [
    "n_problems = assignments_df.groupby('student')['problem'].nunique()\n",
    "np.any(n_problems != 40)"
   ]
  },
  {
   "cell_type": "markdown",
   "metadata": {},
   "source": [
    "(3) Do the missing teacher-problem in the student assignments correspond to missing teacher data?"
   ]
  },
  {
   "cell_type": "code",
   "execution_count": 15,
   "metadata": {},
   "outputs": [
    {
     "name": "stdout",
     "output_type": "stream",
     "text": [
      "1111 teacher-problem combinations in assignments\n",
      "1111 teacher-problem combinations in behavioral data\n"
     ]
    },
    {
     "data": {
      "text/plain": [
       "False"
      ]
     },
     "execution_count": 15,
     "metadata": {},
     "output_type": "execute_result"
    }
   ],
   "source": [
    "n_ratings = (assignments_df\n",
    "             .groupby(['teacher', 'problem'])['student']\n",
    "             .agg('nunique')\n",
    "             .reset_index())\n",
    "shared_cols = ['teacher', 'problem']\n",
    "\n",
    "# get combos in assignments, teacher data\n",
    "assignment_combos = n_ratings[shared_cols].copy().drop_duplicates()\n",
    "hint_combos = valid_hints[shared_cols]\n",
    "\n",
    "# merge combos\n",
    "merged_combos = valid_hints.merge(assignment_combos, on=shared_cols, how='outer', indicator=True)\n",
    "\n",
    "print('%i teacher-problem combinations in assignments' % assignment_combos.shape[0])\n",
    "print('%i teacher-problem combinations in behavioral data' % valid_hints.shape[0])\n",
    "\n",
    "# any conflicts?\n",
    "np.any(merged_combos._merge != 'both')"
   ]
  },
  {
   "cell_type": "markdown",
   "metadata": {},
   "source": [
    "## Save assignments"
   ]
  },
  {
   "cell_type": "markdown",
   "metadata": {},
   "source": [
    "Save teacher-problem pairings:"
   ]
  },
  {
   "cell_type": "code",
   "execution_count": 16,
   "metadata": {},
   "outputs": [],
   "source": [
    "assignments_df.to_csv('outputs/all_assignments.csv')"
   ]
  },
  {
   "cell_type": "markdown",
   "metadata": {},
   "source": [
    "Format trial orders:"
   ]
  },
  {
   "cell_type": "code",
   "execution_count": 17,
   "metadata": {},
   "outputs": [],
   "source": [
    "assignments_list = []\n",
    "for student, group in assignments_df.groupby('student'):\n",
    "    student_list = []\n",
    "    for _, prob_data in group.iterrows():\n",
    "        # parse trial info\n",
    "        teacher = 'sub-%02d' % prob_data.teacher\n",
    "        prob = prob_data.problem        \n",
    "        hints = hint_bank[teacher][prob]\n",
    "        \n",
    "        prob_assignment = {\n",
    "            'teacher': teacher,\n",
    "            'problem': prob\n",
    "        }\n",
    "        prob_assignment = {**prob_assignment, **hints}\n",
    "        \n",
    "        student_list.append(prob_assignment)\n",
    "        \n",
    "    # shuffle problems\n",
    "    shuffle(student_list)\n",
    "    assignments_list.append(student_list)"
   ]
  },
  {
   "cell_type": "markdown",
   "metadata": {},
   "source": [
    "Save to file:"
   ]
  },
  {
   "cell_type": "code",
   "execution_count": 18,
   "metadata": {},
   "outputs": [],
   "source": [
    "write_json(assignments_list, 'outputs/all_trial_orders.json')"
   ]
  },
  {
   "cell_type": "markdown",
   "metadata": {},
   "source": [
    "Upload to database:"
   ]
  },
  {
   "cell_type": "code",
   "execution_count": 20,
   "metadata": {},
   "outputs": [
    {
     "name": "stdout",
     "output_type": "stream",
     "text": [
      "Error: 2003: Can't connect to MySQL server on 'opal3.opalstack.com:3306' (110 Connection timed out)\n"
     ]
    },
    {
     "ename": "UnboundLocalError",
     "evalue": "local variable 'cursor' referenced before assignment",
     "output_type": "error",
     "traceback": [
      "\u001b[0;31m---------------------------------------------------------------------------\u001b[0m",
      "\u001b[0;31mUnboundLocalError\u001b[0m                         Traceback (most recent call last)",
      "\u001b[0;32m<ipython-input-20-b912f106ae45>\u001b[0m in \u001b[0;36m<module>\u001b[0;34m\u001b[0m\n\u001b[1;32m     44\u001b[0m         \u001b[0mconn\u001b[0m\u001b[0;34m.\u001b[0m\u001b[0mclose\u001b[0m\u001b[0;34m(\u001b[0m\u001b[0;34m)\u001b[0m\u001b[0;34m\u001b[0m\u001b[0;34m\u001b[0m\u001b[0m\n\u001b[1;32m     45\u001b[0m \u001b[0;34m\u001b[0m\u001b[0m\n\u001b[0;32m---> 46\u001b[0;31m \u001b[0minsert_assignments\u001b[0m\u001b[0;34m(\u001b[0m\u001b[0mdbentries\u001b[0m\u001b[0;34m)\u001b[0m\u001b[0;34m\u001b[0m\u001b[0;34m\u001b[0m\u001b[0m\n\u001b[0m",
      "\u001b[0;32m<ipython-input-20-b912f106ae45>\u001b[0m in \u001b[0;36minsert_assignments\u001b[0;34m(data)\u001b[0m\n\u001b[1;32m     41\u001b[0m \u001b[0;34m\u001b[0m\u001b[0m\n\u001b[1;32m     42\u001b[0m     \u001b[0;32mfinally\u001b[0m\u001b[0;34m:\u001b[0m\u001b[0;34m\u001b[0m\u001b[0;34m\u001b[0m\u001b[0m\n\u001b[0;32m---> 43\u001b[0;31m         \u001b[0mcursor\u001b[0m\u001b[0;34m.\u001b[0m\u001b[0mclose\u001b[0m\u001b[0;34m(\u001b[0m\u001b[0;34m)\u001b[0m\u001b[0;34m\u001b[0m\u001b[0;34m\u001b[0m\u001b[0m\n\u001b[0m\u001b[1;32m     44\u001b[0m         \u001b[0mconn\u001b[0m\u001b[0;34m.\u001b[0m\u001b[0mclose\u001b[0m\u001b[0;34m(\u001b[0m\u001b[0;34m)\u001b[0m\u001b[0;34m\u001b[0m\u001b[0;34m\u001b[0m\u001b[0m\n\u001b[1;32m     45\u001b[0m \u001b[0;34m\u001b[0m\u001b[0m\n",
      "\u001b[0;31mUnboundLocalError\u001b[0m: local variable 'cursor' referenced before assignment"
     ]
    }
   ],
   "source": [
    "dbentries = [(student, json.dumps(student_order)) for (student, student_order) in enumerate(assignments_list)]\n",
    "\n",
    "## UPLOAD TO DATABASE\n",
    "# Read config file\n",
    "def read_db_config(filename='config.ini', section='mysql'):\n",
    "    \"\"\" Read database configuration file and return a dictionary object\n",
    "    :param filename: name of the configuration file\n",
    "    :param section: section of database configuration\n",
    "    :return: a dictionary of database parameters\n",
    "    \"\"\"\n",
    "    # create parser and read ini configuration file\n",
    "    parser = ConfigParser()\n",
    "    parser.read(filename)\n",
    "\n",
    "    # get section, default to mysql\n",
    "    db = {}\n",
    "    if parser.has_section(section):\n",
    "        items = parser.items(section)\n",
    "        for item in items:\n",
    "            db[item[0]] = item[1]\n",
    "    else:\n",
    "        raise Exception('{0} not found in the {1} file'.format(section, filename))\n",
    "\n",
    "    return db\n",
    "\n",
    "# Main method: Uploads trial orders to database, indexed by student ID\n",
    "def insert_assignments(data):\n",
    "    query = \"INSERT INTO student_assignments_debug(student_id,trial_order) \" \\\n",
    "            \"VALUES(%s,%s)\"\n",
    "\n",
    "    try:\n",
    "        db_config = read_db_config()\n",
    "        conn = MySQLConnection(**db_config)\n",
    "\n",
    "        cursor = conn.cursor()\n",
    "        cursor.executemany(query, data)\n",
    "\n",
    "        conn.commit()\n",
    "    except Error as e:\n",
    "        print('Error:', e)\n",
    "\n",
    "    finally:\n",
    "        conn.close()\n",
    "\n",
    "insert_assignments(dbentries)"
   ]
  }
 ],
 "metadata": {
  "@webio": {
   "lastCommId": null,
   "lastKernelId": null
  },
  "kernelspec": {
   "display_name": "Python 3",
   "language": "python",
   "name": "python3"
  },
  "language_info": {
   "codemirror_mode": {
    "name": "ipython",
    "version": 3
   },
   "file_extension": ".py",
   "mimetype": "text/x-python",
   "name": "python",
   "nbconvert_exporter": "python",
   "pygments_lexer": "ipython3",
   "version": "3.8.5"
  }
 },
 "nbformat": 4,
 "nbformat_minor": 4
}
