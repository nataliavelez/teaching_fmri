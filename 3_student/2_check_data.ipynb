{
 "cells": [
  {
   "cell_type": "markdown",
   "metadata": {},
   "source": [
    "# Checking the data\n",
    "Natalia Vélez, February 2022"
   ]
  },
  {
   "cell_type": "code",
   "execution_count": 1,
   "metadata": {},
   "outputs": [],
   "source": [
    "%matplotlib inline\n",
    "import sys\n",
    "import pandas as pd\n",
    "import numpy as np\n",
    "import matplotlib.pyplot as plt\n",
    "import seaborn as sns\n",
    "\n",
    "sys.path.append('..')\n",
    "from utils import gsearch, read_json, str_extract, int_extract\n",
    "\n",
    "sns.set_context('talk')\n",
    "sns.set_style('white')"
   ]
  },
  {
   "cell_type": "markdown",
   "metadata": {},
   "source": [
    "## Data wrangling"
   ]
  },
  {
   "cell_type": "markdown",
   "metadata": {},
   "source": [
    "Load data from main trials"
   ]
  },
  {
   "cell_type": "code",
   "execution_count": 2,
   "metadata": {},
   "outputs": [
    {
     "name": "stdout",
     "output_type": "stream",
     "text": [
      "Found 5 batches of data\n",
      "inputs/student_data_2022-02-02-1303.json\n",
      "inputs/student_data_2022-02-15-1328.json\n",
      "inputs/student_data_2022-02-15-2034.json\n",
      "inputs/student_data_2022-02-16-1639.json\n",
      "inputs/student_data_2022-02-25-1021.json\n"
     ]
    }
   ],
   "source": [
    "data_files = gsearch('inputs/student_data*.json')\n",
    "data_files.sort()\n",
    "print('Found %i batches of data' % len(data_files))\n",
    "print(*data_files, sep='\\n')"
   ]
  },
  {
   "cell_type": "code",
   "execution_count": 3,
   "metadata": {},
   "outputs": [
    {
     "name": "stdout",
     "output_type": "stream",
     "text": [
      "Processing batch: 2022-02-02-1303\n",
      "20 participants found\n",
      "dict_keys(['worker', 'assignment', 'hit', 'version', 'cond', 'problem_order', 'data', 'timestamp'])\n",
      "Processing batch: 2022-02-15-1328\n",
      "20 participants found\n",
      "dict_keys(['worker', 'assignment', 'hit', 'version', 'cond', 'problem_order', 'data', 'timestamp'])\n",
      "Processing batch: 2022-02-15-2034\n",
      "80 participants found\n",
      "dict_keys(['worker', 'assignment', 'hit', 'version', 'cond', 'problem_order', 'data', 'timestamp'])\n",
      "Processing batch: 2022-02-16-1639\n",
      "110 participants found\n",
      "dict_keys(['worker', 'assignment', 'hit', 'version', 'cond', 'problem_order', 'data', 'timestamp'])\n",
      "Processing batch: 2022-02-25-1021\n",
      "120 participants found\n",
      "dict_keys(['worker', 'assignment', 'hit', 'version', 'cond', 'problem_order', 'data', 'timestamp'])\n",
      "(16150, 9)\n"
     ]
    },
    {
     "data": {
      "text/html": [
       "<div>\n",
       "<style scoped>\n",
       "    .dataframe tbody tr th:only-of-type {\n",
       "        vertical-align: middle;\n",
       "    }\n",
       "\n",
       "    .dataframe tbody tr th {\n",
       "        vertical-align: top;\n",
       "    }\n",
       "\n",
       "    .dataframe thead th {\n",
       "        text-align: right;\n",
       "    }\n",
       "</style>\n",
       "<table border=\"1\" class=\"dataframe\">\n",
       "  <thead>\n",
       "    <tr style=\"text-align: right;\">\n",
       "      <th></th>\n",
       "      <th>time_elapsed</th>\n",
       "      <th>teacher</th>\n",
       "      <th>problem</th>\n",
       "      <th>num_trial</th>\n",
       "      <th>num_hint</th>\n",
       "      <th>bets</th>\n",
       "      <th>bonus</th>\n",
       "      <th>worker</th>\n",
       "      <th>trial_order</th>\n",
       "    </tr>\n",
       "  </thead>\n",
       "  <tbody>\n",
       "    <tr>\n",
       "      <th>22</th>\n",
       "      <td>181304</td>\n",
       "      <td>sub-04</td>\n",
       "      <td>34</td>\n",
       "      <td>0</td>\n",
       "      <td>0</td>\n",
       "      <td>[0, 35, 41, 48]</td>\n",
       "      <td>0.013777</td>\n",
       "      <td>133</td>\n",
       "      <td>0</td>\n",
       "    </tr>\n",
       "    <tr>\n",
       "      <th>23</th>\n",
       "      <td>192911</td>\n",
       "      <td>sub-04</td>\n",
       "      <td>34</td>\n",
       "      <td>0</td>\n",
       "      <td>1</td>\n",
       "      <td>[0, 50, 49, 0]</td>\n",
       "      <td>0.020623</td>\n",
       "      <td>133</td>\n",
       "      <td>0</td>\n",
       "    </tr>\n",
       "    <tr>\n",
       "      <th>24</th>\n",
       "      <td>203582</td>\n",
       "      <td>sub-04</td>\n",
       "      <td>34</td>\n",
       "      <td>0</td>\n",
       "      <td>2</td>\n",
       "      <td>[0, 0, 100, 0]</td>\n",
       "      <td>0.041667</td>\n",
       "      <td>133</td>\n",
       "      <td>0</td>\n",
       "    </tr>\n",
       "    <tr>\n",
       "      <th>26</th>\n",
       "      <td>223655</td>\n",
       "      <td>sub-27</td>\n",
       "      <td>15</td>\n",
       "      <td>1</td>\n",
       "      <td>0</td>\n",
       "      <td>[0, 52, 50, 48]</td>\n",
       "      <td>0.014444</td>\n",
       "      <td>133</td>\n",
       "      <td>0</td>\n",
       "    </tr>\n",
       "    <tr>\n",
       "      <th>27</th>\n",
       "      <td>232054</td>\n",
       "      <td>sub-27</td>\n",
       "      <td>15</td>\n",
       "      <td>1</td>\n",
       "      <td>1</td>\n",
       "      <td>[0, 52, 50, 0]</td>\n",
       "      <td>0.021242</td>\n",
       "      <td>133</td>\n",
       "      <td>0</td>\n",
       "    </tr>\n",
       "  </tbody>\n",
       "</table>\n",
       "</div>"
      ],
      "text/plain": [
       "    time_elapsed teacher  problem  num_trial  num_hint             bets  \\\n",
       "22        181304  sub-04       34          0         0  [0, 35, 41, 48]   \n",
       "23        192911  sub-04       34          0         1   [0, 50, 49, 0]   \n",
       "24        203582  sub-04       34          0         2   [0, 0, 100, 0]   \n",
       "26        223655  sub-27       15          1         0  [0, 52, 50, 48]   \n",
       "27        232054  sub-27       15          1         1   [0, 52, 50, 0]   \n",
       "\n",
       "       bonus  worker  trial_order  \n",
       "22  0.013777     133            0  \n",
       "23  0.020623     133            0  \n",
       "24  0.041667     133            0  \n",
       "26  0.014444     133            0  \n",
       "27  0.021242     133            0  "
      ]
     },
     "execution_count": 3,
     "metadata": {},
     "output_type": "execute_result"
    }
   ],
   "source": [
    "student_list = []\n",
    "time_list = []\n",
    "processed_workers = []\n",
    "\n",
    "for f in data_files:\n",
    "    batch = str_extract('[0-9]{4}-[0-9]{2}-[0-9]{2}-[0-9]{4}', f)\n",
    "    print('Processing batch: %s' % batch)\n",
    "    student_json = read_json(f)\n",
    "    \n",
    "    print('%i participants found' % len(student_json))\n",
    "    print(student_json[0].keys())\n",
    "    \n",
    "    for stud in student_json:\n",
    "        worker_id = stud['worker']\n",
    "        \n",
    "        if worker_id not in processed_workers:\n",
    "            order = stud['cond']\n",
    "            data = pd.DataFrame(stud['data'])\n",
    "            data['worker'] = worker_id\n",
    "            data['trial_order'] = order\n",
    "            data['batch'] = batch\n",
    "            time = data.iloc[-1]['time_elapsed']\n",
    "\n",
    "            student_list.append(data)\n",
    "            time_list.append((batch, worker_id, time))\n",
    "            processed_workers.append(worker_id)\n",
    "\n",
    "# put everything together\n",
    "all_data = pd.concat(student_list).drop(columns=['trial_index', 'internal_node_id'])\n",
    "student_df = all_data[all_data.trial_type == 'student-bet']\n",
    "student_df = student_df.dropna(how='all', axis=1).drop(columns=['trial_type'])\n",
    "student_df[['problem', 'num_trial', 'num_hint']] = student_df[['problem', 'num_trial', 'num_hint']].astype(int)\n",
    "\n",
    "# anonymize worker IDs\n",
    "anon_df = student_df.copy()\n",
    "anon_df['worker'] = student_df['worker'].astype('category').cat.codes\n",
    "anon_df = anon_df.drop(columns=['batch'])\n",
    "anon_df.to_csv('outputs/student_behavior.csv', index=False)\n",
    "\n",
    "print(anon_df.shape)\n",
    "anon_df.head()"
   ]
  },
  {
   "cell_type": "markdown",
   "metadata": {},
   "source": [
    "Sanity check: Do all students belong to exactly one batch?"
   ]
  },
  {
   "cell_type": "code",
   "execution_count": 4,
   "metadata": {},
   "outputs": [
    {
     "name": "stdout",
     "output_type": "stream",
     "text": [
      "True\n"
     ]
    }
   ],
   "source": [
    "batches_per_student = student_df.groupby(['worker']).agg({'batch': 'nunique'})\n",
    "print(np.all(batches_per_student.batch == 1))"
   ]
  },
  {
   "cell_type": "markdown",
   "metadata": {},
   "source": [
    "Sanity check: How many students per batch?"
   ]
  },
  {
   "cell_type": "code",
   "execution_count": 5,
   "metadata": {},
   "outputs": [
    {
     "data": {
      "text/plain": [
       "0    20\n",
       "1    20\n",
       "2    60\n",
       "3    30\n",
       "4    10\n",
       "Name: worker, dtype: int64"
      ]
     },
     "execution_count": 5,
     "metadata": {},
     "output_type": "execute_result"
    }
   ],
   "source": [
    "student_df.groupby('batch').agg({'worker': 'nunique'}).reset_index().worker"
   ]
  },
  {
   "cell_type": "markdown",
   "metadata": {},
   "source": [
    "## Calculate bonuses"
   ]
  },
  {
   "cell_type": "markdown",
   "metadata": {},
   "source": [
    "Calculate total time:"
   ]
  },
  {
   "cell_type": "code",
   "execution_count": 6,
   "metadata": {},
   "outputs": [
    {
     "data": {
      "text/plain": [
       "min       10.513533\n",
       "max       96.065400\n",
       "median    24.790617\n",
       "Name: t_minutes, dtype: float64"
      ]
     },
     "execution_count": 6,
     "metadata": {},
     "output_type": "execute_result"
    }
   ],
   "source": [
    "time_elapsed = pd.DataFrame(time_list, columns=['batch', 'worker', 'time_elapsed'])\n",
    "time_elapsed['t_minutes'] = time_elapsed['time_elapsed']/1000/60\n",
    "time_elapsed['t_minutes'].agg(['min', 'max', 'median'])"
   ]
  },
  {
   "cell_type": "code",
   "execution_count": 7,
   "metadata": {},
   "outputs": [
    {
     "data": {
      "text/plain": [
       "<seaborn.axisgrid.FacetGrid at 0x2ad9a8636be0>"
      ]
     },
     "execution_count": 7,
     "metadata": {},
     "output_type": "execute_result"
    },
    {
     "data": {
      "image/png": "[encoded data removed]",
      "text/plain": [
       "<Figure size 360x360 with 1 Axes>"
      ]
     },
     "metadata": {},
     "output_type": "display_data"
    }
   ],
   "source": [
    "sns.displot(time_elapsed.t_minutes)"
   ]
  },
  {
   "cell_type": "markdown",
   "metadata": {},
   "source": [
    "Calculate bonuses:"
   ]
  },
  {
   "cell_type": "code",
   "execution_count": 8,
   "metadata": {},
   "outputs": [
    {
     "name": "stdout",
     "output_type": "stream",
     "text": [
      "(10, 2)\n"
     ]
    },
    {
     "data": {
      "text/html": [
       "<div>\n",
       "<style scoped>\n",
       "    .dataframe tbody tr th:only-of-type {\n",
       "        vertical-align: middle;\n",
       "    }\n",
       "\n",
       "    .dataframe tbody tr th {\n",
       "        vertical-align: top;\n",
       "    }\n",
       "\n",
       "    .dataframe thead th {\n",
       "        text-align: right;\n",
       "    }\n",
       "</style>\n",
       "<table border=\"1\" class=\"dataframe\">\n",
       "  <thead>\n",
       "    <tr style=\"text-align: right;\">\n",
       "      <th></th>\n",
       "      <th>worker</th>\n",
       "      <th>bonus</th>\n",
       "    </tr>\n",
       "  </thead>\n",
       "  <tbody>\n",
       "    <tr>\n",
       "      <th>0</th>\n",
       "      <td>A11Q8U6QTT8KGF</td>\n",
       "      <td>2.59</td>\n",
       "    </tr>\n",
       "    <tr>\n",
       "      <th>1</th>\n",
       "      <td>A1CFMY4CEYOM8Y</td>\n",
       "      <td>2.42</td>\n",
       "    </tr>\n",
       "    <tr>\n",
       "      <th>2</th>\n",
       "      <td>A1OYQLIDML0DPW</td>\n",
       "      <td>1.36</td>\n",
       "    </tr>\n",
       "    <tr>\n",
       "      <th>3</th>\n",
       "      <td>A1UTN872NUHB39</td>\n",
       "      <td>2.78</td>\n",
       "    </tr>\n",
       "    <tr>\n",
       "      <th>4</th>\n",
       "      <td>A2G43KS55YGYQE</td>\n",
       "      <td>2.34</td>\n",
       "    </tr>\n",
       "  </tbody>\n",
       "</table>\n",
       "</div>"
      ],
      "text/plain": [
       "           worker  bonus\n",
       "0  A11Q8U6QTT8KGF   2.59\n",
       "1  A1CFMY4CEYOM8Y   2.42\n",
       "2  A1OYQLIDML0DPW   1.36\n",
       "3  A1UTN872NUHB39   2.78\n",
       "4  A2G43KS55YGYQE   2.34"
      ]
     },
     "execution_count": 8,
     "metadata": {},
     "output_type": "execute_result"
    }
   ],
   "source": [
    "latest_batch = student_df.batch.unique()[-1]# process only for latest batch\n",
    "bonuses = (\n",
    "    student_df\n",
    "    [student_df.batch == latest_batch]\n",
    "    .groupby('worker')\n",
    "    .agg({'bonus': 'sum'})\n",
    "    .reset_index()\n",
    ")\n",
    "bonuses['bonus'] = np.round(bonuses.bonus, 2)\n",
    "print(bonuses.shape)\n",
    "bonuses.head()"
   ]
  },
  {
   "cell_type": "markdown",
   "metadata": {},
   "source": [
    "Calculate pay per hour:"
   ]
  },
  {
   "cell_type": "code",
   "execution_count": 9,
   "metadata": {},
   "outputs": [
    {
     "data": {
      "text/plain": [
       "min        4.444384\n",
       "max       17.428079\n",
       "median    10.642642\n",
       "Name: hourly_rate, dtype: float64"
      ]
     },
     "execution_count": 9,
     "metadata": {},
     "output_type": "execute_result"
    }
   ],
   "source": [
    "pay_per_hour = time_elapsed.merge(bonuses)\n",
    "pay_per_hour['total_pay'] = pay_per_hour['bonus']+2\n",
    "pay_per_hour['hourly_rate'] = pay_per_hour['total_pay']/(pay_per_hour['t_minutes']/60)\n",
    "pay_stats = pay_per_hour.hourly_rate.agg(['min', 'max', 'median'])\n",
    "pay_stats"
   ]
  },
  {
   "cell_type": "markdown",
   "metadata": {},
   "source": [
    "Adjust bonus payments to increase hourly rate:"
   ]
  },
  {
   "cell_type": "code",
   "execution_count": 10,
   "metadata": {},
   "outputs": [
    {
     "name": "stdout",
     "output_type": "stream",
     "text": [
      "Saving bonuses to: outputs/student_bonuses_2022-02-25-1021.csv\n"
     ]
    }
   ],
   "source": [
    "bonus_file = 'outputs/student_bonuses_%s.csv' % latest_batch\n",
    "print('Saving bonuses to: %s' % bonus_file)\n",
    "bonuses.to_csv(bonus_file, header=False, index=False)"
   ]
  },
  {
   "cell_type": "markdown",
   "metadata": {},
   "source": [
    "## Check assignments"
   ]
  },
  {
   "cell_type": "markdown",
   "metadata": {},
   "source": [
    "Load teacher data, for comparison:"
   ]
  },
  {
   "cell_type": "code",
   "execution_count": 11,
   "metadata": {},
   "outputs": [
    {
     "data": {
      "text/html": [
       "<div>\n",
       "<style scoped>\n",
       "    .dataframe tbody tr th:only-of-type {\n",
       "        vertical-align: middle;\n",
       "    }\n",
       "\n",
       "    .dataframe tbody tr th {\n",
       "        vertical-align: top;\n",
       "    }\n",
       "\n",
       "    .dataframe thead th {\n",
       "        text-align: right;\n",
       "    }\n",
       "</style>\n",
       "<table border=\"1\" class=\"dataframe\">\n",
       "  <thead>\n",
       "    <tr style=\"text-align: right;\">\n",
       "      <th></th>\n",
       "      <th>teacher</th>\n",
       "      <th>problem</th>\n",
       "    </tr>\n",
       "  </thead>\n",
       "  <tbody>\n",
       "    <tr>\n",
       "      <th>0</th>\n",
       "      <td>1</td>\n",
       "      <td>0</td>\n",
       "    </tr>\n",
       "    <tr>\n",
       "      <th>1</th>\n",
       "      <td>1</td>\n",
       "      <td>1</td>\n",
       "    </tr>\n",
       "    <tr>\n",
       "      <th>2</th>\n",
       "      <td>1</td>\n",
       "      <td>2</td>\n",
       "    </tr>\n",
       "    <tr>\n",
       "      <th>3</th>\n",
       "      <td>1</td>\n",
       "      <td>3</td>\n",
       "    </tr>\n",
       "    <tr>\n",
       "      <th>4</th>\n",
       "      <td>1</td>\n",
       "      <td>4</td>\n",
       "    </tr>\n",
       "    <tr>\n",
       "      <th>...</th>\n",
       "      <td>...</td>\n",
       "      <td>...</td>\n",
       "    </tr>\n",
       "    <tr>\n",
       "      <th>1114</th>\n",
       "      <td>30</td>\n",
       "      <td>35</td>\n",
       "    </tr>\n",
       "    <tr>\n",
       "      <th>1115</th>\n",
       "      <td>30</td>\n",
       "      <td>36</td>\n",
       "    </tr>\n",
       "    <tr>\n",
       "      <th>1116</th>\n",
       "      <td>30</td>\n",
       "      <td>37</td>\n",
       "    </tr>\n",
       "    <tr>\n",
       "      <th>1117</th>\n",
       "      <td>30</td>\n",
       "      <td>38</td>\n",
       "    </tr>\n",
       "    <tr>\n",
       "      <th>1118</th>\n",
       "      <td>30</td>\n",
       "      <td>39</td>\n",
       "    </tr>\n",
       "  </tbody>\n",
       "</table>\n",
       "<p>1111 rows × 2 columns</p>\n",
       "</div>"
      ],
      "text/plain": [
       "      teacher  problem\n",
       "0           1        0\n",
       "1           1        1\n",
       "2           1        2\n",
       "3           1        3\n",
       "4           1        4\n",
       "...       ...      ...\n",
       "1114       30       35\n",
       "1115       30       36\n",
       "1116       30       37\n",
       "1117       30       38\n",
       "1118       30       39\n",
       "\n",
       "[1111 rows x 2 columns]"
      ]
     },
     "execution_count": 11,
     "metadata": {},
     "output_type": "execute_result"
    }
   ],
   "source": [
    "# Exclude wiggly participants\n",
    "excluded = np.loadtxt('../1_preprocessing/outputs/excluded_participants.txt', dtype=str)\n",
    "excluded = [int_extract('(?<=sub-)[0-9]+', s) for s in excluded]\n",
    "\n",
    "# Clean up behavioral data\n",
    "teacher_df = pd.read_csv('../2_behavioral/outputs/teaching_behavior.csv')\n",
    "teacher_df = teacher_df[~teacher_df.subject.isin(excluded)]\n",
    "teacher_df = teacher_df.dropna(subset=['example'], axis=0)\n",
    "\n",
    "# Find teacher-problem pairings that were included in student task\n",
    "n_hints = teacher_df.groupby(['subject', 'problem'])['example'].agg('count').reset_index()\n",
    "valid_hints = (\n",
    "    n_hints\n",
    "    [n_hints.example > 1]\n",
    "    [['subject', 'problem']]\n",
    "    .rename(columns={'subject': 'teacher'})\n",
    ")\n",
    "valid_hints"
   ]
  },
  {
   "cell_type": "markdown",
   "metadata": {},
   "source": [
    "Was each participant assigned to unique order?"
   ]
  },
  {
   "cell_type": "code",
   "execution_count": 12,
   "metadata": {},
   "outputs": [
    {
     "ename": "AttributeError",
     "evalue": "'DataFrame' object has no attribute 'order'",
     "output_type": "error",
     "traceback": [
      "\u001b[0;31m---------------------------------------------------------------------------\u001b[0m",
      "\u001b[0;31mAttributeError\u001b[0m                            Traceback (most recent call last)",
      "\u001b[0;32m<ipython-input-12-91fc01a29b62>\u001b[0m in \u001b[0;36m<module>\u001b[0;34m\u001b[0m\n\u001b[0;32m----> 1\u001b[0;31m \u001b[0morders\u001b[0m \u001b[0;34m=\u001b[0m \u001b[0mstudent_df\u001b[0m\u001b[0;34m.\u001b[0m\u001b[0morder\u001b[0m\u001b[0;34m.\u001b[0m\u001b[0munique\u001b[0m\u001b[0;34m(\u001b[0m\u001b[0;34m)\u001b[0m\u001b[0;34m\u001b[0m\u001b[0;34m\u001b[0m\u001b[0m\n\u001b[0m\u001b[1;32m      2\u001b[0m \u001b[0morders\u001b[0m\u001b[0;34m.\u001b[0m\u001b[0msort\u001b[0m\u001b[0;34m(\u001b[0m\u001b[0;34m)\u001b[0m\u001b[0;34m\u001b[0m\u001b[0;34m\u001b[0m\u001b[0m\n\u001b[1;32m      3\u001b[0m \u001b[0morders\u001b[0m\u001b[0;34m\u001b[0m\u001b[0;34m\u001b[0m\u001b[0m\n",
      "\u001b[0;32m/n/sw/eb/apps/centos7/Anaconda3/2020.11/lib/python3.8/site-packages/pandas/core/generic.py\u001b[0m in \u001b[0;36m__getattr__\u001b[0;34m(self, name)\u001b[0m\n\u001b[1;32m   5137\u001b[0m             \u001b[0;32mif\u001b[0m \u001b[0mself\u001b[0m\u001b[0;34m.\u001b[0m\u001b[0m_info_axis\u001b[0m\u001b[0;34m.\u001b[0m\u001b[0m_can_hold_identifiers_and_holds_name\u001b[0m\u001b[0;34m(\u001b[0m\u001b[0mname\u001b[0m\u001b[0;34m)\u001b[0m\u001b[0;34m:\u001b[0m\u001b[0;34m\u001b[0m\u001b[0;34m\u001b[0m\u001b[0m\n\u001b[1;32m   5138\u001b[0m                 \u001b[0;32mreturn\u001b[0m \u001b[0mself\u001b[0m\u001b[0;34m[\u001b[0m\u001b[0mname\u001b[0m\u001b[0;34m]\u001b[0m\u001b[0;34m\u001b[0m\u001b[0;34m\u001b[0m\u001b[0m\n\u001b[0;32m-> 5139\u001b[0;31m             \u001b[0;32mreturn\u001b[0m \u001b[0mobject\u001b[0m\u001b[0;34m.\u001b[0m\u001b[0m__getattribute__\u001b[0m\u001b[0;34m(\u001b[0m\u001b[0mself\u001b[0m\u001b[0;34m,\u001b[0m \u001b[0mname\u001b[0m\u001b[0;34m)\u001b[0m\u001b[0;34m\u001b[0m\u001b[0;34m\u001b[0m\u001b[0m\n\u001b[0m\u001b[1;32m   5140\u001b[0m \u001b[0;34m\u001b[0m\u001b[0m\n\u001b[1;32m   5141\u001b[0m     \u001b[0;32mdef\u001b[0m \u001b[0m__setattr__\u001b[0m\u001b[0;34m(\u001b[0m\u001b[0mself\u001b[0m\u001b[0;34m,\u001b[0m \u001b[0mname\u001b[0m\u001b[0;34m:\u001b[0m \u001b[0mstr\u001b[0m\u001b[0;34m,\u001b[0m \u001b[0mvalue\u001b[0m\u001b[0;34m)\u001b[0m \u001b[0;34m->\u001b[0m \u001b[0;32mNone\u001b[0m\u001b[0;34m:\u001b[0m\u001b[0;34m\u001b[0m\u001b[0;34m\u001b[0m\u001b[0m\n",
      "\u001b[0;31mAttributeError\u001b[0m: 'DataFrame' object has no attribute 'order'"
     ]
    }
   ],
   "source": [
    "orders = student_df.order.unique()\n",
    "orders.sort()\n",
    "orders"
   ]
  },
  {
   "cell_type": "code",
   "execution_count": null,
   "metadata": {},
   "outputs": [],
   "source": [
    "assignments = student_df.groupby('order').agg({'worker': 'nunique'}).reset_index()\n",
    "np.all(assignments.worker == 1)"
   ]
  },
  {
   "cell_type": "code",
   "execution_count": null,
   "metadata": {},
   "outputs": [],
   "source": [
    "np.setdiff1d(np.arange(139), orders)"
   ]
  },
  {
   "cell_type": "markdown",
   "metadata": {},
   "source": [
    "How many ratings has each teacher received so far?"
   ]
  },
  {
   "cell_type": "code",
   "execution_count": null,
   "metadata": {},
   "outputs": [],
   "source": [
    "# Count # of students who have seen each teacher-problem pairing\n",
    "n_ratings = (\n",
    "    student_df\n",
    "    .groupby(['teacher', 'problem'])\n",
    "    .agg({'worker': 'nunique'})\n",
    "    .reset_index()\n",
    "    .rename(columns={'worker': 'students'})\n",
    ")\n",
    "n_ratings['teacher'] = n_ratings.teacher.apply(lambda s: int_extract('(?<=sub-)[0-9]+', s))\n",
    "n_ratings['problem'] = n_ratings.problem.astype(int)\n",
    "\n",
    "# Expand valid hints into a teacher x problem matrix\n",
    "hint_mtx = valid_hints.merge(n_ratings, how='left').fillna(0)\n",
    "hint_mtx = hint_mtx.pivot(index='problem', columns='teacher')"
   ]
  },
  {
   "cell_type": "code",
   "execution_count": null,
   "metadata": {},
   "outputs": [],
   "source": [
    "# Plot distribution\n",
    "fig,ax=plt.subplots(figsize=(16,16))\n",
    "sns.heatmap(hint_mtx, square=True, cbar=False, annot=True, cmap='viridis', ax=ax)\n",
    "xlabels = [item.get_text() for item in ax.get_xticklabels()]\n",
    "xlabels = [int_extract('(?<=students-)[0-9]+', x) for x in xlabels]\n",
    "ax.set(xlabel='Teacher', ylabel='Problem', xticklabels=xlabels)\n",
    "ax.xaxis.tick_top()\n",
    "ax.xaxis.set_label_position('top') "
   ]
  },
  {
   "cell_type": "markdown",
   "metadata": {},
   "source": [
    "How many unique teachers did each student see? "
   ]
  },
  {
   "cell_type": "code",
   "execution_count": null,
   "metadata": {},
   "outputs": [],
   "source": [
    "unique_teachers = student_df.groupby('worker').agg({'teacher': 'nunique'}).reset_index()\n",
    "g = sns.displot(unique_teachers.teacher, aspect=1.5)\n",
    "print(unique_teachers['teacher'].agg(['min', 'max', 'mean']))\n",
    "\n",
    "g.axes[0,0].set(xlabel='# Unique teachers per student')"
   ]
  },
  {
   "cell_type": "markdown",
   "metadata": {},
   "source": [
    "Check: How many problem-teacher combinations did we drop from the study?"
   ]
  },
  {
   "cell_type": "code",
   "execution_count": null,
   "metadata": {},
   "outputs": [],
   "source": [
    "dropped_hints = valid_hints.groupby('teacher').agg({'problem': 'nunique'}).reset_index()\n",
    "dropped_hints['dropped'] = 40 - dropped_hints.problem\n",
    "dropped_hints.groupby('dropped').agg({'teacher': 'nunique'})"
   ]
  },
  {
   "cell_type": "markdown",
   "metadata": {},
   "source": [
    "## Check survey responses"
   ]
  },
  {
   "cell_type": "markdown",
   "metadata": {},
   "source": [
    "Task descriptions:"
   ]
  },
  {
   "cell_type": "code",
   "execution_count": null,
   "metadata": {},
   "outputs": [],
   "source": [
    "task_descriptions = (\n",
    "    all_data\n",
    "    [all_data.trial_type == 'survey-text']\n",
    "    [['worker', 'response']]\n",
    ")\n",
    "task_descriptions['response'] = task_descriptions.response.apply(lambda r: r['Q0'])\n",
    "\n",
    "for _, row in task_descriptions.iterrows():\n",
    "    print('%s: \"%s\"\\n' % (row.worker, row.response))"
   ]
  },
  {
   "cell_type": "markdown",
   "metadata": {},
   "source": [
    "Worker feedback:"
   ]
  },
  {
   "cell_type": "code",
   "execution_count": null,
   "metadata": {},
   "outputs": [],
   "source": [
    "posttest = (\n",
    "    all_data\n",
    "    [all_data.trial_type == 'post-survey']\n",
    "    .dropna(axis=1, how='all')\n",
    ")\n",
    "posttest.head()"
   ]
  }
 ],
 "metadata": {
  "kernelspec": {
   "display_name": "Python 3",
   "language": "python",
   "name": "python3"
  },
  "language_info": {
   "codemirror_mode": {
    "name": "ipython",
    "version": 3
   },
   "file_extension": ".py",
   "mimetype": "text/x-python",
   "name": "python",
   "nbconvert_exporter": "python",
   "pygments_lexer": "ipython3",
   "version": "3.8.5"
  }
 },
 "nbformat": 4,
 "nbformat_minor": 5
}
