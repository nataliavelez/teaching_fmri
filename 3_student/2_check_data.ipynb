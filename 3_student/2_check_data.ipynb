{
 "cells": [
  {
   "cell_type": "markdown",
   "metadata": {},
   "source": [
    "# Checking the data\n",
    "Natalia Vélez, February 2022"
   ]
  },
  {
   "cell_type": "code",
   "execution_count": 1,
   "metadata": {},
   "outputs": [],
   "source": [
    "%matplotlib inline\n",
    "import sys\n",
    "import pandas as pd\n",
    "import numpy as np\n",
    "import matplotlib.pyplot as plt\n",
    "import seaborn as sns\n",
    "\n",
    "sys.path.append('..')\n",
    "from utils import gsearch, read_json, str_extract, int_extract\n",
    "\n",
    "sns.set_context('talk')\n",
    "sns.set_style('white')"
   ]
  },
  {
   "cell_type": "markdown",
   "metadata": {},
   "source": [
    "## Data wrangling"
   ]
  },
  {
   "cell_type": "markdown",
   "metadata": {},
   "source": [
    "Load data from main trials"
   ]
  },
  {
   "cell_type": "code",
   "execution_count": 2,
   "metadata": {},
   "outputs": [
    {
     "name": "stdout",
     "output_type": "stream",
     "text": [
      "Found 5 batches of data\n",
      "inputs/student_data_2022-02-02-1303.json\n",
      "inputs/student_data_2022-02-15-1328.json\n",
      "inputs/student_data_2022-02-15-2034.json\n",
      "inputs/student_data_2022-02-16-1639.json\n",
      "inputs/student_data_2022-02-25-1021.json\n"
     ]
    }
   ],
   "source": [
    "data_files = gsearch('inputs/student_data*.json')\n",
    "data_files.sort()\n",
    "print('Found %i batches of data' % len(data_files))\n",
    "print(*data_files, sep='\\n')"
   ]
  },
  {
   "cell_type": "code",
   "execution_count": 3,
   "metadata": {},
   "outputs": [
    {
     "name": "stdout",
     "output_type": "stream",
     "text": [
      "Processing batch: 2022-02-02-1303\n",
      "20 participants found\n",
      "dict_keys(['worker', 'assignment', 'hit', 'version', 'cond', 'problem_order', 'data', 'timestamp'])\n",
      "Processing batch: 2022-02-15-1328\n",
      "20 participants found\n",
      "dict_keys(['worker', 'assignment', 'hit', 'version', 'cond', 'problem_order', 'data', 'timestamp'])\n",
      "Processing batch: 2022-02-15-2034\n",
      "80 participants found\n",
      "dict_keys(['worker', 'assignment', 'hit', 'version', 'cond', 'problem_order', 'data', 'timestamp'])\n",
      "Processing batch: 2022-02-16-1639\n",
      "110 participants found\n",
      "dict_keys(['worker', 'assignment', 'hit', 'version', 'cond', 'problem_order', 'data', 'timestamp'])\n",
      "Processing batch: 2022-02-25-1021\n",
      "120 participants found\n",
      "dict_keys(['worker', 'assignment', 'hit', 'version', 'cond', 'problem_order', 'data', 'timestamp'])\n",
      "(16150, 10)\n"
     ]
    },
    {
     "data": {
      "text/html": [
       "<div>\n",
       "<style scoped>\n",
       "    .dataframe tbody tr th:only-of-type {\n",
       "        vertical-align: middle;\n",
       "    }\n",
       "\n",
       "    .dataframe tbody tr th {\n",
       "        vertical-align: top;\n",
       "    }\n",
       "\n",
       "    .dataframe thead th {\n",
       "        text-align: right;\n",
       "    }\n",
       "</style>\n",
       "<table border=\"1\" class=\"dataframe\">\n",
       "  <thead>\n",
       "    <tr style=\"text-align: right;\">\n",
       "      <th></th>\n",
       "      <th>time_elapsed</th>\n",
       "      <th>teacher</th>\n",
       "      <th>problem</th>\n",
       "      <th>num_trial</th>\n",
       "      <th>num_hint</th>\n",
       "      <th>bets</th>\n",
       "      <th>bonus</th>\n",
       "      <th>worker</th>\n",
       "      <th>order</th>\n",
       "      <th>batch</th>\n",
       "    </tr>\n",
       "  </thead>\n",
       "  <tbody>\n",
       "    <tr>\n",
       "      <th>22</th>\n",
       "      <td>181304</td>\n",
       "      <td>sub-04</td>\n",
       "      <td>34</td>\n",
       "      <td>0.0</td>\n",
       "      <td>0.0</td>\n",
       "      <td>[0, 35, 41, 48]</td>\n",
       "      <td>0.013777</td>\n",
       "      <td>ARI1EMAHUA9PO</td>\n",
       "      <td>0</td>\n",
       "      <td>2022-02-02-1303</td>\n",
       "    </tr>\n",
       "    <tr>\n",
       "      <th>23</th>\n",
       "      <td>192911</td>\n",
       "      <td>sub-04</td>\n",
       "      <td>34</td>\n",
       "      <td>0.0</td>\n",
       "      <td>1.0</td>\n",
       "      <td>[0, 50, 49, 0]</td>\n",
       "      <td>0.020623</td>\n",
       "      <td>ARI1EMAHUA9PO</td>\n",
       "      <td>0</td>\n",
       "      <td>2022-02-02-1303</td>\n",
       "    </tr>\n",
       "    <tr>\n",
       "      <th>24</th>\n",
       "      <td>203582</td>\n",
       "      <td>sub-04</td>\n",
       "      <td>34</td>\n",
       "      <td>0.0</td>\n",
       "      <td>2.0</td>\n",
       "      <td>[0, 0, 100, 0]</td>\n",
       "      <td>0.041667</td>\n",
       "      <td>ARI1EMAHUA9PO</td>\n",
       "      <td>0</td>\n",
       "      <td>2022-02-02-1303</td>\n",
       "    </tr>\n",
       "    <tr>\n",
       "      <th>26</th>\n",
       "      <td>223655</td>\n",
       "      <td>sub-27</td>\n",
       "      <td>15</td>\n",
       "      <td>1.0</td>\n",
       "      <td>0.0</td>\n",
       "      <td>[0, 52, 50, 48]</td>\n",
       "      <td>0.014444</td>\n",
       "      <td>ARI1EMAHUA9PO</td>\n",
       "      <td>0</td>\n",
       "      <td>2022-02-02-1303</td>\n",
       "    </tr>\n",
       "    <tr>\n",
       "      <th>27</th>\n",
       "      <td>232054</td>\n",
       "      <td>sub-27</td>\n",
       "      <td>15</td>\n",
       "      <td>1.0</td>\n",
       "      <td>1.0</td>\n",
       "      <td>[0, 52, 50, 0]</td>\n",
       "      <td>0.021242</td>\n",
       "      <td>ARI1EMAHUA9PO</td>\n",
       "      <td>0</td>\n",
       "      <td>2022-02-02-1303</td>\n",
       "    </tr>\n",
       "  </tbody>\n",
       "</table>\n",
       "</div>"
      ],
      "text/plain": [
       "    time_elapsed teacher problem  num_trial  num_hint             bets  \\\n",
       "22        181304  sub-04      34        0.0       0.0  [0, 35, 41, 48]   \n",
       "23        192911  sub-04      34        0.0       1.0   [0, 50, 49, 0]   \n",
       "24        203582  sub-04      34        0.0       2.0   [0, 0, 100, 0]   \n",
       "26        223655  sub-27      15        1.0       0.0  [0, 52, 50, 48]   \n",
       "27        232054  sub-27      15        1.0       1.0   [0, 52, 50, 0]   \n",
       "\n",
       "       bonus         worker  order            batch  \n",
       "22  0.013777  ARI1EMAHUA9PO      0  2022-02-02-1303  \n",
       "23  0.020623  ARI1EMAHUA9PO      0  2022-02-02-1303  \n",
       "24  0.041667  ARI1EMAHUA9PO      0  2022-02-02-1303  \n",
       "26  0.014444  ARI1EMAHUA9PO      0  2022-02-02-1303  \n",
       "27  0.021242  ARI1EMAHUA9PO      0  2022-02-02-1303  "
      ]
     },
     "execution_count": 3,
     "metadata": {},
     "output_type": "execute_result"
    }
   ],
   "source": [
    "student_list = []\n",
    "time_list = []\n",
    "processed_workers = []\n",
    "\n",
    "for f in data_files:\n",
    "    batch = str_extract('[0-9]{4}-[0-9]{2}-[0-9]{2}-[0-9]{4}', f)\n",
    "    print('Processing batch: %s' % batch)\n",
    "    student_json = read_json(f)\n",
    "    \n",
    "    print('%i participants found' % len(student_json))\n",
    "    print(student_json[0].keys())\n",
    "    \n",
    "    for stud in student_json:\n",
    "        worker_id = stud['worker']\n",
    "        \n",
    "        if worker_id not in processed_workers:\n",
    "            order = stud['cond']\n",
    "            data = pd.DataFrame(stud['data'])\n",
    "            data['worker'] = worker_id\n",
    "            data['order'] = order\n",
    "            data['batch'] = batch\n",
    "            time = data.iloc[-1]['time_elapsed']\n",
    "\n",
    "            student_list.append(data)\n",
    "            time_list.append((batch, worker_id, time))\n",
    "            processed_workers.append(worker_id)\n",
    "\n",
    "all_data = pd.concat(student_list).drop(columns=['trial_index', 'internal_node_id'])\n",
    "\n",
    "student_df = all_data[all_data.trial_type == 'student-bet']\n",
    "student_df = student_df.dropna(how='all', axis=1).drop(columns=['trial_type'])\n",
    "student_df.to_csv('outputs/student_behavior.csv', index=False)\n",
    "\n",
    "print(student_df.shape)\n",
    "student_df.head()"
   ]
  },
  {
   "cell_type": "markdown",
   "metadata": {},
   "source": [
    "Sanity check: Do all students belong to exactly one batch?"
   ]
  },
  {
   "cell_type": "code",
   "execution_count": 4,
   "metadata": {},
   "outputs": [
    {
     "name": "stdout",
     "output_type": "stream",
     "text": [
      "True\n"
     ]
    }
   ],
   "source": [
    "batches_per_student = student_df.groupby(['worker']).agg({'batch': 'nunique'})\n",
    "print(np.all(batches_per_student.batch == 1))"
   ]
  },
  {
   "cell_type": "markdown",
   "metadata": {},
   "source": [
    "Sanity check: How many students per batch?"
   ]
  },
  {
   "cell_type": "code",
   "execution_count": 5,
   "metadata": {},
   "outputs": [
    {
     "data": {
      "text/plain": [
       "0    20\n",
       "1    20\n",
       "2    60\n",
       "3    30\n",
       "4    10\n",
       "Name: worker, dtype: int64"
      ]
     },
     "execution_count": 5,
     "metadata": {},
     "output_type": "execute_result"
    }
   ],
   "source": [
    "student_df.groupby('batch').agg({'worker': 'nunique'}).reset_index().worker"
   ]
  },
  {
   "cell_type": "markdown",
   "metadata": {},
   "source": [
    "## Calculate bonuses"
   ]
  },
  {
   "cell_type": "markdown",
   "metadata": {},
   "source": [
    "Calculate total time:"
   ]
  },
  {
   "cell_type": "code",
   "execution_count": 6,
   "metadata": {},
   "outputs": [
    {
     "data": {
      "text/plain": [
       "min       10.513533\n",
       "max       96.065400\n",
       "median    24.790617\n",
       "Name: t_minutes, dtype: float64"
      ]
     },
     "execution_count": 6,
     "metadata": {},
     "output_type": "execute_result"
    }
   ],
   "source": [
    "time_elapsed = pd.DataFrame(time_list, columns=['batch', 'worker', 'time_elapsed'])\n",
    "time_elapsed['t_minutes'] = time_elapsed['time_elapsed']/1000/60\n",
    "time_elapsed['t_minutes'].agg(['min', 'max', 'median'])"
   ]
  },
  {
   "cell_type": "code",
   "execution_count": 7,
   "metadata": {},
   "outputs": [
    {
     "data": {
      "text/plain": [
       "<seaborn.axisgrid.FacetGrid at 0x2ae30c8734c0>"
      ]
     },
     "execution_count": 7,
     "metadata": {},
     "output_type": "execute_result"
    },
    {
     "data": {
      "image/png": "[encoded data removed]",
      "text/plain": [
       "<Figure size 360x360 with 1 Axes>"
      ]
     },
     "metadata": {},
     "output_type": "display_data"
    }
   ],
   "source": [
    "sns.displot(time_elapsed.t_minutes)"
   ]
  },
  {
   "cell_type": "markdown",
   "metadata": {},
   "source": [
    "Calculate bonuses:"
   ]
  },
  {
   "cell_type": "code",
   "execution_count": 8,
   "metadata": {},
   "outputs": [
    {
     "name": "stdout",
     "output_type": "stream",
     "text": [
      "(10, 2)\n"
     ]
    },
    {
     "data": {
      "text/html": [
       "<div>\n",
       "<style scoped>\n",
       "    .dataframe tbody tr th:only-of-type {\n",
       "        vertical-align: middle;\n",
       "    }\n",
       "\n",
       "    .dataframe tbody tr th {\n",
       "        vertical-align: top;\n",
       "    }\n",
       "\n",
       "    .dataframe thead th {\n",
       "        text-align: right;\n",
       "    }\n",
       "</style>\n",
       "<table border=\"1\" class=\"dataframe\">\n",
       "  <thead>\n",
       "    <tr style=\"text-align: right;\">\n",
       "      <th></th>\n",
       "      <th>worker</th>\n",
       "      <th>bonus</th>\n",
       "    </tr>\n",
       "  </thead>\n",
       "  <tbody>\n",
       "    <tr>\n",
       "      <th>0</th>\n",
       "      <td>A11Q8U6QTT8KGF</td>\n",
       "      <td>2.59</td>\n",
       "    </tr>\n",
       "    <tr>\n",
       "      <th>1</th>\n",
       "      <td>A1CFMY4CEYOM8Y</td>\n",
       "      <td>2.42</td>\n",
       "    </tr>\n",
       "    <tr>\n",
       "      <th>2</th>\n",
       "      <td>A1OYQLIDML0DPW</td>\n",
       "      <td>1.36</td>\n",
       "    </tr>\n",
       "    <tr>\n",
       "      <th>3</th>\n",
       "      <td>A1UTN872NUHB39</td>\n",
       "      <td>2.78</td>\n",
       "    </tr>\n",
       "    <tr>\n",
       "      <th>4</th>\n",
       "      <td>A2G43KS55YGYQE</td>\n",
       "      <td>2.34</td>\n",
       "    </tr>\n",
       "  </tbody>\n",
       "</table>\n",
       "</div>"
      ],
      "text/plain": [
       "           worker  bonus\n",
       "0  A11Q8U6QTT8KGF   2.59\n",
       "1  A1CFMY4CEYOM8Y   2.42\n",
       "2  A1OYQLIDML0DPW   1.36\n",
       "3  A1UTN872NUHB39   2.78\n",
       "4  A2G43KS55YGYQE   2.34"
      ]
     },
     "execution_count": 8,
     "metadata": {},
     "output_type": "execute_result"
    }
   ],
   "source": [
    "latest_batch = student_df.batch.unique()[-1]# process only for latest batch\n",
    "bonuses = (\n",
    "    student_df\n",
    "    [student_df.batch == latest_batch]\n",
    "    .groupby('worker')\n",
    "    .agg({'bonus': 'sum'})\n",
    "    .reset_index()\n",
    ")\n",
    "bonuses['bonus'] = np.round(bonuses.bonus, 2)\n",
    "print(bonuses.shape)\n",
    "bonuses.head()"
   ]
  },
  {
   "cell_type": "markdown",
   "metadata": {},
   "source": [
    "Calculate pay per hour:"
   ]
  },
  {
   "cell_type": "code",
   "execution_count": 9,
   "metadata": {},
   "outputs": [
    {
     "data": {
      "text/plain": [
       "min        4.444384\n",
       "max       17.428079\n",
       "median    10.642642\n",
       "Name: hourly_rate, dtype: float64"
      ]
     },
     "execution_count": 9,
     "metadata": {},
     "output_type": "execute_result"
    }
   ],
   "source": [
    "pay_per_hour = time_elapsed.merge(bonuses)\n",
    "pay_per_hour['total_pay'] = pay_per_hour['bonus']+2\n",
    "pay_per_hour['hourly_rate'] = pay_per_hour['total_pay']/(pay_per_hour['t_minutes']/60)\n",
    "pay_stats = pay_per_hour.hourly_rate.agg(['min', 'max', 'median'])\n",
    "pay_stats"
   ]
  },
  {
   "cell_type": "markdown",
   "metadata": {},
   "source": [
    "Adjust bonus payments to increase hourly rate:"
   ]
  },
  {
   "cell_type": "code",
   "execution_count": 10,
   "metadata": {},
   "outputs": [
    {
     "name": "stdout",
     "output_type": "stream",
     "text": [
      "Saving bonuses to: outputs/student_bonuses_2022-02-25-1021.csv\n"
     ]
    }
   ],
   "source": [
    "bonus_file = 'outputs/student_bonuses_%s.csv' % latest_batch\n",
    "print('Saving bonuses to: %s' % bonus_file)\n",
    "bonuses.to_csv(bonus_file, header=False, index=False)"
   ]
  },
  {
   "cell_type": "markdown",
   "metadata": {},
   "source": [
    "## Check assignments"
   ]
  },
  {
   "cell_type": "markdown",
   "metadata": {},
   "source": [
    "Load teacher data, for comparison:"
   ]
  },
  {
   "cell_type": "code",
   "execution_count": 11,
   "metadata": {},
   "outputs": [
    {
     "data": {
      "text/html": [
       "<div>\n",
       "<style scoped>\n",
       "    .dataframe tbody tr th:only-of-type {\n",
       "        vertical-align: middle;\n",
       "    }\n",
       "\n",
       "    .dataframe tbody tr th {\n",
       "        vertical-align: top;\n",
       "    }\n",
       "\n",
       "    .dataframe thead th {\n",
       "        text-align: right;\n",
       "    }\n",
       "</style>\n",
       "<table border=\"1\" class=\"dataframe\">\n",
       "  <thead>\n",
       "    <tr style=\"text-align: right;\">\n",
       "      <th></th>\n",
       "      <th>teacher</th>\n",
       "      <th>problem</th>\n",
       "    </tr>\n",
       "  </thead>\n",
       "  <tbody>\n",
       "    <tr>\n",
       "      <th>0</th>\n",
       "      <td>1</td>\n",
       "      <td>0</td>\n",
       "    </tr>\n",
       "    <tr>\n",
       "      <th>1</th>\n",
       "      <td>1</td>\n",
       "      <td>1</td>\n",
       "    </tr>\n",
       "    <tr>\n",
       "      <th>2</th>\n",
       "      <td>1</td>\n",
       "      <td>2</td>\n",
       "    </tr>\n",
       "    <tr>\n",
       "      <th>3</th>\n",
       "      <td>1</td>\n",
       "      <td>3</td>\n",
       "    </tr>\n",
       "    <tr>\n",
       "      <th>4</th>\n",
       "      <td>1</td>\n",
       "      <td>4</td>\n",
       "    </tr>\n",
       "    <tr>\n",
       "      <th>...</th>\n",
       "      <td>...</td>\n",
       "      <td>...</td>\n",
       "    </tr>\n",
       "    <tr>\n",
       "      <th>1114</th>\n",
       "      <td>30</td>\n",
       "      <td>35</td>\n",
       "    </tr>\n",
       "    <tr>\n",
       "      <th>1115</th>\n",
       "      <td>30</td>\n",
       "      <td>36</td>\n",
       "    </tr>\n",
       "    <tr>\n",
       "      <th>1116</th>\n",
       "      <td>30</td>\n",
       "      <td>37</td>\n",
       "    </tr>\n",
       "    <tr>\n",
       "      <th>1117</th>\n",
       "      <td>30</td>\n",
       "      <td>38</td>\n",
       "    </tr>\n",
       "    <tr>\n",
       "      <th>1118</th>\n",
       "      <td>30</td>\n",
       "      <td>39</td>\n",
       "    </tr>\n",
       "  </tbody>\n",
       "</table>\n",
       "<p>1111 rows × 2 columns</p>\n",
       "</div>"
      ],
      "text/plain": [
       "      teacher  problem\n",
       "0           1        0\n",
       "1           1        1\n",
       "2           1        2\n",
       "3           1        3\n",
       "4           1        4\n",
       "...       ...      ...\n",
       "1114       30       35\n",
       "1115       30       36\n",
       "1116       30       37\n",
       "1117       30       38\n",
       "1118       30       39\n",
       "\n",
       "[1111 rows x 2 columns]"
      ]
     },
     "execution_count": 11,
     "metadata": {},
     "output_type": "execute_result"
    }
   ],
   "source": [
    "# Exclude wiggly participants\n",
    "excluded = np.loadtxt('../1_preprocessing/outputs/excluded_participants.txt', dtype=str)\n",
    "excluded = [int_extract('(?<=sub-)[0-9]+', s) for s in excluded]\n",
    "\n",
    "# Clean up behavioral data\n",
    "teacher_df = pd.read_csv('../2_behavioral/outputs/teaching_behavior.csv')\n",
    "teacher_df = teacher_df[~teacher_df.subject.isin(excluded)]\n",
    "teacher_df = teacher_df.dropna(subset=['example'], axis=0)\n",
    "\n",
    "# Find teacher-problem pairings that were included in student task\n",
    "n_hints = teacher_df.groupby(['subject', 'problem'])['example'].agg('count').reset_index()\n",
    "valid_hints = (\n",
    "    n_hints\n",
    "    [n_hints.example > 1]\n",
    "    [['subject', 'problem']]\n",
    "    .rename(columns={'subject': 'teacher'})\n",
    ")\n",
    "valid_hints"
   ]
  },
  {
   "cell_type": "markdown",
   "metadata": {},
   "source": [
    "Was each participant assigned to unique order?"
   ]
  },
  {
   "cell_type": "code",
   "execution_count": 12,
   "metadata": {},
   "outputs": [
    {
     "data": {
      "text/plain": [
       "array([  0,   1,   2,   3,   4,   5,   6,   7,   8,   9,  10,  11,  12,\n",
       "        13,  14,  15,  16,  17,  18,  19,  20,  21,  22,  23,  24,  25,\n",
       "        26,  27,  28,  29,  30,  31,  32,  33,  34,  35,  36,  37,  38,\n",
       "        39,  40,  41,  42,  43,  44,  45,  46,  47,  48,  49,  50,  51,\n",
       "        52,  53,  54,  55,  56,  57,  58,  59,  60,  61,  62,  63,  64,\n",
       "        65,  66,  67,  68,  69,  70,  71,  72,  73,  74,  75,  76,  77,\n",
       "        78,  79,  80,  81,  82,  83,  84,  85,  86,  87,  88,  89,  90,\n",
       "        91,  92,  93,  94,  95,  96,  97,  98,  99, 100, 101, 102, 103,\n",
       "       104, 105, 106, 107, 108, 109, 110, 111, 112, 113, 114, 115, 116,\n",
       "       117, 118, 119, 120, 121, 122, 123, 124, 125, 126, 127, 128, 129,\n",
       "       130, 131, 132, 133, 134, 135, 136, 137, 138, 139])"
      ]
     },
     "execution_count": 12,
     "metadata": {},
     "output_type": "execute_result"
    }
   ],
   "source": [
    "orders = student_df.order.unique()\n",
    "orders.sort()\n",
    "orders"
   ]
  },
  {
   "cell_type": "code",
   "execution_count": 13,
   "metadata": {},
   "outputs": [
    {
     "data": {
      "text/plain": [
       "True"
      ]
     },
     "execution_count": 13,
     "metadata": {},
     "output_type": "execute_result"
    }
   ],
   "source": [
    "assignments = student_df.groupby('order').agg({'worker': 'nunique'}).reset_index()\n",
    "np.all(assignments.worker == 1)"
   ]
  },
  {
   "cell_type": "code",
   "execution_count": 14,
   "metadata": {},
   "outputs": [
    {
     "data": {
      "text/plain": [
       "array([], dtype=int64)"
      ]
     },
     "execution_count": 14,
     "metadata": {},
     "output_type": "execute_result"
    }
   ],
   "source": [
    "np.setdiff1d(np.arange(139), orders)"
   ]
  },
  {
   "cell_type": "markdown",
   "metadata": {},
   "source": [
    "How many ratings has each teacher received so far?"
   ]
  },
  {
   "cell_type": "code",
   "execution_count": 15,
   "metadata": {},
   "outputs": [],
   "source": [
    "# Count # of students who have seen each teacher-problem pairing\n",
    "n_ratings = (\n",
    "    student_df\n",
    "    .groupby(['teacher', 'problem'])\n",
    "    .agg({'worker': 'nunique'})\n",
    "    .reset_index()\n",
    "    .rename(columns={'worker': 'students'})\n",
    ")\n",
    "n_ratings['teacher'] = n_ratings.teacher.apply(lambda s: int_extract('(?<=sub-)[0-9]+', s))\n",
    "n_ratings['problem'] = n_ratings.problem.astype(int)\n",
    "\n",
    "# Expand valid hints into a teacher x problem matrix\n",
    "hint_mtx = valid_hints.merge(n_ratings, how='left').fillna(0)\n",
    "hint_mtx = hint_mtx.pivot(index='problem', columns='teacher')"
   ]
  },
  {
   "cell_type": "code",
   "execution_count": 16,
   "metadata": {},
   "outputs": [
    {
     "data": {
      "image/png": "[encoded data removed]",
      "text/plain": [
       "<Figure size 1152x1152 with 1 Axes>"
      ]
     },
     "metadata": {},
     "output_type": "display_data"
    }
   ],
   "source": [
    "# Plot distribution\n",
    "fig,ax=plt.subplots(figsize=(16,16))\n",
    "sns.heatmap(hint_mtx, square=True, cbar=False, annot=True, cmap='viridis', ax=ax)\n",
    "xlabels = [item.get_text() for item in ax.get_xticklabels()]\n",
    "xlabels = [int_extract('(?<=students-)[0-9]+', x) for x in xlabels]\n",
    "ax.set(xlabel='Teacher', ylabel='Problem', xticklabels=xlabels)\n",
    "ax.xaxis.tick_top()\n",
    "ax.xaxis.set_label_position('top') "
   ]
  },
  {
   "cell_type": "markdown",
   "metadata": {},
   "source": [
    "How many unique teachers did each student see? "
   ]
  },
  {
   "cell_type": "code",
   "execution_count": 22,
   "metadata": {},
   "outputs": [
    {
     "name": "stdout",
     "output_type": "stream",
     "text": [
      "min     23.000000\n",
      "max     28.000000\n",
      "mean    27.771429\n",
      "Name: teacher, dtype: float64\n"
     ]
    },
    {
     "data": {
      "text/plain": [
       "[Text(0.5, 15.439999999999998, '# Unique teachers per student')]"
      ]
     },
     "execution_count": 22,
     "metadata": {},
     "output_type": "execute_result"
    },
    {
     "data": {
      "image/png": "[encoded data removed]",
      "text/plain": [
       "<Figure size 540x360 with 1 Axes>"
      ]
     },
     "metadata": {},
     "output_type": "display_data"
    }
   ],
   "source": [
    "unique_teachers = student_df.groupby('worker').agg({'teacher': 'nunique'}).reset_index()\n",
    "g = sns.displot(unique_teachers.teacher, aspect=1.5)\n",
    "print(unique_teachers['teacher'].agg(['min', 'max', 'mean']))\n",
    "\n",
    "g.axes[0,0].set(xlabel='# Unique teachers per student')"
   ]
  },
  {
   "cell_type": "markdown",
   "metadata": {},
   "source": [
    "Check: How many problem-teacher combinations did we drop from the study?"
   ]
  },
  {
   "cell_type": "code",
   "execution_count": 18,
   "metadata": {},
   "outputs": [
    {
     "data": {
      "text/html": [
       "<div>\n",
       "<style scoped>\n",
       "    .dataframe tbody tr th:only-of-type {\n",
       "        vertical-align: middle;\n",
       "    }\n",
       "\n",
       "    .dataframe tbody tr th {\n",
       "        vertical-align: top;\n",
       "    }\n",
       "\n",
       "    .dataframe thead th {\n",
       "        text-align: right;\n",
       "    }\n",
       "</style>\n",
       "<table border=\"1\" class=\"dataframe\">\n",
       "  <thead>\n",
       "    <tr style=\"text-align: right;\">\n",
       "      <th></th>\n",
       "      <th>teacher</th>\n",
       "    </tr>\n",
       "    <tr>\n",
       "      <th>dropped</th>\n",
       "      <th></th>\n",
       "    </tr>\n",
       "  </thead>\n",
       "  <tbody>\n",
       "    <tr>\n",
       "      <th>0</th>\n",
       "      <td>20</td>\n",
       "    </tr>\n",
       "    <tr>\n",
       "      <th>1</th>\n",
       "      <td>7</td>\n",
       "    </tr>\n",
       "    <tr>\n",
       "      <th>2</th>\n",
       "      <td>1</td>\n",
       "    </tr>\n",
       "  </tbody>\n",
       "</table>\n",
       "</div>"
      ],
      "text/plain": [
       "         teacher\n",
       "dropped         \n",
       "0             20\n",
       "1              7\n",
       "2              1"
      ]
     },
     "execution_count": 18,
     "metadata": {},
     "output_type": "execute_result"
    }
   ],
   "source": [
    "dropped_hints = valid_hints.groupby('teacher').agg({'problem': 'nunique'}).reset_index()\n",
    "dropped_hints['dropped'] = 40 - dropped_hints.problem\n",
    "dropped_hints.groupby('dropped').agg({'teacher': 'nunique'})"
   ]
  },
  {
   "cell_type": "markdown",
   "metadata": {},
   "source": [
    "## Check survey responses"
   ]
  },
  {
   "cell_type": "markdown",
   "metadata": {},
   "source": [
    "Task descriptions:"
   ]
  },
  {
   "cell_type": "code",
   "execution_count": 19,
   "metadata": {},
   "outputs": [
    {
     "name": "stdout",
     "output_type": "stream",
     "text": [
      "ARI1EMAHUA9PO: \"making bets on which of 4 choices was described via block placement in hints\"\n",
      "\n",
      "A1VFOKKVJ7B9D6: \"I was given hints to solve a puzzle and bet on the options that were given below.\"\n",
      "\n",
      "A2I4PRZ9IZMKON: \"I had to try to guess which pattern was correct. I was given hints one square at a time from former participants.\"\n",
      "\n",
      "A34EHWOYRBL6OZ: \"I had to place bets on the most likely answer based on hints I was given by a person in an earlier version of the HIT\"\n",
      "\n",
      "A3OZ8KF0HWSVWK: \"Making bets on squares with filled in clues \"\n",
      "\n",
      "A2QTL039A5VV3I: \"Trying to use patterns from previous contestants to see which answer they got. Getting the correct answer and betting the most led to the most bonus\"\n",
      "\n",
      "A35S5YV2XL971J: \"It was really good to improve the concentration nd thinking power. It was a great hit.\"\n",
      "\n",
      "A3E8SXH0BAYG85: \"I was to make bets on which grid was correct. I was given hits to help with this process. There were 4 total grids on each round.\"\n",
      "\n",
      "A2A1FS0KVLJ9ZT: \"I had to play a game based on hints from a teacher. I was able to get a bonus from it. I don't know what else to say.\"\n",
      "\n",
      "A11F3MA5FWH6SJ: \"There are 4 puzzles with sliders at the bottom. I am deciding between the 4 which one I am choosing and earning a bonus based on how correct I am.\"\n",
      "\n",
      "A1JJYY622DGE5L: \"I took hints from a teacher to select the correct answer. The hints were boxes on a grid.\"\n",
      "\n",
      "A28CY58XWW8D5K: \"I used hints given by a \"teacher\" to help me bet on which answer was correct to a 40 different problems. They involved black and white squares in a grid.\"\n",
      "\n",
      "A31XT6RPLN6359: \"I got hints from teachers and tried to place bets on which answer I thought was the one they were trying to tell me was correct.\"\n",
      "\n",
      "A3J2UG22S8BIW4: \"I received hints on how to answer a multiple choice question. Each turn, a new hint was given which guided my guesses.\"\n",
      "\n",
      "AVFMTS8A5R4XK: \"Find correct object in 3 steps\"\n",
      "\n",
      "AEQAI1QN1YZG1: \"the hit was bet the places from the given hint\"\n",
      "\n",
      "A36GU3OHGLDS8R: \"I got hints about a puzzle and had to place bets on what I thought was the right answer.\"\n",
      "\n",
      "A3CH1Z6J9R38G9: \"guessing the right picture based on which squares are lit up\"\n",
      "\n",
      "ADP4KXZZ72DP: \"Selecting the best answer from hints given about how the grid is filled, and bet on that answer.\"\n",
      "\n",
      "A2JTOOVOQGRI6G: \"excellent\"\n",
      "\n",
      "A2EA2PN47ZWILX: \"This HIT requires you to follow hints given by previous players in order to guess which answer could be correct and place a bet on which you think is most likely the answer.\"\n",
      "\n",
      "A2M183CETUMR96: \"I got hints from another player and placed bets on which answer I thought was right.\"\n",
      "\n",
      "A27VK38SRSSHV3: \"Based on hints to select the most likely option\"\n",
      "\n",
      "A2T675UCHNTSSW: \"I followed clues by a previous player and bet 100 \"chips\" among 4 puzzle options as to which was the correct answer.\"\n",
      "\n",
      "A2Y87M8V0N1M6P: \"Out of 4 options, I was supposed to rate the likelihood of which one was the correct pattern. I was given one hint three times and used a sliding scale. I was able to earn money on the accuracy of my guesses.\"\n",
      "\n",
      "A2ONILC0LZKG6Y: \"I saw a grid with a few boxes filled in as \"hints\" and had to try to pick which of the 4 possible images the hinters were trying to reveal. I placed \"bets\" on the 4 possible images using sliders.\"\n",
      "\n",
      "A12VQHPT0YHMIS: \"I had to best predict how gray blocks laid on a grid using the clues given by a previous participant. \"\n",
      "\n",
      "A33X52IN60MSOE: \"I was the student in this HIT working with a previous HIT taker who took on the role as the teacher. Their job was to give me hints to help me choose the correct pattern being hidden. My job was to bet on the correct pattern by using my 100chips. Every time i bet correctly i got bonus money\"\n",
      "\n",
      "A3KF6O09H04SP7: \"I was given hints by a teacher about which of four different grids I was to pick, based on which squares in the grid were black.  It reminded me a bit of Tetris.\"\n",
      "\n",
      "AIA7RZSAONU5M: \"I was shown a square full of tiles (some grey, some black) and asked to guess which option of four boxes I thought matched the design of tiles in box I was being shown. I bet on which option I thought matched the original box. After each bet an additional tile was revealed to help me guess. The tiles revealed were made by a participant that had previously taken the test.\"\n",
      "\n",
      "A1FHC4Z6QXDQSS: \"guessing how likely which of the 4 blocks is the winner based on whats most likely with where the black squares are\"\n",
      "\n",
      "A3K9GTQBOI7O5A: \"A hit about bets and 40 rounds of them. \"\n",
      "\n",
      "AIZTLQM7HHQN6: \"I was asked to do 40 rounds of probability tasks where I had to use hints from previous players (teachers) to try and guess which of the 4 answers was the correct block (as accurately as possible). I moved the slider up or down across each of the options as new hints were provided in order to change my predictions based on the hints.\"\n",
      "\n",
      "A1BSVEBYDZ0AAU: \"I tried to guess the solutions to problems. These problems were on grid canvasses and I had to figure out a pattern based on a few hints. The hints were given to me by a person.\"\n",
      "\n",
      "A24M9OW53CLT94: \"I was given a hint of one filled in square on a grid.  I had to place bets on which option I thought was the end result, and received a small bonus for how accurate my bids were.\"\n",
      "\n",
      "A1DZMZTXWOM9MR: \"The HIT consisted of choices between various grid shapes that I needed to place bets upon. I was given hints by another player who took part in the task previously. The choices that I made affected both my payout and theirs.\"\n",
      "\n",
      "A3U4MAPO0W65KH: \"I was playing a quiz game where I was getting hints from past players. I will get a higher bonus when I choose a proper answer with fewer hints.\"\n",
      "\n",
      "A13WTEQ06V3B6D: \"In this HIT, I worked with someone who gave me hints based on their previous experience with the puzzles. I then had to select the puzzle that is correct given the hints. The more accurate my guess, the more bonus money I earn.\"\n",
      "\n",
      "A157L6Z8QU3SDE: \"I used hints provided by a \"teacher\" who had previously taken a similar survey to place bets on what pattern was the solution. \"\n",
      "\n",
      "A25PFSORDO3SWQ: \"A person did a version of this HIT before me. I had to go through and use hints from the person who did the HIT before, and use their hints to make bets on which answer I think is more likely to be the correct answer. 15 trails will be selected and depending on how well I did on that round betting will decide what my bonus will be.\"\n",
      "\n",
      "A11WCFPJSR5VZP: \"I had to decide which tiles corresponded the closes with the ones revealed in the experiment.  I also had to make a wager on the bottom four options.\"\n",
      "\n",
      "A1FP3SH704X01V: \"making guesses on which block set is the correct answer to the pattern\"\n",
      "\n",
      "A2Z6NL0CTXY0ZB: \"I received hints from a previous participant regarding the correct guess among 4 choices. I had several opportunities and hints to guess the correct image.\"\n",
      "\n",
      "A2JDYN6QM8M5UN: \"I chose/bet what shape I thought was the correct answer based on hints given from previous participants.\"\n",
      "\n",
      "A1PTX4IB9R34LI: \"I solved puzzles with the help of hints\"\n",
      "\n",
      "A39EH9228GV09X: \"I was asked to \"bet\" on which set of blocks were the ones that were the answer from a multiple choice set of answers.\"\n",
      "\n",
      "A9HQ3E0F2AGVO: \"I placed bets on which graph the answer would be that was chosen by a teacher.\"\n",
      "\n",
      "A1PMZUBGXFANCI: \"I was playing a game where I guess which shape it being discovered through hints from other people\"\n",
      "\n",
      "AW0MG225VXWCN: \"I had to take hints from a previous participant about what choice to pick from a board of gray squares. I used those hints to narrow down my choice to try to pick the right one.\"\n",
      "\n",
      "A2QX3YJXAAHHVV: \"I was choosing a pattern based on hints. I received more bonus for a more accurate score. \"\n",
      "\n",
      "A3FGT6EU39C6S4: \"Guess the pattern based off of hints given by previous players of the game.\"\n",
      "\n",
      "A1AZGP16G9TURZ: \"I decided which picture was the correct one based on the block hints I got from \"teachers\".\"\n",
      "\n",
      "AONSG5WOC3OX0: \"I was placing bets and trying to guess the diagram based on the hints (blocks). \"\n",
      "\n",
      "A24LUXW1DB1QI5: \"used hints to place bets on the pattern likely to match\"\n",
      "\n",
      "AIEKCWYZTS41V: \"I had to figure out what the answer was by the hints given by the teacher, who was someone that took this study before me and was told to give hints for future takers. I had to place bets on whether A, B, C or D was the correct answer.\"\n",
      "\n",
      "A1T4GVQH4P0BO: \"With hints provided by previous participants, I bet on and predicted the pattern of black-and-white squares.\"\n",
      "\n",
      "A92BS1Y7V15Y2: \"A previous HIT worker made hints for me to use while placing bets on a multiple choice game\"\n",
      "\n",
      "A1SYMCOR29IWNA: \"I predicted and wagered on the final shapes based on hints provided to me by earlier participants acting as teachers.\"\n",
      "\n",
      "A6JKKANO7F4KD: \"In each trial I was shown 4 grids of squares, each with a different pattern. Another person gave me a set of clues, and I would make bets on how grid the other person was trying to make me choose. If I chose correctly then both of our bonuses would increase.\"\n",
      "\n",
      "A2KW87ZD2ELYNG: \"I had to bet on which blocks were the right ones to solve the puzzles. I got a $2 bonus. It was kind of fun too lol.\"\n",
      "\n",
      "A2B153AHPWHLH1: \"I got hints about a pattern, and made bets on the outcome out of 4 choices.\"\n",
      "\n",
      "A351P2O6QGTCS: \"I was acting as a student. People that had already completed this hit was giving hints and I had to pick which boxes would be the most to receive a bonus\"\n",
      "\n",
      "A5WWHKD82I8UE: \"I needed to place bets on what shapes I could make. The hints came from another user, called the teacher. I played the role as the student. Better bets = better bonus.\"\n",
      "\n",
      "ARWF605I7RWM7: \"I chose patterns based on a previous person's hints. Bets were placed on multiple options in order to guess which was the correct option. \"\n",
      "\n",
      "AD1WGUMVD6KED: \"I used clues from other participants to guess which pattern was correct.\"\n",
      "\n",
      "AAASQIW3J32OL: \"I was shown grids with black squares blocked out in them and asked to guess or deduct which one was the target one. To help me in my guess I was given a few hints by someone who did the study before. \"\n",
      "\n",
      "A30RAYNDOWQ61S: \"I placed bets on a grid of squares with 3 hints provided by a \"teacher\".\"\n",
      "\n",
      "A2OVOVZBJYUO: \"I made bets on which shape I thought would be revealed in order to get a bonus.\"\n",
      "\n",
      "A340UGIDGIF4W6: \"I was trying to pick which squares were the correct ones by the hints given to me\"\n",
      "\n",
      "AV5FCKI1TTSKR: \"I had to guess the correct shape by the hints given by another user. Points were awarded based on how much I allocated to each choice. The more accurate and heavier, the more scored. The inverse, the lower scored.\"\n",
      "\n",
      "A358YR7MWC6LRH: \"I looked at a grid of squares. There were then hints with squares filled in. I bet on which of four squares matched up to the correct grid based on hints.\"\n",
      "\n",
      "AETIZKQNUSBLB: \"This HIT was about making bets and picking the best choice from provided hints. I could make more money by providing the correct choice with the more of a bet.\"\n",
      "\n",
      "A3P9TM5PRYBH90: \"I had to guess which pattern was correct based on clues a person provided previously. At first I just checked that the boxes matched but then I realized that the pattern that the clues were placed in also gave weight to choices. The boxes were black which I mention so as to have written a few sentences rather than a couple. \"\n",
      "\n",
      "A3H32595TVJ34Q: \"I was a student and there were players that played earlier and were teachers; and they had to give me hints so that I could pick the probability that the correct 'shape' with darkened squares was the correct pattern. I had to look at four different patterns and guess from the hints which pattern was the correct one that the teacher had seen, in order to get a bonus, which could be up to .10 cents from what I saw; and if I do well, the teacher gets a bonus for giving me the right hint so that I can get the correct answer. I had to complete 40 rounds.\"\n",
      "\n",
      "A2BEL77FLYXFJS: \"Making bets on what patterns we were being shown based off of hints from someone else.\"\n",
      "\n",
      "A2RBVMD2HTBCZ9: \"I was trying to guess what my \"teacher\" was showing me as far as which tile puzzle to pick, and if i assigned the right probabilities, I got a higher bonus. \"\n",
      "\n",
      "A2Y0WNHMT4PZ4C: \"The object of this game was to determine which square was the correct one.  The grey square at the top of the page gave hints.  I needed to determine which square in the bottom row was the correct answer.  I would place bets on each turn on the square/s that I thought were correct.  The more that I got right the more bonus I would earn.\"\n",
      "\n",
      "A24HOBENULGZA2: \"this HIT was really awesome to play with bet\"\n",
      "\n",
      "AQ9Y6WD8O72ZC: \"i had to watch a teacher give hints and guess which table was correct\"\n",
      "\n",
      "A3BROF6UXA9TR8: \"I was guided by preivious HIT takers to choose the right option for the question and for every question I chose right, I got a bonus. The bonus depending on how much I bet on each answer\"\n",
      "\n",
      "AXO22N46CSNVT: \"I played a game where I guessed which pattern was correct. I received hints from teachers. I had to guess based on the hints.\"\n",
      "\n",
      "A37S96RT1P1IT2: \"I guessed which picture was the one above based on the hints given by the teacher. I had to bet tokens on the outcome.\"\n",
      "\n",
      "A49HPQ9P5AHU4: \"I was given grids of shaded squares and had to bet which one I thought matched the target based on advice given by people who had played the game before.\"\n",
      "\n",
      "A2ELXYKRPPGRPB: \"I had to guess with just a few clues which shape was represented in the box shown on the screen.\"\n",
      "\n",
      "A748N8WFG2HR4: \"I looked at different grids and tried to guess which one was the correct pattern\"\n",
      "\n",
      "A3UJSDFJ9LBQ6Z: \"I was given a grid that provided a hint by a previous participant who filled it with certain  squares and based on those hints I was supposed to determine the likelihood that a series of choices was the matching image.\"\n",
      "\n",
      "A3LX2XBUQZ9N4D: \"i have completed in this survey\"\n",
      "\n",
      "A2L8BI5CRPR5WP: \"good\"\n",
      "\n",
      "A3FKXJVH0K2E3E: \"Bet on what you think the pattern will be. Hints are provided.\"\n",
      "\n",
      "A3V7RI8OJVT8HL: \"perfect human study\"\n",
      "\n",
      "ANQ0RLFEZ17W0: \"I just completed a task where a teacher gave me three hints to place my bets on a picture of blocks. I placed my bets on the one or multiple that I thought was most likely.\"\n",
      "\n",
      "A2VR9O234UCT9T: \"I had to place bets on what the correct pattern was. I was given hints by someone who had completed the HIT before.\"\n",
      "\n",
      "ABKXDTQL1NXP7: \"I made my own decision\"\n",
      "\n",
      "A3S3WYVCVWW8IZ: \"I used hints from teacher to place bets on correct grids\"\n",
      "\n",
      "A1NKBXOTZAI1YK: \"We had to determine the pattern given three clues. \"\n",
      "\n",
      "A1V1JNPU0KOA3X: \"I was given a blank grid with hints to which of four possible choices was the correct answer to describe the hidden highlighted squares on the grid. Based on the hints, I was charged with betting on the answers that were most likely in consideration of the hints.\"\n",
      "\n",
      "A3HQXCWOIQKT4F: \"The HIT I completed involved using teacher hints to figure out what puzzle was in front of me. As time goes by more of the puzzle is filled in. The more I wager the better my bonus was. \"\n",
      "\n",
      "A34DYM8J0X5VK: \"The hit involved choosing an answer to a pattern based on a teacher's help.  The teacher gave clues while I tried to figure out the pattern that was correct among 4 options.  I did placed a wager on the probability that I picked the right pattern.\"\n",
      "\n",
      "A2EPBSY0VPI38S: \"I looked at grid. I was given hints then I selected the grid I thought the hints were referring to and selected bet amount. \"\n",
      "\n",
      "A3FPXYVABXB9IZ: \"Using a series of hints, figure out the answer to the puzzle. You can use sliders to choose the bet amount, which you determine based on eliminating options.\"\n",
      "\n",
      "A10NGMJ0LUASEV: \"very well interested and like one in this game\"\n",
      "\n",
      "A3V1VK1A3NYN17: \"I had to bet on which diagram I thought it was. I got hints that filled in the picture.\"\n",
      "\n",
      "A12IHTKQFQIPD1: \"I was given clues to choose which options had a higher probability to bet on.\"\n",
      "\n",
      "AR1IWBDA7MC86: \"I, as the student, had to pick which object was being slowly unmasked by the hints given by the teacher (another participant). \"\n",
      "\n",
      "A3M8O363B3IAKE: \"Figuring out block puzzles, given 3 clues.\"\n",
      "\n",
      "A20X6V1AAXZGNZ: \"The hit was recognizing the pattern probability for bonus money. \"\n",
      "\n",
      "AJRWCGIH6WOVG: \"I was given hints and I had to place bets on which picture I thought matched up. It would give me a total of three hints.\"\n",
      "\n",
      "A5P12YJP805RG: \"I was a student figuring out how to pick the correct solution to a puzzle. I was provided hints by a previous participant who acted as a teacher and gave me several hints per puzzle.\"\n",
      "\n",
      "A1P9ZZAW0TMNTR: \"I had to choose between 4 block shapes, and which one would be the closest to one pictured above, but only get one block hints at a time. I was given bonuses for how close I got to the shape.\"\n",
      "\n",
      "AZNIEFUIVB2H0: \"I followed hints from a previous participant.  I was shown squares and tried to match them to a larger shape.\"\n",
      "\n",
      "A88DXNDGDUWEN: \"I had to place bets on which answer was likely to be right for blocked squares in a grid. I had help with hints from people who'd played the game previously.\"\n",
      "\n",
      "A1DUPOUC9RNU4L: \"I had to bet on the correct answer with the help of a teacher who gave me hints.\"\n",
      "\n",
      "A2XQ3CFB5HT2ZQ: \"figure out which shape the teacher gives hints to. Bet on probability with sliders.\"\n",
      "\n",
      "A1WH32GYQOHIRQ: \"A teacher gave hints about where black squares a hidden on a gray grid.\"\n",
      "\n",
      "A1XQOZV8LQDM22: \"The game is about predicting the right answer to a chip game. Distributing chip among options that are likely to be right.\"\n",
      "\n",
      "A1F9KLZGHE9DTA: \"I saw puzzles with clues given by teachers.  I was given multiple clues and had to make bets as to which one was correct based on them.  This would determine my bonus based on 15 randomly chosen rounds.\"\n",
      "\n",
      "A1HRH92NH49RX2: \"guessing the correct box\"\n",
      "\n",
      "A1F6MWP9A0XLJQ: \"I was the student for this HIT.  I use the clauses from another worker in a different HIT to solves a puzzle.  I made bets on which options were most likely the correct answer.\"\n",
      "\n",
      "A3GXC3VG37CQ3G: \"I used hints given by another person who had previously taken a related HIT and tried to figure out which picture, out of four, the teacher was trying to describe.\"\n",
      "\n",
      "A10HW8JXM17XLD: \"In the task I just completed, I was given hints from a previous worker to assist me in choosing the correct grid design. With each new hint, I was asked to adjust my bets to reflect the probability of the correct puzzle. I tried to follow the instructions closely and increased my bets on probable correct grid choices while decreasing my bets on probable incorrect grid choices. \"\n",
      "\n",
      "A1T3ROSW2LC4FG: \"Determine which figure is correct based on teacher clues revealed.\"\n",
      "\n",
      "A1LRJ4U04532TM: \"I had to choose bets and was given hints on my bets by a teacher. I earning money on those bets.\"\n",
      "\n",
      "A6E3QAJIQOFBQ: \"using a guessing pannel to bet on what option would be right.\"\n",
      "\n",
      "A35O3H71CM4LVZ: \"find the correct pattern of boxes\"\n",
      "\n",
      "A2FHJCRBRP7VH4: \"I had to use the hints to find out which block to place my bets on which was the likely block for the puzzle.\"\n",
      "\n",
      "A3588JV6EB95AZ: \"guess the correct option to get a bonus\"\n",
      "\n",
      "A1BHR5XQ16T7LA: \"I was the student and another worker from a previous study was the teacher.  The teacher would give me hints as to which pattern to choose.  I had to move sliders and place bets one which pattern was the correct one.\"\n",
      "\n",
      "A2PUL3ZDXOW0VZ: \"It was to receive a series of hints from previous players.  Place bets using sliders to place bets on the most probable answer.  \"\n",
      "\n",
      "A12FTSX85NQ8N9: \"I looked at squares appearing on a board and placed bets on which of the four configurations it was revealing/hinting to.\"\n",
      "\n",
      "A18E16UFE351U6: \"I needed to select which group of block I thought matched the pattern. Someone who had played before as a teacher provided me with hints. I was to adjust the bet under each block for how likely I thought it was the correct solution. A higher bet on the correct solution resulted in a larger payout.\"\n",
      "\n",
      "AQJWO4YPR3LUQ: \"I was the student and someone who had completed the HIT previously was the teacher. I needed to bet on which grid shape was being shown in the top example based off hints I was given by the teacher.\"\n",
      "\n",
      "A3BLJ6QSDTZC9U: \"Try to guess which shape is in the square with a limited number of hints. \"\n",
      "\n",
      "AJQ71YIGY01HZ: \"I had to decide which was the best choice to put my money on through a few hints I got.\"\n",
      "\n",
      "A2RRK8SV0VBLTJ: \"It was a gambling type of hit where I was given a hint of the picture I had to match up with 1 of 4 options given to me\"\n",
      "\n",
      "A1UTN872NUHB39: \"For this hits, we were given hints by a teacher to help us make a bet on which option would provide the highest bonus. The teacher gave us three hints total, one hints after each choice. After each choice we could adjust the amount that we would bet on it's available option.\"\n",
      "\n",
      "A1CFMY4CEYOM8Y: \"I tried to guess which box where the bonus was. The more blocks covered, the better chance of getting the bonus.\"\n",
      "\n",
      "A32JEH06T23HDF: \"It was where I had to pick what shape it was based on just a few hints that were given by a teacher. I think that there were 40 rounds of this \"\n",
      "\n",
      "A2G43KS55YGYQE: \"I used clues to bet which of 4 squares was the object of each game. 40 rounds\"\n",
      "\n",
      "A1OYQLIDML0DPW: \"All most perfect.\"\n",
      "\n",
      "A11Q8U6QTT8KGF: \"I was given 4 boxes, to compare to a 5th main one.  I placed bets to decide which one of the 4 it was, and slowly tried to eliminate as more boxes were revealed.\"\n",
      "\n"
     ]
    }
   ],
   "source": [
    "task_descriptions = (\n",
    "    all_data\n",
    "    [all_data.trial_type == 'survey-text']\n",
    "    [['worker', 'response']]\n",
    ")\n",
    "task_descriptions['response'] = task_descriptions.response.apply(lambda r: r['Q0'])\n",
    "\n",
    "for _, row in task_descriptions.iterrows():\n",
    "    print('%s: \"%s\"\\n' % (row.worker, row.response))"
   ]
  },
  {
   "cell_type": "markdown",
   "metadata": {},
   "source": [
    "Worker feedback:"
   ]
  },
  {
   "cell_type": "code",
   "execution_count": 20,
   "metadata": {},
   "outputs": [
    {
     "data": {
      "text/html": [
       "<div>\n",
       "<style scoped>\n",
       "    .dataframe tbody tr th:only-of-type {\n",
       "        vertical-align: middle;\n",
       "    }\n",
       "\n",
       "    .dataframe tbody tr th {\n",
       "        vertical-align: top;\n",
       "    }\n",
       "\n",
       "    .dataframe thead th {\n",
       "        text-align: right;\n",
       "    }\n",
       "</style>\n",
       "<table border=\"1\" class=\"dataframe\">\n",
       "  <thead>\n",
       "    <tr style=\"text-align: right;\">\n",
       "      <th></th>\n",
       "      <th>trial_type</th>\n",
       "      <th>time_elapsed</th>\n",
       "      <th>language</th>\n",
       "      <th>enjoyment</th>\n",
       "      <th>assess</th>\n",
       "      <th>age</th>\n",
       "      <th>gender_cat</th>\n",
       "      <th>gender_text</th>\n",
       "      <th>education</th>\n",
       "      <th>comments</th>\n",
       "      <th>worker</th>\n",
       "      <th>order</th>\n",
       "      <th>batch</th>\n",
       "    </tr>\n",
       "  </thead>\n",
       "  <tbody>\n",
       "    <tr>\n",
       "      <th>178</th>\n",
       "      <td>post-survey</td>\n",
       "      <td>1163485</td>\n",
       "      <td>english</td>\n",
       "      <td>average</td>\n",
       "      <td>y</td>\n",
       "      <td>44</td>\n",
       "      <td>m</td>\n",
       "      <td></td>\n",
       "      <td>college</td>\n",
       "      <td></td>\n",
       "      <td>ARI1EMAHUA9PO</td>\n",
       "      <td>0</td>\n",
       "      <td>2022-02-02-1303</td>\n",
       "    </tr>\n",
       "    <tr>\n",
       "      <th>175</th>\n",
       "      <td>post-survey</td>\n",
       "      <td>1299828</td>\n",
       "      <td>English</td>\n",
       "      <td>better</td>\n",
       "      <td>y</td>\n",
       "      <td>46</td>\n",
       "      <td>f</td>\n",
       "      <td></td>\n",
       "      <td>some-college</td>\n",
       "      <td></td>\n",
       "      <td>A1VFOKKVJ7B9D6</td>\n",
       "      <td>3</td>\n",
       "      <td>2022-02-02-1303</td>\n",
       "    </tr>\n",
       "    <tr>\n",
       "      <th>196</th>\n",
       "      <td>post-survey</td>\n",
       "      <td>1110116</td>\n",
       "      <td>English</td>\n",
       "      <td>average</td>\n",
       "      <td>y</td>\n",
       "      <td>31</td>\n",
       "      <td>f</td>\n",
       "      <td></td>\n",
       "      <td>college</td>\n",
       "      <td>I enjoyed it.</td>\n",
       "      <td>A2I4PRZ9IZMKON</td>\n",
       "      <td>11</td>\n",
       "      <td>2022-02-02-1303</td>\n",
       "    </tr>\n",
       "    <tr>\n",
       "      <th>181</th>\n",
       "      <td>post-survey</td>\n",
       "      <td>1487965</td>\n",
       "      <td>English</td>\n",
       "      <td>better</td>\n",
       "      <td>y</td>\n",
       "      <td>34</td>\n",
       "      <td>f</td>\n",
       "      <td></td>\n",
       "      <td>high</td>\n",
       "      <td>none</td>\n",
       "      <td>A34EHWOYRBL6OZ</td>\n",
       "      <td>6</td>\n",
       "      <td>2022-02-02-1303</td>\n",
       "    </tr>\n",
       "    <tr>\n",
       "      <th>180</th>\n",
       "      <td>post-survey</td>\n",
       "      <td>1623271</td>\n",
       "      <td>English</td>\n",
       "      <td>average</td>\n",
       "      <td>y</td>\n",
       "      <td>56</td>\n",
       "      <td>m</td>\n",
       "      <td></td>\n",
       "      <td>some-college</td>\n",
       "      <td></td>\n",
       "      <td>A3OZ8KF0HWSVWK</td>\n",
       "      <td>2</td>\n",
       "      <td>2022-02-02-1303</td>\n",
       "    </tr>\n",
       "  </tbody>\n",
       "</table>\n",
       "</div>"
      ],
      "text/plain": [
       "      trial_type  time_elapsed language enjoyment assess age gender_cat  \\\n",
       "178  post-survey       1163485  english   average      y  44          m   \n",
       "175  post-survey       1299828  English    better      y  46          f   \n",
       "196  post-survey       1110116  English   average      y  31          f   \n",
       "181  post-survey       1487965  English    better      y  34          f   \n",
       "180  post-survey       1623271  English   average      y  56          m   \n",
       "\n",
       "    gender_text     education       comments          worker  order  \\\n",
       "178                   college                  ARI1EMAHUA9PO      0   \n",
       "175              some-college                 A1VFOKKVJ7B9D6      3   \n",
       "196                   college  I enjoyed it.  A2I4PRZ9IZMKON     11   \n",
       "181                      high           none  A34EHWOYRBL6OZ      6   \n",
       "180              some-college                 A3OZ8KF0HWSVWK      2   \n",
       "\n",
       "               batch  \n",
       "178  2022-02-02-1303  \n",
       "175  2022-02-02-1303  \n",
       "196  2022-02-02-1303  \n",
       "181  2022-02-02-1303  \n",
       "180  2022-02-02-1303  "
      ]
     },
     "execution_count": 20,
     "metadata": {},
     "output_type": "execute_result"
    }
   ],
   "source": [
    "posttest = (\n",
    "    all_data\n",
    "    [all_data.trial_type == 'post-survey']\n",
    "    .dropna(axis=1, how='all')\n",
    ")\n",
    "posttest.head()"
   ]
  }
 ],
 "metadata": {
  "kernelspec": {
   "display_name": "Python 3",
   "language": "python",
   "name": "python3"
  },
  "language_info": {
   "codemirror_mode": {
    "name": "ipython",
    "version": 3
   },
   "file_extension": ".py",
   "mimetype": "text/x-python",
   "name": "python",
   "nbconvert_exporter": "python",
   "pygments_lexer": "ipython3",
   "version": "3.8.5"
  }
 },
 "nbformat": 4,
 "nbformat_minor": 5
}
