{
 "cells": [
  {
   "cell_type": "markdown",
   "metadata": {},
   "source": [
    "# Preprocessing: QA\n",
    "Natalia Vélez, October 2021"
   ]
  },
  {
   "cell_type": "code",
   "execution_count": 1,
   "metadata": {},
   "outputs": [],
   "source": [
    "%matplotlib inline\n",
    "\n",
    "# general\n",
    "import os, sys\n",
    "import pandas as pd\n",
    "import numpy as np\n",
    "from os.path import join as opj\n",
    "\n",
    "# plotting\n",
    "import matplotlib.pyplot as plt\n",
    "import seaborn as sns\n",
    "sns.set_style('white')\n",
    "sns.set_context('talk')\n",
    "\n",
    "# project-specific\n",
    "sys.path.append('..')\n",
    "from utils import gsearch,str_extract,int_extract"
   ]
  },
  {
   "cell_type": "markdown",
   "metadata": {},
   "source": [
    "## Do any runs/participants need to be excluded for excessive motion?"
   ]
  },
  {
   "cell_type": "markdown",
   "metadata": {},
   "source": [
    "Find confound files:"
   ]
  },
  {
   "cell_type": "code",
   "execution_count": 2,
   "metadata": {},
   "outputs": [
    {
     "name": "stdout",
     "output_type": "stream",
     "text": [
      "Found 358 files\n",
      "../../BIDS_data/derivatives/fmriprep/sub-01/func/sub-01_task-teaching_run-10_desc-confounds_timeseries.tsv\n",
      "../../BIDS_data/derivatives/fmriprep/sub-01/func/sub-01_task-teaching_run-1_desc-confounds_timeseries.tsv\n",
      "../../BIDS_data/derivatives/fmriprep/sub-01/func/sub-01_task-teaching_run-2_desc-confounds_timeseries.tsv\n",
      "../../BIDS_data/derivatives/fmriprep/sub-01/func/sub-01_task-teaching_run-3_desc-confounds_timeseries.tsv\n",
      "../../BIDS_data/derivatives/fmriprep/sub-01/func/sub-01_task-teaching_run-4_desc-confounds_timeseries.tsv\n",
      "../../BIDS_data/derivatives/fmriprep/sub-01/func/sub-01_task-teaching_run-5_desc-confounds_timeseries.tsv\n",
      "../../BIDS_data/derivatives/fmriprep/sub-01/func/sub-01_task-teaching_run-6_desc-confounds_timeseries.tsv\n",
      "../../BIDS_data/derivatives/fmriprep/sub-01/func/sub-01_task-teaching_run-7_desc-confounds_timeseries.tsv\n",
      "../../BIDS_data/derivatives/fmriprep/sub-01/func/sub-01_task-teaching_run-8_desc-confounds_timeseries.tsv\n",
      "../../BIDS_data/derivatives/fmriprep/sub-01/func/sub-01_task-teaching_run-9_desc-confounds_timeseries.tsv\n"
     ]
    }
   ],
   "source": [
    "data_dir = '../../BIDS_data/derivatives/fmriprep'\n",
    "confound_files = gsearch(data_dir, '**', 'func', '*desc-confounds_timeseries.tsv')\n",
    "confound_files.sort()\n",
    "\n",
    "print('Found %i files' % len(confound_files))\n",
    "print(*confound_files[:10], sep='\\n')"
   ]
  },
  {
   "cell_type": "markdown",
   "metadata": {},
   "source": [
    "Load motion parameters:"
   ]
  },
  {
   "cell_type": "code",
   "execution_count": 3,
   "metadata": {},
   "outputs": [],
   "source": [
    "motion_list = []\n",
    "\n",
    "for f in confound_files:\n",
    "\n",
    "    # Keep only motion parameters\n",
    "    run_motion = pd.read_csv(f, sep='\\t')\n",
    "    run_motion = run_motion.filter(regex='(framewise_displacement)|((trans|rot)_(x|y|z)$)')\n",
    "\n",
    "    # Extract participant information\n",
    "    run_motion['subject'] = str_extract('sub-[0-9]{2}', f)\n",
    "    run_motion['task'] = str_extract('(?<=task-)[a-z]+', f)\n",
    "    run_motion['run'] = int_extract('(?<=run-)[0-9]+', f)\n",
    "    \n",
    "    motion_list.append(run_motion)"
   ]
  },
  {
   "cell_type": "markdown",
   "metadata": {},
   "source": [
    "Assemble dataframe:"
   ]
  },
  {
   "cell_type": "code",
   "execution_count": 4,
   "metadata": {},
   "outputs": [
    {
     "data": {
      "text/html": [
       "<div>\n",
       "<style scoped>\n",
       "    .dataframe tbody tr th:only-of-type {\n",
       "        vertical-align: middle;\n",
       "    }\n",
       "\n",
       "    .dataframe tbody tr th {\n",
       "        vertical-align: top;\n",
       "    }\n",
       "\n",
       "    .dataframe thead th {\n",
       "        text-align: right;\n",
       "    }\n",
       "</style>\n",
       "<table border=\"1\" class=\"dataframe\">\n",
       "  <thead>\n",
       "    <tr style=\"text-align: right;\">\n",
       "      <th></th>\n",
       "      <th>t</th>\n",
       "      <th>framewise_displacement</th>\n",
       "      <th>trans_x</th>\n",
       "      <th>trans_y</th>\n",
       "      <th>trans_z</th>\n",
       "      <th>rot_x</th>\n",
       "      <th>rot_y</th>\n",
       "      <th>rot_z</th>\n",
       "      <th>subject</th>\n",
       "      <th>task</th>\n",
       "      <th>run</th>\n",
       "    </tr>\n",
       "  </thead>\n",
       "  <tbody>\n",
       "    <tr>\n",
       "      <th>0</th>\n",
       "      <td>0</td>\n",
       "      <td>NaN</td>\n",
       "      <td>-0.006187</td>\n",
       "      <td>0.063545</td>\n",
       "      <td>0.076468</td>\n",
       "      <td>-0.000973</td>\n",
       "      <td>-0.000098</td>\n",
       "      <td>0.000066</td>\n",
       "      <td>sub-01</td>\n",
       "      <td>teaching</td>\n",
       "      <td>10</td>\n",
       "    </tr>\n",
       "    <tr>\n",
       "      <th>1</th>\n",
       "      <td>1</td>\n",
       "      <td>0.056094</td>\n",
       "      <td>-0.003115</td>\n",
       "      <td>0.074887</td>\n",
       "      <td>0.105599</td>\n",
       "      <td>-0.001127</td>\n",
       "      <td>-0.000068</td>\n",
       "      <td>0.000000</td>\n",
       "      <td>sub-01</td>\n",
       "      <td>teaching</td>\n",
       "      <td>10</td>\n",
       "    </tr>\n",
       "    <tr>\n",
       "      <th>2</th>\n",
       "      <td>2</td>\n",
       "      <td>0.025449</td>\n",
       "      <td>-0.006229</td>\n",
       "      <td>0.074913</td>\n",
       "      <td>0.090921</td>\n",
       "      <td>-0.001265</td>\n",
       "      <td>-0.000053</td>\n",
       "      <td>0.000000</td>\n",
       "      <td>sub-01</td>\n",
       "      <td>teaching</td>\n",
       "      <td>10</td>\n",
       "    </tr>\n",
       "    <tr>\n",
       "      <th>3</th>\n",
       "      <td>3</td>\n",
       "      <td>0.041779</td>\n",
       "      <td>-0.007286</td>\n",
       "      <td>0.081286</td>\n",
       "      <td>0.085657</td>\n",
       "      <td>-0.001414</td>\n",
       "      <td>-0.000359</td>\n",
       "      <td>0.000127</td>\n",
       "      <td>sub-01</td>\n",
       "      <td>teaching</td>\n",
       "      <td>10</td>\n",
       "    </tr>\n",
       "    <tr>\n",
       "      <th>4</th>\n",
       "      <td>4</td>\n",
       "      <td>0.023688</td>\n",
       "      <td>-0.004253</td>\n",
       "      <td>0.080952</td>\n",
       "      <td>0.082234</td>\n",
       "      <td>-0.001696</td>\n",
       "      <td>-0.000352</td>\n",
       "      <td>0.000176</td>\n",
       "      <td>sub-01</td>\n",
       "      <td>teaching</td>\n",
       "      <td>10</td>\n",
       "    </tr>\n",
       "  </tbody>\n",
       "</table>\n",
       "</div>"
      ],
      "text/plain": [
       "   t  framewise_displacement   trans_x   trans_y   trans_z     rot_x  \\\n",
       "0  0                     NaN -0.006187  0.063545  0.076468 -0.000973   \n",
       "1  1                0.056094 -0.003115  0.074887  0.105599 -0.001127   \n",
       "2  2                0.025449 -0.006229  0.074913  0.090921 -0.001265   \n",
       "3  3                0.041779 -0.007286  0.081286  0.085657 -0.001414   \n",
       "4  4                0.023688 -0.004253  0.080952  0.082234 -0.001696   \n",
       "\n",
       "      rot_y     rot_z subject      task  run  \n",
       "0 -0.000098  0.000066  sub-01  teaching   10  \n",
       "1 -0.000068  0.000000  sub-01  teaching   10  \n",
       "2 -0.000053  0.000000  sub-01  teaching   10  \n",
       "3 -0.000359  0.000127  sub-01  teaching   10  \n",
       "4 -0.000352  0.000176  sub-01  teaching   10  "
      ]
     },
     "execution_count": 4,
     "metadata": {},
     "output_type": "execute_result"
    }
   ],
   "source": [
    "motion_df = pd.concat(motion_list)\n",
    "motion_df = motion_df.reset_index()\n",
    "motion_df = motion_df.rename(columns={'index': 't'})\n",
    "motion_df.head()"
   ]
  },
  {
   "cell_type": "markdown",
   "metadata": {},
   "source": [
    "Make motion plots:"
   ]
  },
  {
   "cell_type": "code",
   "execution_count": 5,
   "metadata": {},
   "outputs": [],
   "source": [
    "for (sub, task, run), df in motion_df.groupby(['subject', 'task', 'run']):\n",
    "    # Clean up data\n",
    "    trans = df.filter(regex='^trans|t')\n",
    "    trans = trans.melt(id_vars=['t'], value_vars=['trans_x', 'trans_y', 'trans_z'])\n",
    "    \n",
    "    rot = df.filter(regex='^rot|t')\n",
    "    rot = rot.melt(id_vars=['t'], value_vars=['rot_x', 'rot_y', 'rot_z'])\n",
    "    \n",
    "    # Plot motion parameters\n",
    "    fig, (ax1, ax2, ax3) = plt.subplots(3,1, figsize=(10,10), tight_layout=True)\n",
    "    sns.lineplot(data=trans, x='t', y='value', hue='variable', ax=ax1, legend=False)\n",
    "    ax1.legend(title='', labels=['x', 'y', 'z'])\n",
    "    ax1.set(xlabel='Image', ylabel='Translation (mm)')\n",
    "\n",
    "    sns.lineplot(data=rot, x='t', y='value', hue='variable', ax=ax2, legend=False)\n",
    "    ax2.set(xlabel='Image', ylabel='Rotation (deg)')\n",
    "    ax2.legend(title='', labels=['x', 'y', 'z'])\n",
    "\n",
    "    sns.lineplot(data=df, x='t', y='framewise_displacement', ax=ax3, legend=False)\n",
    "    ax3.set(xlabel='Image', ylabel='FD')\n",
    "\n",
    "    fig.suptitle('%s, task: %s, run: %i' % (sub, task, run))\n",
    "    \n",
    "    # Save to file\n",
    "    plt.savefig('plots/motion/%s_task-%s_run-%i_desc-motion.png' % (sub, task, run))\n",
    "    plt.close(fig)"
   ]
  },
  {
   "cell_type": "markdown",
   "metadata": {},
   "source": [
    "Did any runs have excessive motion?"
   ]
  },
  {
   "cell_type": "code",
   "execution_count": 6,
   "metadata": {},
   "outputs": [
    {
     "data": {
      "text/html": [
       "<div>\n",
       "<style scoped>\n",
       "    .dataframe tbody tr th:only-of-type {\n",
       "        vertical-align: middle;\n",
       "    }\n",
       "\n",
       "    .dataframe tbody tr th {\n",
       "        vertical-align: top;\n",
       "    }\n",
       "\n",
       "    .dataframe thead th {\n",
       "        text-align: right;\n",
       "    }\n",
       "</style>\n",
       "<table border=\"1\" class=\"dataframe\">\n",
       "  <thead>\n",
       "    <tr style=\"text-align: right;\">\n",
       "      <th></th>\n",
       "      <th>subject</th>\n",
       "      <th>task</th>\n",
       "      <th>dropped</th>\n",
       "    </tr>\n",
       "  </thead>\n",
       "  <tbody>\n",
       "    <tr>\n",
       "      <th>0</th>\n",
       "      <td>sub-03</td>\n",
       "      <td>teaching</td>\n",
       "      <td>1</td>\n",
       "    </tr>\n",
       "    <tr>\n",
       "      <th>1</th>\n",
       "      <td>sub-03</td>\n",
       "      <td>tomloc</td>\n",
       "      <td>1</td>\n",
       "    </tr>\n",
       "    <tr>\n",
       "      <th>2</th>\n",
       "      <td>sub-17</td>\n",
       "      <td>teaching</td>\n",
       "      <td>5</td>\n",
       "    </tr>\n",
       "    <tr>\n",
       "      <th>3</th>\n",
       "      <td>sub-17</td>\n",
       "      <td>tomloc</td>\n",
       "      <td>2</td>\n",
       "    </tr>\n",
       "  </tbody>\n",
       "</table>\n",
       "</div>"
      ],
      "text/plain": [
       "  subject      task  dropped\n",
       "0  sub-03  teaching        1\n",
       "1  sub-03    tomloc        1\n",
       "2  sub-17  teaching        5\n",
       "3  sub-17    tomloc        2"
      ]
     },
     "execution_count": 6,
     "metadata": {},
     "output_type": "execute_result"
    }
   ],
   "source": [
    "# Get maximum translation/rotation\n",
    "motion_summ = motion_df.melt(id_vars=['subject', 'task', 'run'], value_vars=['trans_x', 'trans_y', 'trans_z', 'rot_x', 'rot_y', 'rot_z'])\n",
    "motion_summ['metric'] = motion_summ.variable.str.extract('(trans|rot)')\n",
    "motion_summ['value'] = np.abs(motion_summ['value'])\n",
    "motion_summ = motion_summ.groupby(['subject', 'task', 'run', 'metric'])['value'].agg('max').reset_index()\n",
    "\n",
    "# Find ones that cross threshold\n",
    "excessive_motion = motion_summ[motion_summ.value > 2]\n",
    "excessive_motion = excessive_motion.groupby(['subject', 'task'])['run'].agg('count').reset_index()\n",
    "excessive_motion = excessive_motion.rename(columns = {'run': 'dropped'})\n",
    "\n",
    "excessive_motion"
   ]
  },
  {
   "cell_type": "markdown",
   "metadata": {},
   "source": [
    "Calculate remaining runs, after exclusions:"
   ]
  },
  {
   "cell_type": "code",
   "execution_count": 7,
   "metadata": {},
   "outputs": [
    {
     "data": {
      "text/html": [
       "<div>\n",
       "<style scoped>\n",
       "    .dataframe tbody tr th:only-of-type {\n",
       "        vertical-align: middle;\n",
       "    }\n",
       "\n",
       "    .dataframe tbody tr th {\n",
       "        vertical-align: top;\n",
       "    }\n",
       "\n",
       "    .dataframe thead th {\n",
       "        text-align: right;\n",
       "    }\n",
       "</style>\n",
       "<table border=\"1\" class=\"dataframe\">\n",
       "  <thead>\n",
       "    <tr style=\"text-align: right;\">\n",
       "      <th></th>\n",
       "      <th>subject</th>\n",
       "      <th>remaining</th>\n",
       "    </tr>\n",
       "  </thead>\n",
       "  <tbody>\n",
       "    <tr>\n",
       "      <th>0</th>\n",
       "      <td>sub-01</td>\n",
       "      <td>12.0</td>\n",
       "    </tr>\n",
       "    <tr>\n",
       "      <th>1</th>\n",
       "      <td>sub-02</td>\n",
       "      <td>12.0</td>\n",
       "    </tr>\n",
       "    <tr>\n",
       "      <th>2</th>\n",
       "      <td>sub-03</td>\n",
       "      <td>8.0</td>\n",
       "    </tr>\n",
       "    <tr>\n",
       "      <th>3</th>\n",
       "      <td>sub-04</td>\n",
       "      <td>12.0</td>\n",
       "    </tr>\n",
       "    <tr>\n",
       "      <th>4</th>\n",
       "      <td>sub-05</td>\n",
       "      <td>12.0</td>\n",
       "    </tr>\n",
       "  </tbody>\n",
       "</table>\n",
       "</div>"
      ],
      "text/plain": [
       "  subject  remaining\n",
       "0  sub-01       12.0\n",
       "1  sub-02       12.0\n",
       "2  sub-03        8.0\n",
       "3  sub-04       12.0\n",
       "4  sub-05       12.0"
      ]
     },
     "execution_count": 7,
     "metadata": {},
     "output_type": "execute_result"
    }
   ],
   "source": [
    "run_df = pd.DataFrame({'runs': confound_files})\n",
    "\n",
    "# count number of runs acquired\n",
    "run_df['subject'] = run_df.runs.str.extract('(sub-[0-9]{2})')\n",
    "run_df['task'] = run_df.runs.str.extract('(?<=task-)([a-z]+)')\n",
    "run_df = run_df.groupby(['subject', 'task'])['runs'].agg('count').reset_index()\n",
    "\n",
    "# subtract runs with excessive motion\n",
    "run_df = run_df.merge(excessive_motion, how='left').fillna(0)\n",
    "run_df['remaining'] = run_df['runs'] - run_df['dropped']\n",
    "run_df = run_df.groupby(['subject'])['remaining'].agg('sum').reset_index()\n",
    "\n",
    "run_df.head()\n",
    "run_df.head()"
   ]
  },
  {
   "cell_type": "markdown",
   "metadata": {},
   "source": [
    "Exclude participants with <75% remaining runs:"
   ]
  },
  {
   "cell_type": "code",
   "execution_count": 8,
   "metadata": {},
   "outputs": [
    {
     "data": {
      "text/html": [
       "<div>\n",
       "<style scoped>\n",
       "    .dataframe tbody tr th:only-of-type {\n",
       "        vertical-align: middle;\n",
       "    }\n",
       "\n",
       "    .dataframe tbody tr th {\n",
       "        vertical-align: top;\n",
       "    }\n",
       "\n",
       "    .dataframe thead th {\n",
       "        text-align: right;\n",
       "    }\n",
       "</style>\n",
       "<table border=\"1\" class=\"dataframe\">\n",
       "  <thead>\n",
       "    <tr style=\"text-align: right;\">\n",
       "      <th></th>\n",
       "      <th>subject</th>\n",
       "      <th>remaining</th>\n",
       "    </tr>\n",
       "  </thead>\n",
       "  <tbody>\n",
       "    <tr>\n",
       "      <th>2</th>\n",
       "      <td>sub-03</td>\n",
       "      <td>8.0</td>\n",
       "    </tr>\n",
       "    <tr>\n",
       "      <th>16</th>\n",
       "      <td>sub-17</td>\n",
       "      <td>5.0</td>\n",
       "    </tr>\n",
       "  </tbody>\n",
       "</table>\n",
       "</div>"
      ],
      "text/plain": [
       "   subject  remaining\n",
       "2   sub-03        8.0\n",
       "16  sub-17        5.0"
      ]
     },
     "execution_count": 8,
     "metadata": {},
     "output_type": "execute_result"
    }
   ],
   "source": [
    "exclusions_df = run_df[run_df['remaining'] < 12*.75]\n",
    "excluded = exclusions_df.subject.values\n",
    "exclusions_df"
   ]
  },
  {
   "cell_type": "markdown",
   "metadata": {},
   "source": [
    "Save excluded participants to file:"
   ]
  },
  {
   "cell_type": "code",
   "execution_count": 9,
   "metadata": {},
   "outputs": [],
   "source": [
    "np.savetxt('outputs/excluded_participants.txt', excluded, '%s')"
   ]
  }
 ],
 "metadata": {
  "kernelspec": {
   "display_name": "Python [conda env:.conda-py3]",
   "language": "python",
   "name": "conda-env-.conda-py3-py"
  },
  "language_info": {
   "codemirror_mode": {
    "name": "ipython",
    "version": 3
   },
   "file_extension": ".py",
   "mimetype": "text/x-python",
   "name": "python",
   "nbconvert_exporter": "python",
   "pygments_lexer": "ipython3",
   "version": "3.6.10"
  }
 },
 "nbformat": 4,
 "nbformat_minor": 4
}
