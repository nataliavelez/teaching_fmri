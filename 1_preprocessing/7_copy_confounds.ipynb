{
 "cells": [
  {
   "cell_type": "markdown",
   "metadata": {},
   "source": [
    "# Copy motion regressors\n",
    "Natalia Vélez, November 2021"
   ]
  },
  {
   "cell_type": "code",
   "execution_count": 5,
   "metadata": {},
   "outputs": [],
   "source": [
    "import sys\n",
    "import numpy as np\n",
    "import pandas as pd\n",
    "from os.path import join as opj\n",
    "\n",
    "sys.path.append('..')\n",
    "from utils import gsearch,str_extract"
   ]
  },
  {
   "cell_type": "markdown",
   "metadata": {},
   "source": [
    "Load excluded participants"
   ]
  },
  {
   "cell_type": "code",
   "execution_count": 9,
   "metadata": {},
   "outputs": [
    {
     "name": "stdout",
     "output_type": "stream",
     "text": [
      "['sub-03' 'sub-17']\n"
     ]
    }
   ],
   "source": [
    "excluded = np.loadtxt('outputs/excluded_participants.txt', dtype=str)\n",
    "print(excluded)"
   ]
  },
  {
   "cell_type": "markdown",
   "metadata": {},
   "source": [
    "Find confound files:"
   ]
  },
  {
   "cell_type": "code",
   "execution_count": 10,
   "metadata": {},
   "outputs": [
    {
     "name": "stdout",
     "output_type": "stream",
     "text": [
      "Found 336 confound files\n",
      "../../BIDS_data/derivatives/fmriprep/sub-01/func/sub-01_task-teaching_run-10_desc-confounds_timeseries.tsv\n",
      "../../BIDS_data/derivatives/fmriprep/sub-01/func/sub-01_task-teaching_run-1_desc-confounds_timeseries.tsv\n",
      "../../BIDS_data/derivatives/fmriprep/sub-01/func/sub-01_task-teaching_run-2_desc-confounds_timeseries.tsv\n",
      "../../BIDS_data/derivatives/fmriprep/sub-01/func/sub-01_task-teaching_run-3_desc-confounds_timeseries.tsv\n",
      "../../BIDS_data/derivatives/fmriprep/sub-01/func/sub-01_task-teaching_run-4_desc-confounds_timeseries.tsv\n",
      "../../BIDS_data/derivatives/fmriprep/sub-01/func/sub-01_task-teaching_run-5_desc-confounds_timeseries.tsv\n",
      "../../BIDS_data/derivatives/fmriprep/sub-01/func/sub-01_task-teaching_run-6_desc-confounds_timeseries.tsv\n",
      "../../BIDS_data/derivatives/fmriprep/sub-01/func/sub-01_task-teaching_run-7_desc-confounds_timeseries.tsv\n",
      "../../BIDS_data/derivatives/fmriprep/sub-01/func/sub-01_task-teaching_run-8_desc-confounds_timeseries.tsv\n",
      "../../BIDS_data/derivatives/fmriprep/sub-01/func/sub-01_task-teaching_run-9_desc-confounds_timeseries.tsv\n",
      "../../BIDS_data/derivatives/fmriprep/sub-01/func/sub-01_task-tomloc_run-1_desc-confounds_timeseries.tsv\n",
      "../../BIDS_data/derivatives/fmriprep/sub-01/func/sub-01_task-tomloc_run-2_desc-confounds_timeseries.tsv\n",
      "...\n"
     ]
    }
   ],
   "source": [
    "data_dir = '../../BIDS_data/derivatives/'\n",
    "in_dir = opj(data_dir, 'fmriprep')\n",
    "out_dir = opj(data_dir, 'model_inputs')\n",
    "\n",
    "# Get all confound files\n",
    "confound_files = gsearch(in_dir, '**', 'func', '*desc-confounds_timeseries.tsv')\n",
    "confound_files.sort()\n",
    "\n",
    "# Exclude files belonging to excluded participants\n",
    "def sub_extract(f): return str_extract('sub-[0-9]{2}', f)\n",
    "confound_files = [f for f in confound_files if sub_extract(f) not in excluded]\n",
    "\n",
    "print('Found %i confound files' % len(confound_files))\n",
    "print(*confound_files[:12], sep='\\n')\n",
    "print('...')"
   ]
  },
  {
   "cell_type": "markdown",
   "metadata": {},
   "source": [
    "Save confounds"
   ]
  },
  {
   "cell_type": "code",
   "execution_count": 11,
   "metadata": {},
   "outputs": [],
   "source": [
    "for in_f in confound_files:\n",
    "    # Read confounds\n",
    "    confound_df = pd.read_csv(in_f, sep='\\t')\n",
    "    confound_df = confound_df[['trans_x', 'trans_y', 'trans_z', 'rot_x', 'rot_y', 'rot_z']]\n",
    "\n",
    "    # Save to txt file\n",
    "    out_f = in_f.replace(in_dir, out_dir).replace('.tsv', '.txt')\n",
    "    confound_df.to_string(out_f, header=False, index=False)"
   ]
  }
 ],
 "metadata": {
  "kernelspec": {
   "display_name": "Python [conda env:root] *",
   "language": "python",
   "name": "conda-root-py"
  },
  "language_info": {
   "codemirror_mode": {
    "name": "ipython",
    "version": 3
   },
   "file_extension": ".py",
   "mimetype": "text/x-python",
   "name": "python",
   "nbconvert_exporter": "python",
   "pygments_lexer": "ipython3",
   "version": "3.8.5"
  }
 },
 "nbformat": 4,
 "nbformat_minor": 4
}
