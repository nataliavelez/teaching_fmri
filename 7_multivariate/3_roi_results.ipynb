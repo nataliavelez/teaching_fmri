{
 "cells": [
  {
   "cell_type": "markdown",
   "metadata": {},
   "source": [
    "# ROI analysis: Results\n",
    "Natalia Vélez, April 2022"
   ]
  },
  {
   "cell_type": "code",
   "execution_count": 1,
   "metadata": {},
   "outputs": [],
   "source": [
    "%matplotlib inline\n",
    "\n",
    "import sys, pickle\n",
    "import pandas as pd\n",
    "import numpy as np\n",
    "from os.path import join as opj\n",
    "\n",
    "import matplotlib.pyplot as plt\n",
    "import seaborn as sns\n",
    "sns.set_style('white')\n",
    "sns.set_context('talk')\n",
    "\n",
    "sys.path.append('..')\n",
    "from utils import gsearch, print_list, str_extract\n",
    "import rsatoolbox as rsa\n",
    "\n",
    "in_dir = 'outputs/roi_rsa'"
   ]
  },
  {
   "cell_type": "markdown",
   "metadata": {},
   "source": [
    "Get IDs of valid participants"
   ]
  },
  {
   "cell_type": "code",
   "execution_count": 2,
   "metadata": {},
   "outputs": [
    {
     "name": "stdout",
     "output_type": "stream",
     "text": [
      "[ 1  2  4  5  6  7  8  9 10 11 12 13 14 15 16 18 19 20 21 22 23 24 25 26\n",
      " 27 28 29 30]\n"
     ]
    }
   ],
   "source": [
    "subjects = np.loadtxt('../1_preprocessing/outputs/valid_participants.txt', dtype=int)\n",
    "print(subjects)"
   ]
  },
  {
   "cell_type": "code",
   "execution_count": 3,
   "metadata": {},
   "outputs": [],
   "source": [
    "corr_list = []\n",
    "\n",
    "for s in subjects:\n",
    "    sub_id = f'sub-{s:02}'\n",
    "\n",
    "    # Load behavioral RDMs\n",
    "    behav_file = opj(in_dir, sub_id, f'{sub_id}_behavioral_RDM.p')\n",
    "    with open(behav_file, 'rb') as f:\n",
    "        behav_dict = pickle.load(f)\n",
    "\n",
    "    # Load neuro RDMs\n",
    "    neuro_files = gsearch(in_dir, sub_id, '*RDM.h5')\n",
    "\n",
    "    # Compute Spearman correlation between each behavioral and neural rDM\n",
    "    for behav_label, behav_model in behav_dict.items():\n",
    "        behav_rdm = behav_model.predict_rdm() # Load behav RDM\n",
    "\n",
    "        for roi_file in neuro_files:\n",
    "            roi_label = str_extract('(?<=roi-)[A-Z]+', roi_file)\n",
    "            roi_rdm = rsa.rdm.load_rdm(roi_file) # Load neuro RDM\n",
    "\n",
    "            # Compare using Spearman correlation\n",
    "            corr = rsa.rdm.compare_spearman(behav_rdm, roi_rdm)\n",
    "\n",
    "            corr_list.append((sub_id, roi_label, behav_label, corr[0][0]))"
   ]
  },
  {
   "cell_type": "code",
   "execution_count": 4,
   "metadata": {},
   "outputs": [
    {
     "name": "stdout",
     "output_type": "stream",
     "text": [
      "(582, 5)\n"
     ]
    },
    {
     "data": {
      "text/html": [
       "<div>\n",
       "<style scoped>\n",
       "    .dataframe tbody tr th:only-of-type {\n",
       "        vertical-align: middle;\n",
       "    }\n",
       "\n",
       "    .dataframe tbody tr th {\n",
       "        vertical-align: top;\n",
       "    }\n",
       "\n",
       "    .dataframe thead th {\n",
       "        text-align: right;\n",
       "    }\n",
       "</style>\n",
       "<table border=\"1\" class=\"dataframe\">\n",
       "  <thead>\n",
       "    <tr style=\"text-align: right;\">\n",
       "      <th></th>\n",
       "      <th>subject</th>\n",
       "      <th>roi</th>\n",
       "      <th>model</th>\n",
       "      <th>r</th>\n",
       "      <th>z</th>\n",
       "    </tr>\n",
       "  </thead>\n",
       "  <tbody>\n",
       "    <tr>\n",
       "      <th>0</th>\n",
       "      <td>sub-01</td>\n",
       "      <td>DMPFC</td>\n",
       "      <td>belief</td>\n",
       "      <td>-0.003265</td>\n",
       "      <td>-0.003265</td>\n",
       "    </tr>\n",
       "    <tr>\n",
       "      <th>1</th>\n",
       "      <td>sub-01</td>\n",
       "      <td>LTPJ</td>\n",
       "      <td>belief</td>\n",
       "      <td>0.005088</td>\n",
       "      <td>0.005088</td>\n",
       "    </tr>\n",
       "    <tr>\n",
       "      <th>2</th>\n",
       "      <td>sub-01</td>\n",
       "      <td>MMPFC</td>\n",
       "      <td>belief</td>\n",
       "      <td>-0.004807</td>\n",
       "      <td>-0.004807</td>\n",
       "    </tr>\n",
       "    <tr>\n",
       "      <th>3</th>\n",
       "      <td>sub-01</td>\n",
       "      <td>PC</td>\n",
       "      <td>belief</td>\n",
       "      <td>-0.032646</td>\n",
       "      <td>-0.032658</td>\n",
       "    </tr>\n",
       "    <tr>\n",
       "      <th>4</th>\n",
       "      <td>sub-01</td>\n",
       "      <td>RSTS</td>\n",
       "      <td>belief</td>\n",
       "      <td>0.036715</td>\n",
       "      <td>0.036731</td>\n",
       "    </tr>\n",
       "  </tbody>\n",
       "</table>\n",
       "</div>"
      ],
      "text/plain": [
       "  subject    roi   model         r         z\n",
       "0  sub-01  DMPFC  belief -0.003265 -0.003265\n",
       "1  sub-01   LTPJ  belief  0.005088  0.005088\n",
       "2  sub-01  MMPFC  belief -0.004807 -0.004807\n",
       "3  sub-01     PC  belief -0.032646 -0.032658\n",
       "4  sub-01   RSTS  belief  0.036715  0.036731"
      ]
     },
     "execution_count": 4,
     "metadata": {},
     "output_type": "execute_result"
    }
   ],
   "source": [
    "corr_df = pd.DataFrame(corr_list, columns=['subject', 'roi', 'model', 'r'])\n",
    "corr_df['z'] = np.arctanh(corr_df.r)\n",
    "\n",
    "print(corr_df.shape)\n",
    "corr_df.head()"
   ]
  },
  {
   "cell_type": "code",
   "execution_count": 5,
   "metadata": {},
   "outputs": [
    {
     "data": {
      "text/plain": [
       "<seaborn.axisgrid.FacetGrid at 0x2af0965bea90>"
      ]
     },
     "execution_count": 5,
     "metadata": {},
     "output_type": "execute_result"
    },
    {
     "data": {
      "image/png": "[encoded data removed]",
      "text/plain": [
       "<Figure size 825.025x360 with 1 Axes>"
      ]
     },
     "metadata": {},
     "output_type": "display_data"
    }
   ],
   "source": [
    "sns.catplot(data=corr_df, x='roi', y='z', hue='model', kind='bar', aspect=2)"
   ]
  }
 ],
 "metadata": {
  "kernelspec": {
   "display_name": "Python [conda env:root] *",
   "language": "python",
   "name": "conda-root-py"
  },
  "language_info": {
   "codemirror_mode": {
    "name": "ipython",
    "version": 3
   },
   "file_extension": ".py",
   "mimetype": "text/x-python",
   "name": "python",
   "nbconvert_exporter": "python",
   "pygments_lexer": "ipython3",
   "version": "3.8.5"
  }
 },
 "nbformat": 4,
 "nbformat_minor": 4
}
