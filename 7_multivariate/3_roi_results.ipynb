{
 "cells": [
  {
   "cell_type": "markdown",
   "metadata": {},
   "source": [
    "# ROI analysis: Results\n",
    "Natalia Vélez, April 2022"
   ]
  },
  {
   "cell_type": "code",
   "execution_count": 7,
   "metadata": {},
   "outputs": [],
   "source": [
    "%matplotlib inline\n",
    "\n",
    "import sys, pickle\n",
    "import pandas as pd\n",
    "import numpy as np\n",
    "from os.path import join as opj\n",
    "from pingouin import partial_corr\n",
    "\n",
    "import matplotlib.pyplot as plt\n",
    "import seaborn as sns\n",
    "sns.set_style('white')\n",
    "sns.set_context('talk')\n",
    "\n",
    "sys.path.append('..')\n",
    "from utils import gsearch, print_list, str_extract\n",
    "import rsatoolbox as rsa\n",
    "\n",
    "in_dir = 'outputs/roi_rsa'"
   ]
  },
  {
   "cell_type": "markdown",
   "metadata": {},
   "source": [
    "Get IDs of valid participants"
   ]
  },
  {
   "cell_type": "code",
   "execution_count": 8,
   "metadata": {},
   "outputs": [
    {
     "name": "stdout",
     "output_type": "stream",
     "text": [
      "[ 1  2  4  5  6  7  8  9 10 11 12 13 14 15 16 18 19 20 21 22 23 24 25 26\n",
      " 27 28 29 30]\n"
     ]
    }
   ],
   "source": [
    "subjects = np.loadtxt('../1_preprocessing/outputs/valid_participants.txt', dtype=int)\n",
    "print(subjects)"
   ]
  },
  {
   "cell_type": "markdown",
   "metadata": {},
   "source": [
    "Unroll distances into one big dataframe"
   ]
  },
  {
   "cell_type": "code",
   "execution_count": 9,
   "metadata": {},
   "outputs": [
    {
     "name": "stdout",
     "output_type": "stream",
     "text": [
      "(1271037, 6)\n"
     ]
    },
    {
     "data": {
      "text/html": [
       "<div>\n",
       "<style scoped>\n",
       "    .dataframe tbody tr th:only-of-type {\n",
       "        vertical-align: middle;\n",
       "    }\n",
       "\n",
       "    .dataframe tbody tr th {\n",
       "        vertical-align: top;\n",
       "    }\n",
       "\n",
       "    .dataframe thead th {\n",
       "        text-align: right;\n",
       "    }\n",
       "</style>\n",
       "<table border=\"1\" class=\"dataframe\">\n",
       "  <thead>\n",
       "    <tr style=\"text-align: right;\">\n",
       "      <th></th>\n",
       "      <th>belief</th>\n",
       "      <th>time</th>\n",
       "      <th>block</th>\n",
       "      <th>roi</th>\n",
       "      <th>neuro</th>\n",
       "      <th>subject</th>\n",
       "    </tr>\n",
       "  </thead>\n",
       "  <tbody>\n",
       "    <tr>\n",
       "      <th>0</th>\n",
       "      <td>0.183503</td>\n",
       "      <td>15.70</td>\n",
       "      <td>0.0</td>\n",
       "      <td>DMPFC</td>\n",
       "      <td>0.468593</td>\n",
       "      <td>sub-01</td>\n",
       "    </tr>\n",
       "    <tr>\n",
       "      <th>1</th>\n",
       "      <td>0.183503</td>\n",
       "      <td>74.15</td>\n",
       "      <td>1.0</td>\n",
       "      <td>DMPFC</td>\n",
       "      <td>1.174391</td>\n",
       "      <td>sub-01</td>\n",
       "    </tr>\n",
       "    <tr>\n",
       "      <th>2</th>\n",
       "      <td>0.183503</td>\n",
       "      <td>88.60</td>\n",
       "      <td>1.0</td>\n",
       "      <td>DMPFC</td>\n",
       "      <td>0.959533</td>\n",
       "      <td>sub-01</td>\n",
       "    </tr>\n",
       "    <tr>\n",
       "      <th>3</th>\n",
       "      <td>0.183503</td>\n",
       "      <td>103.30</td>\n",
       "      <td>1.0</td>\n",
       "      <td>DMPFC</td>\n",
       "      <td>0.820586</td>\n",
       "      <td>sub-01</td>\n",
       "    </tr>\n",
       "    <tr>\n",
       "      <th>4</th>\n",
       "      <td>0.333333</td>\n",
       "      <td>146.85</td>\n",
       "      <td>1.0</td>\n",
       "      <td>DMPFC</td>\n",
       "      <td>0.255327</td>\n",
       "      <td>sub-01</td>\n",
       "    </tr>\n",
       "  </tbody>\n",
       "</table>\n",
       "</div>"
      ],
      "text/plain": [
       "     belief    time  block    roi     neuro subject\n",
       "0  0.183503   15.70    0.0  DMPFC  0.468593  sub-01\n",
       "1  0.183503   74.15    1.0  DMPFC  1.174391  sub-01\n",
       "2  0.183503   88.60    1.0  DMPFC  0.959533  sub-01\n",
       "3  0.183503  103.30    1.0  DMPFC  0.820586  sub-01\n",
       "4  0.333333  146.85    1.0  DMPFC  0.255327  sub-01"
      ]
     },
     "execution_count": 9,
     "metadata": {},
     "output_type": "execute_result"
    }
   ],
   "source": [
    "distance_list = []\n",
    "for s in subjects:\n",
    "    sub_id = f'sub-{s:02}'\n",
    "\n",
    "    # Load behavioral RDMs\n",
    "    behav_file = opj(in_dir, sub_id, f'{sub_id}_behavioral_RDM.p')\n",
    "    with open(behav_file, 'rb') as f:\n",
    "        behav_dict = pickle.load(f)\n",
    "\n",
    "    # Load behavioral RDMs\n",
    "    sub_rdms = {k:v.predict() for k,v in behav_dict.items()}\n",
    "\n",
    "    # Load neuro RDMs\n",
    "    neuro_files = gsearch(in_dir, sub_id, '*RDM.h5')\n",
    "    roi_labels = []\n",
    "    for roi_file in neuro_files:\n",
    "        roi_label = str_extract('(?<=roi-)[A-Z]+', roi_file)\n",
    "        roi_labels.append(roi_label)\n",
    "\n",
    "        roi_rdm = rsa.rdm.load_rdm(roi_file) # Load neuro RDM\n",
    "        sub_rdms[roi_label] = roi_rdm.dissimilarities.flatten()\n",
    "\n",
    "    # Put everything together into a dataframe\n",
    "    sub_df = pd.DataFrame(sub_rdms)\n",
    "    sub_df = pd.melt(sub_df, id_vars=list(behav_dict.keys()), value_vars=roi_labels, var_name='roi', value_name='neuro').assign(subject=sub_id)\n",
    "    \n",
    "    distance_list.append(sub_df)\n",
    "    \n",
    "distance_df = pd.concat(distance_list)\n",
    "print(distance_df.shape)\n",
    "distance_df.head()"
   ]
  },
  {
   "cell_type": "markdown",
   "metadata": {},
   "source": [
    "Compute partial correlations between belief and neuro RDMs, after controlling for time:"
   ]
  },
  {
   "cell_type": "code",
   "execution_count": 15,
   "metadata": {},
   "outputs": [
    {
     "name": "stdout",
     "output_type": "stream",
     "text": [
      "(194, 4)\n"
     ]
    },
    {
     "data": {
      "text/html": [
       "<div>\n",
       "<style scoped>\n",
       "    .dataframe tbody tr th:only-of-type {\n",
       "        vertical-align: middle;\n",
       "    }\n",
       "\n",
       "    .dataframe tbody tr th {\n",
       "        vertical-align: top;\n",
       "    }\n",
       "\n",
       "    .dataframe thead th {\n",
       "        text-align: right;\n",
       "    }\n",
       "</style>\n",
       "<table border=\"1\" class=\"dataframe\">\n",
       "  <thead>\n",
       "    <tr style=\"text-align: right;\">\n",
       "      <th></th>\n",
       "      <th>subject</th>\n",
       "      <th>roi</th>\n",
       "      <th>r</th>\n",
       "      <th>z</th>\n",
       "    </tr>\n",
       "  </thead>\n",
       "  <tbody>\n",
       "    <tr>\n",
       "      <th>0</th>\n",
       "      <td>sub-01</td>\n",
       "      <td>DMPFC</td>\n",
       "      <td>-0.005772</td>\n",
       "      <td>-0.005773</td>\n",
       "    </tr>\n",
       "    <tr>\n",
       "      <th>0</th>\n",
       "      <td>sub-01</td>\n",
       "      <td>LTPJ</td>\n",
       "      <td>-0.016536</td>\n",
       "      <td>-0.016538</td>\n",
       "    </tr>\n",
       "    <tr>\n",
       "      <th>0</th>\n",
       "      <td>sub-01</td>\n",
       "      <td>MMPFC</td>\n",
       "      <td>-0.017770</td>\n",
       "      <td>-0.017772</td>\n",
       "    </tr>\n",
       "    <tr>\n",
       "      <th>0</th>\n",
       "      <td>sub-01</td>\n",
       "      <td>PC</td>\n",
       "      <td>-0.022896</td>\n",
       "      <td>-0.022900</td>\n",
       "    </tr>\n",
       "    <tr>\n",
       "      <th>0</th>\n",
       "      <td>sub-01</td>\n",
       "      <td>RSTS</td>\n",
       "      <td>-0.011241</td>\n",
       "      <td>-0.011241</td>\n",
       "    </tr>\n",
       "  </tbody>\n",
       "</table>\n",
       "</div>"
      ],
      "text/plain": [
       "  subject    roi         r         z\n",
       "0  sub-01  DMPFC -0.005772 -0.005773\n",
       "0  sub-01   LTPJ -0.016536 -0.016538\n",
       "0  sub-01  MMPFC -0.017770 -0.017772\n",
       "0  sub-01     PC -0.022896 -0.022900\n",
       "0  sub-01   RSTS -0.011241 -0.011241"
      ]
     },
     "execution_count": 15,
     "metadata": {},
     "output_type": "execute_result"
    }
   ],
   "source": [
    "corr_list = []\n",
    "\n",
    "for (sub,roi),group in distance_df.groupby(['subject', 'roi']):\n",
    "\n",
    "#     # Method 1: partial correlation\n",
    "#     roi_corr = partial_corr(data=group, x='belief', y='neuro', covar=['time', 'block'], method='spearman')\n",
    "#     roi_corr['subject'] = sub\n",
    "#     roi_corr['roi'] = roi\n",
    "\n",
    "    # Method 2: Correlation\n",
    "    \n",
    "    cor_coeff = group[['belief', 'neuro']].corr('spearman').loc['belief', 'neuro']\n",
    "    roi_corr = pd.DataFrame({'subject': [sub], 'roi': [roi], 'r': [cor_coeff]})    \n",
    "    corr_list.append(roi_corr)\n",
    "    \n",
    "corr_df = pd.concat(corr_list)\n",
    "corr_df['z'] = np.arctanh(corr_df.r)\n",
    "print(corr_df.shape)\n",
    "corr_df.head()"
   ]
  },
  {
   "cell_type": "code",
   "execution_count": 17,
   "metadata": {},
   "outputs": [
    {
     "data": {
      "text/plain": [
       "roi\n",
       "DMPFC    0.009835\n",
       "LTPJ     0.014845\n",
       "MMPFC    0.013130\n",
       "PC       0.012366\n",
       "RSTS     0.017649\n",
       "RTPJ     0.010381\n",
       "VMPFC    0.013630\n",
       "Name: z, dtype: float64"
      ]
     },
     "execution_count": 17,
     "metadata": {},
     "output_type": "execute_result"
    }
   ],
   "source": [
    "corr_df.groupby('roi').z.mean()"
   ]
  },
  {
   "cell_type": "markdown",
   "metadata": {},
   "source": [
    "Plot RSA result"
   ]
  },
  {
   "cell_type": "code",
   "execution_count": 18,
   "metadata": {},
   "outputs": [
    {
     "data": {
      "text/plain": [
       "<seaborn.axisgrid.FacetGrid at 0x2b5fc3e7c8b0>"
      ]
     },
     "execution_count": 18,
     "metadata": {},
     "output_type": "execute_result"
    },
    {
     "data": {
      "image/png": "[encoded data removed]",
      "text/plain": [
       "<Figure size 720x360 with 1 Axes>"
      ]
     },
     "metadata": {},
     "output_type": "display_data"
    }
   ],
   "source": [
    "sns.catplot(data=corr_df, x='roi', y='z', kind='bar', aspect=2, fc='#137fad')"
   ]
  },
  {
   "cell_type": "code",
   "execution_count": null,
   "metadata": {},
   "outputs": [],
   "source": []
  }
 ],
 "metadata": {
  "kernelspec": {
   "display_name": "Python [conda env:.conda-py3]",
   "language": "python",
   "name": "conda-env-.conda-py3-py"
  },
  "language_info": {
   "codemirror_mode": {
    "name": "ipython",
    "version": 3
   },
   "file_extension": ".py",
   "mimetype": "text/x-python",
   "name": "python",
   "nbconvert_exporter": "python",
   "pygments_lexer": "ipython3",
   "version": "3.8.5"
  }
 },
 "nbformat": 4,
 "nbformat_minor": 4
}
