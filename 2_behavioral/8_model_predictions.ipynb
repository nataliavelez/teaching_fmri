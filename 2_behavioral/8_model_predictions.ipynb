{
 "cells": [
  {
   "cell_type": "markdown",
   "metadata": {},
   "source": [
    "# Generate trial-by-trial model predictions"
   ]
  },
  {
   "cell_type": "markdown",
   "metadata": {},
   "source": [
    "Natalia Vélez, March 2022"
   ]
  },
  {
   "cell_type": "code",
   "execution_count": 1,
   "metadata": {},
   "outputs": [
    {
     "name": "stdout",
     "output_type": "stream",
     "text": [
      "Loading teaching problems\n",
      "{'A': [[0, 0, 1, 1, 0, 0],\n",
      "       [0, 1, 1, 1, 1, 0],\n",
      "       [1, 1, 1, 1, 1, 1],\n",
      "       [1, 1, 1, 1, 1, 1],\n",
      "       [0, 1, 1, 1, 1, 0],\n",
      "       [0, 0, 1, 1, 0, 0]],\n",
      " 'B': [[1, 1, 1, 0, 0, 0],\n",
      "       [1, 1, 1, 0, 0, 0],\n",
      "       [1, 1, 1, 1, 0, 0],\n",
      "       [0, 0, 1, 1, 0, 0],\n",
      "       [0, 0, 0, 0, 0, 0],\n",
      "       [0, 0, 0, 0, 0, 0]],\n",
      " 'C': [[0, 0, 0, 1, 1, 1],\n",
      "       [0, 0, 0, 1, 1, 1],\n",
      "       [0, 0, 1, 1, 1, 1],\n",
      "       [0, 0, 1, 1, 0, 0],\n",
      "       [0, 0, 0, 0, 0, 0],\n",
      "       [0, 0, 0, 0, 0, 0]],\n",
      " 'D': [[0, 0, 0, 0, 0, 0],\n",
      "       [0, 0, 0, 0, 0, 0],\n",
      "       [0, 0, 1, 1, 0, 0],\n",
      "       [1, 1, 1, 1, 1, 1],\n",
      "       [1, 1, 1, 1, 1, 1],\n",
      "       [1, 1, 1, 1, 1, 1]]}\n",
      "Participants excluded from analysis:\n",
      "[3, 17]\n",
      "Cleaning up human behavioral data\n",
      "    subject  run  block_idx  ex_idx first_movement   start  problem  \\\n",
      "0         1    1          0       0         [0, 1]  [0, 0]       22   \n",
      "1         1    1          0       1         [0, 1]  [0, 0]       22   \n",
      "3         1    1          1       0         [0, 4]  [0, 5]       18   \n",
      "4         1    1          1       1         [0, 4]  [0, 5]       18   \n",
      "5         1    1          1       2         [0, 4]  [0, 5]       18   \n",
      "6         1    1          2       0         [5, 4]  [5, 5]        1   \n",
      "7         1    1          2       1         [5, 4]  [5, 5]        1   \n",
      "8         1    1          2       2         [5, 4]  [5, 5]        1   \n",
      "10        1    1          3       1         [5, 1]  [5, 0]       16   \n",
      "11        1    1          3       2         [5, 1]  [5, 0]       16   \n",
      "12        1    2          0       0         [0, 1]  [0, 0]       20   \n",
      "13        1    2          0       1         [0, 1]  [0, 0]       20   \n",
      "14        1    2          0       2         [0, 1]  [0, 0]       20   \n",
      "16        1    2          1       1         [5, 4]  [5, 5]       28   \n",
      "17        1    2          1       2         [5, 4]  [5, 5]       28   \n",
      "\n",
      "                   order  example cursor_coords example_coords  cursor  \n",
      "0   ['C', 'B', 'D', 'A']        8        [0, 0]         [1, 2]       0  \n",
      "1   ['C', 'B', 'D', 'A']       27        [1, 2]         [4, 3]       8  \n",
      "3   ['D', 'B', 'C', 'A']        3        [0, 5]         [0, 3]       5  \n",
      "4   ['D', 'B', 'C', 'A']       32        [0, 3]         [5, 2]       3  \n",
      "5   ['D', 'B', 'C', 'A']        7        [5, 2]         [1, 1]      32  \n",
      "6   ['A', 'D', 'C', 'B']       31        [5, 5]         [5, 1]      35  \n",
      "7   ['A', 'D', 'C', 'B']        1        [5, 1]         [0, 1]      31  \n",
      "8   ['A', 'D', 'C', 'B']        4        [0, 1]         [0, 4]       1  \n",
      "10  ['B', 'C', 'A', 'D']       27        [5, 0]         [4, 3]      30  \n",
      "11  ['B', 'C', 'A', 'D']        8        [4, 3]         [1, 2]      27  \n",
      "12  ['D', 'C', 'A', 'B']        9        [0, 0]         [1, 3]       0  \n",
      "13  ['D', 'C', 'A', 'B']       19        [1, 3]         [3, 1]       9  \n",
      "14  ['D', 'C', 'A', 'B']       21        [3, 1]         [3, 3]      19  \n",
      "16  ['C', 'D', 'B', 'A']       10        [5, 5]         [1, 4]      35  \n",
      "17  ['C', 'D', 'B', 'A']       26        [1, 4]         [4, 2]      10  \n"
     ]
    }
   ],
   "source": [
    "%matplotlib inline\n",
    "import sys, pprint\n",
    "import numpy as np\n",
    "import pandas as pd\n",
    "import teaching_models as teach\n",
    "import matplotlib.pyplot as plt\n",
    "import seaborn as sns\n",
    "from scipy.stats import pearsonr\n",
    "\n",
    "sys.path.append('..')\n",
    "from utils import gsearch, int_extract, read_json\n",
    "\n",
    "sns.set_context('talk')\n",
    "sns.set_style('white')"
   ]
  },
  {
   "cell_type": "markdown",
   "metadata": {},
   "source": [
    "## First-level model"
   ]
  },
  {
   "cell_type": "markdown",
   "metadata": {},
   "source": [
    "### Generate trial-by-trial parametric regressors"
   ]
  },
  {
   "cell_type": "markdown",
   "metadata": {},
   "source": [
    "Find MLE files:"
   ]
  },
  {
   "cell_type": "code",
   "execution_count": 2,
   "metadata": {},
   "outputs": [
    {
     "name": "stdout",
     "output_type": "stream",
     "text": [
      "Found 28 files\n",
      "outputs/fit_model-info_pref_cost_method-optimize/sub-01_model-info_pref_cost_method-optimize_result.json\n",
      "outputs/fit_model-info_pref_cost_method-optimize/sub-02_model-info_pref_cost_method-optimize_result.json\n",
      "outputs/fit_model-info_pref_cost_method-optimize/sub-04_model-info_pref_cost_method-optimize_result.json\n",
      "outputs/fit_model-info_pref_cost_method-optimize/sub-05_model-info_pref_cost_method-optimize_result.json\n",
      "outputs/fit_model-info_pref_cost_method-optimize/sub-06_model-info_pref_cost_method-optimize_result.json\n",
      "outputs/fit_model-info_pref_cost_method-optimize/sub-07_model-info_pref_cost_method-optimize_result.json\n",
      "outputs/fit_model-info_pref_cost_method-optimize/sub-08_model-info_pref_cost_method-optimize_result.json\n",
      "outputs/fit_model-info_pref_cost_method-optimize/sub-09_model-info_pref_cost_method-optimize_result.json\n",
      "outputs/fit_model-info_pref_cost_method-optimize/sub-10_model-info_pref_cost_method-optimize_result.json\n",
      "outputs/fit_model-info_pref_cost_method-optimize/sub-11_model-info_pref_cost_method-optimize_result.json\n",
      "...\n"
     ]
    }
   ],
   "source": [
    "param_files = gsearch('outputs/fit_model-info_pref_cost_method-optimize/*.json')\n",
    "param_files.sort()\n",
    "\n",
    "print(f'Found {len(param_files)} files')\n",
    "print(*param_files[:10], sep='\\n')\n",
    "print('...')"
   ]
  },
  {
   "cell_type": "markdown",
   "metadata": {},
   "source": [
    "Load MLE:"
   ]
  },
  {
   "cell_type": "code",
   "execution_count": 3,
   "metadata": {},
   "outputs": [
    {
     "name": "stdout",
     "output_type": "stream",
     "text": [
      "{1: array([ 0.08682452, 26.92077464,  2.75994875]),\n",
      " 2: array([1.12689429e-02, 1.17808207e+01, 2.97907311e+00]),\n",
      " 4: array([ 1.33021777, 22.69895661,  4.02278999]),\n",
      " 5: array([0.20254451, 8.80212628, 2.54752825]),\n",
      " 6: array([ 0.05806675, 31.32412117,  2.76783619]),\n",
      " 7: array([1.16181806e-14, 2.37553024e+01, 1.31432790e+00]),\n",
      " 8: array([ 0.0797263 , 23.65380052,  2.40645297]),\n",
      " 9: array([ 0.        , 15.08929169,  2.66616572]),\n",
      " 10: array([ 1.00391341, 14.71617393,  4.25928774]),\n",
      " 11: array([ 2.36184777, 23.73162343,  0.95591521]),\n",
      " 12: array([ 2.27477608, 17.3791758 ,  2.63036876]),\n",
      " 13: array([ 1.47053635, 27.12446805,  2.37017564]),\n",
      " 14: array([ 0.0599202 , 11.81754121,  5.45340509]),\n",
      " 15: array([9.32525408e-14, 2.64190062e+01, 4.46781006e+00]),\n",
      " 16: array([ 0.02862868, 25.73139327,  3.55613723]),\n",
      " 18: array([2.31202531e-02, 3.14039094e+01, 4.90516079e+00]),\n",
      " 19: array([ 0.62950733, 22.29625927,  3.52710997]),\n",
      " 20: array([ 1.4820817 , 25.47222357,  5.15474266]),\n",
      " 21: array([0.56331037, 8.11400335, 1.34637809]),\n",
      " 22: array([1.42806900e-13, 1.73014652e+01, 3.62244195e+00]),\n",
      " 23: array([ 0.59194095, 22.04154619,  4.71805158]),\n",
      " 24: array([ 0.47138423, 19.32047874,  2.53981459]),\n",
      " 25: array([ 2.14182556, 11.62784972,  2.43215675]),\n",
      " 26: array([ 0.06892362, 28.5201931 ,  2.86836351]),\n",
      " 27: array([ 0.49998984, 26.75285698,  3.66376463]),\n",
      " 28: array([1.04025238e-17, 4.31019198e+01, 5.17480809e+00]),\n",
      " 29: array([ 1.55063605, 22.15470566,  2.795589  ]),\n",
      " 30: array([ 3.15373244, 20.05639487,  5.06656305])}\n"
     ]
    }
   ],
   "source": [
    "weights = {}\n",
    "\n",
    "for f in param_files:\n",
    "    # read model-fitting results\n",
    "    res = read_json(f)\n",
    "\n",
    "    # save subject, param values\n",
    "    sub = int_extract('(?<=sub-)[0-9]{2}', f)\n",
    "    sub_w = np.array(res['x'])\n",
    "\n",
    "    weights[sub] = sub_w\n",
    "    \n",
    "pprint.pprint(weights)"
   ]
  },
  {
   "cell_type": "markdown",
   "metadata": {},
   "source": [
    "Helper function: Use parameter values, behavioral data to generate trial-by-trial predictions"
   ]
  },
  {
   "cell_type": "code",
   "execution_count": 4,
   "metadata": {},
   "outputs": [
    {
     "name": "stdout",
     "output_type": "stream",
     "text": [
      "===== sub-01 =====\n",
      "===== sub-02 =====\n",
      "===== sub-04 =====\n",
      "===== sub-05 =====\n",
      "===== sub-06 =====\n",
      "===== sub-07 =====\n",
      "===== sub-08 =====\n",
      "===== sub-09 =====\n",
      "===== sub-10 =====\n",
      "===== sub-11 =====\n",
      "===== sub-12 =====\n",
      "===== sub-13 =====\n",
      "===== sub-14 =====\n",
      "===== sub-15 =====\n",
      "===== sub-16 =====\n",
      "===== sub-18 =====\n",
      "===== sub-19 =====\n",
      "===== sub-20 =====\n",
      "===== sub-21 =====\n",
      "===== sub-22 =====\n",
      "===== sub-23 =====\n",
      "===== sub-24 =====\n",
      "===== sub-25 =====\n",
      "===== sub-26 =====\n",
      "===== sub-27 =====\n",
      "===== sub-28 =====\n",
      "===== sub-29 =====\n",
      "===== sub-30 =====\n"
     ]
    }
   ],
   "source": [
    "model_list = []\n",
    "\n",
    "for sub, sub_data in teach.human_df.groupby('subject'):\n",
    "    print('===== sub-%02d =====' % sub)\n",
    "    # get subject-specific weights\n",
    "    sub_w = weights[sub]\n",
    "\n",
    "    for prob, prob_data in sub_data.groupby('problem'):\n",
    "        preds = teach.utility_model_predictions(data=prob_data, \n",
    "                                                pref_fun=teach.edge_pref, \n",
    "                                                weights=sub_w)\n",
    "        model_list += preds"
   ]
  },
  {
   "cell_type": "markdown",
   "metadata": {},
   "source": [
    "Save model predictions to dataframe:"
   ]
  },
  {
   "cell_type": "code",
   "execution_count": 5,
   "metadata": {},
   "outputs": [
    {
     "name": "stdout",
     "output_type": "stream",
     "text": [
      "(3213, 9)\n"
     ]
    },
    {
     "data": {
      "text/html": [
       "<div>\n",
       "<style scoped>\n",
       "    .dataframe tbody tr th:only-of-type {\n",
       "        vertical-align: middle;\n",
       "    }\n",
       "\n",
       "    .dataframe tbody tr th {\n",
       "        vertical-align: top;\n",
       "    }\n",
       "\n",
       "    .dataframe thead th {\n",
       "        text-align: right;\n",
       "    }\n",
       "</style>\n",
       "<table border=\"1\" class=\"dataframe\">\n",
       "  <thead>\n",
       "    <tr style=\"text-align: right;\">\n",
       "      <th></th>\n",
       "      <th>subject</th>\n",
       "      <th>run</th>\n",
       "      <th>block_idx</th>\n",
       "      <th>ex_idx</th>\n",
       "      <th>problem</th>\n",
       "      <th>pTrue</th>\n",
       "      <th>entropy</th>\n",
       "      <th>delta</th>\n",
       "      <th>KL</th>\n",
       "    </tr>\n",
       "  </thead>\n",
       "  <tbody>\n",
       "    <tr>\n",
       "      <th>0</th>\n",
       "      <td>1</td>\n",
       "      <td>7</td>\n",
       "      <td>2</td>\n",
       "      <td>0</td>\n",
       "      <td>0</td>\n",
       "      <td>0.059265</td>\n",
       "      <td>0.007964</td>\n",
       "      <td>0.283881</td>\n",
       "      <td>0.298933</td>\n",
       "    </tr>\n",
       "    <tr>\n",
       "      <th>1</th>\n",
       "      <td>1</td>\n",
       "      <td>7</td>\n",
       "      <td>2</td>\n",
       "      <td>1</td>\n",
       "      <td>0</td>\n",
       "      <td>-0.303844</td>\n",
       "      <td>0.050198</td>\n",
       "      <td>-0.538498</td>\n",
       "      <td>-0.202956</td>\n",
       "    </tr>\n",
       "    <tr>\n",
       "      <th>2</th>\n",
       "      <td>1</td>\n",
       "      <td>7</td>\n",
       "      <td>2</td>\n",
       "      <td>2</td>\n",
       "      <td>0</td>\n",
       "      <td>0.349995</td>\n",
       "      <td>-0.594840</td>\n",
       "      <td>0.478450</td>\n",
       "      <td>0.576294</td>\n",
       "    </tr>\n",
       "    <tr>\n",
       "      <th>3</th>\n",
       "      <td>1</td>\n",
       "      <td>1</td>\n",
       "      <td>2</td>\n",
       "      <td>0</td>\n",
       "      <td>1</td>\n",
       "      <td>-0.619363</td>\n",
       "      <td>0.214034</td>\n",
       "      <td>-0.394747</td>\n",
       "      <td>0.092863</td>\n",
       "    </tr>\n",
       "    <tr>\n",
       "      <th>4</th>\n",
       "      <td>1</td>\n",
       "      <td>1</td>\n",
       "      <td>2</td>\n",
       "      <td>1</td>\n",
       "      <td>1</td>\n",
       "      <td>0.349995</td>\n",
       "      <td>-0.594840</td>\n",
       "      <td>0.793969</td>\n",
       "      <td>3.000827</td>\n",
       "    </tr>\n",
       "  </tbody>\n",
       "</table>\n",
       "</div>"
      ],
      "text/plain": [
       "   subject  run  block_idx  ex_idx  problem     pTrue   entropy     delta  \\\n",
       "0        1    7          2       0        0  0.059265  0.007964  0.283881   \n",
       "1        1    7          2       1        0 -0.303844  0.050198 -0.538498   \n",
       "2        1    7          2       2        0  0.349995 -0.594840  0.478450   \n",
       "3        1    1          2       0        1 -0.619363  0.214034 -0.394747   \n",
       "4        1    1          2       1        1  0.349995 -0.594840  0.793969   \n",
       "\n",
       "         KL  \n",
       "0  0.298933  \n",
       "1 -0.202956  \n",
       "2  0.576294  \n",
       "3  0.092863  \n",
       "4  3.000827  "
      ]
     },
     "execution_count": 5,
     "metadata": {},
     "output_type": "execute_result"
    }
   ],
   "source": [
    "param_reg = ['pTrue', 'entropy', 'delta', 'KL']\n",
    "# convert to df\n",
    "model_df = pd.DataFrame(model_list)\n",
    "model_df = model_df[['subject', 'run', 'block_idx', 'ex_idx', 'problem'] + param_reg]\n",
    "\n",
    "# mean-center parametric regressors\n",
    "def mean_center(col):\n",
    "    means = model_df.groupby('subject')[col].transform('mean')\n",
    "    return model_df[col] - means\n",
    "\n",
    "for r in param_reg:\n",
    "    model_df[r] = mean_center(r)\n",
    "\n",
    "print(model_df.shape)\n",
    "model_df.head()"
   ]
  },
  {
   "cell_type": "markdown",
   "metadata": {},
   "source": [
    "### Sanity check: Correlations between parametric regressors\n",
    "\n",
    "A priori, we planned to operationalize the learner's *belief* as the learner's posterior belief in the true hypothesis (`pTrue`), and the learner's belief update as the KL divergence in the learner's beliefs between subsequent trials (`KL`). Here, we plan to check the correlations between these parametric regressors, and compare them to two alternative operationalizations:\n",
    "\n",
    "* `entropy`: The learner's uncertainty, measured over the full belief distribution (note this is inversely related to learner's posterior belief)\n",
    "* `delta`: The change in the learner's belief in the true hypothesis between subsequent trials"
   ]
  },
  {
   "cell_type": "markdown",
   "metadata": {},
   "source": [
    "Dataframe of correlations:"
   ]
  },
  {
   "cell_type": "code",
   "execution_count": 6,
   "metadata": {},
   "outputs": [
    {
     "data": {
      "text/html": [
       "<div>\n",
       "<style scoped>\n",
       "    .dataframe tbody tr th:only-of-type {\n",
       "        vertical-align: middle;\n",
       "    }\n",
       "\n",
       "    .dataframe tbody tr th {\n",
       "        vertical-align: top;\n",
       "    }\n",
       "\n",
       "    .dataframe thead th {\n",
       "        text-align: right;\n",
       "    }\n",
       "</style>\n",
       "<table border=\"1\" class=\"dataframe\">\n",
       "  <thead>\n",
       "    <tr style=\"text-align: right;\">\n",
       "      <th></th>\n",
       "      <th>subject</th>\n",
       "      <th>level_1</th>\n",
       "      <th>level_2</th>\n",
       "      <th>r</th>\n",
       "    </tr>\n",
       "  </thead>\n",
       "  <tbody>\n",
       "    <tr>\n",
       "      <th>0</th>\n",
       "      <td>1</td>\n",
       "      <td>pTrue</td>\n",
       "      <td>pTrue</td>\n",
       "      <td>1.000000</td>\n",
       "    </tr>\n",
       "    <tr>\n",
       "      <th>1</th>\n",
       "      <td>1</td>\n",
       "      <td>entropy</td>\n",
       "      <td>pTrue</td>\n",
       "      <td>-0.716651</td>\n",
       "    </tr>\n",
       "    <tr>\n",
       "      <th>2</th>\n",
       "      <td>1</td>\n",
       "      <td>delta</td>\n",
       "      <td>pTrue</td>\n",
       "      <td>0.461717</td>\n",
       "    </tr>\n",
       "    <tr>\n",
       "      <th>3</th>\n",
       "      <td>1</td>\n",
       "      <td>KL</td>\n",
       "      <td>pTrue</td>\n",
       "      <td>0.175890</td>\n",
       "    </tr>\n",
       "    <tr>\n",
       "      <th>4</th>\n",
       "      <td>2</td>\n",
       "      <td>pTrue</td>\n",
       "      <td>pTrue</td>\n",
       "      <td>1.000000</td>\n",
       "    </tr>\n",
       "  </tbody>\n",
       "</table>\n",
       "</div>"
      ],
      "text/plain": [
       "   subject  level_1 level_2         r\n",
       "0        1    pTrue   pTrue  1.000000\n",
       "1        1  entropy   pTrue -0.716651\n",
       "2        1    delta   pTrue  0.461717\n",
       "3        1       KL   pTrue  0.175890\n",
       "4        2    pTrue   pTrue  1.000000"
      ]
     },
     "execution_count": 6,
     "metadata": {},
     "output_type": "execute_result"
    }
   ],
   "source": [
    "corr_df = model_df.groupby('subject')[param_reg].corr().reset_index()\n",
    "corr_df = corr_df.melt(id_vars=['subject', 'level_1'], value_vars=param_reg, \n",
    "                       var_name='level_2', value_name='r')\n",
    "corr_df.head()"
   ]
  },
  {
   "cell_type": "markdown",
   "metadata": {},
   "source": [
    "Plot correlations:"
   ]
  },
  {
   "cell_type": "code",
   "execution_count": 7,
   "metadata": {},
   "outputs": [
    {
     "data": {
      "image/png": "[encoded data removed]",
      "text/plain": [
       "<Figure size 864x864 with 9 Axes>"
      ]
     },
     "metadata": {},
     "output_type": "display_data"
    }
   ],
   "source": [
    "n_ax = len(param_reg)-1\n",
    "fig,axes=plt.subplots(n_ax, n_ax, figsize=(12,12))\n",
    "[ax.axis('off') for ax in axes.flatten()] # hide all panels\n",
    "\n",
    "for i,r_i in enumerate(param_reg):\n",
    "    for j,r_j in enumerate(param_reg[i+1:]):\n",
    "        # Plot correlation\n",
    "        group = corr_df[(corr_df.level_1 == r_i) & (corr_df.level_2 == r_j)]\n",
    "        sns.histplot(group.r, ax=axes[2-i,j])\n",
    "        \n",
    "        # Format axes\n",
    "        axes[2-i,j].set(ylabel='', xlabel=r'Correlation ($r$)', xlim=(-1,1), title = f'{r_i} & {r_j}')\n",
    "        axes[2-i,j].axvline(x=0, linestyle='--', color='#aaa')\n",
    "        axes[2-i,j].axis('on') # turn on used panels\n",
    "        \n",
    "        # Add correlation coefficient to plot\n",
    "        axes[2-i,j].text(-0.9, axes[2-i,j].get_ylim()[-1]*.9, r'$r = %0.2f$' % group.r.mean())\n",
    "                \n",
    "fig.tight_layout()"
   ]
  },
  {
   "cell_type": "markdown",
   "metadata": {},
   "source": [
    "### Save final regressors to file"
   ]
  },
  {
   "cell_type": "code",
   "execution_count": 8,
   "metadata": {},
   "outputs": [
    {
     "name": "stdout",
     "output_type": "stream",
     "text": [
      "Saving to: outputs/model_regressor_values.csv\n"
     ]
    },
    {
     "data": {
      "text/html": [
       "<div>\n",
       "<style scoped>\n",
       "    .dataframe tbody tr th:only-of-type {\n",
       "        vertical-align: middle;\n",
       "    }\n",
       "\n",
       "    .dataframe tbody tr th {\n",
       "        vertical-align: top;\n",
       "    }\n",
       "\n",
       "    .dataframe thead th {\n",
       "        text-align: right;\n",
       "    }\n",
       "</style>\n",
       "<table border=\"1\" class=\"dataframe\">\n",
       "  <thead>\n",
       "    <tr style=\"text-align: right;\">\n",
       "      <th></th>\n",
       "      <th>subject</th>\n",
       "      <th>run</th>\n",
       "      <th>block_idx</th>\n",
       "      <th>ex_idx</th>\n",
       "      <th>problem</th>\n",
       "      <th>pTrue</th>\n",
       "      <th>KL</th>\n",
       "    </tr>\n",
       "  </thead>\n",
       "  <tbody>\n",
       "    <tr>\n",
       "      <th>59</th>\n",
       "      <td>1</td>\n",
       "      <td>1</td>\n",
       "      <td>0</td>\n",
       "      <td>0</td>\n",
       "      <td>22</td>\n",
       "      <td>-0.330339</td>\n",
       "      <td>-0.187168</td>\n",
       "    </tr>\n",
       "    <tr>\n",
       "      <th>60</th>\n",
       "      <td>1</td>\n",
       "      <td>1</td>\n",
       "      <td>0</td>\n",
       "      <td>1</td>\n",
       "      <td>22</td>\n",
       "      <td>-0.236998</td>\n",
       "      <td>-0.148061</td>\n",
       "    </tr>\n",
       "    <tr>\n",
       "      <th>49</th>\n",
       "      <td>1</td>\n",
       "      <td>1</td>\n",
       "      <td>1</td>\n",
       "      <td>0</td>\n",
       "      <td>18</td>\n",
       "      <td>-0.060257</td>\n",
       "      <td>0.224787</td>\n",
       "    </tr>\n",
       "    <tr>\n",
       "      <th>50</th>\n",
       "      <td>1</td>\n",
       "      <td>1</td>\n",
       "      <td>1</td>\n",
       "      <td>1</td>\n",
       "      <td>18</td>\n",
       "      <td>0.077268</td>\n",
       "      <td>-0.443471</td>\n",
       "    </tr>\n",
       "    <tr>\n",
       "      <th>51</th>\n",
       "      <td>1</td>\n",
       "      <td>1</td>\n",
       "      <td>1</td>\n",
       "      <td>2</td>\n",
       "      <td>18</td>\n",
       "      <td>0.099995</td>\n",
       "      <td>-0.483231</td>\n",
       "    </tr>\n",
       "  </tbody>\n",
       "</table>\n",
       "</div>"
      ],
      "text/plain": [
       "    subject  run  block_idx  ex_idx  problem     pTrue        KL\n",
       "59        1    1          0       0       22 -0.330339 -0.187168\n",
       "60        1    1          0       1       22 -0.236998 -0.148061\n",
       "49        1    1          1       0       18 -0.060257  0.224787\n",
       "50        1    1          1       1       18  0.077268 -0.443471\n",
       "51        1    1          1       2       18  0.099995 -0.483231"
      ]
     },
     "execution_count": 8,
     "metadata": {},
     "output_type": "execute_result"
    }
   ],
   "source": [
    "drop_reg = ['entropy', 'delta']\n",
    "out_df = (\n",
    "    model_df\n",
    "    .copy()\n",
    "    .drop(columns=drop_reg)\n",
    "    .sort_values(by=['subject', 'run', 'block_idx', 'ex_idx'])\n",
    ")\n",
    "\n",
    "out_f = 'outputs/model_regressor_values.csv'\n",
    "print(f'Saving to: {out_f}')\n",
    "out_df.to_csv(out_f, index=False)\n",
    "out_df.head()"
   ]
  },
  {
   "cell_type": "markdown",
   "metadata": {},
   "source": [
    "## Second-level model"
   ]
  },
  {
   "cell_type": "markdown",
   "metadata": {},
   "source": [
    "Read model evidence file:"
   ]
  },
  {
   "cell_type": "code",
   "execution_count": 9,
   "metadata": {},
   "outputs": [
    {
     "data": {
      "text/html": [
       "<div>\n",
       "<style scoped>\n",
       "    .dataframe tbody tr th:only-of-type {\n",
       "        vertical-align: middle;\n",
       "    }\n",
       "\n",
       "    .dataframe tbody tr th {\n",
       "        vertical-align: top;\n",
       "    }\n",
       "\n",
       "    .dataframe thead th {\n",
       "        text-align: right;\n",
       "    }\n",
       "</style>\n",
       "<table border=\"1\" class=\"dataframe\">\n",
       "  <thead>\n",
       "    <tr style=\"text-align: right;\">\n",
       "      <th></th>\n",
       "      <th>model</th>\n",
       "      <th>pxp</th>\n",
       "    </tr>\n",
       "  </thead>\n",
       "  <tbody>\n",
       "    <tr>\n",
       "      <th>0</th>\n",
       "      <td>info_pref_cost</td>\n",
       "      <td>0.459090</td>\n",
       "    </tr>\n",
       "    <tr>\n",
       "      <th>1</th>\n",
       "      <td>info_pref</td>\n",
       "      <td>0.000005</td>\n",
       "    </tr>\n",
       "    <tr>\n",
       "      <th>2</th>\n",
       "      <td>info_cost</td>\n",
       "      <td>0.000001</td>\n",
       "    </tr>\n",
       "    <tr>\n",
       "      <th>3</th>\n",
       "      <td>pref_cost</td>\n",
       "      <td>0.540896</td>\n",
       "    </tr>\n",
       "    <tr>\n",
       "      <th>4</th>\n",
       "      <td>info</td>\n",
       "      <td>0.000002</td>\n",
       "    </tr>\n",
       "    <tr>\n",
       "      <th>5</th>\n",
       "      <td>pref</td>\n",
       "      <td>0.000002</td>\n",
       "    </tr>\n",
       "    <tr>\n",
       "      <th>6</th>\n",
       "      <td>cost</td>\n",
       "      <td>0.000002</td>\n",
       "    </tr>\n",
       "    <tr>\n",
       "      <th>7</th>\n",
       "      <td>strong</td>\n",
       "      <td>0.000002</td>\n",
       "    </tr>\n",
       "  </tbody>\n",
       "</table>\n",
       "</div>"
      ],
      "text/plain": [
       "            model       pxp\n",
       "0  info_pref_cost  0.459090\n",
       "1       info_pref  0.000005\n",
       "2       info_cost  0.000001\n",
       "3       pref_cost  0.540896\n",
       "4            info  0.000002\n",
       "5            pref  0.000002\n",
       "6            cost  0.000002\n",
       "7          strong  0.000002"
      ]
     },
     "execution_count": 9,
     "metadata": {},
     "output_type": "execute_result"
    }
   ],
   "source": [
    "model_levels = ['info_pref_cost', 'info_pref', 'info_cost', 'pref_cost', 'info', 'pref', 'cost', 'strong']\n",
    "\n",
    "human_pxp = np.loadtxt('outputs/human_model_comparison/human_model_pxp.txt', delimiter=',')\n",
    "human_labels = np.loadtxt('outputs/human_model_comparison/model_labels.txt', dtype=str)\n",
    "\n",
    "human_df = pd.DataFrame({'model': human_labels, 'pxp': human_pxp})\n",
    "human_df['model'] = human_df['model'].astype('category').cat.reorder_categories(model_levels)\n",
    "human_df = human_df.sort_values(by='model').reset_index(drop=True)\n",
    "\n",
    "human_df"
   ]
  },
  {
   "cell_type": "markdown",
   "metadata": {},
   "source": [
    "Read probability that each model generated each teacher:"
   ]
  },
  {
   "cell_type": "code",
   "execution_count": 10,
   "metadata": {},
   "outputs": [
    {
     "data": {
      "text/html": [
       "<div>\n",
       "<style scoped>\n",
       "    .dataframe tbody tr th:only-of-type {\n",
       "        vertical-align: middle;\n",
       "    }\n",
       "\n",
       "    .dataframe tbody tr th {\n",
       "        vertical-align: top;\n",
       "    }\n",
       "\n",
       "    .dataframe thead th {\n",
       "        text-align: right;\n",
       "    }\n",
       "</style>\n",
       "<table border=\"1\" class=\"dataframe\">\n",
       "  <thead>\n",
       "    <tr style=\"text-align: right;\">\n",
       "      <th></th>\n",
       "      <th>cost</th>\n",
       "      <th>info</th>\n",
       "      <th>info_cost</th>\n",
       "      <th>info_pref</th>\n",
       "      <th>info_pref_cost</th>\n",
       "      <th>pref</th>\n",
       "      <th>pref_cost</th>\n",
       "      <th>strong</th>\n",
       "      <th>subject</th>\n",
       "      <th>BF</th>\n",
       "      <th>logBF</th>\n",
       "    </tr>\n",
       "  </thead>\n",
       "  <tbody>\n",
       "    <tr>\n",
       "      <th>0</th>\n",
       "      <td>2.943015e-12</td>\n",
       "      <td>1.019723e-15</td>\n",
       "      <td>6.383238e-13</td>\n",
       "      <td>1.846948e-06</td>\n",
       "      <td>0.112413</td>\n",
       "      <td>1.541821e-05</td>\n",
       "      <td>0.887570</td>\n",
       "      <td>7.596253e-15</td>\n",
       "      <td>1</td>\n",
       "      <td>0.126653</td>\n",
       "      <td>-0.897386</td>\n",
       "    </tr>\n",
       "    <tr>\n",
       "      <th>1</th>\n",
       "      <td>6.893218e-04</td>\n",
       "      <td>1.209445e-08</td>\n",
       "      <td>6.932618e-05</td>\n",
       "      <td>1.945952e-07</td>\n",
       "      <td>0.083976</td>\n",
       "      <td>1.716866e-06</td>\n",
       "      <td>0.915263</td>\n",
       "      <td>1.272423e-07</td>\n",
       "      <td>2</td>\n",
       "      <td>0.091751</td>\n",
       "      <td>-1.037389</td>\n",
       "    </tr>\n",
       "    <tr>\n",
       "      <th>2</th>\n",
       "      <td>6.900549e-13</td>\n",
       "      <td>3.904184e-17</td>\n",
       "      <td>2.024691e-09</td>\n",
       "      <td>2.767705e-10</td>\n",
       "      <td>0.994982</td>\n",
       "      <td>2.798164e-11</td>\n",
       "      <td>0.005018</td>\n",
       "      <td>5.978903e-19</td>\n",
       "      <td>4</td>\n",
       "      <td>198.300935</td>\n",
       "      <td>2.297325</td>\n",
       "    </tr>\n",
       "    <tr>\n",
       "      <th>3</th>\n",
       "      <td>7.434473e-03</td>\n",
       "      <td>1.709568e-06</td>\n",
       "      <td>2.386183e-03</td>\n",
       "      <td>7.138259e-06</td>\n",
       "      <td>0.185708</td>\n",
       "      <td>2.840202e-05</td>\n",
       "      <td>0.804428</td>\n",
       "      <td>6.174224e-06</td>\n",
       "      <td>5</td>\n",
       "      <td>0.230857</td>\n",
       "      <td>-0.636657</td>\n",
       "    </tr>\n",
       "    <tr>\n",
       "      <th>4</th>\n",
       "      <td>3.535972e-16</td>\n",
       "      <td>1.545179e-19</td>\n",
       "      <td>6.975146e-17</td>\n",
       "      <td>1.473369e-06</td>\n",
       "      <td>0.098194</td>\n",
       "      <td>1.305119e-05</td>\n",
       "      <td>0.901791</td>\n",
       "      <td>1.246297e-18</td>\n",
       "      <td>6</td>\n",
       "      <td>0.108888</td>\n",
       "      <td>-0.963019</td>\n",
       "    </tr>\n",
       "  </tbody>\n",
       "</table>\n",
       "</div>"
      ],
      "text/plain": [
       "           cost          info     info_cost     info_pref  info_pref_cost  \\\n",
       "0  2.943015e-12  1.019723e-15  6.383238e-13  1.846948e-06        0.112413   \n",
       "1  6.893218e-04  1.209445e-08  6.932618e-05  1.945952e-07        0.083976   \n",
       "2  6.900549e-13  3.904184e-17  2.024691e-09  2.767705e-10        0.994982   \n",
       "3  7.434473e-03  1.709568e-06  2.386183e-03  7.138259e-06        0.185708   \n",
       "4  3.535972e-16  1.545179e-19  6.975146e-17  1.473369e-06        0.098194   \n",
       "\n",
       "           pref  pref_cost        strong  subject          BF     logBF  \n",
       "0  1.541821e-05   0.887570  7.596253e-15        1    0.126653 -0.897386  \n",
       "1  1.716866e-06   0.915263  1.272423e-07        2    0.091751 -1.037389  \n",
       "2  2.798164e-11   0.005018  5.978903e-19        4  198.300935  2.297325  \n",
       "3  2.840202e-05   0.804428  6.174224e-06        5    0.230857 -0.636657  \n",
       "4  1.305119e-05   0.901791  1.246297e-18        6    0.108888 -0.963019  "
      ]
     },
     "execution_count": 10,
     "metadata": {},
     "output_type": "execute_result"
    }
   ],
   "source": [
    "# read posterior\n",
    "subjects = np.loadtxt('../1_preprocessing/outputs/valid_participants.txt', dtype=int)\n",
    "human_posterior = pd.read_table('outputs/human_model_comparison/human_model_posterior.txt', sep=',', names=human_labels)\n",
    "human_posterior['subject'] = subjects\n",
    "human_posterior['BF'] = human_posterior.info_pref_cost/human_posterior.pref_cost\n",
    "human_posterior['logBF'] = np.log10(human_posterior.BF)\n",
    "\n",
    "human_posterior.head()"
   ]
  },
  {
   "cell_type": "markdown",
   "metadata": {},
   "source": [
    "Sanity check: Distribution of 2nd-level predictor"
   ]
  },
  {
   "cell_type": "code",
   "execution_count": 11,
   "metadata": {},
   "outputs": [
    {
     "data": {
      "text/plain": [
       "<matplotlib.lines.Line2D at 0x2b93f9645d60>"
      ]
     },
     "execution_count": 11,
     "metadata": {},
     "output_type": "execute_result"
    },
    {
     "data": {
      "image/png": "[encoded data removed]",
      "text/plain": [
       "<Figure size 432x288 with 1 Axes>"
      ]
     },
     "metadata": {},
     "output_type": "display_data"
    }
   ],
   "source": [
    "ax = sns.kdeplot(human_posterior[\"logBF\"])\n",
    "ax.set(xlabel=r'$log_{10}(\\mathrm{BF})$')\n",
    "ax.axvline(x=0, linestyle='--', color='#aaa')"
   ]
  },
  {
   "cell_type": "markdown",
   "metadata": {},
   "source": [
    "Save to file:"
   ]
  },
  {
   "cell_type": "code",
   "execution_count": 12,
   "metadata": {},
   "outputs": [],
   "source": [
    "second_lvl_df = human_posterior[['subject', 'logBF']]\n",
    "second_lvl_df.to_csv('outputs/second_level_model_regressors.csv', index=False)"
   ]
  }
 ],
 "metadata": {
  "kernelspec": {
   "display_name": "Python [conda env:root] *",
   "language": "python",
   "name": "conda-root-py"
  },
  "language_info": {
   "codemirror_mode": {
    "name": "ipython",
    "version": 3
   },
   "file_extension": ".py",
   "mimetype": "text/x-python",
   "name": "python",
   "nbconvert_exporter": "python",
   "pygments_lexer": "ipython3",
   "version": "3.8.5"
  }
 },
 "nbformat": 4,
 "nbformat_minor": 4
}
