{
 "cells": [
  {
   "cell_type": "markdown",
   "metadata": {},
   "source": [
    "# Model comparison\n",
    "Natalia Vélez, March 2022"
   ]
  },
  {
   "cell_type": "code",
   "execution_count": 48,
   "metadata": {},
   "outputs": [],
   "source": [
    "%matplotlib inline\n",
    "\n",
    "import os, sys\n",
    "import numpy as np\n",
    "import pandas as pd\n",
    "import matplotlib.pyplot as plt\n",
    "import seaborn as sns\n",
    "import teaching_models as teach\n",
    "from os.path import join as opj\n",
    "from scipy.spatial import distance\n",
    "from ast import literal_eval\n",
    "\n",
    "sys.path.append('..')\n",
    "from utils import read_json, gsearch, str_extract, int_extract\n",
    "\n",
    "sns.set_style('white')\n",
    "sns.set_context('talk')"
   ]
  },
  {
   "cell_type": "markdown",
   "metadata": {},
   "source": [
    "## I. Model recovery on simulated data"
   ]
  },
  {
   "cell_type": "markdown",
   "metadata": {},
   "source": [
    "Find model recovery files:"
   ]
  },
  {
   "cell_type": "code",
   "execution_count": 2,
   "metadata": {},
   "outputs": [
    {
     "name": "stdout",
     "output_type": "stream",
     "text": [
      "outputs/simulated_model_comparison/model-cost_pxp.txt\n",
      "outputs/simulated_model_comparison/model-info_cost_pxp.txt\n",
      "outputs/simulated_model_comparison/model-info_pref_cost_pxp.txt\n",
      "outputs/simulated_model_comparison/model-info_pref_pxp.txt\n",
      "outputs/simulated_model_comparison/model-info_pxp.txt\n",
      "outputs/simulated_model_comparison/model-pref_cost_pxp.txt\n",
      "outputs/simulated_model_comparison/model-pref_pxp.txt\n"
     ]
    }
   ],
   "source": [
    "model_files = gsearch('outputs/simulated_model_comparison/*pxp.txt')\n",
    "model_files.sort()\n",
    "print(*model_files, sep='\\n')"
   ]
  },
  {
   "cell_type": "markdown",
   "metadata": {},
   "source": [
    "Data wrangling"
   ]
  },
  {
   "cell_type": "code",
   "execution_count": 3,
   "metadata": {},
   "outputs": [
    {
     "name": "stdout",
     "output_type": "stream",
     "text": [
      "(49, 3)\n"
     ]
    },
    {
     "data": {
      "text/html": [
       "<div>\n",
       "<style scoped>\n",
       "    .dataframe tbody tr th:only-of-type {\n",
       "        vertical-align: middle;\n",
       "    }\n",
       "\n",
       "    .dataframe tbody tr th {\n",
       "        vertical-align: top;\n",
       "    }\n",
       "\n",
       "    .dataframe thead th {\n",
       "        text-align: right;\n",
       "    }\n",
       "</style>\n",
       "<table border=\"1\" class=\"dataframe\">\n",
       "  <thead>\n",
       "    <tr style=\"text-align: right;\">\n",
       "      <th></th>\n",
       "      <th>fit_model</th>\n",
       "      <th>pxp</th>\n",
       "      <th>true_model</th>\n",
       "    </tr>\n",
       "  </thead>\n",
       "  <tbody>\n",
       "    <tr>\n",
       "      <th>0</th>\n",
       "      <td>cost</td>\n",
       "      <td>9.999990e-01</td>\n",
       "      <td>cost</td>\n",
       "    </tr>\n",
       "    <tr>\n",
       "      <th>1</th>\n",
       "      <td>info</td>\n",
       "      <td>2.570922e-14</td>\n",
       "      <td>cost</td>\n",
       "    </tr>\n",
       "    <tr>\n",
       "      <th>2</th>\n",
       "      <td>info_cost</td>\n",
       "      <td>2.570922e-14</td>\n",
       "      <td>cost</td>\n",
       "    </tr>\n",
       "    <tr>\n",
       "      <th>3</th>\n",
       "      <td>info_pref</td>\n",
       "      <td>2.570922e-14</td>\n",
       "      <td>cost</td>\n",
       "    </tr>\n",
       "    <tr>\n",
       "      <th>4</th>\n",
       "      <td>info_pref_cost</td>\n",
       "      <td>2.570922e-14</td>\n",
       "      <td>cost</td>\n",
       "    </tr>\n",
       "  </tbody>\n",
       "</table>\n",
       "</div>"
      ],
      "text/plain": [
       "        fit_model           pxp true_model\n",
       "0            cost  9.999990e-01       cost\n",
       "1            info  2.570922e-14       cost\n",
       "2       info_cost  2.570922e-14       cost\n",
       "3       info_pref  2.570922e-14       cost\n",
       "4  info_pref_cost  2.570922e-14       cost"
      ]
     },
     "execution_count": 3,
     "metadata": {},
     "output_type": "execute_result"
    }
   ],
   "source": [
    "pxp_list = []\n",
    "model_levels = ['info_pref_cost', 'info_pref', 'info_cost', 'pref_cost', 'info', 'pref', 'cost', 'strong']\n",
    "for f in model_files:\n",
    "    pxp = np.loadtxt(f,delimiter=',')\n",
    "\n",
    "    label_f = f.replace('pxp', 'model_labels')\n",
    "    labels = np.loadtxt(label_f, dtype=str)\n",
    "\n",
    "    f_df = pd.DataFrame(list(zip(labels, pxp)), columns=['fit_model', 'pxp'])\n",
    "    f_df['true_model'] = str_extract('(?<=model-).+(?=_pxp)', f)\n",
    "    \n",
    "    pxp_list.append(f_df)\n",
    "    \n",
    "pxp_df = pd.concat(pxp_list)\n",
    "print(pxp_df.shape)\n",
    "pxp_df.head()"
   ]
  },
  {
   "cell_type": "markdown",
   "metadata": {},
   "source": [
    "Make confusion matrix"
   ]
  },
  {
   "cell_type": "code",
   "execution_count": 4,
   "metadata": {},
   "outputs": [
    {
     "data": {
      "text/plain": [
       "[Text(0.5, 3.296875, 'True model'),\n",
       " Text(71.69687500000006, 0.5, 'Predicted model')]"
      ]
     },
     "execution_count": 4,
     "metadata": {},
     "output_type": "execute_result"
    },
    {
     "data": {
      "image/png": "[encoded data removed]",
      "text/plain": [
       "<Figure size 432x288 with 2 Axes>"
      ]
     },
     "metadata": {},
     "output_type": "display_data"
    }
   ],
   "source": [
    "confusion_mtx = pxp_df.pivot(index='fit_model', columns='true_model', values='pxp')\n",
    "ax = sns.heatmap(confusion_mtx, cmap='viridis', square=True)\n",
    "ax.set(xlabel='True model', ylabel='Predicted model')"
   ]
  },
  {
   "cell_type": "markdown",
   "metadata": {},
   "source": [
    "## II. Model comparison on human data"
   ]
  },
  {
   "cell_type": "markdown",
   "metadata": {},
   "source": [
    "### Which model best captures human behavior?"
   ]
  },
  {
   "cell_type": "markdown",
   "metadata": {},
   "source": [
    "Read model evidence file:"
   ]
  },
  {
   "cell_type": "code",
   "execution_count": 5,
   "metadata": {},
   "outputs": [
    {
     "data": {
      "text/html": [
       "<div>\n",
       "<style scoped>\n",
       "    .dataframe tbody tr th:only-of-type {\n",
       "        vertical-align: middle;\n",
       "    }\n",
       "\n",
       "    .dataframe tbody tr th {\n",
       "        vertical-align: top;\n",
       "    }\n",
       "\n",
       "    .dataframe thead th {\n",
       "        text-align: right;\n",
       "    }\n",
       "</style>\n",
       "<table border=\"1\" class=\"dataframe\">\n",
       "  <thead>\n",
       "    <tr style=\"text-align: right;\">\n",
       "      <th></th>\n",
       "      <th>model</th>\n",
       "      <th>pxp</th>\n",
       "    </tr>\n",
       "  </thead>\n",
       "  <tbody>\n",
       "    <tr>\n",
       "      <th>0</th>\n",
       "      <td>info_pref_cost</td>\n",
       "      <td>0.459090</td>\n",
       "    </tr>\n",
       "    <tr>\n",
       "      <th>1</th>\n",
       "      <td>info_pref</td>\n",
       "      <td>0.000005</td>\n",
       "    </tr>\n",
       "    <tr>\n",
       "      <th>2</th>\n",
       "      <td>info_cost</td>\n",
       "      <td>0.000001</td>\n",
       "    </tr>\n",
       "    <tr>\n",
       "      <th>3</th>\n",
       "      <td>pref_cost</td>\n",
       "      <td>0.540896</td>\n",
       "    </tr>\n",
       "    <tr>\n",
       "      <th>4</th>\n",
       "      <td>info</td>\n",
       "      <td>0.000002</td>\n",
       "    </tr>\n",
       "    <tr>\n",
       "      <th>5</th>\n",
       "      <td>pref</td>\n",
       "      <td>0.000002</td>\n",
       "    </tr>\n",
       "    <tr>\n",
       "      <th>6</th>\n",
       "      <td>cost</td>\n",
       "      <td>0.000002</td>\n",
       "    </tr>\n",
       "    <tr>\n",
       "      <th>7</th>\n",
       "      <td>strong</td>\n",
       "      <td>0.000002</td>\n",
       "    </tr>\n",
       "  </tbody>\n",
       "</table>\n",
       "</div>"
      ],
      "text/plain": [
       "            model       pxp\n",
       "0  info_pref_cost  0.459090\n",
       "1       info_pref  0.000005\n",
       "2       info_cost  0.000001\n",
       "3       pref_cost  0.540896\n",
       "4            info  0.000002\n",
       "5            pref  0.000002\n",
       "6            cost  0.000002\n",
       "7          strong  0.000002"
      ]
     },
     "execution_count": 5,
     "metadata": {},
     "output_type": "execute_result"
    }
   ],
   "source": [
    "human_pxp = np.loadtxt('outputs/human_model_comparison/human_model_pxp.txt', delimiter=',')\n",
    "human_labels = np.loadtxt('outputs/human_model_comparison/model_labels.txt', dtype=str)\n",
    "\n",
    "human_df = pd.DataFrame({'model': human_labels, 'pxp': human_pxp})\n",
    "human_df['model'] = human_df['model'].astype('category').cat.reorder_categories(model_levels)\n",
    "human_df = human_df.sort_values(by='model').reset_index(drop=True)\n",
    "\n",
    "human_df"
   ]
  },
  {
   "cell_type": "markdown",
   "metadata": {},
   "source": [
    "Read probability that each model generated each teacher:"
   ]
  },
  {
   "cell_type": "code",
   "execution_count": 6,
   "metadata": {},
   "outputs": [
    {
     "data": {
      "text/html": [
       "<div>\n",
       "<style scoped>\n",
       "    .dataframe tbody tr th:only-of-type {\n",
       "        vertical-align: middle;\n",
       "    }\n",
       "\n",
       "    .dataframe tbody tr th {\n",
       "        vertical-align: top;\n",
       "    }\n",
       "\n",
       "    .dataframe thead th {\n",
       "        text-align: right;\n",
       "    }\n",
       "</style>\n",
       "<table border=\"1\" class=\"dataframe\">\n",
       "  <thead>\n",
       "    <tr style=\"text-align: right;\">\n",
       "      <th></th>\n",
       "      <th>subject</th>\n",
       "    </tr>\n",
       "    <tr>\n",
       "      <th>winner</th>\n",
       "      <th></th>\n",
       "    </tr>\n",
       "  </thead>\n",
       "  <tbody>\n",
       "    <tr>\n",
       "      <th>info_pref_cost</th>\n",
       "      <td>14</td>\n",
       "    </tr>\n",
       "    <tr>\n",
       "      <th>pref_cost</th>\n",
       "      <td>14</td>\n",
       "    </tr>\n",
       "  </tbody>\n",
       "</table>\n",
       "</div>"
      ],
      "text/plain": [
       "                subject\n",
       "winner                 \n",
       "info_pref_cost       14\n",
       "pref_cost            14"
      ]
     },
     "execution_count": 6,
     "metadata": {},
     "output_type": "execute_result"
    }
   ],
   "source": [
    "# read posterior\n",
    "subjects = np.loadtxt('../1_preprocessing/outputs/valid_participants.txt', dtype=int)\n",
    "human_posterior = pd.read_table('outputs/human_model_comparison/human_model_posterior.txt', sep=',', names=human_labels)\n",
    "human_posterior['subject'] = subjects\n",
    "\n",
    "# tally winning model\n",
    "human_posterior['winner'] = np.where(human_posterior.info_pref_cost > human_posterior.pref_cost, 'info_pref_cost', 'pref_cost')\n",
    "winning_models = human_posterior[['subject', 'winner']]\n",
    "winning_models.groupby('winner').agg({'subject': 'nunique'})"
   ]
  },
  {
   "cell_type": "markdown",
   "metadata": {},
   "source": [
    "### Do info vs. non-info participants behave in qualitatively different ways? "
   ]
  },
  {
   "cell_type": "markdown",
   "metadata": {},
   "source": [
    "#### Do they pick different examples? "
   ]
  },
  {
   "cell_type": "markdown",
   "metadata": {},
   "source": [
    "Classify behavioral data based on the winning model:"
   ]
  },
  {
   "cell_type": "code",
   "execution_count": 23,
   "metadata": {},
   "outputs": [
    {
     "data": {
      "text/html": [
       "<div>\n",
       "<style scoped>\n",
       "    .dataframe tbody tr th:only-of-type {\n",
       "        vertical-align: middle;\n",
       "    }\n",
       "\n",
       "    .dataframe tbody tr th {\n",
       "        vertical-align: top;\n",
       "    }\n",
       "\n",
       "    .dataframe thead th {\n",
       "        text-align: right;\n",
       "    }\n",
       "</style>\n",
       "<table border=\"1\" class=\"dataframe\">\n",
       "  <thead>\n",
       "    <tr style=\"text-align: right;\">\n",
       "      <th></th>\n",
       "      <th>subject</th>\n",
       "      <th>run</th>\n",
       "      <th>block_idx</th>\n",
       "      <th>ex_idx</th>\n",
       "      <th>first_movement</th>\n",
       "      <th>start</th>\n",
       "      <th>problem</th>\n",
       "      <th>order</th>\n",
       "      <th>example</th>\n",
       "      <th>cursor_coords</th>\n",
       "      <th>example_coords</th>\n",
       "      <th>cursor</th>\n",
       "      <th>winner</th>\n",
       "    </tr>\n",
       "  </thead>\n",
       "  <tbody>\n",
       "    <tr>\n",
       "      <th>0</th>\n",
       "      <td>1</td>\n",
       "      <td>1</td>\n",
       "      <td>0</td>\n",
       "      <td>0</td>\n",
       "      <td>[0, 1]</td>\n",
       "      <td>[0, 0]</td>\n",
       "      <td>22</td>\n",
       "      <td>['C', 'B', 'D', 'A']</td>\n",
       "      <td>8</td>\n",
       "      <td>[0, 0]</td>\n",
       "      <td>[1, 2]</td>\n",
       "      <td>0</td>\n",
       "      <td>pref_cost</td>\n",
       "    </tr>\n",
       "    <tr>\n",
       "      <th>1</th>\n",
       "      <td>1</td>\n",
       "      <td>1</td>\n",
       "      <td>0</td>\n",
       "      <td>1</td>\n",
       "      <td>[0, 1]</td>\n",
       "      <td>[0, 0]</td>\n",
       "      <td>22</td>\n",
       "      <td>['C', 'B', 'D', 'A']</td>\n",
       "      <td>27</td>\n",
       "      <td>[1, 2]</td>\n",
       "      <td>[4, 3]</td>\n",
       "      <td>8</td>\n",
       "      <td>pref_cost</td>\n",
       "    </tr>\n",
       "    <tr>\n",
       "      <th>2</th>\n",
       "      <td>1</td>\n",
       "      <td>1</td>\n",
       "      <td>1</td>\n",
       "      <td>0</td>\n",
       "      <td>[0, 4]</td>\n",
       "      <td>[0, 5]</td>\n",
       "      <td>18</td>\n",
       "      <td>['D', 'B', 'C', 'A']</td>\n",
       "      <td>3</td>\n",
       "      <td>[0, 5]</td>\n",
       "      <td>[0, 3]</td>\n",
       "      <td>5</td>\n",
       "      <td>pref_cost</td>\n",
       "    </tr>\n",
       "    <tr>\n",
       "      <th>3</th>\n",
       "      <td>1</td>\n",
       "      <td>1</td>\n",
       "      <td>1</td>\n",
       "      <td>1</td>\n",
       "      <td>[0, 4]</td>\n",
       "      <td>[0, 5]</td>\n",
       "      <td>18</td>\n",
       "      <td>['D', 'B', 'C', 'A']</td>\n",
       "      <td>32</td>\n",
       "      <td>[0, 3]</td>\n",
       "      <td>[5, 2]</td>\n",
       "      <td>3</td>\n",
       "      <td>pref_cost</td>\n",
       "    </tr>\n",
       "    <tr>\n",
       "      <th>4</th>\n",
       "      <td>1</td>\n",
       "      <td>1</td>\n",
       "      <td>1</td>\n",
       "      <td>2</td>\n",
       "      <td>[0, 4]</td>\n",
       "      <td>[0, 5]</td>\n",
       "      <td>18</td>\n",
       "      <td>['D', 'B', 'C', 'A']</td>\n",
       "      <td>7</td>\n",
       "      <td>[5, 2]</td>\n",
       "      <td>[1, 1]</td>\n",
       "      <td>32</td>\n",
       "      <td>pref_cost</td>\n",
       "    </tr>\n",
       "  </tbody>\n",
       "</table>\n",
       "</div>"
      ],
      "text/plain": [
       "   subject  run  block_idx  ex_idx first_movement   start  problem  \\\n",
       "0        1    1          0       0         [0, 1]  [0, 0]       22   \n",
       "1        1    1          0       1         [0, 1]  [0, 0]       22   \n",
       "2        1    1          1       0         [0, 4]  [0, 5]       18   \n",
       "3        1    1          1       1         [0, 4]  [0, 5]       18   \n",
       "4        1    1          1       2         [0, 4]  [0, 5]       18   \n",
       "\n",
       "                  order  example cursor_coords example_coords  cursor  \\\n",
       "0  ['C', 'B', 'D', 'A']        8        [0, 0]         [1, 2]       0   \n",
       "1  ['C', 'B', 'D', 'A']       27        [1, 2]         [4, 3]       8   \n",
       "2  ['D', 'B', 'C', 'A']        3        [0, 5]         [0, 3]       5   \n",
       "3  ['D', 'B', 'C', 'A']       32        [0, 3]         [5, 2]       3   \n",
       "4  ['D', 'B', 'C', 'A']        7        [5, 2]         [1, 1]      32   \n",
       "\n",
       "      winner  \n",
       "0  pref_cost  \n",
       "1  pref_cost  \n",
       "2  pref_cost  \n",
       "3  pref_cost  \n",
       "4  pref_cost  "
      ]
     },
     "execution_count": 23,
     "metadata": {},
     "output_type": "execute_result"
    }
   ],
   "source": [
    "behav_df = teach.human_df.copy().merge(winning_models)\n",
    "behav_df['cursor_coords'] = behav_df['cursor_coords'].apply(literal_eval)\n",
    "behav_df[['cursor_coords', 'example_coords']] = behav_df[['cursor_coords', 'example_coords']]\n",
    "behav_df.head()"
   ]
  },
  {
   "cell_type": "markdown",
   "metadata": {},
   "source": [
    "Average examples selected by each group:"
   ]
  },
  {
   "cell_type": "code",
   "execution_count": 8,
   "metadata": {},
   "outputs": [
    {
     "data": {
      "text/html": [
       "<div>\n",
       "<style scoped>\n",
       "    .dataframe tbody tr th:only-of-type {\n",
       "        vertical-align: middle;\n",
       "    }\n",
       "\n",
       "    .dataframe tbody tr th {\n",
       "        vertical-align: top;\n",
       "    }\n",
       "\n",
       "    .dataframe thead th {\n",
       "        text-align: right;\n",
       "    }\n",
       "</style>\n",
       "<table border=\"1\" class=\"dataframe\">\n",
       "  <thead>\n",
       "    <tr style=\"text-align: right;\">\n",
       "      <th></th>\n",
       "      <th>winner</th>\n",
       "      <th>problem</th>\n",
       "      <th>example</th>\n",
       "      <th>subject</th>\n",
       "      <th>freq</th>\n",
       "    </tr>\n",
       "  </thead>\n",
       "  <tbody>\n",
       "    <tr>\n",
       "      <th>0</th>\n",
       "      <td>info_pref_cost</td>\n",
       "      <td>0</td>\n",
       "      <td>2</td>\n",
       "      <td>11</td>\n",
       "      <td>0.139241</td>\n",
       "    </tr>\n",
       "    <tr>\n",
       "      <th>1</th>\n",
       "      <td>info_pref_cost</td>\n",
       "      <td>0</td>\n",
       "      <td>3</td>\n",
       "      <td>7</td>\n",
       "      <td>0.088608</td>\n",
       "    </tr>\n",
       "    <tr>\n",
       "      <th>2</th>\n",
       "      <td>info_pref_cost</td>\n",
       "      <td>0</td>\n",
       "      <td>7</td>\n",
       "      <td>1</td>\n",
       "      <td>0.012658</td>\n",
       "    </tr>\n",
       "    <tr>\n",
       "      <th>3</th>\n",
       "      <td>info_pref_cost</td>\n",
       "      <td>0</td>\n",
       "      <td>10</td>\n",
       "      <td>2</td>\n",
       "      <td>0.025316</td>\n",
       "    </tr>\n",
       "    <tr>\n",
       "      <th>4</th>\n",
       "      <td>info_pref_cost</td>\n",
       "      <td>0</td>\n",
       "      <td>12</td>\n",
       "      <td>3</td>\n",
       "      <td>0.037975</td>\n",
       "    </tr>\n",
       "  </tbody>\n",
       "</table>\n",
       "</div>"
      ],
      "text/plain": [
       "           winner  problem  example  subject      freq\n",
       "0  info_pref_cost        0        2       11  0.139241\n",
       "1  info_pref_cost        0        3        7  0.088608\n",
       "2  info_pref_cost        0        7        1  0.012658\n",
       "3  info_pref_cost        0       10        2  0.025316\n",
       "4  info_pref_cost        0       12        3  0.037975"
      ]
     },
     "execution_count": 8,
     "metadata": {},
     "output_type": "execute_result"
    }
   ],
   "source": [
    "avg_examples = behav_df.groupby(['winner', 'problem', 'example']).agg({'subject': 'count'}).reset_index()\n",
    "avg_examples['freq'] = avg_examples.subject/avg_examples.groupby('problem').subject.transform('sum')\n",
    "\n",
    "avg_examples.head()"
   ]
  },
  {
   "cell_type": "markdown",
   "metadata": {},
   "source": [
    "Plot average examples:"
   ]
  },
  {
   "cell_type": "code",
   "execution_count": 9,
   "metadata": {},
   "outputs": [
    {
     "data": {
      "text/plain": [
       "Text(0.5, 0.98, 'Problem 23')"
      ]
     },
     "execution_count": 9,
     "metadata": {},
     "output_type": "execute_result"
    },
    {
     "data": {
      "image/png": "[encoded data removed]",
      "text/plain": [
       "<Figure size 576x288 with 2 Axes>"
      ]
     },
     "metadata": {},
     "output_type": "display_data"
    }
   ],
   "source": [
    "prob_idx = 23\n",
    "prob_data = avg_examples[avg_examples.problem == prob_idx].copy()\n",
    "\n",
    "fig,axes=plt.subplots(1,2, figsize=(8,4))\n",
    "ax_counter = 0\n",
    "\n",
    "for name, group in prob_data.groupby('winner'):\n",
    "    v = np.zeros(36)\n",
    "    v[group.example] = group.freq\n",
    "    \n",
    "    ex_mtx = np.reshape(v, (6,6))\n",
    "    sns.heatmap(ex_mtx, square=True, cbar=False, cmap='viridis', ax=axes[ax_counter])\n",
    "    axes[ax_counter].set(xticklabels=[], yticklabels=[], title='Group: %s' % name)\n",
    "    ax_counter += 1\n",
    "    \n",
    "fig.suptitle('Problem %i' % prob_idx)"
   ]
  },
  {
   "cell_type": "markdown",
   "metadata": {},
   "source": [
    "Distance between successive examples:"
   ]
  },
  {
   "cell_type": "markdown",
   "metadata": {},
   "source": [
    "### Sanity-check: Do non-info participants have info weights near 0? "
   ]
  },
  {
   "cell_type": "markdown",
   "metadata": {},
   "source": [
    "Read parameter files:"
   ]
  },
  {
   "cell_type": "code",
   "execution_count": 51,
   "metadata": {},
   "outputs": [
    {
     "name": "stdout",
     "output_type": "stream",
     "text": [
      "(28, 5)\n"
     ]
    },
    {
     "data": {
      "text/html": [
       "<div>\n",
       "<style scoped>\n",
       "    .dataframe tbody tr th:only-of-type {\n",
       "        vertical-align: middle;\n",
       "    }\n",
       "\n",
       "    .dataframe tbody tr th {\n",
       "        vertical-align: top;\n",
       "    }\n",
       "\n",
       "    .dataframe thead th {\n",
       "        text-align: right;\n",
       "    }\n",
       "</style>\n",
       "<table border=\"1\" class=\"dataframe\">\n",
       "  <thead>\n",
       "    <tr style=\"text-align: right;\">\n",
       "      <th></th>\n",
       "      <th>subject</th>\n",
       "      <th>info</th>\n",
       "      <th>pref</th>\n",
       "      <th>cost</th>\n",
       "      <th>winner</th>\n",
       "    </tr>\n",
       "  </thead>\n",
       "  <tbody>\n",
       "    <tr>\n",
       "      <th>0</th>\n",
       "      <td>1</td>\n",
       "      <td>0.086825</td>\n",
       "      <td>26.920775</td>\n",
       "      <td>2.759949</td>\n",
       "      <td>pref_cost</td>\n",
       "    </tr>\n",
       "    <tr>\n",
       "      <th>1</th>\n",
       "      <td>2</td>\n",
       "      <td>0.011269</td>\n",
       "      <td>11.780821</td>\n",
       "      <td>2.979073</td>\n",
       "      <td>pref_cost</td>\n",
       "    </tr>\n",
       "    <tr>\n",
       "      <th>2</th>\n",
       "      <td>4</td>\n",
       "      <td>1.330218</td>\n",
       "      <td>22.698957</td>\n",
       "      <td>4.022790</td>\n",
       "      <td>info_pref_cost</td>\n",
       "    </tr>\n",
       "    <tr>\n",
       "      <th>3</th>\n",
       "      <td>5</td>\n",
       "      <td>0.202545</td>\n",
       "      <td>8.802126</td>\n",
       "      <td>2.547528</td>\n",
       "      <td>pref_cost</td>\n",
       "    </tr>\n",
       "    <tr>\n",
       "      <th>4</th>\n",
       "      <td>6</td>\n",
       "      <td>0.058067</td>\n",
       "      <td>31.324121</td>\n",
       "      <td>2.767836</td>\n",
       "      <td>pref_cost</td>\n",
       "    </tr>\n",
       "  </tbody>\n",
       "</table>\n",
       "</div>"
      ],
      "text/plain": [
       "   subject      info       pref      cost          winner\n",
       "0        1  0.086825  26.920775  2.759949       pref_cost\n",
       "1        2  0.011269  11.780821  2.979073       pref_cost\n",
       "2        4  1.330218  22.698957  4.022790  info_pref_cost\n",
       "3        5  0.202545   8.802126  2.547528       pref_cost\n",
       "4        6  0.058067  31.324121  2.767836       pref_cost"
      ]
     },
     "execution_count": 51,
     "metadata": {},
     "output_type": "execute_result"
    }
   ],
   "source": [
    "param_files = gsearch('outputs/fit_model-info_pref_cost_method-optimize/*.json')\n",
    "param_files.sort()\n",
    "\n",
    "param_list = []\n",
    "\n",
    "for f in param_files:\n",
    "    res = read_json(f) # read model-fitting results\n",
    "    \n",
    "    sub = int_extract('(?<=sub-)[0-9]{2}', f) # assemble df with MLE\n",
    "    sub_df = pd.DataFrame([[sub]+res['x']], columns=['subject', 'info', 'pref', 'cost'])\n",
    "    param_list.append(sub_df)\n",
    "    \n",
    "param_df = pd.concat(param_list).reset_index(drop=True)\n",
    "param_df = param_df.merge(winning_models)\n",
    "\n",
    "print(param_df.shape)\n",
    "param_df.head()"
   ]
  },
  {
   "cell_type": "code",
   "execution_count": null,
   "metadata": {},
   "outputs": [],
   "source": [
    "g = sns.displot(data=param_df, x='info', hue='winner')\n",
    "g.legend.set_title('Winning model')\n",
    "g.set_axis_labels(x_var=r'$\\omega_{info}$ (full model)')"
   ]
  },
  {
   "cell_type": "code",
   "execution_count": 64,
   "metadata": {},
   "outputs": [
    {
     "data": {
      "text/plain": [
       "\u001b[0;31mSignature:\u001b[0m \u001b[0mg\u001b[0m\u001b[0;34m.\u001b[0m\u001b[0mset_axis_labels\u001b[0m\u001b[0;34m(\u001b[0m\u001b[0mx_var\u001b[0m\u001b[0;34m=\u001b[0m\u001b[0;32mNone\u001b[0m\u001b[0;34m,\u001b[0m \u001b[0my_var\u001b[0m\u001b[0;34m=\u001b[0m\u001b[0;32mNone\u001b[0m\u001b[0;34m,\u001b[0m \u001b[0mclear_inner\u001b[0m\u001b[0;34m=\u001b[0m\u001b[0;32mTrue\u001b[0m\u001b[0;34m,\u001b[0m \u001b[0;34m**\u001b[0m\u001b[0mkwargs\u001b[0m\u001b[0;34m)\u001b[0m\u001b[0;34m\u001b[0m\u001b[0;34m\u001b[0m\u001b[0m\n",
       "\u001b[0;31mDocstring:\u001b[0m Set axis labels on the left column and bottom row of the grid.\n",
       "\u001b[0;31mFile:\u001b[0m      /n/helmod/apps/centos7/Core/Anaconda3/2020.11-jupyterood-fasrc01/x/lib/python3.8/site-packages/seaborn/axisgrid.py\n",
       "\u001b[0;31mType:\u001b[0m      method\n"
      ]
     },
     "metadata": {},
     "output_type": "display_data"
    }
   ],
   "source": [
    "?g.set_axis_labels"
   ]
  },
  {
   "cell_type": "code",
   "execution_count": 66,
   "metadata": {},
   "outputs": [
    {
     "name": "stdout",
     "output_type": "stream",
     "text": [
      "$\\omega_{\\text{info}}$\n"
     ]
    }
   ],
   "source": [
    "print(r'$\\omega_{\\text{info}}$')"
   ]
  },
  {
   "cell_type": "code",
   "execution_count": null,
   "metadata": {},
   "outputs": [],
   "source": []
  }
 ],
 "metadata": {
  "kernelspec": {
   "display_name": "Python [conda env:root] *",
   "language": "python",
   "name": "conda-root-py"
  },
  "language_info": {
   "codemirror_mode": {
    "name": "ipython",
    "version": 3
   },
   "file_extension": ".py",
   "mimetype": "text/x-python",
   "name": "python",
   "nbconvert_exporter": "python",
   "pygments_lexer": "ipython3",
   "version": "3.8.5"
  }
 },
 "nbformat": 4,
 "nbformat_minor": 4
}
