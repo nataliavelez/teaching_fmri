{
 "cells": [
  {
   "cell_type": "markdown",
   "metadata": {},
   "source": [
    "# Process model fitting results\n",
    "Natalia Vélez, March 2022"
   ]
  },
  {
   "cell_type": "code",
   "execution_count": 1,
   "metadata": {},
   "outputs": [
    {
     "name": "stdout",
     "output_type": "stream",
     "text": [
      "Loading teaching problems\n",
      "{'A': [[0, 0, 1, 1, 0, 0],\n",
      "       [0, 1, 1, 1, 1, 0],\n",
      "       [1, 1, 1, 1, 1, 1],\n",
      "       [1, 1, 1, 1, 1, 1],\n",
      "       [0, 1, 1, 1, 1, 0],\n",
      "       [0, 0, 1, 1, 0, 0]],\n",
      " 'B': [[1, 1, 1, 0, 0, 0],\n",
      "       [1, 1, 1, 0, 0, 0],\n",
      "       [1, 1, 1, 1, 0, 0],\n",
      "       [0, 0, 1, 1, 0, 0],\n",
      "       [0, 0, 0, 0, 0, 0],\n",
      "       [0, 0, 0, 0, 0, 0]],\n",
      " 'C': [[0, 0, 0, 1, 1, 1],\n",
      "       [0, 0, 0, 1, 1, 1],\n",
      "       [0, 0, 1, 1, 1, 1],\n",
      "       [0, 0, 1, 1, 0, 0],\n",
      "       [0, 0, 0, 0, 0, 0],\n",
      "       [0, 0, 0, 0, 0, 0]],\n",
      " 'D': [[0, 0, 0, 0, 0, 0],\n",
      "       [0, 0, 0, 0, 0, 0],\n",
      "       [0, 0, 1, 1, 0, 0],\n",
      "       [1, 1, 1, 1, 1, 1],\n",
      "       [1, 1, 1, 1, 1, 1],\n",
      "       [1, 1, 1, 1, 1, 1]]}\n",
      "Participants excluded from analysis:\n",
      "[3, 17]\n",
      "Cleaning up human behavioral data\n",
      "    subject  run  block_idx  ex_idx first_movement   start  problem  \\\n",
      "0         1    1          0       0         [0, 1]  [0, 0]       22   \n",
      "1         1    1          0       1         [0, 1]  [0, 0]       22   \n",
      "3         1    1          1       0         [0, 4]  [0, 5]       18   \n",
      "4         1    1          1       1         [0, 4]  [0, 5]       18   \n",
      "5         1    1          1       2         [0, 4]  [0, 5]       18   \n",
      "6         1    1          2       0         [5, 4]  [5, 5]        1   \n",
      "7         1    1          2       1         [5, 4]  [5, 5]        1   \n",
      "8         1    1          2       2         [5, 4]  [5, 5]        1   \n",
      "10        1    1          3       1         [5, 1]  [5, 0]       16   \n",
      "11        1    1          3       2         [5, 1]  [5, 0]       16   \n",
      "12        1    2          0       0         [0, 1]  [0, 0]       20   \n",
      "13        1    2          0       1         [0, 1]  [0, 0]       20   \n",
      "14        1    2          0       2         [0, 1]  [0, 0]       20   \n",
      "16        1    2          1       1         [5, 4]  [5, 5]       28   \n",
      "17        1    2          1       2         [5, 4]  [5, 5]       28   \n",
      "\n",
      "                   order  example cursor_coords example_coords  cursor  \n",
      "0   ['C', 'B', 'D', 'A']        8        [0, 0]         [1, 2]       0  \n",
      "1   ['C', 'B', 'D', 'A']       27        [1, 2]         [4, 3]       8  \n",
      "3   ['D', 'B', 'C', 'A']        3        [0, 5]         [0, 3]       5  \n",
      "4   ['D', 'B', 'C', 'A']       32        [0, 3]         [5, 2]       3  \n",
      "5   ['D', 'B', 'C', 'A']        7        [5, 2]         [1, 1]      32  \n",
      "6   ['A', 'D', 'C', 'B']       31        [5, 5]         [5, 1]      35  \n",
      "7   ['A', 'D', 'C', 'B']        1        [5, 1]         [0, 1]      31  \n",
      "8   ['A', 'D', 'C', 'B']        4        [0, 1]         [0, 4]       1  \n",
      "10  ['B', 'C', 'A', 'D']       27        [5, 0]         [4, 3]      30  \n",
      "11  ['B', 'C', 'A', 'D']        8        [4, 3]         [1, 2]      27  \n",
      "12  ['D', 'C', 'A', 'B']        9        [0, 0]         [1, 3]       0  \n",
      "13  ['D', 'C', 'A', 'B']       19        [1, 3]         [3, 1]       9  \n",
      "14  ['D', 'C', 'A', 'B']       21        [3, 1]         [3, 3]      19  \n",
      "16  ['C', 'D', 'B', 'A']       10        [5, 5]         [1, 4]      35  \n",
      "17  ['C', 'D', 'B', 'A']       26        [1, 4]         [4, 2]      10  \n"
     ]
    }
   ],
   "source": [
    "%matplotlib inline\n",
    "\n",
    "import os, sys\n",
    "import numpy as np\n",
    "import pandas as pd\n",
    "import matplotlib.pyplot as plt\n",
    "import seaborn as sns\n",
    "import teaching_models as teach\n",
    "from os.path import join as opj\n",
    "\n",
    "sys.path.append('..')\n",
    "from utils import read_json, gsearch, str_extract\n",
    "\n",
    "sns.set_style('white')\n",
    "sns.set_context('talk')"
   ]
  },
  {
   "cell_type": "markdown",
   "metadata": {},
   "source": [
    "Helper function: Replace weights"
   ]
  },
  {
   "cell_type": "code",
   "execution_count": 2,
   "metadata": {},
   "outputs": [],
   "source": [
    "def expand_weights(res):\n",
    "    full_weights = np.array(res['weights'])\n",
    "    full_weights[np.not_equal(full_weights, 0)] = res['x']\n",
    "    return full_weights"
   ]
  },
  {
   "cell_type": "markdown",
   "metadata": {},
   "source": [
    "## Human model fitting"
   ]
  },
  {
   "cell_type": "markdown",
   "metadata": {},
   "source": [
    "### Data wrangling"
   ]
  },
  {
   "cell_type": "markdown",
   "metadata": {},
   "source": [
    "Find human model fitting results:"
   ]
  },
  {
   "cell_type": "code",
   "execution_count": 3,
   "metadata": {},
   "outputs": [
    {
     "name": "stdout",
     "output_type": "stream",
     "text": [
      "Found 196 files\n",
      "outputs/fit_model-cost_method-optimize/sub-01_model-cost_method-optimize_result.json\n",
      "outputs/fit_model-cost_method-optimize/sub-02_model-cost_method-optimize_result.json\n",
      "outputs/fit_model-cost_method-optimize/sub-04_model-cost_method-optimize_result.json\n",
      "outputs/fit_model-cost_method-optimize/sub-05_model-cost_method-optimize_result.json\n",
      "outputs/fit_model-cost_method-optimize/sub-06_model-cost_method-optimize_result.json\n",
      "outputs/fit_model-cost_method-optimize/sub-07_model-cost_method-optimize_result.json\n",
      "outputs/fit_model-cost_method-optimize/sub-08_model-cost_method-optimize_result.json\n",
      "outputs/fit_model-cost_method-optimize/sub-09_model-cost_method-optimize_result.json\n",
      "outputs/fit_model-cost_method-optimize/sub-10_model-cost_method-optimize_result.json\n",
      "outputs/fit_model-cost_method-optimize/sub-11_model-cost_method-optimize_result.json\n",
      "...\n"
     ]
    }
   ],
   "source": [
    "fit_files = gsearch('outputs/fit_model-*_method-optimize/*.json')\n",
    "fit_files.sort()\n",
    "\n",
    "print(f'Found {len(fit_files)} files')\n",
    "print(*fit_files[:10], sep='\\n')\n",
    "print('...')"
   ]
  },
  {
   "cell_type": "code",
   "execution_count": 4,
   "metadata": {},
   "outputs": [],
   "source": [
    "sub_list = []\n",
    "\n",
    "for f in fit_files:\n",
    "    res = read_json(f)\n",
    "    sub_df = pd.DataFrame({\n",
    "        'sub': str_extract('sub-[0-9]{2}', f),\n",
    "        'model': res['label'],\n",
    "        'weight_label': ['info', 'pref', 'cost'],\n",
    "        'weight_value': expand_weights(res)\n",
    "    })\n",
    "    sub_df['loglik'] = -res['fun']\n",
    "    sub_list.append(sub_df)\n",
    "\n",
    "human_df = pd.concat(sub_list)\n",
    "human_weights = human_df.copy().drop(columns='loglik').reset_index(drop=True) # df of best-fitting weights\n",
    "optimize_lik = ( # df of likelihoods\n",
    "    human_df\n",
    "    .copy()\n",
    "    .drop(columns=['weight_label', 'weight_value'])\n",
    "    .drop_duplicates()\n",
    "    .reset_index(drop=True)\n",
    ")"
   ]
  },
  {
   "cell_type": "markdown",
   "metadata": {},
   "source": [
    "Add model likelihoods from strong sampling:"
   ]
  },
  {
   "cell_type": "code",
   "execution_count": 5,
   "metadata": {},
   "outputs": [
    {
     "name": "stdout",
     "output_type": "stream",
     "text": [
      "(224, 3)\n"
     ]
    },
    {
     "data": {
      "text/html": [
       "<div>\n",
       "<style scoped>\n",
       "    .dataframe tbody tr th:only-of-type {\n",
       "        vertical-align: middle;\n",
       "    }\n",
       "\n",
       "    .dataframe tbody tr th {\n",
       "        vertical-align: top;\n",
       "    }\n",
       "\n",
       "    .dataframe thead th {\n",
       "        text-align: right;\n",
       "    }\n",
       "</style>\n",
       "<table border=\"1\" class=\"dataframe\">\n",
       "  <thead>\n",
       "    <tr style=\"text-align: right;\">\n",
       "      <th></th>\n",
       "      <th>sub</th>\n",
       "      <th>model</th>\n",
       "      <th>loglik</th>\n",
       "    </tr>\n",
       "  </thead>\n",
       "  <tbody>\n",
       "    <tr>\n",
       "      <th>0</th>\n",
       "      <td>sub-01</td>\n",
       "      <td>cost</td>\n",
       "      <td>-248.913569</td>\n",
       "    </tr>\n",
       "    <tr>\n",
       "      <th>1</th>\n",
       "      <td>sub-02</td>\n",
       "      <td>cost</td>\n",
       "      <td>-260.082411</td>\n",
       "    </tr>\n",
       "    <tr>\n",
       "      <th>2</th>\n",
       "      <td>sub-04</td>\n",
       "      <td>cost</td>\n",
       "      <td>-252.655922</td>\n",
       "    </tr>\n",
       "    <tr>\n",
       "      <th>3</th>\n",
       "      <td>sub-05</td>\n",
       "      <td>cost</td>\n",
       "      <td>-263.761850</td>\n",
       "    </tr>\n",
       "    <tr>\n",
       "      <th>4</th>\n",
       "      <td>sub-06</td>\n",
       "      <td>cost</td>\n",
       "      <td>-267.476599</td>\n",
       "    </tr>\n",
       "  </tbody>\n",
       "</table>\n",
       "</div>"
      ],
      "text/plain": [
       "      sub model      loglik\n",
       "0  sub-01  cost -248.913569\n",
       "1  sub-02  cost -260.082411\n",
       "2  sub-04  cost -252.655922\n",
       "3  sub-05  cost -263.761850\n",
       "4  sub-06  cost -267.476599"
      ]
     },
     "execution_count": 5,
     "metadata": {},
     "output_type": "execute_result"
    }
   ],
   "source": [
    "strong_files = gsearch('outputs/fit_model-strong_method-grid', '*desc-params.csv')\n",
    "strong_files.sort()\n",
    "\n",
    "strong_lik = pd.concat([pd.read_csv(f) for f in strong_files])\n",
    "strong_lik = (\n",
    "    strong_lik\n",
    "    .assign(sub = strong_lik['subject'].apply(lambda s: 'sub-%02d' % s))\n",
    "    .drop(columns=['subject'])\n",
    ")\n",
    "\n",
    "human_lik = pd.concat([optimize_lik, strong_lik])\n",
    "\n",
    "print(human_lik.shape)\n",
    "human_lik.head()"
   ]
  },
  {
   "cell_type": "markdown",
   "metadata": {},
   "source": [
    "Check weights dataframe:"
   ]
  },
  {
   "cell_type": "code",
   "execution_count": 6,
   "metadata": {},
   "outputs": [
    {
     "name": "stdout",
     "output_type": "stream",
     "text": [
      "(588, 4)\n"
     ]
    },
    {
     "data": {
      "text/html": [
       "<div>\n",
       "<style scoped>\n",
       "    .dataframe tbody tr th:only-of-type {\n",
       "        vertical-align: middle;\n",
       "    }\n",
       "\n",
       "    .dataframe tbody tr th {\n",
       "        vertical-align: top;\n",
       "    }\n",
       "\n",
       "    .dataframe thead th {\n",
       "        text-align: right;\n",
       "    }\n",
       "</style>\n",
       "<table border=\"1\" class=\"dataframe\">\n",
       "  <thead>\n",
       "    <tr style=\"text-align: right;\">\n",
       "      <th></th>\n",
       "      <th>sub</th>\n",
       "      <th>model</th>\n",
       "      <th>weight_label</th>\n",
       "      <th>weight_value</th>\n",
       "    </tr>\n",
       "  </thead>\n",
       "  <tbody>\n",
       "    <tr>\n",
       "      <th>0</th>\n",
       "      <td>sub-01</td>\n",
       "      <td>cost</td>\n",
       "      <td>info</td>\n",
       "      <td>0</td>\n",
       "    </tr>\n",
       "    <tr>\n",
       "      <th>1</th>\n",
       "      <td>sub-01</td>\n",
       "      <td>cost</td>\n",
       "      <td>pref</td>\n",
       "      <td>0</td>\n",
       "    </tr>\n",
       "    <tr>\n",
       "      <th>2</th>\n",
       "      <td>sub-01</td>\n",
       "      <td>cost</td>\n",
       "      <td>cost</td>\n",
       "      <td>2.37434</td>\n",
       "    </tr>\n",
       "    <tr>\n",
       "      <th>3</th>\n",
       "      <td>sub-02</td>\n",
       "      <td>cost</td>\n",
       "      <td>info</td>\n",
       "      <td>0</td>\n",
       "    </tr>\n",
       "    <tr>\n",
       "      <th>4</th>\n",
       "      <td>sub-02</td>\n",
       "      <td>cost</td>\n",
       "      <td>pref</td>\n",
       "      <td>0</td>\n",
       "    </tr>\n",
       "  </tbody>\n",
       "</table>\n",
       "</div>"
      ],
      "text/plain": [
       "      sub model weight_label weight_value\n",
       "0  sub-01  cost         info            0\n",
       "1  sub-01  cost         pref            0\n",
       "2  sub-01  cost         cost      2.37434\n",
       "3  sub-02  cost         info            0\n",
       "4  sub-02  cost         pref            0"
      ]
     },
     "execution_count": 6,
     "metadata": {},
     "output_type": "execute_result"
    }
   ],
   "source": [
    "print(human_weights.shape)\n",
    "human_weights.head()"
   ]
  },
  {
   "cell_type": "markdown",
   "metadata": {},
   "source": [
    "### Assemble matrix of model evidences"
   ]
  },
  {
   "cell_type": "markdown",
   "metadata": {},
   "source": [
    "Get sample sizes"
   ]
  },
  {
   "cell_type": "code",
   "execution_count": 7,
   "metadata": {},
   "outputs": [
    {
     "data": {
      "text/html": [
       "<div>\n",
       "<style scoped>\n",
       "    .dataframe tbody tr th:only-of-type {\n",
       "        vertical-align: middle;\n",
       "    }\n",
       "\n",
       "    .dataframe tbody tr th {\n",
       "        vertical-align: top;\n",
       "    }\n",
       "\n",
       "    .dataframe thead th {\n",
       "        text-align: right;\n",
       "    }\n",
       "</style>\n",
       "<table border=\"1\" class=\"dataframe\">\n",
       "  <thead>\n",
       "    <tr style=\"text-align: right;\">\n",
       "      <th></th>\n",
       "      <th>sub</th>\n",
       "      <th>example</th>\n",
       "    </tr>\n",
       "  </thead>\n",
       "  <tbody>\n",
       "    <tr>\n",
       "      <th>0</th>\n",
       "      <td>sub-01</td>\n",
       "      <td>108</td>\n",
       "    </tr>\n",
       "    <tr>\n",
       "      <th>1</th>\n",
       "      <td>sub-02</td>\n",
       "      <td>114</td>\n",
       "    </tr>\n",
       "    <tr>\n",
       "      <th>2</th>\n",
       "      <td>sub-04</td>\n",
       "      <td>113</td>\n",
       "    </tr>\n",
       "    <tr>\n",
       "      <th>3</th>\n",
       "      <td>sub-05</td>\n",
       "      <td>114</td>\n",
       "    </tr>\n",
       "    <tr>\n",
       "      <th>4</th>\n",
       "      <td>sub-06</td>\n",
       "      <td>115</td>\n",
       "    </tr>\n",
       "  </tbody>\n",
       "</table>\n",
       "</div>"
      ],
      "text/plain": [
       "      sub  example\n",
       "0  sub-01      108\n",
       "1  sub-02      114\n",
       "2  sub-04      113\n",
       "3  sub-05      114\n",
       "4  sub-06      115"
      ]
     },
     "execution_count": 7,
     "metadata": {},
     "output_type": "execute_result"
    }
   ],
   "source": [
    "sample_sizes = (\n",
    "    teach.human_df\n",
    "    .groupby('subject')\n",
    "    .agg({'example': 'count'})\n",
    "    .reset_index()\n",
    "    .rename(columns={'subject': 'sub'})\n",
    ")\n",
    "sample_sizes['sub'] = sample_sizes['sub'].apply(lambda s: 'sub-%02d' % s)\n",
    "sample_sizes.head()"
   ]
  },
  {
   "cell_type": "markdown",
   "metadata": {},
   "source": [
    "Approximate marginal posterior using BIC:"
   ]
  },
  {
   "cell_type": "code",
   "execution_count": 8,
   "metadata": {},
   "outputs": [
    {
     "data": {
      "text/html": [
       "<div>\n",
       "<style scoped>\n",
       "    .dataframe tbody tr th:only-of-type {\n",
       "        vertical-align: middle;\n",
       "    }\n",
       "\n",
       "    .dataframe tbody tr th {\n",
       "        vertical-align: top;\n",
       "    }\n",
       "\n",
       "    .dataframe thead th {\n",
       "        text-align: right;\n",
       "    }\n",
       "</style>\n",
       "<table border=\"1\" class=\"dataframe\">\n",
       "  <thead>\n",
       "    <tr style=\"text-align: right;\">\n",
       "      <th></th>\n",
       "      <th>sub</th>\n",
       "      <th>model</th>\n",
       "      <th>loglik</th>\n",
       "      <th>example</th>\n",
       "      <th>n_param</th>\n",
       "      <th>BIC</th>\n",
       "      <th>model_evidence</th>\n",
       "    </tr>\n",
       "  </thead>\n",
       "  <tbody>\n",
       "    <tr>\n",
       "      <th>0</th>\n",
       "      <td>sub-01</td>\n",
       "      <td>cost</td>\n",
       "      <td>-248.913569</td>\n",
       "      <td>108</td>\n",
       "      <td>1</td>\n",
       "      <td>502.509269</td>\n",
       "      <td>-251.254634</td>\n",
       "    </tr>\n",
       "    <tr>\n",
       "      <th>1</th>\n",
       "      <td>sub-01</td>\n",
       "      <td>info_cost</td>\n",
       "      <td>-248.111242</td>\n",
       "      <td>108</td>\n",
       "      <td>2</td>\n",
       "      <td>505.586746</td>\n",
       "      <td>-252.793373</td>\n",
       "    </tr>\n",
       "    <tr>\n",
       "      <th>2</th>\n",
       "      <td>sub-01</td>\n",
       "      <td>info</td>\n",
       "      <td>-256.883498</td>\n",
       "      <td>108</td>\n",
       "      <td>1</td>\n",
       "      <td>518.449127</td>\n",
       "      <td>-259.224564</td>\n",
       "    </tr>\n",
       "    <tr>\n",
       "      <th>3</th>\n",
       "      <td>sub-01</td>\n",
       "      <td>info_pref_cost</td>\n",
       "      <td>-223.070073</td>\n",
       "      <td>108</td>\n",
       "      <td>3</td>\n",
       "      <td>460.186540</td>\n",
       "      <td>-230.093270</td>\n",
       "    </tr>\n",
       "    <tr>\n",
       "      <th>4</th>\n",
       "      <td>sub-01</td>\n",
       "      <td>info_pref</td>\n",
       "      <td>-233.453719</td>\n",
       "      <td>108</td>\n",
       "      <td>2</td>\n",
       "      <td>476.271700</td>\n",
       "      <td>-238.135850</td>\n",
       "    </tr>\n",
       "  </tbody>\n",
       "</table>\n",
       "</div>"
      ],
      "text/plain": [
       "      sub           model      loglik  example  n_param         BIC  \\\n",
       "0  sub-01            cost -248.913569      108        1  502.509269   \n",
       "1  sub-01       info_cost -248.111242      108        2  505.586746   \n",
       "2  sub-01            info -256.883498      108        1  518.449127   \n",
       "3  sub-01  info_pref_cost -223.070073      108        3  460.186540   \n",
       "4  sub-01       info_pref -233.453719      108        2  476.271700   \n",
       "\n",
       "   model_evidence  \n",
       "0     -251.254634  \n",
       "1     -252.793373  \n",
       "2     -259.224564  \n",
       "3     -230.093270  \n",
       "4     -238.135850  "
      ]
     },
     "execution_count": 8,
     "metadata": {},
     "output_type": "execute_result"
    }
   ],
   "source": [
    "human_bic = human_lik.merge(sample_sizes)\n",
    "human_bic['n_param'] = human_bic.model.apply(lambda m: len(m.split('_')))\n",
    "human_bic['n_param'] = np.where(human_bic.model == 'strong', 0, human_bic.n_param) # special case: strong sampling\n",
    "human_bic['BIC'] = human_bic.n_param*np.log(human_bic.example)-2*human_bic.loglik\n",
    "human_bic['model_evidence'] = -0.5*human_bic.BIC\n",
    "human_bic.head()"
   ]
  },
  {
   "cell_type": "markdown",
   "metadata": {},
   "source": [
    "Matrix of model evidences:"
   ]
  },
  {
   "cell_type": "code",
   "execution_count": 9,
   "metadata": {},
   "outputs": [
    {
     "name": "stdout",
     "output_type": "stream",
     "text": [
      "(28, 8)\n",
      "[[-251.25463438 -259.22456362 -252.793373   -238.13584983 -230.0932698\n",
      "  -235.82306988 -228.06575481 -257.20168717]\n",
      " [-262.45051049 -273.4034983  -264.75779059 -270.85387853 -260.85257416\n",
      "  -268.48577927 -258.50269078 -271.03539907]\n",
      " [-255.01961551 -264.80177866 -247.04585328 -249.25626874 -230.22728685\n",
      "  -251.35714354 -235.55586487 -268.96600787]\n",
      " [-266.12994971 -274.50986232 -267.27677684 -273.30918958 -266.11654858\n",
      "  -271.73743318 -264.68938469 -273.21096745]\n",
      " [-269.84906554 -277.58694005 -271.48267995 -247.92947688 -239.79614527\n",
      "  -245.55738407 -237.61750324 -275.48456501]\n",
      " [-281.42772472 -284.05326288 -283.81306729 -262.61555911 -262.31969172\n",
      "  -260.2302168  -259.93434913 -281.66792057]\n",
      " [-277.75000007 -284.66249841 -279.21724584 -264.91798289 -259.02826408\n",
      "  -262.57328551 -256.88245274 -282.78595094]\n",
      " [-273.12455032 -281.82217328 -275.49688406 -276.05658412 -268.17305459\n",
      "  -273.67978902 -265.7962595  -279.44537818]\n",
      " [-247.171384   -262.34798346 -242.48945608 -256.44387819 -235.86972347\n",
      "  -258.12872519 -238.72039201 -265.6671293 ]\n",
      " [-239.15639912 -222.58329127 -223.75334791 -205.93801396 -207.14256388\n",
      "  -218.13951412 -219.59337154 -237.62439213]\n",
      " [-275.18140671 -265.11185405 -259.2898824  -256.50293492 -249.29123729\n",
      "  -268.2188918  -263.39237026 -278.88576239]\n",
      " [-261.8666104  -257.23167834 -252.59158522 -234.87566653 -229.26980295\n",
      "  -241.2015148  -237.83487782 -264.81933749]\n",
      " [-243.4305671  -278.0739407  -245.40649121 -273.49433234 -241.22220355\n",
      "  -271.11753724 -239.07856042 -275.69940976]\n",
      " [-245.59301634 -265.02182372 -247.94778146 -247.32023022 -225.17133365\n",
      "  -244.96546512 -222.81656859 -262.66705862]\n",
      " [-272.2894859  -288.00690614 -274.49362341 -263.69520317 -249.08016466\n",
      "  -261.3014573  -246.75753886 -285.61916428]\n",
      " [-254.97538643 -280.7807194  -257.09286007 -250.73964676 -223.45326186\n",
      "  -248.36285167 -221.13201549 -278.40392431]\n",
      " [-252.98180783 -260.35577449 -248.92713475 -246.85178656 -232.4034118\n",
      "  -247.66862333 -235.0666396  -262.57167899]\n",
      " [-254.75488388 -273.36150647 -244.06864017 -254.28557505 -222.75360131\n",
      "  -259.43321169 -232.63747203 -280.14689361]\n",
      " [-271.12624472 -269.60878782 -269.57180985 -269.35114931 -268.85821164\n",
      "  -269.95053563 -269.79844264 -270.82931449]\n",
      " [-270.78452644 -288.01291016 -273.17827211 -277.23224128 -261.98865302\n",
      "  -274.83849534 -259.59490736 -285.61916428]\n",
      " [-260.73991538 -283.18224671 -259.29490619 -269.85147482 -241.49082305\n",
      "  -268.80066083 -241.64328764 -283.31657919]\n",
      " [-270.66205745 -276.05268229 -269.85511007 -263.5088357  -256.52874551\n",
      "  -262.9535274  -256.64252548 -276.24670506]\n",
      " [-261.00013341 -251.99260707 -246.27896768 -248.95773799 -243.20540972\n",
      "  -261.87364716 -257.71863964 -265.20538451]\n",
      " [-268.82939619 -278.04754501 -270.24262931 -253.34113446 -243.92251057\n",
      "  -251.02076657 -241.98322977 -276.0441808 ]\n",
      " [-262.20709361 -273.88329571 -260.13741569 -252.25652509 -235.79913157\n",
      "  -252.20332364 -237.08316478 -274.49803774]\n",
      " [-257.28398884 -284.42098766 -259.66488817 -238.7113079  -209.18951815\n",
      "  -236.32596558 -206.80417604 -282.03564535]\n",
      " [-270.3923015  -266.37658597 -260.10573409 -250.53482459 -242.09223727\n",
      "  -256.83488276 -250.09040935 -275.27935916]\n",
      " [-264.00903519 -266.45679485 -239.67728375 -255.05108526 -225.77831908\n",
      "  -272.03298295 -247.89572231 -285.61916428]]\n"
     ]
    }
   ],
   "source": [
    "evidence_df = (\n",
    "    human_bic\n",
    "    [['sub', 'model', 'model_evidence']]\n",
    "    .copy()\n",
    "    .pivot(index='sub', columns='model', values='model_evidence')\n",
    ")\n",
    "human_model_evidences = evidence_df.copy().to_numpy()\n",
    "subject_labels = evidence_df.index.values\n",
    "model_labels = evidence_df.columns.values\n",
    "\n",
    "print(human_model_evidences.shape)\n",
    "print(human_model_evidences)"
   ]
  },
  {
   "cell_type": "markdown",
   "metadata": {},
   "source": [
    "Save outputs to file:"
   ]
  },
  {
   "cell_type": "code",
   "execution_count": 10,
   "metadata": {},
   "outputs": [],
   "source": [
    "# create output directory\n",
    "out_dir = 'outputs/human_model_comparison'\n",
    "os.makedirs(out_dir, exist_ok=True)\n",
    "\n",
    "# populate with matrix of model evidences\n",
    "np.savetxt(opj(out_dir, 'human_model_evidence.txt'), human_model_evidences)\n",
    "np.savetxt(opj(out_dir, 'subject_labels.txt'), subject_labels, fmt='%s')\n",
    "np.savetxt(opj(out_dir, 'model_labels.txt'), model_labels, fmt='%s')\n",
    "\n",
    "# also save model evidence to file\n",
    "human_bic.to_csv(opj(out_dir, 'human_model_evidence_summary.csv'))"
   ]
  },
  {
   "cell_type": "markdown",
   "metadata": {},
   "source": [
    "### Check distribution of best-fitting parameter values"
   ]
  },
  {
   "cell_type": "markdown",
   "metadata": {},
   "source": [
    "Keep only parameters that were fit to data"
   ]
  },
  {
   "cell_type": "code",
   "execution_count": 11,
   "metadata": {},
   "outputs": [
    {
     "name": "stdout",
     "output_type": "stream",
     "text": [
      "(336, 4)\n"
     ]
    },
    {
     "data": {
      "text/html": [
       "<div>\n",
       "<style scoped>\n",
       "    .dataframe tbody tr th:only-of-type {\n",
       "        vertical-align: middle;\n",
       "    }\n",
       "\n",
       "    .dataframe tbody tr th {\n",
       "        vertical-align: top;\n",
       "    }\n",
       "\n",
       "    .dataframe thead th {\n",
       "        text-align: right;\n",
       "    }\n",
       "</style>\n",
       "<table border=\"1\" class=\"dataframe\">\n",
       "  <thead>\n",
       "    <tr style=\"text-align: right;\">\n",
       "      <th></th>\n",
       "      <th>sub</th>\n",
       "      <th>model</th>\n",
       "      <th>weight_label</th>\n",
       "      <th>weight_value</th>\n",
       "    </tr>\n",
       "  </thead>\n",
       "  <tbody>\n",
       "    <tr>\n",
       "      <th>0</th>\n",
       "      <td>sub-01</td>\n",
       "      <td>cost</td>\n",
       "      <td>cost</td>\n",
       "      <td>2.37434</td>\n",
       "    </tr>\n",
       "    <tr>\n",
       "      <th>1</th>\n",
       "      <td>sub-02</td>\n",
       "      <td>cost</td>\n",
       "      <td>cost</td>\n",
       "      <td>2.76409</td>\n",
       "    </tr>\n",
       "    <tr>\n",
       "      <th>2</th>\n",
       "      <td>sub-04</td>\n",
       "      <td>cost</td>\n",
       "      <td>cost</td>\n",
       "      <td>3.36204</td>\n",
       "    </tr>\n",
       "    <tr>\n",
       "      <th>3</th>\n",
       "      <td>sub-05</td>\n",
       "      <td>cost</td>\n",
       "      <td>cost</td>\n",
       "      <td>2.53307</td>\n",
       "    </tr>\n",
       "    <tr>\n",
       "      <th>4</th>\n",
       "      <td>sub-06</td>\n",
       "      <td>cost</td>\n",
       "      <td>cost</td>\n",
       "      <td>2.29934</td>\n",
       "    </tr>\n",
       "  </tbody>\n",
       "</table>\n",
       "</div>"
      ],
      "text/plain": [
       "      sub model weight_label weight_value\n",
       "0  sub-01  cost         cost      2.37434\n",
       "1  sub-02  cost         cost      2.76409\n",
       "2  sub-04  cost         cost      3.36204\n",
       "3  sub-05  cost         cost      2.53307\n",
       "4  sub-06  cost         cost      2.29934"
      ]
     },
     "execution_count": 11,
     "metadata": {},
     "output_type": "execute_result"
    }
   ],
   "source": [
    "# arrange models roughly by decreasing complexity\n",
    "weight_levels = ['info', 'pref', 'cost']\n",
    "model_levels = ['info_pref_cost', 'info_pref', 'info_cost', 'pref_cost', 'info', 'pref', 'cost']\n",
    "\n",
    "# assemble dataframe of best-fitting parameter values\n",
    "filtered_weights = human_weights.copy()\n",
    "is_fit_var = filtered_weights.apply(lambda row: row['weight_label'] in row['model'], axis=1)\n",
    "filtered_weights = filtered_weights[is_fit_var].reset_index(drop=True)\n",
    "\n",
    "# reorder categorical vars\n",
    "filtered_weights['weight_label'] = filtered_weights.weight_label.astype('category').cat.reorder_categories(weight_levels)\n",
    "filtered_weights['model'] = filtered_weights.model.astype('category').cat.reorder_categories(model_levels)\n",
    "\n",
    "print(filtered_weights.shape)\n",
    "filtered_weights.head()"
   ]
  },
  {
   "cell_type": "markdown",
   "metadata": {},
   "source": [
    "Plot distribution of fit parameters"
   ]
  },
  {
   "cell_type": "code",
   "execution_count": 14,
   "metadata": {},
   "outputs": [
    {
     "data": {
      "image/png": "[encoded data removed]",
      "text/plain": [
       "<Figure size 1080x2520 with 21 Axes>"
      ]
     },
     "metadata": {},
     "output_type": "display_data"
    }
   ],
   "source": [
    "g = sns.displot(data=filtered_weights, row='model', col='weight_label', x='weight_value', common_bins=False, facet_kws={'sharex': 'col'})\n",
    "g.set_axis_labels(xlabel='Estimated weight')\n",
    "g.set_titles(template='Model: {row_name}, Weight: {col_name}')\n",
    "\n",
    "# remove blank facets\n",
    "for m_idx,m in enumerate(model_levels):\n",
    "    for w_idx,w in enumerate(weight_levels):\n",
    "        if w not in m:\n",
    "            g.axes[m_idx,w_idx].axis('off')\n",
    "            g.axes[m_idx,w_idx].set(title='')\n",
    "        \n",
    "        # show x-axis labels on every non-empty facet\n",
    "        g.axes[m_idx,w_idx].tick_params(labelbottom=True)\n",
    "        \n",
    "plt.savefig('plots/model_MLE.png')"
   ]
  },
  {
   "cell_type": "markdown",
   "metadata": {},
   "source": [
    "## Model recovery"
   ]
  },
  {
   "cell_type": "code",
   "execution_count": 13,
   "metadata": {},
   "outputs": [],
   "source": [
    "def model_label(res):\n",
    "    weight_labels = np.array(['info', 'pref', 'cost'])\n",
    "\n",
    "    active_labels = weight_labels[np.nonzero(res['weights'])]\n",
    "    true_label = '_'.join(active_labels)\n",
    "    \n",
    "    return true_label"
   ]
  },
  {
   "cell_type": "markdown",
   "metadata": {},
   "source": [
    "Find model recovery files:"
   ]
  },
  {
   "cell_type": "code",
   "execution_count": 26,
   "metadata": {},
   "outputs": [
    {
     "name": "stdout",
     "output_type": "stream",
     "text": [
      "Found 196 files\n",
      "outputs/model_recovery/recovery_sub-01_model-cost.json\n",
      "outputs/model_recovery/recovery_sub-01_model-info.json\n",
      "outputs/model_recovery/recovery_sub-01_model-info_cost.json\n",
      "outputs/model_recovery/recovery_sub-01_model-info_pref.json\n",
      "outputs/model_recovery/recovery_sub-01_model-info_pref_cost.json\n",
      "outputs/model_recovery/recovery_sub-01_model-pref.json\n",
      "outputs/model_recovery/recovery_sub-01_model-pref_cost.json\n",
      "outputs/model_recovery/recovery_sub-02_model-cost.json\n",
      "outputs/model_recovery/recovery_sub-02_model-info.json\n",
      "outputs/model_recovery/recovery_sub-02_model-info_cost.json\n",
      "...\n"
     ]
    }
   ],
   "source": [
    "recovery_files = gsearch('outputs/model_recovery/*.json')\n",
    "recovery_files.sort()\n",
    "\n",
    "print(f'Found {len(recovery_files)} files')\n",
    "print(*recovery_files[:10], sep='\\n')\n",
    "print('...')"
   ]
  },
  {
   "cell_type": "markdown",
   "metadata": {},
   "source": [
    "Compute model evidences:"
   ]
  },
  {
   "cell_type": "code",
   "execution_count": 29,
   "metadata": {},
   "outputs": [
    {
     "name": "stdout",
     "output_type": "stream",
     "text": [
      "(1372, 7)\n"
     ]
    },
    {
     "data": {
      "text/html": [
       "<div>\n",
       "<style scoped>\n",
       "    .dataframe tbody tr th:only-of-type {\n",
       "        vertical-align: middle;\n",
       "    }\n",
       "\n",
       "    .dataframe tbody tr th {\n",
       "        vertical-align: top;\n",
       "    }\n",
       "\n",
       "    .dataframe thead th {\n",
       "        text-align: right;\n",
       "    }\n",
       "</style>\n",
       "<table border=\"1\" class=\"dataframe\">\n",
       "  <thead>\n",
       "    <tr style=\"text-align: right;\">\n",
       "      <th></th>\n",
       "      <th>subject</th>\n",
       "      <th>true_model</th>\n",
       "      <th>fit_model</th>\n",
       "      <th>loglik</th>\n",
       "      <th>n_param</th>\n",
       "      <th>BIC</th>\n",
       "      <th>model_evidence</th>\n",
       "    </tr>\n",
       "  </thead>\n",
       "  <tbody>\n",
       "    <tr>\n",
       "      <th>0</th>\n",
       "      <td>sub-01</td>\n",
       "      <td>cost</td>\n",
       "      <td>info_pref_cost</td>\n",
       "      <td>-271.288615</td>\n",
       "      <td>3</td>\n",
       "      <td>556.939706</td>\n",
       "      <td>-278.469853</td>\n",
       "    </tr>\n",
       "    <tr>\n",
       "      <th>1</th>\n",
       "      <td>sub-01</td>\n",
       "      <td>cost</td>\n",
       "      <td>pref_cost</td>\n",
       "      <td>-271.316924</td>\n",
       "      <td>2</td>\n",
       "      <td>552.208832</td>\n",
       "      <td>-276.104416</td>\n",
       "    </tr>\n",
       "    <tr>\n",
       "      <th>2</th>\n",
       "      <td>sub-01</td>\n",
       "      <td>cost</td>\n",
       "      <td>info_cost</td>\n",
       "      <td>-274.009886</td>\n",
       "      <td>2</td>\n",
       "      <td>557.594756</td>\n",
       "      <td>-278.797378</td>\n",
       "    </tr>\n",
       "    <tr>\n",
       "      <th>3</th>\n",
       "      <td>sub-01</td>\n",
       "      <td>cost</td>\n",
       "      <td>info_pref</td>\n",
       "      <td>-283.074542</td>\n",
       "      <td>2</td>\n",
       "      <td>575.724068</td>\n",
       "      <td>-287.862034</td>\n",
       "    </tr>\n",
       "    <tr>\n",
       "      <th>4</th>\n",
       "      <td>sub-01</td>\n",
       "      <td>cost</td>\n",
       "      <td>info</td>\n",
       "      <td>-285.576092</td>\n",
       "      <td>1</td>\n",
       "      <td>575.939676</td>\n",
       "      <td>-287.969838</td>\n",
       "    </tr>\n",
       "    <tr>\n",
       "      <th>5</th>\n",
       "      <td>sub-01</td>\n",
       "      <td>cost</td>\n",
       "      <td>pref</td>\n",
       "      <td>-283.082965</td>\n",
       "      <td>1</td>\n",
       "      <td>570.953421</td>\n",
       "      <td>-285.476710</td>\n",
       "    </tr>\n",
       "    <tr>\n",
       "      <th>6</th>\n",
       "      <td>sub-01</td>\n",
       "      <td>cost</td>\n",
       "      <td>cost</td>\n",
       "      <td>-274.088782</td>\n",
       "      <td>1</td>\n",
       "      <td>552.965056</td>\n",
       "      <td>-276.482528</td>\n",
       "    </tr>\n",
       "    <tr>\n",
       "      <th>0</th>\n",
       "      <td>sub-01</td>\n",
       "      <td>info</td>\n",
       "      <td>info_pref_cost</td>\n",
       "      <td>-285.489623</td>\n",
       "      <td>3</td>\n",
       "      <td>585.341721</td>\n",
       "      <td>-292.670861</td>\n",
       "    </tr>\n",
       "  </tbody>\n",
       "</table>\n",
       "</div>"
      ],
      "text/plain": [
       "  subject true_model       fit_model      loglik  n_param         BIC  \\\n",
       "0  sub-01       cost  info_pref_cost -271.288615        3  556.939706   \n",
       "1  sub-01       cost       pref_cost -271.316924        2  552.208832   \n",
       "2  sub-01       cost       info_cost -274.009886        2  557.594756   \n",
       "3  sub-01       cost       info_pref -283.074542        2  575.724068   \n",
       "4  sub-01       cost            info -285.576092        1  575.939676   \n",
       "5  sub-01       cost            pref -283.082965        1  570.953421   \n",
       "6  sub-01       cost            cost -274.088782        1  552.965056   \n",
       "0  sub-01       info  info_pref_cost -285.489623        3  585.341721   \n",
       "\n",
       "   model_evidence  \n",
       "0     -278.469853  \n",
       "1     -276.104416  \n",
       "2     -278.797378  \n",
       "3     -287.862034  \n",
       "4     -287.969838  \n",
       "5     -285.476710  \n",
       "6     -276.482528  \n",
       "0     -292.670861  "
      ]
     },
     "execution_count": 29,
     "metadata": {},
     "output_type": "execute_result"
    }
   ],
   "source": [
    "recovery_list = []\n",
    "for f in recovery_files:\n",
    "    # read individual model recovery results\n",
    "    f_df = (\n",
    "        pd.read_json(f)\n",
    "        .rename(columns={'fun': 'loglik'})\n",
    "        [['subject', 'true_model', 'fit_model', 'loglik']]\n",
    "    )\n",
    "    \n",
    "    recovery_list.append(f_df)\n",
    "\n",
    "recovery_df = pd.concat(recovery_list)\n",
    "recovery_df['loglik'] = -recovery_df['loglik']\n",
    "recovery_df['n_param'] = recovery_df.fit_model.apply(lambda m: len(m.split('_')))\n",
    "recovery_df['BIC'] = recovery_df.n_param*np.log(40*3)-2*recovery_df.loglik\n",
    "recovery_df['model_evidence'] = -0.5*recovery_df.BIC\n",
    "\n",
    "print(recovery_df.shape)\n",
    "recovery_df.head(8)"
   ]
  },
  {
   "cell_type": "markdown",
   "metadata": {},
   "source": [
    "Save matrices of model evidences"
   ]
  },
  {
   "cell_type": "code",
   "execution_count": 39,
   "metadata": {},
   "outputs": [],
   "source": [
    "out_dir = 'outputs/simulated_model_comparison'\n",
    "os.makedirs(out_dir, exist_ok=True)\n",
    "\n",
    "for model,group in recovery_df.groupby('true_model'):\n",
    "    group_evidence = (\n",
    "        group\n",
    "        [['subject', 'fit_model', 'model_evidence']]\n",
    "        .copy()\n",
    "        .pivot(index='subject', columns='fit_model', values='model_evidence')\n",
    "    )\n",
    "\n",
    "    group_subjects = group_evidence.index.values\n",
    "    group_models = group_evidence.columns.values\n",
    "\n",
    "    # save model evidences and labels as matrices\n",
    "    np.savetxt(opj(out_dir, f'model-{model}_evidence.txt'), group_evidence.to_numpy())\n",
    "    np.savetxt(opj(out_dir, f'model-{model}_subject_labels.txt'), group_subjects, fmt='%s')\n",
    "    np.savetxt(opj(out_dir, f'model-{model}_model_labels.txt'), group_models, fmt='%s')\n"
   ]
  },
  {
   "cell_type": "code",
   "execution_count": 37,
   "metadata": {},
   "outputs": [],
   "source": []
  },
  {
   "cell_type": "code",
   "execution_count": null,
   "metadata": {},
   "outputs": [],
   "source": []
  }
 ],
 "metadata": {
  "kernelspec": {
   "display_name": "Python [conda env:root] *",
   "language": "python",
   "name": "conda-root-py"
  },
  "language_info": {
   "codemirror_mode": {
    "name": "ipython",
    "version": 3
   },
   "file_extension": ".py",
   "mimetype": "text/x-python",
   "name": "python",
   "nbconvert_exporter": "python",
   "pygments_lexer": "ipython3",
   "version": "3.8.5"
  }
 },
 "nbformat": 4,
 "nbformat_minor": 4
}
