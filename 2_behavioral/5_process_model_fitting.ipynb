{
 "cells": [
  {
   "cell_type": "markdown",
   "metadata": {},
   "source": [
    "# Process model fitting results\n",
    "Natalia Vélez, March 2022\n",
    "\n",
    "In this notebook, we'll check the distributions of best-fitting parameter values and prepare an n_participants x n_models matrix of model evidnces for use in Bayesian model selection."
   ]
  },
  {
   "cell_type": "code",
   "execution_count": 1,
   "metadata": {},
   "outputs": [
    {
     "name": "stdout",
     "output_type": "stream",
     "text": [
      "Loading teaching problems\n",
      "{'A': [[0, 0, 1, 1, 0, 0],\n",
      "       [0, 1, 1, 1, 1, 0],\n",
      "       [1, 1, 1, 1, 1, 1],\n",
      "       [1, 1, 1, 1, 1, 1],\n",
      "       [0, 1, 1, 1, 1, 0],\n",
      "       [0, 0, 1, 1, 0, 0]],\n",
      " 'B': [[1, 1, 1, 0, 0, 0],\n",
      "       [1, 1, 1, 0, 0, 0],\n",
      "       [1, 1, 1, 1, 0, 0],\n",
      "       [0, 0, 1, 1, 0, 0],\n",
      "       [0, 0, 0, 0, 0, 0],\n",
      "       [0, 0, 0, 0, 0, 0]],\n",
      " 'C': [[0, 0, 0, 1, 1, 1],\n",
      "       [0, 0, 0, 1, 1, 1],\n",
      "       [0, 0, 1, 1, 1, 1],\n",
      "       [0, 0, 1, 1, 0, 0],\n",
      "       [0, 0, 0, 0, 0, 0],\n",
      "       [0, 0, 0, 0, 0, 0]],\n",
      " 'D': [[0, 0, 0, 0, 0, 0],\n",
      "       [0, 0, 0, 0, 0, 0],\n",
      "       [0, 0, 1, 1, 0, 0],\n",
      "       [1, 1, 1, 1, 1, 1],\n",
      "       [1, 1, 1, 1, 1, 1],\n",
      "       [1, 1, 1, 1, 1, 1]]}\n",
      "Participants excluded from analysis:\n",
      "[3, 17]\n",
      "Cleaning up human behavioral data\n",
      "    subject  run  block_idx  ex_idx first_movement   start  problem  \\\n",
      "0         1    1          0       0         [0, 1]  [0, 0]       22   \n",
      "1         1    1          0       1         [0, 1]  [0, 0]       22   \n",
      "3         1    1          1       0         [0, 4]  [0, 5]       18   \n",
      "4         1    1          1       1         [0, 4]  [0, 5]       18   \n",
      "5         1    1          1       2         [0, 4]  [0, 5]       18   \n",
      "6         1    1          2       0         [5, 4]  [5, 5]        1   \n",
      "7         1    1          2       1         [5, 4]  [5, 5]        1   \n",
      "8         1    1          2       2         [5, 4]  [5, 5]        1   \n",
      "10        1    1          3       1         [5, 1]  [5, 0]       16   \n",
      "11        1    1          3       2         [5, 1]  [5, 0]       16   \n",
      "12        1    2          0       0         [0, 1]  [0, 0]       20   \n",
      "13        1    2          0       1         [0, 1]  [0, 0]       20   \n",
      "14        1    2          0       2         [0, 1]  [0, 0]       20   \n",
      "16        1    2          1       1         [5, 4]  [5, 5]       28   \n",
      "17        1    2          1       2         [5, 4]  [5, 5]       28   \n",
      "\n",
      "                   order  example cursor_coords example_coords  cursor  \n",
      "0   ['C', 'B', 'D', 'A']        8        [0, 0]         [1, 2]       0  \n",
      "1   ['C', 'B', 'D', 'A']       27        [1, 2]         [4, 3]       8  \n",
      "3   ['D', 'B', 'C', 'A']        3        [0, 5]         [0, 3]       5  \n",
      "4   ['D', 'B', 'C', 'A']       32        [0, 3]         [5, 2]       3  \n",
      "5   ['D', 'B', 'C', 'A']        7        [5, 2]         [1, 1]      32  \n",
      "6   ['A', 'D', 'C', 'B']       31        [5, 5]         [5, 1]      35  \n",
      "7   ['A', 'D', 'C', 'B']        1        [5, 1]         [0, 1]      31  \n",
      "8   ['A', 'D', 'C', 'B']        4        [0, 1]         [0, 4]       1  \n",
      "10  ['B', 'C', 'A', 'D']       27        [5, 0]         [4, 3]      30  \n",
      "11  ['B', 'C', 'A', 'D']        8        [4, 3]         [1, 2]      27  \n",
      "12  ['D', 'C', 'A', 'B']        9        [0, 0]         [1, 3]       0  \n",
      "13  ['D', 'C', 'A', 'B']       19        [1, 3]         [3, 1]       9  \n",
      "14  ['D', 'C', 'A', 'B']       21        [3, 1]         [3, 3]      19  \n",
      "16  ['C', 'D', 'B', 'A']       10        [5, 5]         [1, 4]      35  \n",
      "17  ['C', 'D', 'B', 'A']       26        [1, 4]         [4, 2]      10  \n"
     ]
    }
   ],
   "source": [
    "%matplotlib inline\n",
    "\n",
    "import os, re, sys\n",
    "import numpy as np\n",
    "import pandas as pd\n",
    "import matplotlib.pyplot as plt\n",
    "import seaborn as sns\n",
    "import teaching_models as teach\n",
    "from os.path import join as opj\n",
    "\n",
    "sys.path.append('..')\n",
    "from utils import read_json, gsearch, str_extract\n",
    "\n",
    "sns.set_style('white')\n",
    "sns.set_context('talk')"
   ]
  },
  {
   "cell_type": "markdown",
   "metadata": {},
   "source": [
    "Helper function: Replace weights"
   ]
  },
  {
   "cell_type": "code",
   "execution_count": 2,
   "metadata": {},
   "outputs": [],
   "source": [
    "def expand_weights(res):\n",
    "    full_weights = np.array(res['weights'])\n",
    "    full_weights[np.not_equal(full_weights, 0)] = res['x']\n",
    "    return full_weights"
   ]
  },
  {
   "cell_type": "markdown",
   "metadata": {},
   "source": [
    "## Human model fitting"
   ]
  },
  {
   "cell_type": "markdown",
   "metadata": {},
   "source": [
    "### Data wrangling"
   ]
  },
  {
   "cell_type": "markdown",
   "metadata": {},
   "source": [
    "Find human model fitting results:"
   ]
  },
  {
   "cell_type": "code",
   "execution_count": 3,
   "metadata": {},
   "outputs": [
    {
     "name": "stdout",
     "output_type": "stream",
     "text": [
      "Found 308 files\n",
      "outputs/fit_model-cost_method-optimize/sub-01_model-cost_method-optimize_result.json\n",
      "outputs/fit_model-cost_method-optimize/sub-02_model-cost_method-optimize_result.json\n",
      "outputs/fit_model-cost_method-optimize/sub-04_model-cost_method-optimize_result.json\n",
      "outputs/fit_model-cost_method-optimize/sub-05_model-cost_method-optimize_result.json\n",
      "outputs/fit_model-cost_method-optimize/sub-06_model-cost_method-optimize_result.json\n",
      "outputs/fit_model-cost_method-optimize/sub-07_model-cost_method-optimize_result.json\n",
      "outputs/fit_model-cost_method-optimize/sub-08_model-cost_method-optimize_result.json\n",
      "outputs/fit_model-cost_method-optimize/sub-09_model-cost_method-optimize_result.json\n",
      "outputs/fit_model-cost_method-optimize/sub-10_model-cost_method-optimize_result.json\n",
      "outputs/fit_model-cost_method-optimize/sub-11_model-cost_method-optimize_result.json\n",
      "...\n"
     ]
    }
   ],
   "source": [
    "fit_files = gsearch('outputs/fit_model-*_method-optimize/*.json')\n",
    "fit_files.sort()\n",
    "\n",
    "print(f'Found {len(fit_files)} files')\n",
    "print(*fit_files[:10], sep='\\n')\n",
    "print('...')"
   ]
  },
  {
   "cell_type": "code",
   "execution_count": 4,
   "metadata": {},
   "outputs": [],
   "source": [
    "sub_list = []\n",
    "\n",
    "for f in fit_files:\n",
    "    res = read_json(f)\n",
    "    sub_df = pd.DataFrame({\n",
    "        'sub': str_extract('sub-[0-9]{2}', f),\n",
    "        'model': res['label'],\n",
    "        'weight_label': ['info', 'pref', 'cost'],\n",
    "        'weight_value': expand_weights(res)\n",
    "    })\n",
    "    sub_df['loglik'] = -res['fun']\n",
    "    sub_list.append(sub_df)\n",
    "\n",
    "human_df = pd.concat(sub_list)\n",
    "human_weights = human_df.copy().drop(columns='loglik').reset_index(drop=True) # df of best-fitting weights\n",
    "optimize_lik = ( # df of likelihoods\n",
    "    human_df\n",
    "    .copy()\n",
    "    .drop(columns=['weight_label', 'weight_value'])\n",
    "    .drop_duplicates()\n",
    "    .reset_index(drop=True)\n",
    ")"
   ]
  },
  {
   "cell_type": "markdown",
   "metadata": {},
   "source": [
    "Add model likelihoods from strong sampling:"
   ]
  },
  {
   "cell_type": "code",
   "execution_count": 5,
   "metadata": {},
   "outputs": [
    {
     "name": "stdout",
     "output_type": "stream",
     "text": [
      "(336, 3)\n"
     ]
    },
    {
     "data": {
      "text/html": [
       "<div>\n",
       "<style scoped>\n",
       "    .dataframe tbody tr th:only-of-type {\n",
       "        vertical-align: middle;\n",
       "    }\n",
       "\n",
       "    .dataframe tbody tr th {\n",
       "        vertical-align: top;\n",
       "    }\n",
       "\n",
       "    .dataframe thead th {\n",
       "        text-align: right;\n",
       "    }\n",
       "</style>\n",
       "<table border=\"1\" class=\"dataframe\">\n",
       "  <thead>\n",
       "    <tr style=\"text-align: right;\">\n",
       "      <th></th>\n",
       "      <th>sub</th>\n",
       "      <th>model</th>\n",
       "      <th>loglik</th>\n",
       "    </tr>\n",
       "  </thead>\n",
       "  <tbody>\n",
       "    <tr>\n",
       "      <th>0</th>\n",
       "      <td>sub-01</td>\n",
       "      <td>cost</td>\n",
       "      <td>-248.913569</td>\n",
       "    </tr>\n",
       "    <tr>\n",
       "      <th>1</th>\n",
       "      <td>sub-02</td>\n",
       "      <td>cost</td>\n",
       "      <td>-260.082411</td>\n",
       "    </tr>\n",
       "    <tr>\n",
       "      <th>2</th>\n",
       "      <td>sub-04</td>\n",
       "      <td>cost</td>\n",
       "      <td>-252.655922</td>\n",
       "    </tr>\n",
       "    <tr>\n",
       "      <th>3</th>\n",
       "      <td>sub-05</td>\n",
       "      <td>cost</td>\n",
       "      <td>-263.761850</td>\n",
       "    </tr>\n",
       "    <tr>\n",
       "      <th>4</th>\n",
       "      <td>sub-06</td>\n",
       "      <td>cost</td>\n",
       "      <td>-267.476599</td>\n",
       "    </tr>\n",
       "  </tbody>\n",
       "</table>\n",
       "</div>"
      ],
      "text/plain": [
       "      sub model      loglik\n",
       "0  sub-01  cost -248.913569\n",
       "1  sub-02  cost -260.082411\n",
       "2  sub-04  cost -252.655922\n",
       "3  sub-05  cost -263.761850\n",
       "4  sub-06  cost -267.476599"
      ]
     },
     "execution_count": 5,
     "metadata": {},
     "output_type": "execute_result"
    }
   ],
   "source": [
    "strong_files = gsearch('outputs/fit_model-strong_method-grid', '*desc-params.csv')\n",
    "strong_files.sort()\n",
    "\n",
    "strong_lik = pd.concat([pd.read_csv(f) for f in strong_files])\n",
    "strong_lik = (\n",
    "    strong_lik\n",
    "    .assign(sub = strong_lik['subject'].apply(lambda s: 'sub-%02d' % s))\n",
    "    .drop(columns=['subject'])\n",
    ")\n",
    "\n",
    "human_lik = pd.concat([optimize_lik, strong_lik])\n",
    "\n",
    "print(human_lik.shape)\n",
    "human_lik.head()"
   ]
  },
  {
   "cell_type": "markdown",
   "metadata": {},
   "source": [
    "Check weights dataframe:"
   ]
  },
  {
   "cell_type": "code",
   "execution_count": 6,
   "metadata": {},
   "outputs": [
    {
     "name": "stdout",
     "output_type": "stream",
     "text": [
      "(924, 4)\n"
     ]
    },
    {
     "data": {
      "text/html": [
       "<div>\n",
       "<style scoped>\n",
       "    .dataframe tbody tr th:only-of-type {\n",
       "        vertical-align: middle;\n",
       "    }\n",
       "\n",
       "    .dataframe tbody tr th {\n",
       "        vertical-align: top;\n",
       "    }\n",
       "\n",
       "    .dataframe thead th {\n",
       "        text-align: right;\n",
       "    }\n",
       "</style>\n",
       "<table border=\"1\" class=\"dataframe\">\n",
       "  <thead>\n",
       "    <tr style=\"text-align: right;\">\n",
       "      <th></th>\n",
       "      <th>sub</th>\n",
       "      <th>model</th>\n",
       "      <th>weight_label</th>\n",
       "      <th>weight_value</th>\n",
       "    </tr>\n",
       "  </thead>\n",
       "  <tbody>\n",
       "    <tr>\n",
       "      <th>0</th>\n",
       "      <td>sub-01</td>\n",
       "      <td>cost</td>\n",
       "      <td>info</td>\n",
       "      <td>0</td>\n",
       "    </tr>\n",
       "    <tr>\n",
       "      <th>1</th>\n",
       "      <td>sub-01</td>\n",
       "      <td>cost</td>\n",
       "      <td>pref</td>\n",
       "      <td>0</td>\n",
       "    </tr>\n",
       "    <tr>\n",
       "      <th>2</th>\n",
       "      <td>sub-01</td>\n",
       "      <td>cost</td>\n",
       "      <td>cost</td>\n",
       "      <td>2.37434</td>\n",
       "    </tr>\n",
       "    <tr>\n",
       "      <th>3</th>\n",
       "      <td>sub-02</td>\n",
       "      <td>cost</td>\n",
       "      <td>info</td>\n",
       "      <td>0</td>\n",
       "    </tr>\n",
       "    <tr>\n",
       "      <th>4</th>\n",
       "      <td>sub-02</td>\n",
       "      <td>cost</td>\n",
       "      <td>pref</td>\n",
       "      <td>0</td>\n",
       "    </tr>\n",
       "  </tbody>\n",
       "</table>\n",
       "</div>"
      ],
      "text/plain": [
       "      sub model weight_label weight_value\n",
       "0  sub-01  cost         info            0\n",
       "1  sub-01  cost         pref            0\n",
       "2  sub-01  cost         cost      2.37434\n",
       "3  sub-02  cost         info            0\n",
       "4  sub-02  cost         pref            0"
      ]
     },
     "execution_count": 6,
     "metadata": {},
     "output_type": "execute_result"
    }
   ],
   "source": [
    "print(human_weights.shape)\n",
    "human_weights.head()"
   ]
  },
  {
   "cell_type": "markdown",
   "metadata": {},
   "source": [
    "### Assemble matrix of model evidences"
   ]
  },
  {
   "cell_type": "markdown",
   "metadata": {},
   "source": [
    "Get sample sizes"
   ]
  },
  {
   "cell_type": "code",
   "execution_count": 7,
   "metadata": {},
   "outputs": [
    {
     "data": {
      "text/html": [
       "<div>\n",
       "<style scoped>\n",
       "    .dataframe tbody tr th:only-of-type {\n",
       "        vertical-align: middle;\n",
       "    }\n",
       "\n",
       "    .dataframe tbody tr th {\n",
       "        vertical-align: top;\n",
       "    }\n",
       "\n",
       "    .dataframe thead th {\n",
       "        text-align: right;\n",
       "    }\n",
       "</style>\n",
       "<table border=\"1\" class=\"dataframe\">\n",
       "  <thead>\n",
       "    <tr style=\"text-align: right;\">\n",
       "      <th></th>\n",
       "      <th>sub</th>\n",
       "      <th>example</th>\n",
       "    </tr>\n",
       "  </thead>\n",
       "  <tbody>\n",
       "    <tr>\n",
       "      <th>0</th>\n",
       "      <td>sub-01</td>\n",
       "      <td>108</td>\n",
       "    </tr>\n",
       "    <tr>\n",
       "      <th>1</th>\n",
       "      <td>sub-02</td>\n",
       "      <td>114</td>\n",
       "    </tr>\n",
       "    <tr>\n",
       "      <th>2</th>\n",
       "      <td>sub-04</td>\n",
       "      <td>113</td>\n",
       "    </tr>\n",
       "    <tr>\n",
       "      <th>3</th>\n",
       "      <td>sub-05</td>\n",
       "      <td>114</td>\n",
       "    </tr>\n",
       "    <tr>\n",
       "      <th>4</th>\n",
       "      <td>sub-06</td>\n",
       "      <td>115</td>\n",
       "    </tr>\n",
       "  </tbody>\n",
       "</table>\n",
       "</div>"
      ],
      "text/plain": [
       "      sub  example\n",
       "0  sub-01      108\n",
       "1  sub-02      114\n",
       "2  sub-04      113\n",
       "3  sub-05      114\n",
       "4  sub-06      115"
      ]
     },
     "execution_count": 7,
     "metadata": {},
     "output_type": "execute_result"
    }
   ],
   "source": [
    "sample_sizes = (\n",
    "    teach.human_df\n",
    "    .groupby('subject')\n",
    "    .agg({'example': 'count'})\n",
    "    .reset_index()\n",
    "    .rename(columns={'subject': 'sub'})\n",
    ")\n",
    "sample_sizes['sub'] = sample_sizes['sub'].apply(lambda s: 'sub-%02d' % s)\n",
    "sample_sizes.head()"
   ]
  },
  {
   "cell_type": "markdown",
   "metadata": {},
   "source": [
    "Approximate marginal posterior using BIC:"
   ]
  },
  {
   "cell_type": "code",
   "execution_count": 8,
   "metadata": {},
   "outputs": [
    {
     "data": {
      "text/html": [
       "<div>\n",
       "<style scoped>\n",
       "    .dataframe tbody tr th:only-of-type {\n",
       "        vertical-align: middle;\n",
       "    }\n",
       "\n",
       "    .dataframe tbody tr th {\n",
       "        vertical-align: top;\n",
       "    }\n",
       "\n",
       "    .dataframe thead th {\n",
       "        text-align: right;\n",
       "    }\n",
       "</style>\n",
       "<table border=\"1\" class=\"dataframe\">\n",
       "  <thead>\n",
       "    <tr style=\"text-align: right;\">\n",
       "      <th></th>\n",
       "      <th>sub</th>\n",
       "      <th>model</th>\n",
       "      <th>loglik</th>\n",
       "      <th>example</th>\n",
       "      <th>n_param</th>\n",
       "      <th>BIC</th>\n",
       "      <th>model_evidence</th>\n",
       "    </tr>\n",
       "  </thead>\n",
       "  <tbody>\n",
       "    <tr>\n",
       "      <th>0</th>\n",
       "      <td>sub-01</td>\n",
       "      <td>cost</td>\n",
       "      <td>-248.913569</td>\n",
       "      <td>108</td>\n",
       "      <td>1</td>\n",
       "      <td>502.509269</td>\n",
       "      <td>-251.254634</td>\n",
       "    </tr>\n",
       "    <tr>\n",
       "      <th>1</th>\n",
       "      <td>sub-01</td>\n",
       "      <td>literal_cost</td>\n",
       "      <td>-241.494859</td>\n",
       "      <td>108</td>\n",
       "      <td>2</td>\n",
       "      <td>492.353980</td>\n",
       "      <td>-246.176990</td>\n",
       "    </tr>\n",
       "    <tr>\n",
       "      <th>2</th>\n",
       "      <td>sub-01</td>\n",
       "      <td>literal</td>\n",
       "      <td>-252.244198</td>\n",
       "      <td>108</td>\n",
       "      <td>1</td>\n",
       "      <td>509.170526</td>\n",
       "      <td>-254.585263</td>\n",
       "    </tr>\n",
       "    <tr>\n",
       "      <th>3</th>\n",
       "      <td>sub-01</td>\n",
       "      <td>literal_pref_cost</td>\n",
       "      <td>-213.466264</td>\n",
       "      <td>108</td>\n",
       "      <td>3</td>\n",
       "      <td>440.978922</td>\n",
       "      <td>-220.489461</td>\n",
       "    </tr>\n",
       "    <tr>\n",
       "      <th>4</th>\n",
       "      <td>sub-01</td>\n",
       "      <td>literal_pref</td>\n",
       "      <td>-227.600676</td>\n",
       "      <td>108</td>\n",
       "      <td>2</td>\n",
       "      <td>464.565614</td>\n",
       "      <td>-232.282807</td>\n",
       "    </tr>\n",
       "  </tbody>\n",
       "</table>\n",
       "</div>"
      ],
      "text/plain": [
       "      sub              model      loglik  example  n_param         BIC  \\\n",
       "0  sub-01               cost -248.913569      108        1  502.509269   \n",
       "1  sub-01       literal_cost -241.494859      108        2  492.353980   \n",
       "2  sub-01            literal -252.244198      108        1  509.170526   \n",
       "3  sub-01  literal_pref_cost -213.466264      108        3  440.978922   \n",
       "4  sub-01       literal_pref -227.600676      108        2  464.565614   \n",
       "\n",
       "   model_evidence  \n",
       "0     -251.254634  \n",
       "1     -246.176990  \n",
       "2     -254.585263  \n",
       "3     -220.489461  \n",
       "4     -232.282807  "
      ]
     },
     "execution_count": 8,
     "metadata": {},
     "output_type": "execute_result"
    }
   ],
   "source": [
    "human_bic = human_lik.merge(sample_sizes)\n",
    "human_bic['n_param'] = human_bic.model.apply(lambda m: len(m.split('_')))\n",
    "human_bic['n_param'] = np.where(human_bic.model == 'strong', 0, human_bic.n_param) # special case: strong sampling\n",
    "human_bic['BIC'] = human_bic.n_param*np.log(human_bic.example)-2*human_bic.loglik\n",
    "human_bic['model_evidence'] = -0.5*human_bic.BIC\n",
    "human_bic.head()"
   ]
  },
  {
   "cell_type": "markdown",
   "metadata": {},
   "source": [
    "Matrix of model evidences:"
   ]
  },
  {
   "cell_type": "code",
   "execution_count": 9,
   "metadata": {},
   "outputs": [
    {
     "name": "stdout",
     "output_type": "stream",
     "text": [
      "(28, 12)\n",
      "[[-251.25463438 -254.58526313 -246.17698979 -232.28280678 -220.48946075\n",
      "  -258.87398338 -252.19486403 -234.79346893 -224.68125537 -232.74832359\n",
      "  -223.37089438 -257.20168717]\n",
      " [-262.45051049 -256.19930781 -247.20119953 -254.49742475 -243.64567255\n",
      "  -273.17850944 -264.24084969 -270.41006741 -259.67227026 -268.17469986\n",
      "  -257.75366178 -271.03539907]\n",
      " [-255.01961551 -260.66385338 -239.3577453  -221.68548306 -195.28966086\n",
      "  -264.1781242  -246.05330552 -226.44601372 -204.2496697  -227.4089064\n",
      "  -208.41498469 -268.96600787]\n",
      " [-266.12994971 -270.73182638 -262.09797286 -262.30964114 -251.49253134\n",
      "  -273.63905639 -266.35169414 -264.78531054 -255.39661372 -263.26408539\n",
      "  -253.92037212 -273.21096745]\n",
      " [-269.84906554 -269.48021862 -260.62066328 -257.6258369  -244.96683159\n",
      "  -276.91606684 -270.28343112 -264.54699311 -254.90038278 -262.68664756\n",
      "  -254.05834315 -275.48456501]\n",
      " [-281.42772472 -281.6478023  -281.01802354 -259.16373756 -255.81998046\n",
      "  -284.05326288 -283.8130673  -260.4647539  -257.55287946 -258.07941149\n",
      "  -255.16753719 -281.66792057]\n",
      " [-277.75000007 -279.00713055 -272.53549619 -261.76427418 -250.85403176\n",
      "  -284.01307586 -278.38650703 -266.68943575 -257.11977211 -265.04933549\n",
      "  -256.15360959 -282.78595094]\n",
      " [-273.12455032 -275.0299113  -266.80567795 -273.25772886 -263.12129545\n",
      "  -281.82217328 -275.4251981  -279.22685993 -271.04179731 -276.85006484\n",
      "  -268.69965825 -279.44537818]\n",
      " [-247.171384   -262.9732623  -241.1301799  -231.9992304  -204.76662654\n",
      "  -262.1097919  -242.08145826 -232.13055633 -207.30771773 -233.10181564\n",
      "  -209.88381046 -265.6671293 ]\n",
      " [-239.15639912 -209.1827407  -210.3222582  -198.09546851 -198.12633955\n",
      "  -222.12973398 -223.29991507 -212.54410207 -212.71021197 -226.60696304\n",
      "  -227.26121133 -237.62439213]\n",
      " [-275.18140671 -263.75528079 -257.46668691 -238.4879831  -226.42844751\n",
      "  -265.11156859 -259.27318773 -242.41856865 -231.77703415 -254.94335603\n",
      "  -247.45304644 -278.88576239]\n",
      " [-261.8666104  -247.3979941  -242.08432236 -221.33102695 -213.36101004\n",
      "  -257.00865008 -252.35593495 -231.83929229 -225.20562145 -235.89264801\n",
      "  -230.95695109 -264.81933749]\n",
      " [-243.4305671  -275.50784792 -240.59142232 -277.5900981  -242.08354367\n",
      "  -277.95610104 -244.66847306 -279.9442012  -246.14114078 -277.66798511\n",
      "  -244.87191171 -275.69940976]\n",
      " [-245.59301634 -260.21031427 -240.35642975 -248.70644169 -224.37799968\n",
      "  -265.02182372 -247.94778144 -252.28732996 -230.69935305 -249.93256446\n",
      "  -228.34458786 -262.66705862]\n",
      " [-272.2894859  -276.74721607 -261.24283907 -267.26953529 -247.92307197\n",
      "  -287.70162629 -273.90012925 -276.47759027 -258.78462896 -274.19050846\n",
      "  -256.9053957  -285.61916428]\n",
      " [-254.97538643 -277.96000445 -252.35435824 -261.01080499 -231.43020628\n",
      "  -280.76361791 -256.65980118 -263.32262605 -236.15815742 -260.94583048\n",
      "  -234.08391881 -278.40392431]\n",
      " [-252.98180783 -251.03052559 -237.98555278 -224.74799463 -205.73733372\n",
      "  -259.47785601 -247.98521372 -232.64204185 -216.01613051 -233.44775317\n",
      "  -218.92022997 -262.57167899]\n",
      " [-254.75488388 -265.84117839 -236.48504944 -246.52582434 -210.97171464\n",
      "  -272.3078162  -242.87008711 -254.93806654 -220.04270694 -260.22358846\n",
      "  -229.69175879 -280.14689361]\n",
      " [-271.12624472 -268.5233714  -268.40359968 -242.63557067 -239.30436232\n",
      "  -269.35647819 -269.31335715 -243.33935378 -240.01913733 -243.38499114\n",
      "  -240.57786946 -270.82931449]\n",
      " [-270.78452644 -284.0054341  -267.93694978 -281.10387234 -263.06983088\n",
      "  -288.01291016 -273.17069002 -284.35271744 -267.57328762 -281.95897157\n",
      "  -265.17954185 -285.61916428]\n",
      " [-260.73991538 -263.53060137 -233.69109601 -242.81202357 -200.66969447\n",
      "  -278.97606289 -254.11433883 -257.92190637 -223.14409571 -260.53176225\n",
      "  -229.43306867 -283.31657919]\n",
      " [-270.66205745 -272.67011142 -265.21627529 -254.59085644 -242.52076076\n",
      "  -275.4175612  -269.09337493 -257.37367651 -246.75846031 -256.95116439\n",
      "  -247.05609354 -276.24670506]\n",
      " [-261.00013341 -250.93914986 -243.9485733  -251.41457245 -243.60900615\n",
      "  -251.68582199 -245.94912139 -252.09787769 -245.52115015 -264.41646319\n",
      "  -259.30733661 -265.20538451]\n",
      " [-268.82939619 -270.08241872 -260.74643629 -237.75608154 -222.48173006\n",
      "  -277.51878514 -269.45814819 -244.97502637 -231.62060825 -242.97577669\n",
      "  -230.52026549 -276.0441808 ]\n",
      " [-262.20709361 -267.25535293 -250.03080887 -246.04158739 -224.70523909\n",
      "  -273.24948685 -259.13507702 -251.26125677 -232.79640423 -251.03430137\n",
      "  -234.20370107 -274.49803774]\n",
      " [-257.28398884 -282.76075815 -256.38832512 -266.07334976 -235.19560241\n",
      "  -284.42098766 -259.55244266 -267.11030269 -237.96446316 -264.72496022\n",
      "  -235.60591157 -282.03564535]\n",
      " [-270.3923015  -261.0434486  -253.76336564 -240.64712322 -229.47093334\n",
      "  -266.05975605 -259.74216216 -245.97478793 -235.76421044 -252.66897433\n",
      "  -244.6001916  -275.27935916]\n",
      " [-264.00903519 -252.07941633 -220.87457438 -245.28620249 -211.28900854\n",
      "  -265.78885305 -238.8808894  -259.37486133 -229.91050167 -276.87199369\n",
      "  -253.08854442 -285.61916428]]\n"
     ]
    }
   ],
   "source": [
    "evidence_df = (\n",
    "    human_bic\n",
    "    [['sub', 'model', 'model_evidence']]\n",
    "    .copy()\n",
    "    .pivot(index='sub', columns='model', values='model_evidence')\n",
    ")\n",
    "human_model_evidences = evidence_df.copy().to_numpy()\n",
    "subject_labels = evidence_df.index.values\n",
    "model_labels = evidence_df.columns.values\n",
    "\n",
    "print(human_model_evidences.shape)\n",
    "print(human_model_evidences)"
   ]
  },
  {
   "cell_type": "markdown",
   "metadata": {},
   "source": [
    "Save outputs to file:"
   ]
  },
  {
   "cell_type": "code",
   "execution_count": 10,
   "metadata": {},
   "outputs": [],
   "source": [
    "# create output directory\n",
    "out_dir = 'outputs/human_model_comparison'\n",
    "os.makedirs(out_dir, exist_ok=True)\n",
    "\n",
    "# populate with matrix of model evidences\n",
    "np.savetxt(opj(out_dir, 'human_model_evidence.txt'), human_model_evidences)\n",
    "np.savetxt(opj(out_dir, 'subject_labels.txt'), subject_labels, fmt='%s')\n",
    "np.savetxt(opj(out_dir, 'model_labels.txt'), model_labels, fmt='%s')\n",
    "\n",
    "# also save model evidence to file\n",
    "human_bic.to_csv(opj(out_dir, 'human_model_evidence_summary.csv'))"
   ]
  },
  {
   "cell_type": "markdown",
   "metadata": {},
   "source": [
    "### Check distribution of best-fitting parameter values"
   ]
  },
  {
   "cell_type": "markdown",
   "metadata": {},
   "source": [
    "Keep only parameters that were fit to data"
   ]
  },
  {
   "cell_type": "code",
   "execution_count": 11,
   "metadata": {},
   "outputs": [
    {
     "name": "stdout",
     "output_type": "stream",
     "text": [
      "(560, 4)\n"
     ]
    },
    {
     "data": {
      "text/html": [
       "<div>\n",
       "<style scoped>\n",
       "    .dataframe tbody tr th:only-of-type {\n",
       "        vertical-align: middle;\n",
       "    }\n",
       "\n",
       "    .dataframe tbody tr th {\n",
       "        vertical-align: top;\n",
       "    }\n",
       "\n",
       "    .dataframe thead th {\n",
       "        text-align: right;\n",
       "    }\n",
       "</style>\n",
       "<table border=\"1\" class=\"dataframe\">\n",
       "  <thead>\n",
       "    <tr style=\"text-align: right;\">\n",
       "      <th></th>\n",
       "      <th>sub</th>\n",
       "      <th>model</th>\n",
       "      <th>weight_label</th>\n",
       "      <th>weight_value</th>\n",
       "    </tr>\n",
       "  </thead>\n",
       "  <tbody>\n",
       "    <tr>\n",
       "      <th>0</th>\n",
       "      <td>sub-01</td>\n",
       "      <td>cost</td>\n",
       "      <td>cost</td>\n",
       "      <td>2.37434</td>\n",
       "    </tr>\n",
       "    <tr>\n",
       "      <th>1</th>\n",
       "      <td>sub-02</td>\n",
       "      <td>cost</td>\n",
       "      <td>cost</td>\n",
       "      <td>2.76409</td>\n",
       "    </tr>\n",
       "    <tr>\n",
       "      <th>2</th>\n",
       "      <td>sub-04</td>\n",
       "      <td>cost</td>\n",
       "      <td>cost</td>\n",
       "      <td>3.36204</td>\n",
       "    </tr>\n",
       "    <tr>\n",
       "      <th>3</th>\n",
       "      <td>sub-05</td>\n",
       "      <td>cost</td>\n",
       "      <td>cost</td>\n",
       "      <td>2.53307</td>\n",
       "    </tr>\n",
       "    <tr>\n",
       "      <th>4</th>\n",
       "      <td>sub-06</td>\n",
       "      <td>cost</td>\n",
       "      <td>cost</td>\n",
       "      <td>2.29934</td>\n",
       "    </tr>\n",
       "  </tbody>\n",
       "</table>\n",
       "</div>"
      ],
      "text/plain": [
       "      sub model weight_label weight_value\n",
       "0  sub-01  cost         cost      2.37434\n",
       "1  sub-02  cost         cost      2.76409\n",
       "2  sub-04  cost         cost      3.36204\n",
       "3  sub-05  cost         cost      2.53307\n",
       "4  sub-06  cost         cost      2.29934"
      ]
     },
     "execution_count": 11,
     "metadata": {},
     "output_type": "execute_result"
    }
   ],
   "source": [
    "# arrange models roughly by decreasing complexity\n",
    "weight_levels = ['info', 'pref', 'cost']\n",
    "model_levels = ['pragmatic_pref_cost', 'literal_pref_cost', 'pragmatic_pref', 'literal_pref', 'pragmatic_cost', 'literal_cost', 'pragmatic', 'literal', 'pref_cost',  'pref', 'cost']\n",
    "def fit_vars(model_label):\n",
    "    model_parts = model_label.split('_')\n",
    "    model_parts = [re.sub(r'pragmatic|literal', 'info', s) for s in model_parts]\n",
    "    return model_parts\n",
    "\n",
    "# assemble dataframe of best-fitting parameter values\n",
    "filtered_weights = human_weights.copy()\n",
    "is_fit_var = filtered_weights.apply(lambda row: row['weight_label'] in fit_vars(row['model']), axis=1)\n",
    "filtered_weights = filtered_weights[is_fit_var].reset_index(drop=True)\n",
    "\n",
    "# reorder categorical vars\n",
    "filtered_weights['weight_label'] = filtered_weights.weight_label.astype('category').cat.reorder_categories(weight_levels)\n",
    "filtered_weights['model'] = filtered_weights.model.astype('category').cat.reorder_categories(model_levels)\n",
    "\n",
    "print(filtered_weights.shape)\n",
    "filtered_weights.head()"
   ]
  },
  {
   "cell_type": "markdown",
   "metadata": {},
   "source": [
    "Plot distribution of fit parameters"
   ]
  },
  {
   "cell_type": "code",
   "execution_count": 12,
   "metadata": {},
   "outputs": [
    {
     "data": {
      "image/png": "[encoded data removed]",
      "text/plain": [
       "<Figure size 1080x3960 with 33 Axes>"
      ]
     },
     "metadata": {},
     "output_type": "display_data"
    }
   ],
   "source": [
    "g = sns.displot(data=filtered_weights, row='model', col='weight_label', x='weight_value', common_bins=False, facet_kws={'sharex': 'col'})\n",
    "g.set_axis_labels(xlabel='Estimated weight')\n",
    "g.set_titles(template='Model: {row_name}, Weight: {col_name}')\n",
    "\n",
    "# remove blank facets\n",
    "for m_idx,m in enumerate(model_levels):\n",
    "    for w_idx,w in enumerate(weight_levels):\n",
    "        if w not in fit_vars(m):\n",
    "            g.axes[m_idx,w_idx].axis('off')\n",
    "            g.axes[m_idx,w_idx].set(title='')\n",
    "        \n",
    "        # show x-axis labels on every non-empty facet\n",
    "        g.axes[m_idx,w_idx].tick_params(labelbottom=True)\n",
    "        \n",
    "plt.savefig('plots/model_MLE.png')"
   ]
  },
  {
   "cell_type": "markdown",
   "metadata": {},
   "source": [
    "## Model recovery"
   ]
  },
  {
   "cell_type": "markdown",
   "metadata": {},
   "source": [
    "Find model recovery files:"
   ]
  },
  {
   "cell_type": "code",
   "execution_count": 13,
   "metadata": {},
   "outputs": [
    {
     "name": "stdout",
     "output_type": "stream",
     "text": [
      "Found 308 files\n",
      "outputs/model_recovery/recovery_sub-01_model-cost.json\n",
      "outputs/model_recovery/recovery_sub-01_model-literal.json\n",
      "outputs/model_recovery/recovery_sub-01_model-literal_cost.json\n",
      "outputs/model_recovery/recovery_sub-01_model-literal_pref.json\n",
      "outputs/model_recovery/recovery_sub-01_model-literal_pref_cost.json\n",
      "outputs/model_recovery/recovery_sub-01_model-pragmatic.json\n",
      "outputs/model_recovery/recovery_sub-01_model-pragmatic_cost.json\n",
      "outputs/model_recovery/recovery_sub-01_model-pragmatic_pref.json\n",
      "outputs/model_recovery/recovery_sub-01_model-pragmatic_pref_cost.json\n",
      "outputs/model_recovery/recovery_sub-01_model-pref.json\n",
      "...\n"
     ]
    }
   ],
   "source": [
    "recovery_files = gsearch('outputs/model_recovery/*.json')\n",
    "recovery_files.sort()\n",
    "\n",
    "print(f'Found {len(recovery_files)} files')\n",
    "print(*recovery_files[:10], sep='\\n')\n",
    "print('...')"
   ]
  },
  {
   "cell_type": "markdown",
   "metadata": {},
   "source": [
    "Compute model evidences:"
   ]
  },
  {
   "cell_type": "code",
   "execution_count": 14,
   "metadata": {},
   "outputs": [
    {
     "name": "stdout",
     "output_type": "stream",
     "text": [
      "(3388, 7)\n"
     ]
    },
    {
     "data": {
      "text/html": [
       "<div>\n",
       "<style scoped>\n",
       "    .dataframe tbody tr th:only-of-type {\n",
       "        vertical-align: middle;\n",
       "    }\n",
       "\n",
       "    .dataframe tbody tr th {\n",
       "        vertical-align: top;\n",
       "    }\n",
       "\n",
       "    .dataframe thead th {\n",
       "        text-align: right;\n",
       "    }\n",
       "</style>\n",
       "<table border=\"1\" class=\"dataframe\">\n",
       "  <thead>\n",
       "    <tr style=\"text-align: right;\">\n",
       "      <th></th>\n",
       "      <th>subject</th>\n",
       "      <th>true_model</th>\n",
       "      <th>fit_model</th>\n",
       "      <th>loglik</th>\n",
       "      <th>n_param</th>\n",
       "      <th>BIC</th>\n",
       "      <th>model_evidence</th>\n",
       "    </tr>\n",
       "  </thead>\n",
       "  <tbody>\n",
       "    <tr>\n",
       "      <th>0</th>\n",
       "      <td>sub-01</td>\n",
       "      <td>cost</td>\n",
       "      <td>pragmatic_pref_cost</td>\n",
       "      <td>-277.874798</td>\n",
       "      <td>3</td>\n",
       "      <td>570.112071</td>\n",
       "      <td>-285.056035</td>\n",
       "    </tr>\n",
       "    <tr>\n",
       "      <th>1</th>\n",
       "      <td>sub-01</td>\n",
       "      <td>cost</td>\n",
       "      <td>pragmatic_cost</td>\n",
       "      <td>-278.578457</td>\n",
       "      <td>2</td>\n",
       "      <td>566.731898</td>\n",
       "      <td>-283.365949</td>\n",
       "    </tr>\n",
       "    <tr>\n",
       "      <th>2</th>\n",
       "      <td>sub-01</td>\n",
       "      <td>cost</td>\n",
       "      <td>pragmatic_pref</td>\n",
       "      <td>-285.345411</td>\n",
       "      <td>2</td>\n",
       "      <td>580.265806</td>\n",
       "      <td>-290.132903</td>\n",
       "    </tr>\n",
       "    <tr>\n",
       "      <th>3</th>\n",
       "      <td>sub-01</td>\n",
       "      <td>cost</td>\n",
       "      <td>pragmatic</td>\n",
       "      <td>-285.619164</td>\n",
       "      <td>1</td>\n",
       "      <td>576.025820</td>\n",
       "      <td>-288.012910</td>\n",
       "    </tr>\n",
       "    <tr>\n",
       "      <th>4</th>\n",
       "      <td>sub-01</td>\n",
       "      <td>cost</td>\n",
       "      <td>literal_pref_cost</td>\n",
       "      <td>-277.878198</td>\n",
       "      <td>3</td>\n",
       "      <td>570.118872</td>\n",
       "      <td>-285.059436</td>\n",
       "    </tr>\n",
       "    <tr>\n",
       "      <th>5</th>\n",
       "      <td>sub-01</td>\n",
       "      <td>cost</td>\n",
       "      <td>literal_cost</td>\n",
       "      <td>-278.586335</td>\n",
       "      <td>2</td>\n",
       "      <td>566.747654</td>\n",
       "      <td>-283.373827</td>\n",
       "    </tr>\n",
       "    <tr>\n",
       "      <th>6</th>\n",
       "      <td>sub-01</td>\n",
       "      <td>cost</td>\n",
       "      <td>literal_pref</td>\n",
       "      <td>-285.345411</td>\n",
       "      <td>2</td>\n",
       "      <td>580.265806</td>\n",
       "      <td>-290.132903</td>\n",
       "    </tr>\n",
       "    <tr>\n",
       "      <th>7</th>\n",
       "      <td>sub-01</td>\n",
       "      <td>cost</td>\n",
       "      <td>literal</td>\n",
       "      <td>-285.619164</td>\n",
       "      <td>1</td>\n",
       "      <td>576.025820</td>\n",
       "      <td>-288.012910</td>\n",
       "    </tr>\n",
       "  </tbody>\n",
       "</table>\n",
       "</div>"
      ],
      "text/plain": [
       "  subject true_model            fit_model      loglik  n_param         BIC  \\\n",
       "0  sub-01       cost  pragmatic_pref_cost -277.874798        3  570.112071   \n",
       "1  sub-01       cost       pragmatic_cost -278.578457        2  566.731898   \n",
       "2  sub-01       cost       pragmatic_pref -285.345411        2  580.265806   \n",
       "3  sub-01       cost            pragmatic -285.619164        1  576.025820   \n",
       "4  sub-01       cost    literal_pref_cost -277.878198        3  570.118872   \n",
       "5  sub-01       cost         literal_cost -278.586335        2  566.747654   \n",
       "6  sub-01       cost         literal_pref -285.345411        2  580.265806   \n",
       "7  sub-01       cost              literal -285.619164        1  576.025820   \n",
       "\n",
       "   model_evidence  \n",
       "0     -285.056035  \n",
       "1     -283.365949  \n",
       "2     -290.132903  \n",
       "3     -288.012910  \n",
       "4     -285.059436  \n",
       "5     -283.373827  \n",
       "6     -290.132903  \n",
       "7     -288.012910  "
      ]
     },
     "execution_count": 14,
     "metadata": {},
     "output_type": "execute_result"
    }
   ],
   "source": [
    "recovery_list = []\n",
    "for f in recovery_files:\n",
    "    # read individual model recovery results\n",
    "    f_df = (\n",
    "        pd.read_json(f)\n",
    "        .rename(columns={'fun': 'loglik'})\n",
    "        [['subject', 'true_model', 'fit_model', 'loglik']]\n",
    "    )\n",
    "    \n",
    "    recovery_list.append(f_df)\n",
    "\n",
    "recovery_df = pd.concat(recovery_list)\n",
    "recovery_df['loglik'] = -recovery_df['loglik']\n",
    "recovery_df['n_param'] = recovery_df.fit_model.apply(lambda m: len(m.split('_')))\n",
    "recovery_df['BIC'] = recovery_df.n_param*np.log(40*3)-2*recovery_df.loglik\n",
    "recovery_df['model_evidence'] = -0.5*recovery_df.BIC\n",
    "\n",
    "print(recovery_df.shape)\n",
    "recovery_df.head(8)"
   ]
  },
  {
   "cell_type": "markdown",
   "metadata": {},
   "source": [
    "Save matrices of model evidences"
   ]
  },
  {
   "cell_type": "code",
   "execution_count": 15,
   "metadata": {},
   "outputs": [],
   "source": [
    "out_dir = 'outputs/simulated_model_comparison'\n",
    "os.makedirs(out_dir, exist_ok=True)\n",
    "\n",
    "for model,group in recovery_df.groupby('true_model'):\n",
    "    group_evidence = (\n",
    "        group\n",
    "        [['subject', 'fit_model', 'model_evidence']]\n",
    "        .copy()\n",
    "        .pivot(index='subject', columns='fit_model', values='model_evidence')\n",
    "    )\n",
    "\n",
    "    group_subjects = group_evidence.index.values\n",
    "    group_models = group_evidence.columns.values\n",
    "\n",
    "    # save model evidences and labels as matrices\n",
    "    np.savetxt(opj(out_dir, f'model-{model}_evidence.txt'), group_evidence.to_numpy())\n",
    "    np.savetxt(opj(out_dir, f'model-{model}_subject_labels.txt'), group_subjects, fmt='%s')\n",
    "    np.savetxt(opj(out_dir, f'model-{model}_model_labels.txt'), group_models, fmt='%s')"
   ]
  }
 ],
 "metadata": {
  "kernelspec": {
   "display_name": "Python 3",
   "language": "python",
   "name": "python3"
  },
  "language_info": {
   "codemirror_mode": {
    "name": "ipython",
    "version": 3
   },
   "file_extension": ".py",
   "mimetype": "text/x-python",
   "name": "python",
   "nbconvert_exporter": "python",
   "pygments_lexer": "ipython3",
   "version": "3.8.5"
  }
 },
 "nbformat": 4,
 "nbformat_minor": 4
}
