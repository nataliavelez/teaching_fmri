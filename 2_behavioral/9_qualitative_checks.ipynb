{
 "cells": [
  {
   "cell_type": "markdown",
   "metadata": {},
   "source": [
    "# Qualitative checks\n",
    "Natalia Vélez, July 2022"
   ]
  },
  {
   "cell_type": "code",
   "execution_count": 1,
   "metadata": {},
   "outputs": [
    {
     "name": "stdout",
     "output_type": "stream",
     "text": [
      "Loading teaching problems\n",
      "{'A': [[0, 0, 1, 1, 0, 0],\n",
      "       [0, 1, 1, 1, 1, 0],\n",
      "       [1, 1, 1, 1, 1, 1],\n",
      "       [1, 1, 1, 1, 1, 1],\n",
      "       [0, 1, 1, 1, 1, 0],\n",
      "       [0, 0, 1, 1, 0, 0]],\n",
      " 'B': [[1, 1, 1, 0, 0, 0],\n",
      "       [1, 1, 1, 0, 0, 0],\n",
      "       [1, 1, 1, 1, 0, 0],\n",
      "       [0, 0, 1, 1, 0, 0],\n",
      "       [0, 0, 0, 0, 0, 0],\n",
      "       [0, 0, 0, 0, 0, 0]],\n",
      " 'C': [[0, 0, 0, 1, 1, 1],\n",
      "       [0, 0, 0, 1, 1, 1],\n",
      "       [0, 0, 1, 1, 1, 1],\n",
      "       [0, 0, 1, 1, 0, 0],\n",
      "       [0, 0, 0, 0, 0, 0],\n",
      "       [0, 0, 0, 0, 0, 0]],\n",
      " 'D': [[0, 0, 0, 0, 0, 0],\n",
      "       [0, 0, 0, 0, 0, 0],\n",
      "       [0, 0, 1, 1, 0, 0],\n",
      "       [1, 1, 1, 1, 1, 1],\n",
      "       [1, 1, 1, 1, 1, 1],\n",
      "       [1, 1, 1, 1, 1, 1]]}\n",
      "Participants excluded from analysis:\n",
      "[3, 17]\n",
      "Cleaning up human behavioral data\n",
      "    subject  run  block_idx  ex_idx first_movement   start  problem  \\\n",
      "0         1    1          0       0         [0, 1]  [0, 0]       22   \n",
      "1         1    1          0       1         [0, 1]  [0, 0]       22   \n",
      "3         1    1          1       0         [0, 4]  [0, 5]       18   \n",
      "4         1    1          1       1         [0, 4]  [0, 5]       18   \n",
      "5         1    1          1       2         [0, 4]  [0, 5]       18   \n",
      "6         1    1          2       0         [5, 4]  [5, 5]        1   \n",
      "7         1    1          2       1         [5, 4]  [5, 5]        1   \n",
      "8         1    1          2       2         [5, 4]  [5, 5]        1   \n",
      "10        1    1          3       1         [5, 1]  [5, 0]       16   \n",
      "11        1    1          3       2         [5, 1]  [5, 0]       16   \n",
      "12        1    2          0       0         [0, 1]  [0, 0]       20   \n",
      "13        1    2          0       1         [0, 1]  [0, 0]       20   \n",
      "14        1    2          0       2         [0, 1]  [0, 0]       20   \n",
      "16        1    2          1       1         [5, 4]  [5, 5]       28   \n",
      "17        1    2          1       2         [5, 4]  [5, 5]       28   \n",
      "\n",
      "                   order  example cursor_coords example_coords  cursor  \n",
      "0   ['C', 'B', 'D', 'A']        8        [0, 0]         [1, 2]       0  \n",
      "1   ['C', 'B', 'D', 'A']       27        [1, 2]         [4, 3]       8  \n",
      "3   ['D', 'B', 'C', 'A']        3        [0, 5]         [0, 3]       5  \n",
      "4   ['D', 'B', 'C', 'A']       32        [0, 3]         [5, 2]       3  \n",
      "5   ['D', 'B', 'C', 'A']        7        [5, 2]         [1, 1]      32  \n",
      "6   ['A', 'D', 'C', 'B']       31        [5, 5]         [5, 1]      35  \n",
      "7   ['A', 'D', 'C', 'B']        1        [5, 1]         [0, 1]      31  \n",
      "8   ['A', 'D', 'C', 'B']        4        [0, 1]         [0, 4]       1  \n",
      "10  ['B', 'C', 'A', 'D']       27        [5, 0]         [4, 3]      30  \n",
      "11  ['B', 'C', 'A', 'D']        8        [4, 3]         [1, 2]      27  \n",
      "12  ['D', 'C', 'A', 'B']        9        [0, 0]         [1, 3]       0  \n",
      "13  ['D', 'C', 'A', 'B']       19        [1, 3]         [3, 1]       9  \n",
      "14  ['D', 'C', 'A', 'B']       21        [3, 1]         [3, 3]      19  \n",
      "16  ['C', 'D', 'B', 'A']       10        [5, 5]         [1, 4]      35  \n",
      "17  ['C', 'D', 'B', 'A']       26        [1, 4]         [4, 2]      10  \n"
     ]
    }
   ],
   "source": [
    "%matplotlib inline\n",
    "\n",
    "# general\n",
    "import sys, pprint\n",
    "from os.path import join as opj\n",
    "import pandas as pd\n",
    "import numpy as np\n",
    "\n",
    "# plotting\n",
    "import matplotlib.pyplot as plt\n",
    "import matplotlib.patches as patches\n",
    "import seaborn as sns\n",
    "\n",
    "from scipy import stats\n",
    "import scipy.ndimage as ndimage\n",
    "from scipy.spatial import distance\n",
    "\n",
    "# project-specific\n",
    "import teaching_models as teach\n",
    "sys.path.append('..')\n",
    "import utils\n",
    "\n",
    "# plotting settings\n",
    "sns.set_style('white')\n",
    "sns.set_context('talk')"
   ]
  },
  {
   "cell_type": "markdown",
   "metadata": {},
   "source": [
    "## Fig S2: Setting recursive depth"
   ]
  },
  {
   "cell_type": "markdown",
   "metadata": {},
   "source": [
    "Load behavioral data:"
   ]
  },
  {
   "cell_type": "code",
   "execution_count": 2,
   "metadata": {},
   "outputs": [
    {
     "data": {
      "text/html": [
       "<div>\n",
       "<style scoped>\n",
       "    .dataframe tbody tr th:only-of-type {\n",
       "        vertical-align: middle;\n",
       "    }\n",
       "\n",
       "    .dataframe tbody tr th {\n",
       "        vertical-align: top;\n",
       "    }\n",
       "\n",
       "    .dataframe thead th {\n",
       "        text-align: right;\n",
       "    }\n",
       "</style>\n",
       "<table border=\"1\" class=\"dataframe\">\n",
       "  <thead>\n",
       "    <tr style=\"text-align: right;\">\n",
       "      <th></th>\n",
       "      <th>subject</th>\n",
       "      <th>run</th>\n",
       "      <th>block_idx</th>\n",
       "      <th>ex_idx</th>\n",
       "      <th>first_movement</th>\n",
       "      <th>start</th>\n",
       "      <th>problem</th>\n",
       "      <th>order</th>\n",
       "      <th>example</th>\n",
       "      <th>cursor_coords</th>\n",
       "      <th>example_coords</th>\n",
       "      <th>cursor</th>\n",
       "      <th>teacher</th>\n",
       "    </tr>\n",
       "  </thead>\n",
       "  <tbody>\n",
       "    <tr>\n",
       "      <th>0</th>\n",
       "      <td>1</td>\n",
       "      <td>1</td>\n",
       "      <td>0</td>\n",
       "      <td>0</td>\n",
       "      <td>[0, 1]</td>\n",
       "      <td>[0, 0]</td>\n",
       "      <td>22</td>\n",
       "      <td>['C', 'B', 'D', 'A']</td>\n",
       "      <td>8</td>\n",
       "      <td>[0, 0]</td>\n",
       "      <td>[1, 2]</td>\n",
       "      <td>0</td>\n",
       "      <td>sub-01</td>\n",
       "    </tr>\n",
       "    <tr>\n",
       "      <th>1</th>\n",
       "      <td>1</td>\n",
       "      <td>1</td>\n",
       "      <td>0</td>\n",
       "      <td>1</td>\n",
       "      <td>[0, 1]</td>\n",
       "      <td>[0, 0]</td>\n",
       "      <td>22</td>\n",
       "      <td>['C', 'B', 'D', 'A']</td>\n",
       "      <td>27</td>\n",
       "      <td>[1, 2]</td>\n",
       "      <td>[4, 3]</td>\n",
       "      <td>8</td>\n",
       "      <td>sub-01</td>\n",
       "    </tr>\n",
       "    <tr>\n",
       "      <th>3</th>\n",
       "      <td>1</td>\n",
       "      <td>1</td>\n",
       "      <td>1</td>\n",
       "      <td>0</td>\n",
       "      <td>[0, 4]</td>\n",
       "      <td>[0, 5]</td>\n",
       "      <td>18</td>\n",
       "      <td>['D', 'B', 'C', 'A']</td>\n",
       "      <td>3</td>\n",
       "      <td>[0, 5]</td>\n",
       "      <td>[0, 3]</td>\n",
       "      <td>5</td>\n",
       "      <td>sub-01</td>\n",
       "    </tr>\n",
       "    <tr>\n",
       "      <th>4</th>\n",
       "      <td>1</td>\n",
       "      <td>1</td>\n",
       "      <td>1</td>\n",
       "      <td>1</td>\n",
       "      <td>[0, 4]</td>\n",
       "      <td>[0, 5]</td>\n",
       "      <td>18</td>\n",
       "      <td>['D', 'B', 'C', 'A']</td>\n",
       "      <td>32</td>\n",
       "      <td>[0, 3]</td>\n",
       "      <td>[5, 2]</td>\n",
       "      <td>3</td>\n",
       "      <td>sub-01</td>\n",
       "    </tr>\n",
       "    <tr>\n",
       "      <th>5</th>\n",
       "      <td>1</td>\n",
       "      <td>1</td>\n",
       "      <td>1</td>\n",
       "      <td>2</td>\n",
       "      <td>[0, 4]</td>\n",
       "      <td>[0, 5]</td>\n",
       "      <td>18</td>\n",
       "      <td>['D', 'B', 'C', 'A']</td>\n",
       "      <td>7</td>\n",
       "      <td>[5, 2]</td>\n",
       "      <td>[1, 1]</td>\n",
       "      <td>32</td>\n",
       "      <td>sub-01</td>\n",
       "    </tr>\n",
       "  </tbody>\n",
       "</table>\n",
       "</div>"
      ],
      "text/plain": [
       "   subject  run  block_idx  ex_idx first_movement   start  problem  \\\n",
       "0        1    1          0       0         [0, 1]  [0, 0]       22   \n",
       "1        1    1          0       1         [0, 1]  [0, 0]       22   \n",
       "3        1    1          1       0         [0, 4]  [0, 5]       18   \n",
       "4        1    1          1       1         [0, 4]  [0, 5]       18   \n",
       "5        1    1          1       2         [0, 4]  [0, 5]       18   \n",
       "\n",
       "                  order  example cursor_coords example_coords  cursor teacher  \n",
       "0  ['C', 'B', 'D', 'A']        8        [0, 0]         [1, 2]       0  sub-01  \n",
       "1  ['C', 'B', 'D', 'A']       27        [1, 2]         [4, 3]       8  sub-01  \n",
       "3  ['D', 'B', 'C', 'A']        3        [0, 5]         [0, 3]       5  sub-01  \n",
       "4  ['D', 'B', 'C', 'A']       32        [0, 3]         [5, 2]       3  sub-01  \n",
       "5  ['D', 'B', 'C', 'A']        7        [5, 2]         [1, 1]      32  sub-01  "
      ]
     },
     "execution_count": 2,
     "metadata": {},
     "output_type": "execute_result"
    }
   ],
   "source": [
    "teacher_df = teach.human_df.copy()\n",
    "teacher_df['teacher'] = [f'sub-{s:02}' for s in teacher_df.subject]\n",
    "teacher_df.head()"
   ]
  },
  {
   "cell_type": "markdown",
   "metadata": {},
   "source": [
    "Select participant for demo:"
   ]
  },
  {
   "cell_type": "code",
   "execution_count": 3,
   "metadata": {},
   "outputs": [
    {
     "data": {
      "text/html": [
       "<div>\n",
       "<style scoped>\n",
       "    .dataframe tbody tr th:only-of-type {\n",
       "        vertical-align: middle;\n",
       "    }\n",
       "\n",
       "    .dataframe tbody tr th {\n",
       "        vertical-align: top;\n",
       "    }\n",
       "\n",
       "    .dataframe thead th {\n",
       "        text-align: right;\n",
       "    }\n",
       "</style>\n",
       "<table border=\"1\" class=\"dataframe\">\n",
       "  <thead>\n",
       "    <tr style=\"text-align: right;\">\n",
       "      <th></th>\n",
       "      <th>subject</th>\n",
       "      <th>run</th>\n",
       "      <th>block_idx</th>\n",
       "      <th>ex_idx</th>\n",
       "      <th>first_movement</th>\n",
       "      <th>start</th>\n",
       "      <th>problem</th>\n",
       "      <th>order</th>\n",
       "      <th>example</th>\n",
       "      <th>cursor_coords</th>\n",
       "      <th>example_coords</th>\n",
       "      <th>cursor</th>\n",
       "      <th>teacher</th>\n",
       "    </tr>\n",
       "  </thead>\n",
       "  <tbody>\n",
       "    <tr>\n",
       "      <th>3468</th>\n",
       "      <td>30</td>\n",
       "      <td>1</td>\n",
       "      <td>0</td>\n",
       "      <td>0</td>\n",
       "      <td>[5, 1]</td>\n",
       "      <td>[5, 0]</td>\n",
       "      <td>31</td>\n",
       "      <td>['B', 'C', 'D', 'A']</td>\n",
       "      <td>31</td>\n",
       "      <td>[5, 0]</td>\n",
       "      <td>[5, 1]</td>\n",
       "      <td>30</td>\n",
       "      <td>sub-30</td>\n",
       "    </tr>\n",
       "    <tr>\n",
       "      <th>3469</th>\n",
       "      <td>30</td>\n",
       "      <td>1</td>\n",
       "      <td>0</td>\n",
       "      <td>1</td>\n",
       "      <td>[5, 1]</td>\n",
       "      <td>[5, 0]</td>\n",
       "      <td>31</td>\n",
       "      <td>['B', 'C', 'D', 'A']</td>\n",
       "      <td>26</td>\n",
       "      <td>[5, 1]</td>\n",
       "      <td>[4, 2]</td>\n",
       "      <td>31</td>\n",
       "      <td>sub-30</td>\n",
       "    </tr>\n",
       "    <tr>\n",
       "      <th>3470</th>\n",
       "      <td>30</td>\n",
       "      <td>1</td>\n",
       "      <td>0</td>\n",
       "      <td>2</td>\n",
       "      <td>[5, 1]</td>\n",
       "      <td>[5, 0]</td>\n",
       "      <td>31</td>\n",
       "      <td>['B', 'C', 'D', 'A']</td>\n",
       "      <td>8</td>\n",
       "      <td>[4, 2]</td>\n",
       "      <td>[1, 2]</td>\n",
       "      <td>26</td>\n",
       "      <td>sub-30</td>\n",
       "    </tr>\n",
       "    <tr>\n",
       "      <th>3471</th>\n",
       "      <td>30</td>\n",
       "      <td>1</td>\n",
       "      <td>1</td>\n",
       "      <td>0</td>\n",
       "      <td>[1, 5]</td>\n",
       "      <td>[0, 5]</td>\n",
       "      <td>37</td>\n",
       "      <td>['A', 'D', 'C', 'B']</td>\n",
       "      <td>17</td>\n",
       "      <td>[0, 5]</td>\n",
       "      <td>[2, 5]</td>\n",
       "      <td>5</td>\n",
       "      <td>sub-30</td>\n",
       "    </tr>\n",
       "    <tr>\n",
       "      <th>3472</th>\n",
       "      <td>30</td>\n",
       "      <td>1</td>\n",
       "      <td>1</td>\n",
       "      <td>1</td>\n",
       "      <td>[1, 5]</td>\n",
       "      <td>[0, 5]</td>\n",
       "      <td>37</td>\n",
       "      <td>['A', 'D', 'C', 'B']</td>\n",
       "      <td>22</td>\n",
       "      <td>[2, 5]</td>\n",
       "      <td>[3, 4]</td>\n",
       "      <td>17</td>\n",
       "      <td>sub-30</td>\n",
       "    </tr>\n",
       "  </tbody>\n",
       "</table>\n",
       "</div>"
      ],
      "text/plain": [
       "      subject  run  block_idx  ex_idx first_movement   start  problem  \\\n",
       "3468       30    1          0       0         [5, 1]  [5, 0]       31   \n",
       "3469       30    1          0       1         [5, 1]  [5, 0]       31   \n",
       "3470       30    1          0       2         [5, 1]  [5, 0]       31   \n",
       "3471       30    1          1       0         [1, 5]  [0, 5]       37   \n",
       "3472       30    1          1       1         [1, 5]  [0, 5]       37   \n",
       "\n",
       "                     order  example cursor_coords example_coords  cursor  \\\n",
       "3468  ['B', 'C', 'D', 'A']       31        [5, 0]         [5, 1]      30   \n",
       "3469  ['B', 'C', 'D', 'A']       26        [5, 1]         [4, 2]      31   \n",
       "3470  ['B', 'C', 'D', 'A']        8        [4, 2]         [1, 2]      26   \n",
       "3471  ['A', 'D', 'C', 'B']       17        [0, 5]         [2, 5]       5   \n",
       "3472  ['A', 'D', 'C', 'B']       22        [2, 5]         [3, 4]      17   \n",
       "\n",
       "     teacher  \n",
       "3468  sub-30  \n",
       "3469  sub-30  \n",
       "3470  sub-30  \n",
       "3471  sub-30  \n",
       "3472  sub-30  "
      ]
     },
     "execution_count": 3,
     "metadata": {},
     "output_type": "execute_result"
    }
   ],
   "source": [
    "sub = 'sub-30'\n",
    "sub_data = teacher_df[teacher_df.teacher == sub].copy()\n",
    "sub_data.head()"
   ]
  },
  {
   "cell_type": "markdown",
   "metadata": {},
   "source": [
    "Plot belief distributions for a particular problem:"
   ]
  },
  {
   "cell_type": "code",
   "execution_count": 4,
   "metadata": {},
   "outputs": [],
   "source": [
    "prob_idx = 3\n",
    "prob_data = sub_data[sub_data.problem == prob_idx].copy().reset_index(drop=True)\n",
    "\n",
    "#def pedagogical_sampling(prob_idx, past_examples=[], last_pH=None, nIter=10):\n",
    "past_examples = []\n",
    "prag_list = []\n",
    "lit_list = []\n",
    "lit_pH = None\n",
    "prag_pH = None\n",
    "\n",
    "for t, row in prob_data.iterrows():\n",
    "    _, prag_pH = teach.pedagogical_sampling(prob_idx, past_examples=past_examples, last_pH=prag_pH, nIter=10)\n",
    "    prag_pHD = prag_pH.loc[row.example]\n",
    "    prag_list.append(prag_pHD.copy())\n",
    "    \n",
    "    _, lit_pH = teach.strong_sampling(prob_idx, past_examples=past_examples, last_pH=lit_pH, nIter=10)\n",
    "    lit_pHD = lit_pH.loc[row.example]\n",
    "    lit_list.append(lit_pHD.copy())\n",
    "\n",
    "    past_examples.append(row.example)"
   ]
  },
  {
   "cell_type": "code",
   "execution_count": 5,
   "metadata": {},
   "outputs": [
    {
     "data": {
      "image/png": "[encoded data removed]",
      "text/plain": [
       "<Figure size 216x324 with 2 Axes>"
      ]
     },
     "metadata": {},
     "output_type": "display_data"
    }
   ],
   "source": [
    "fig, axes = plt.subplots(2,1, figsize=(3,3*1.5))\n",
    "sns.barplot(x=lit_list[0].index.values, y=lit_list[0].values, ax=axes[0], fc='#333')\n",
    "axes[0].set_title('Literal learner (k=0)', pad=15)\n",
    "# axes[0].set_xticks(['A', 'B', 'C', 'D'])\n",
    "axes[0].set_ylim((0,1))\n",
    "\n",
    "sns.barplot(x=prag_list[0].index.values, y=prag_list[0].values, ax=axes[1], fc='#333')\n",
    "axes[1].set_title('Pedagogical learner (k=10)', pad=15)\n",
    "# axes[0].set_xticks(['A', 'B', 'C', 'D'])\n",
    "\n",
    "axes[1].set_ylim((0,1))\n",
    "\n",
    "fig.tight_layout()\n",
    "plt.savefig('plots/recursive_depth_demo.png', bbox_inches='tight')"
   ]
  },
  {
   "cell_type": "markdown",
   "metadata": {},
   "source": [
    "Helper function: KL divergence"
   ]
  },
  {
   "cell_type": "code",
   "execution_count": 6,
   "metadata": {},
   "outputs": [],
   "source": [
    "def bump_dist(d):\n",
    "    d_adjusted = d+0.0001\n",
    "    d_adjusted = d_adjusted/np.sum(d_adjusted)\n",
    "    \n",
    "    return d_adjusted\n",
    "\n",
    "def kl_divergence(dist1, dist2):\n",
    "    d1_adj = bump_dist(dist1)\n",
    "    d2_adj = bump_dist(dist2)\n",
    "    \n",
    "    kl = stats.entropy(d1_adj, d2_adj)\n",
    "    return kl"
   ]
  },
  {
   "cell_type": "markdown",
   "metadata": {},
   "source": [
    "Get belief distribution as a function of # of iterations:"
   ]
  },
  {
   "cell_type": "code",
   "execution_count": 7,
   "metadata": {},
   "outputs": [
    {
     "data": {
      "text/html": [
       "<div>\n",
       "<style scoped>\n",
       "    .dataframe tbody tr th:only-of-type {\n",
       "        vertical-align: middle;\n",
       "    }\n",
       "\n",
       "    .dataframe tbody tr th {\n",
       "        vertical-align: top;\n",
       "    }\n",
       "\n",
       "    .dataframe thead th {\n",
       "        text-align: right;\n",
       "    }\n",
       "</style>\n",
       "<table border=\"1\" class=\"dataframe\">\n",
       "  <thead>\n",
       "    <tr style=\"text-align: right;\">\n",
       "      <th></th>\n",
       "      <th>depth</th>\n",
       "      <th>kl</th>\n",
       "    </tr>\n",
       "  </thead>\n",
       "  <tbody>\n",
       "    <tr>\n",
       "      <th>0</th>\n",
       "      <td>1</td>\n",
       "      <td>0.036300</td>\n",
       "    </tr>\n",
       "    <tr>\n",
       "      <th>1</th>\n",
       "      <td>2</td>\n",
       "      <td>0.008769</td>\n",
       "    </tr>\n",
       "    <tr>\n",
       "      <th>2</th>\n",
       "      <td>3</td>\n",
       "      <td>0.003221</td>\n",
       "    </tr>\n",
       "    <tr>\n",
       "      <th>3</th>\n",
       "      <td>4</td>\n",
       "      <td>0.001456</td>\n",
       "    </tr>\n",
       "    <tr>\n",
       "      <th>4</th>\n",
       "      <td>5</td>\n",
       "      <td>0.000746</td>\n",
       "    </tr>\n",
       "  </tbody>\n",
       "</table>\n",
       "</div>"
      ],
      "text/plain": [
       "   depth        kl\n",
       "0      1  0.036300\n",
       "1      2  0.008769\n",
       "2      3  0.003221\n",
       "3      4  0.001456\n",
       "4      5  0.000746"
      ]
     },
     "execution_count": 7,
     "metadata": {},
     "output_type": "execute_result"
    }
   ],
   "source": [
    "prag_pH = None\n",
    "depth_list = []\n",
    "last_pH = lit_list[0]\n",
    "\n",
    "row = prob_data.iloc[0]\n",
    "for k in range(1,30):\n",
    "    _, prag_pH = teach.pedagogical_sampling(prob_idx, nIter=k)\n",
    "    prag_pHD = prag_pH.loc[row.example]\n",
    "    depth_list.append((k, kl_divergence(last_pH, prag_pHD)))\n",
    "    \n",
    "    last_pH = prag_pHD\n",
    "    \n",
    "depth_df = pd.DataFrame(depth_list, columns=['depth', 'kl'])\n",
    "depth_df.head()"
   ]
  },
  {
   "cell_type": "markdown",
   "metadata": {},
   "source": [
    "Plot KL divergences:"
   ]
  },
  {
   "cell_type": "code",
   "execution_count": 8,
   "metadata": {},
   "outputs": [
    {
     "data": {
      "image/png": "[encoded data removed]",
      "text/plain": [
       "<Figure size 432x432 with 1 Axes>"
      ]
     },
     "metadata": {},
     "output_type": "display_data"
    }
   ],
   "source": [
    "fig,ax=plt.subplots(figsize=(6,6))\n",
    "sns.lineplot(data=depth_df, x='depth', y='kl',ax=ax)\n",
    "ax.axvline(10, linestyle='--', color='#aaa')\n",
    "ax.set(xlabel='Recursive depth', ylabel='KL divergence')\n",
    "plt.savefig('plots/recursive_demo.png', bbox_inches='tight')"
   ]
  },
  {
   "cell_type": "markdown",
   "metadata": {},
   "source": [
    "## Fig 3b: Predictive checks using average teacher behavior"
   ]
  },
  {
   "cell_type": "code",
   "execution_count": null,
   "metadata": {},
   "outputs": [],
   "source": []
  },
  {
   "cell_type": "markdown",
   "metadata": {},
   "source": [
    "## Fig 3c–g: Predictive checks for a single participant"
   ]
  },
  {
   "cell_type": "markdown",
   "metadata": {},
   "source": [
    "Load model evidences:"
   ]
  },
  {
   "cell_type": "code",
   "execution_count": 9,
   "metadata": {},
   "outputs": [
    {
     "data": {
      "text/html": [
       "<div>\n",
       "<style scoped>\n",
       "    .dataframe tbody tr th:only-of-type {\n",
       "        vertical-align: middle;\n",
       "    }\n",
       "\n",
       "    .dataframe tbody tr th {\n",
       "        vertical-align: top;\n",
       "    }\n",
       "\n",
       "    .dataframe thead th {\n",
       "        text-align: right;\n",
       "    }\n",
       "</style>\n",
       "<table border=\"1\" class=\"dataframe\">\n",
       "  <thead>\n",
       "    <tr style=\"text-align: right;\">\n",
       "      <th></th>\n",
       "      <th>sub</th>\n",
       "      <th>model</th>\n",
       "      <th>loglik</th>\n",
       "      <th>example</th>\n",
       "      <th>n_param</th>\n",
       "      <th>BIC</th>\n",
       "      <th>model_evidence</th>\n",
       "    </tr>\n",
       "  </thead>\n",
       "  <tbody>\n",
       "    <tr>\n",
       "      <th>0</th>\n",
       "      <td>sub-01</td>\n",
       "      <td>cost</td>\n",
       "      <td>-248.913569</td>\n",
       "      <td>108</td>\n",
       "      <td>1</td>\n",
       "      <td>502.509269</td>\n",
       "      <td>-251.254634</td>\n",
       "    </tr>\n",
       "    <tr>\n",
       "      <th>1</th>\n",
       "      <td>sub-01</td>\n",
       "      <td>literal_cost</td>\n",
       "      <td>-241.494859</td>\n",
       "      <td>108</td>\n",
       "      <td>2</td>\n",
       "      <td>492.353980</td>\n",
       "      <td>-246.176990</td>\n",
       "    </tr>\n",
       "    <tr>\n",
       "      <th>2</th>\n",
       "      <td>sub-01</td>\n",
       "      <td>literal</td>\n",
       "      <td>-252.244198</td>\n",
       "      <td>108</td>\n",
       "      <td>1</td>\n",
       "      <td>509.170526</td>\n",
       "      <td>-254.585263</td>\n",
       "    </tr>\n",
       "    <tr>\n",
       "      <th>3</th>\n",
       "      <td>sub-01</td>\n",
       "      <td>literal_pref_cost</td>\n",
       "      <td>-217.519624</td>\n",
       "      <td>108</td>\n",
       "      <td>3</td>\n",
       "      <td>449.085641</td>\n",
       "      <td>-224.542820</td>\n",
       "    </tr>\n",
       "    <tr>\n",
       "      <th>4</th>\n",
       "      <td>sub-01</td>\n",
       "      <td>literal_pref</td>\n",
       "      <td>-229.977024</td>\n",
       "      <td>108</td>\n",
       "      <td>2</td>\n",
       "      <td>469.318311</td>\n",
       "      <td>-234.659156</td>\n",
       "    </tr>\n",
       "  </tbody>\n",
       "</table>\n",
       "</div>"
      ],
      "text/plain": [
       "      sub              model      loglik  example  n_param         BIC  \\\n",
       "0  sub-01               cost -248.913569      108        1  502.509269   \n",
       "1  sub-01       literal_cost -241.494859      108        2  492.353980   \n",
       "2  sub-01            literal -252.244198      108        1  509.170526   \n",
       "3  sub-01  literal_pref_cost -217.519624      108        3  449.085641   \n",
       "4  sub-01       literal_pref -229.977024      108        2  469.318311   \n",
       "\n",
       "   model_evidence  \n",
       "0     -251.254634  \n",
       "1     -246.176990  \n",
       "2     -254.585263  \n",
       "3     -224.542820  \n",
       "4     -234.659156  "
      ]
     },
     "execution_count": 9,
     "metadata": {},
     "output_type": "execute_result"
    }
   ],
   "source": [
    "evidence_df = pd.read_csv('outputs/human_model_comparison/human_model_evidence_summary.csv', index_col=0)\n",
    "evidence_df.head()"
   ]
  },
  {
   "cell_type": "markdown",
   "metadata": {},
   "source": [
    "Choose good participant:"
   ]
  },
  {
   "cell_type": "code",
   "execution_count": 10,
   "metadata": {},
   "outputs": [
    {
     "name": "stdout",
     "output_type": "stream",
     "text": [
      "sub                          sub-20\n",
      "model             literal_pref_cost\n",
      "loglik                     -205.852\n",
      "example                         118\n",
      "n_param                           3\n",
      "BIC                         426.016\n",
      "model_evidence             -213.008\n",
      "Name: 207, dtype: object\n"
     ]
    }
   ],
   "source": [
    "winning_evidence = evidence_df[evidence_df.model == 'literal_pref_cost']\n",
    "good_sub = winning_evidence.sort_values('model_evidence', ascending=False).iloc[3]\n",
    "sub = good_sub['sub']\n",
    "print(good_sub)"
   ]
  },
  {
   "cell_type": "markdown",
   "metadata": {},
   "source": [
    "Find model parameters:"
   ]
  },
  {
   "cell_type": "code",
   "execution_count": 11,
   "metadata": {},
   "outputs": [
    {
     "name": "stdout",
     "output_type": "stream",
     "text": [
      "Found 11 items\n",
      "outputs/fit_model-pragmatic_method-optimize/sub-20_model-pragmatic_method-optimize_result.json\n",
      "outputs/fit_model-pragmatic_pref_method-optimize/sub-20_model-pragmatic_pref_method-optimize_result.json\n",
      "outputs/fit_model-pragmatic_pref_cost_method-optimize/sub-20_model-pragmatic_pref_cost_method-optimize_result.json\n",
      "outputs/fit_model-pragmatic_cost_method-optimize/sub-20_model-pragmatic_cost_method-optimize_result.json\n",
      "outputs/fit_model-literal_pref_cost_method-optimize/sub-20_model-literal_pref_cost_method-optimize_result.json\n",
      "outputs/fit_model-pref_method-optimize/sub-20_model-pref_method-optimize_result.json\n",
      "outputs/fit_model-pref_cost_method-optimize/sub-20_model-pref_cost_method-optimize_result.json\n",
      "outputs/fit_model-cost_method-optimize/sub-20_model-cost_method-optimize_result.json\n",
      "outputs/fit_model-literal_cost_method-optimize/sub-20_model-literal_cost_method-optimize_result.json\n",
      "outputs/fit_model-literal_method-optimize/sub-20_model-literal_method-optimize_result.json\n",
      "...\n"
     ]
    }
   ],
   "source": [
    "param_files = utils.gsearch('outputs', 'fit_model-*_method-optimize', f'{sub}*.json')\n",
    "utils.print_list(param_files)"
   ]
  },
  {
   "cell_type": "markdown",
   "metadata": {},
   "source": [
    "Load parameters:"
   ]
  },
  {
   "cell_type": "code",
   "execution_count": 12,
   "metadata": {},
   "outputs": [
    {
     "name": "stdout",
     "output_type": "stream",
     "text": [
      "{'cost': array([0, 0, 4.394292477289438], dtype=object),\n",
      " 'literal': array([3.2954503206825017, 0, 0], dtype=object),\n",
      " 'literal_cost': array([3.7183721352760886, 0, 4.957961526696202], dtype=object),\n",
      " 'literal_pref': array([3.4585533384384552, 24.446231717773426, 0], dtype=object),\n",
      " 'literal_pref_cost': array([3.9948305937248296, 28.301593652436416, 5.306952156319364],\n",
      "      dtype=object),\n",
      " 'pragmatic': array([1.25874403140833, 0, 0], dtype=object),\n",
      " 'pragmatic_cost': array([1.4804430138927875, 0, 4.8532185788577955], dtype=object),\n",
      " 'pragmatic_pref': array([1.1621577212440644, 22.5226460264933, 0], dtype=object),\n",
      " 'pragmatic_pref_cost': array([1.4820816981093827, 25.472223567326814, 5.154742655663195],\n",
      "      dtype=object),\n",
      " 'pref': array([0, 22.965827778585126, 0], dtype=object),\n",
      " 'pref_cost': array([0, 24.991136817786913, 4.6035783552746405], dtype=object)}\n"
     ]
    }
   ],
   "source": [
    "param_dict = {}\n",
    "\n",
    "for f in param_files:\n",
    "    # load weights\n",
    "    res = utils.read_json(f)\n",
    "    fixed_weights = np.array(res['weights'])\n",
    "    fit_weights = np.array(res['x'])\n",
    "\n",
    "    # stitch them together\n",
    "    full_weights = fixed_weights.copy()\n",
    "    full_weights[fixed_weights == None] = fit_weights\n",
    "\n",
    "    param_dict[res['label']] = full_weights\n",
    "    \n",
    "pprint.pprint(param_dict)"
   ]
  },
  {
   "cell_type": "markdown",
   "metadata": {},
   "source": [
    "Load problem data:"
   ]
  },
  {
   "cell_type": "code",
   "execution_count": 13,
   "metadata": {},
   "outputs": [
    {
     "data": {
      "text/html": [
       "<div>\n",
       "<style scoped>\n",
       "    .dataframe tbody tr th:only-of-type {\n",
       "        vertical-align: middle;\n",
       "    }\n",
       "\n",
       "    .dataframe tbody tr th {\n",
       "        vertical-align: top;\n",
       "    }\n",
       "\n",
       "    .dataframe thead th {\n",
       "        text-align: right;\n",
       "    }\n",
       "</style>\n",
       "<table border=\"1\" class=\"dataframe\">\n",
       "  <thead>\n",
       "    <tr style=\"text-align: right;\">\n",
       "      <th></th>\n",
       "      <th>subject</th>\n",
       "      <th>run</th>\n",
       "      <th>block_idx</th>\n",
       "      <th>t</th>\n",
       "      <th>first_movement</th>\n",
       "      <th>start</th>\n",
       "      <th>problem</th>\n",
       "      <th>order</th>\n",
       "      <th>example</th>\n",
       "      <th>cursor_coords</th>\n",
       "      <th>example_coords</th>\n",
       "      <th>cursor</th>\n",
       "      <th>teacher</th>\n",
       "    </tr>\n",
       "  </thead>\n",
       "  <tbody>\n",
       "    <tr>\n",
       "      <th>0</th>\n",
       "      <td>20</td>\n",
       "      <td>8</td>\n",
       "      <td>3</td>\n",
       "      <td>0</td>\n",
       "      <td>[5, 0]</td>\n",
       "      <td>[5, 0]</td>\n",
       "      <td>23</td>\n",
       "      <td>['B', 'C', 'D', 'A']</td>\n",
       "      <td>2</td>\n",
       "      <td>[5, 0]</td>\n",
       "      <td>[0, 2]</td>\n",
       "      <td>30</td>\n",
       "      <td>sub-20</td>\n",
       "    </tr>\n",
       "    <tr>\n",
       "      <th>1</th>\n",
       "      <td>20</td>\n",
       "      <td>8</td>\n",
       "      <td>3</td>\n",
       "      <td>1</td>\n",
       "      <td>[5, 0]</td>\n",
       "      <td>[5, 0]</td>\n",
       "      <td>23</td>\n",
       "      <td>['B', 'C', 'D', 'A']</td>\n",
       "      <td>8</td>\n",
       "      <td>[0, 2]</td>\n",
       "      <td>[1, 2]</td>\n",
       "      <td>2</td>\n",
       "      <td>sub-20</td>\n",
       "    </tr>\n",
       "    <tr>\n",
       "      <th>2</th>\n",
       "      <td>20</td>\n",
       "      <td>8</td>\n",
       "      <td>3</td>\n",
       "      <td>2</td>\n",
       "      <td>[5, 0]</td>\n",
       "      <td>[5, 0]</td>\n",
       "      <td>23</td>\n",
       "      <td>['B', 'C', 'D', 'A']</td>\n",
       "      <td>9</td>\n",
       "      <td>[1, 2]</td>\n",
       "      <td>[1, 3]</td>\n",
       "      <td>8</td>\n",
       "      <td>sub-20</td>\n",
       "    </tr>\n",
       "  </tbody>\n",
       "</table>\n",
       "</div>"
      ],
      "text/plain": [
       "   subject  run  block_idx  t first_movement   start  problem  \\\n",
       "0       20    8          3  0         [5, 0]  [5, 0]       23   \n",
       "1       20    8          3  1         [5, 0]  [5, 0]       23   \n",
       "2       20    8          3  2         [5, 0]  [5, 0]       23   \n",
       "\n",
       "                  order  example cursor_coords example_coords  cursor teacher  \n",
       "0  ['B', 'C', 'D', 'A']        2        [5, 0]         [0, 2]      30  sub-20  \n",
       "1  ['B', 'C', 'D', 'A']        8        [0, 2]         [1, 2]       2  sub-20  \n",
       "2  ['B', 'C', 'D', 'A']        9        [1, 2]         [1, 3]       8  sub-20  "
      ]
     },
     "execution_count": 13,
     "metadata": {},
     "output_type": "execute_result"
    }
   ],
   "source": [
    "prob_idx = 23\n",
    "\n",
    "prob = teach.problems[prob_idx]\n",
    "true_h = np.array(prob['A'])\n",
    "\n",
    "prob_data = (\n",
    "    teacher_df\n",
    "    [(teacher_df.teacher == sub) & (teacher_df.problem == prob_idx)]\n",
    "    .copy()\n",
    "    .reset_index(drop=True)\n",
    "    .rename(columns={'ex_idx': 't'})\n",
    ")\n",
    "\n",
    "prob_data"
   ]
  },
  {
   "cell_type": "markdown",
   "metadata": {},
   "source": [
    "Generate trial-by-trial model predictions:"
   ]
  },
  {
   "cell_type": "code",
   "execution_count": 14,
   "metadata": {},
   "outputs": [],
   "source": [
    "models_to_compare = ['literal_pref_cost', 'literal', 'pref', 'cost']\n",
    "\n",
    "def plot_model(m, base_size=3, accent_col='white'):    \n",
    "    weights = param_dict[m]\n",
    "\n",
    "    pred = teach.utility_model_predictions(data=prob_data, sampling_fun=teach.strong_sampling, \n",
    "                                           pref_fun=teach.edge_pref, weights=weights, nIter=1)\n",
    "\n",
    "    fig,axes=plt.subplots(1,len(pred), figsize=(base_size*len(pred), base_size))\n",
    "    past_examples = []\n",
    "    labels_mtx = np.empty((6,6), dtype=str)\n",
    "\n",
    "    for t,pred_t in enumerate(pred):\n",
    "        pD_tuples = pred_t['pD']\n",
    "        pD = pd.DataFrame(pD_tuples, columns=['idx', 'A']).set_index('idx')\n",
    "        pD_mtx = teach.sampling_matrix(pD)\n",
    "        sns.heatmap(pD_mtx, cmap='viridis', square=True, cbar=False, ax=axes[t])\n",
    "        axes[t].set(xticks=[], yticks=[], title=f't = {t}')\n",
    "\n",
    "        curr_ex = np.unravel_index(pred_t['example'], (6,6))\n",
    "        curr_ex = curr_ex[::-1]\n",
    "\n",
    "        axes[t].add_patch(\n",
    "            patches.Rectangle(curr_ex, 1.0, 1.0, fill=None, edgecolor='white', lw=4)\n",
    "        )\n",
    "\n",
    "        for idx,ex in enumerate(past_examples):        \n",
    "            axes[t].add_patch(\n",
    "                patches.Rectangle(ex, 1.0, 1.0, fc='white', edgecolor='white', lw=2)\n",
    "            )\n",
    "\n",
    "            axes[t].text(ex[0]+.25, ex[1]+.75, idx+1, fontsize=base_size/1.5*10)\n",
    "\n",
    "        past_examples.append(curr_ex)"
   ]
  },
  {
   "cell_type": "code",
   "execution_count": 15,
   "metadata": {},
   "outputs": [
    {
     "data": {
      "image/png": "[encoded data removed]",
      "text/plain": [
       "<Figure size 648x216 with 3 Axes>"
      ]
     },
     "metadata": {},
     "output_type": "display_data"
    }
   ],
   "source": [
    "plot_model(models_to_compare[0])\n",
    "plt.savefig('plots/predictive_full.png')"
   ]
  },
  {
   "cell_type": "code",
   "execution_count": 16,
   "metadata": {},
   "outputs": [
    {
     "data": {
      "image/png": "[encoded data removed]",
      "text/plain": [
       "<Figure size 324x108 with 3 Axes>"
      ]
     },
     "metadata": {},
     "output_type": "display_data"
    }
   ],
   "source": [
    "plot_model(models_to_compare[1], 1.5)\n",
    "plt.savefig('plots/predictive_belief.png')"
   ]
  },
  {
   "cell_type": "code",
   "execution_count": 17,
   "metadata": {},
   "outputs": [
    {
     "data": {
      "image/png": "[encoded data removed]",
      "text/plain": [
       "<Figure size 324x108 with 3 Axes>"
      ]
     },
     "metadata": {},
     "output_type": "display_data"
    }
   ],
   "source": [
    "plot_model(models_to_compare[2], 1.5)\n",
    "plt.savefig('plots/predictive_edge.png')"
   ]
  },
  {
   "cell_type": "code",
   "execution_count": 18,
   "metadata": {},
   "outputs": [
    {
     "data": {
      "image/png": "[encoded data removed]",
      "text/plain": [
       "<Figure size 324x108 with 3 Axes>"
      ]
     },
     "metadata": {},
     "output_type": "display_data"
    }
   ],
   "source": [
    "plot_model(models_to_compare[3], 1.5)\n",
    "plt.savefig('plots/predictive_cost.png')"
   ]
  },
  {
   "cell_type": "markdown",
   "metadata": {},
   "source": [
    "## Fig S3: Comparing teachers' preferences against simulated data"
   ]
  },
  {
   "cell_type": "markdown",
   "metadata": {},
   "source": [
    "Load simulated datasets:"
   ]
  },
  {
   "cell_type": "code",
   "execution_count": 19,
   "metadata": {},
   "outputs": [
    {
     "name": "stdout",
     "output_type": "stream",
     "text": [
      "(6720, 6)\n"
     ]
    },
    {
     "data": {
      "text/html": [
       "<div>\n",
       "<style scoped>\n",
       "    .dataframe tbody tr th:only-of-type {\n",
       "        vertical-align: middle;\n",
       "    }\n",
       "\n",
       "    .dataframe tbody tr th {\n",
       "        vertical-align: top;\n",
       "    }\n",
       "\n",
       "    .dataframe thead th {\n",
       "        text-align: right;\n",
       "    }\n",
       "</style>\n",
       "<table border=\"1\" class=\"dataframe\">\n",
       "  <thead>\n",
       "    <tr style=\"text-align: right;\">\n",
       "      <th></th>\n",
       "      <th>subject</th>\n",
       "      <th>Source</th>\n",
       "      <th>problem</th>\n",
       "      <th>ex_idx</th>\n",
       "      <th>cursor</th>\n",
       "      <th>example</th>\n",
       "    </tr>\n",
       "  </thead>\n",
       "  <tbody>\n",
       "    <tr>\n",
       "      <th>0</th>\n",
       "      <td>sub-01</td>\n",
       "      <td>Literal</td>\n",
       "      <td>0</td>\n",
       "      <td>0</td>\n",
       "      <td>0</td>\n",
       "      <td>27</td>\n",
       "    </tr>\n",
       "    <tr>\n",
       "      <th>1</th>\n",
       "      <td>sub-01</td>\n",
       "      <td>Literal</td>\n",
       "      <td>0</td>\n",
       "      <td>1</td>\n",
       "      <td>27</td>\n",
       "      <td>26</td>\n",
       "    </tr>\n",
       "    <tr>\n",
       "      <th>2</th>\n",
       "      <td>sub-01</td>\n",
       "      <td>Literal</td>\n",
       "      <td>0</td>\n",
       "      <td>2</td>\n",
       "      <td>26</td>\n",
       "      <td>17</td>\n",
       "    </tr>\n",
       "    <tr>\n",
       "      <th>3</th>\n",
       "      <td>sub-01</td>\n",
       "      <td>Literal</td>\n",
       "      <td>1</td>\n",
       "      <td>0</td>\n",
       "      <td>5</td>\n",
       "      <td>16</td>\n",
       "    </tr>\n",
       "    <tr>\n",
       "      <th>4</th>\n",
       "      <td>sub-01</td>\n",
       "      <td>Literal</td>\n",
       "      <td>1</td>\n",
       "      <td>1</td>\n",
       "      <td>16</td>\n",
       "      <td>21</td>\n",
       "    </tr>\n",
       "  </tbody>\n",
       "</table>\n",
       "</div>"
      ],
      "text/plain": [
       "  subject   Source  problem  ex_idx  cursor  example\n",
       "0  sub-01  Literal        0       0       0       27\n",
       "1  sub-01  Literal        0       1      27       26\n",
       "2  sub-01  Literal        0       2      26       17\n",
       "3  sub-01  Literal        1       0       5       16\n",
       "4  sub-01  Literal        1       1      16       21"
      ]
     },
     "execution_count": 19,
     "metadata": {},
     "output_type": "execute_result"
    }
   ],
   "source": [
    "sim_dir = opj('outputs', 'simulated_from_human')\n",
    "sim_files = [opj(sim_dir, f'simulated_data_model-{m}.csv') for m in ['literal', 'pragmatic']]\n",
    "\n",
    "sim_df = pd.concat([pd.read_csv(f) for f in sim_files])\n",
    "sim_df['Source'] = sim_df.model.str.extract('(literal|pragmatic)')\n",
    "sim_df['Source'] = sim_df.model.str.replace('pragmatic', 'pedagogical')\n",
    "sim_df['Source'] = sim_df.Source.str.title()\n",
    "sim_df['ex_idx'] = sim_df.groupby(['subject', 'problem', 'Source']).cumcount()\n",
    "sim_df = sim_df[['subject', 'Source', 'problem', 'ex_idx', 'cursor', 'example']].copy()\n",
    "\n",
    "print(sim_df.shape)\n",
    "sim_df.head()"
   ]
  },
  {
   "cell_type": "markdown",
   "metadata": {},
   "source": [
    "Clean up human data:"
   ]
  },
  {
   "cell_type": "code",
   "execution_count": 20,
   "metadata": {},
   "outputs": [
    {
     "name": "stdout",
     "output_type": "stream",
     "text": [
      "(3213, 6)\n"
     ]
    },
    {
     "data": {
      "text/html": [
       "<div>\n",
       "<style scoped>\n",
       "    .dataframe tbody tr th:only-of-type {\n",
       "        vertical-align: middle;\n",
       "    }\n",
       "\n",
       "    .dataframe tbody tr th {\n",
       "        vertical-align: top;\n",
       "    }\n",
       "\n",
       "    .dataframe thead th {\n",
       "        text-align: right;\n",
       "    }\n",
       "</style>\n",
       "<table border=\"1\" class=\"dataframe\">\n",
       "  <thead>\n",
       "    <tr style=\"text-align: right;\">\n",
       "      <th></th>\n",
       "      <th>subject</th>\n",
       "      <th>Source</th>\n",
       "      <th>problem</th>\n",
       "      <th>ex_idx</th>\n",
       "      <th>cursor</th>\n",
       "      <th>example</th>\n",
       "    </tr>\n",
       "  </thead>\n",
       "  <tbody>\n",
       "    <tr>\n",
       "      <th>0</th>\n",
       "      <td>sub-01</td>\n",
       "      <td>Human</td>\n",
       "      <td>22</td>\n",
       "      <td>0</td>\n",
       "      <td>0</td>\n",
       "      <td>8</td>\n",
       "    </tr>\n",
       "    <tr>\n",
       "      <th>1</th>\n",
       "      <td>sub-01</td>\n",
       "      <td>Human</td>\n",
       "      <td>22</td>\n",
       "      <td>1</td>\n",
       "      <td>8</td>\n",
       "      <td>27</td>\n",
       "    </tr>\n",
       "    <tr>\n",
       "      <th>3</th>\n",
       "      <td>sub-01</td>\n",
       "      <td>Human</td>\n",
       "      <td>18</td>\n",
       "      <td>0</td>\n",
       "      <td>5</td>\n",
       "      <td>3</td>\n",
       "    </tr>\n",
       "    <tr>\n",
       "      <th>4</th>\n",
       "      <td>sub-01</td>\n",
       "      <td>Human</td>\n",
       "      <td>18</td>\n",
       "      <td>1</td>\n",
       "      <td>3</td>\n",
       "      <td>32</td>\n",
       "    </tr>\n",
       "    <tr>\n",
       "      <th>5</th>\n",
       "      <td>sub-01</td>\n",
       "      <td>Human</td>\n",
       "      <td>18</td>\n",
       "      <td>2</td>\n",
       "      <td>32</td>\n",
       "      <td>7</td>\n",
       "    </tr>\n",
       "  </tbody>\n",
       "</table>\n",
       "</div>"
      ],
      "text/plain": [
       "  subject Source  problem  ex_idx  cursor  example\n",
       "0  sub-01  Human       22       0       0        8\n",
       "1  sub-01  Human       22       1       8       27\n",
       "3  sub-01  Human       18       0       5        3\n",
       "4  sub-01  Human       18       1       3       32\n",
       "5  sub-01  Human       18       2      32        7"
      ]
     },
     "execution_count": 20,
     "metadata": {},
     "output_type": "execute_result"
    }
   ],
   "source": [
    "human_df = teacher_df.copy()\n",
    "human_df['subject'] = [f'sub-{s:02}' for s in teacher_df.subject]\n",
    "human_df['Source'] = 'Human'\n",
    "human_df = human_df[['subject', 'Source', 'problem', 'ex_idx', 'cursor', 'example']].copy()\n",
    "\n",
    "print(human_df.shape)\n",
    "human_df.head()"
   ]
  },
  {
   "cell_type": "markdown",
   "metadata": {},
   "source": [
    "Merge data:"
   ]
  },
  {
   "cell_type": "code",
   "execution_count": 21,
   "metadata": {},
   "outputs": [
    {
     "data": {
      "text/html": [
       "<div>\n",
       "<style scoped>\n",
       "    .dataframe tbody tr th:only-of-type {\n",
       "        vertical-align: middle;\n",
       "    }\n",
       "\n",
       "    .dataframe tbody tr th {\n",
       "        vertical-align: top;\n",
       "    }\n",
       "\n",
       "    .dataframe thead th {\n",
       "        text-align: right;\n",
       "    }\n",
       "</style>\n",
       "<table border=\"1\" class=\"dataframe\">\n",
       "  <thead>\n",
       "    <tr style=\"text-align: right;\">\n",
       "      <th></th>\n",
       "      <th>example</th>\n",
       "    </tr>\n",
       "    <tr>\n",
       "      <th>Source</th>\n",
       "      <th></th>\n",
       "    </tr>\n",
       "  </thead>\n",
       "  <tbody>\n",
       "    <tr>\n",
       "      <th>Human</th>\n",
       "      <td>3213</td>\n",
       "    </tr>\n",
       "    <tr>\n",
       "      <th>Literal</th>\n",
       "      <td>3360</td>\n",
       "    </tr>\n",
       "    <tr>\n",
       "      <th>Pedagogical</th>\n",
       "      <td>3360</td>\n",
       "    </tr>\n",
       "  </tbody>\n",
       "</table>\n",
       "</div>"
      ],
      "text/plain": [
       "             example\n",
       "Source              \n",
       "Human           3213\n",
       "Literal         3360\n",
       "Pedagogical     3360"
      ]
     },
     "execution_count": 21,
     "metadata": {},
     "output_type": "execute_result"
    }
   ],
   "source": [
    "sim_vs_human = pd.concat([sim_df, human_df])\n",
    "sim_vs_human.groupby('Source').agg({'example': 'count'})"
   ]
  },
  {
   "cell_type": "markdown",
   "metadata": {},
   "source": [
    "Helper function: Count # of neighbors:"
   ]
  },
  {
   "cell_type": "code",
   "execution_count": 22,
   "metadata": {},
   "outputs": [],
   "source": [
    "def count_neighbors(prob_idx):\n",
    "    prob = teach.problems[prob_idx]\n",
    "    true_h = np.array(prob['A'])\n",
    "\n",
    "    # kernel used to count neighbors\n",
    "    footprint = np.array([[1,1,1],\n",
    "                          [1,0,1],\n",
    "                          [1,1,1]])\n",
    "\n",
    "    # expand array\n",
    "    h_expanded = np.zeros((8,8), dtype=int)\n",
    "    h_expanded[1:7,1:7] = true_h\n",
    "\n",
    "    # count # neighbors\n",
    "    prob_arr = np.array(list(prob.values()))\n",
    "    expanded_neighbors = ndimage.generic_filter(h_expanded, teach.filter_func, footprint=footprint)\n",
    "\n",
    "    #clean up output\n",
    "    n_neighbors = expanded_neighbors[1:7, 1:7]\n",
    "    n_neighbors = np.multiply(true_h, n_neighbors)\n",
    "\n",
    "    return n_neighbors"
   ]
  },
  {
   "cell_type": "markdown",
   "metadata": {},
   "source": [
    "Plot number of neighbors for a representative problem:"
   ]
  },
  {
   "cell_type": "code",
   "execution_count": 23,
   "metadata": {},
   "outputs": [
    {
     "data": {
      "image/png": "[encoded data removed]",
      "text/plain": [
       "<Figure size 432x288 with 1 Axes>"
      ]
     },
     "metadata": {},
     "output_type": "display_data"
    }
   ],
   "source": [
    "neighbors = count_neighbors(prob_idx)\n",
    "true_h = np.array(teach.problems[prob_idx]['A'])\n",
    "ax = sns.heatmap(neighbors, square=True, cmap='viridis', cbar=False, annot=True, mask=1-true_h)\n",
    "ax.set(xticks=[], yticks=[])\n",
    "for _, spine in ax.spines.items():\n",
    "    spine.set_visible(True)\n",
    "\n",
    "plt.savefig('plots/neighbors_demo.png')"
   ]
  },
  {
   "cell_type": "markdown",
   "metadata": {},
   "source": [
    "Precompute # of neighbors for all problems:"
   ]
  },
  {
   "cell_type": "code",
   "execution_count": 24,
   "metadata": {},
   "outputs": [
    {
     "name": "stdout",
     "output_type": "stream",
     "text": [
      "[0 0 3 3 0 0 0 0 4 4 0 0 0 2 0 0 2 0 0 2 0 0 2 0 0 0 4 4 0 0 0 0 3 3 0 0]\n"
     ]
    }
   ],
   "source": [
    "all_neighbors = np.zeros((40,36), dtype=int)\n",
    "\n",
    "for i,_ in enumerate(teach.problems):\n",
    "    neighbors_i = count_neighbors(i)\n",
    "    neighbors_i_flat = neighbors_i.reshape(36,)\n",
    "    all_neighbors[i,:] = neighbors_i_flat\n",
    "    \n",
    "print(all_neighbors[prob_idx,:])"
   ]
  },
  {
   "cell_type": "markdown",
   "metadata": {},
   "source": [
    "Helper function: Compute movement distance"
   ]
  },
  {
   "cell_type": "code",
   "execution_count": 25,
   "metadata": {},
   "outputs": [],
   "source": [
    "def movement_distance(cursor, example):\n",
    "    cursor_2d = np.unravel_index(cursor, (6,6))\n",
    "    example_2d = np.unravel_index(example, (6,6))\n",
    "    dist = distance.cityblock(cursor_2d, example_2d)\n",
    "    return dist"
   ]
  },
  {
   "cell_type": "markdown",
   "metadata": {},
   "source": [
    "Plot movement distances for a representative problem:"
   ]
  },
  {
   "cell_type": "code",
   "execution_count": 26,
   "metadata": {},
   "outputs": [
    {
     "data": {
      "image/png": "[encoded data removed]",
      "text/plain": [
       "<Figure size 432x288 with 1 Axes>"
      ]
     },
     "metadata": {},
     "output_type": "display_data"
    }
   ],
   "source": [
    "dist_mtx = np.array([movement_distance(0,i) for i in range(36)])\n",
    "dist_mtx = dist_mtx.reshape((6,6))\n",
    "dist_mtx = np.multiply(true_h, dist_mtx)\n",
    "\n",
    "ax = sns.heatmap(dist_mtx, square=True, cmap='viridis', cbar=False, annot=True, mask=1-true_h)\n",
    "ax.set(xticks=[], yticks=[])\n",
    "ax.add_patch(patches.Rectangle((0,0), 1.0, 1.0, fill=None, edgecolor='red', lw=2))\n",
    "for _, spine in ax.spines.items():\n",
    "    spine.set_visible(True)\n",
    "\n",
    "plt.savefig('plots/distance_demo.png')"
   ]
  },
  {
   "cell_type": "markdown",
   "metadata": {},
   "source": [
    "Add # of neighbors, distance to dataframe:"
   ]
  },
  {
   "cell_type": "code",
   "execution_count": 27,
   "metadata": {},
   "outputs": [
    {
     "data": {
      "text/html": [
       "<div>\n",
       "<style scoped>\n",
       "    .dataframe tbody tr th:only-of-type {\n",
       "        vertical-align: middle;\n",
       "    }\n",
       "\n",
       "    .dataframe tbody tr th {\n",
       "        vertical-align: top;\n",
       "    }\n",
       "\n",
       "    .dataframe thead th {\n",
       "        text-align: right;\n",
       "    }\n",
       "</style>\n",
       "<table border=\"1\" class=\"dataframe\">\n",
       "  <thead>\n",
       "    <tr style=\"text-align: right;\">\n",
       "      <th></th>\n",
       "      <th>subject</th>\n",
       "      <th>Source</th>\n",
       "      <th>problem</th>\n",
       "      <th>ex_idx</th>\n",
       "      <th>cursor</th>\n",
       "      <th>example</th>\n",
       "      <th>distance</th>\n",
       "      <th>neighbors</th>\n",
       "    </tr>\n",
       "  </thead>\n",
       "  <tbody>\n",
       "    <tr>\n",
       "      <th>0</th>\n",
       "      <td>sub-01</td>\n",
       "      <td>Literal</td>\n",
       "      <td>0</td>\n",
       "      <td>0</td>\n",
       "      <td>0</td>\n",
       "      <td>27</td>\n",
       "      <td>7</td>\n",
       "      <td>7</td>\n",
       "    </tr>\n",
       "    <tr>\n",
       "      <th>1</th>\n",
       "      <td>sub-01</td>\n",
       "      <td>Literal</td>\n",
       "      <td>0</td>\n",
       "      <td>1</td>\n",
       "      <td>27</td>\n",
       "      <td>26</td>\n",
       "      <td>1</td>\n",
       "      <td>7</td>\n",
       "    </tr>\n",
       "    <tr>\n",
       "      <th>2</th>\n",
       "      <td>sub-01</td>\n",
       "      <td>Literal</td>\n",
       "      <td>0</td>\n",
       "      <td>2</td>\n",
       "      <td>26</td>\n",
       "      <td>17</td>\n",
       "      <td>5</td>\n",
       "      <td>4</td>\n",
       "    </tr>\n",
       "    <tr>\n",
       "      <th>3</th>\n",
       "      <td>sub-01</td>\n",
       "      <td>Literal</td>\n",
       "      <td>1</td>\n",
       "      <td>0</td>\n",
       "      <td>5</td>\n",
       "      <td>16</td>\n",
       "      <td>3</td>\n",
       "      <td>5</td>\n",
       "    </tr>\n",
       "    <tr>\n",
       "      <th>4</th>\n",
       "      <td>sub-01</td>\n",
       "      <td>Literal</td>\n",
       "      <td>1</td>\n",
       "      <td>1</td>\n",
       "      <td>16</td>\n",
       "      <td>21</td>\n",
       "      <td>2</td>\n",
       "      <td>8</td>\n",
       "    </tr>\n",
       "  </tbody>\n",
       "</table>\n",
       "</div>"
      ],
      "text/plain": [
       "  subject   Source  problem  ex_idx  cursor  example  distance  neighbors\n",
       "0  sub-01  Literal        0       0       0       27         7          7\n",
       "1  sub-01  Literal        0       1      27       26         1          7\n",
       "2  sub-01  Literal        0       2      26       17         5          4\n",
       "3  sub-01  Literal        1       0       5       16         3          5\n",
       "4  sub-01  Literal        1       1      16       21         2          8"
      ]
     },
     "execution_count": 27,
     "metadata": {},
     "output_type": "execute_result"
    }
   ],
   "source": [
    "sim_vs_human['distance'] = sim_vs_human.apply(lambda row: movement_distance(row.cursor, row.example), axis=1)\n",
    "sim_vs_human['neighbors'] = sim_vs_human.apply(lambda row: all_neighbors[row.problem, row.example], axis=1)\n",
    "\n",
    "sim_vs_human.head()"
   ]
  },
  {
   "cell_type": "markdown",
   "metadata": {},
   "source": [
    "Plot distribution of movement distances:"
   ]
  },
  {
   "cell_type": "code",
   "execution_count": 28,
   "metadata": {},
   "outputs": [
    {
     "data": {
      "image/png": "[encoded data removed]",
      "text/plain": [
       "<Figure size 432x288 with 1 Axes>"
      ]
     },
     "metadata": {},
     "output_type": "display_data"
    }
   ],
   "source": [
    "ax = sns.kdeplot(data=sim_vs_human, x='distance', hue='Source')\n",
    "ax.set(xlabel='Movement distance', xticks=np.linspace(0,int(max(sim_vs_human.distance)), 6))\n",
    "plt.savefig('plots/distance_sim_vs_human.png', bbox_inches='tight')"
   ]
  },
  {
   "cell_type": "markdown",
   "metadata": {},
   "source": [
    "Compare distances traveled by humans vs. models:"
   ]
  },
  {
   "cell_type": "code",
   "execution_count": 30,
   "metadata": {},
   "outputs": [
    {
     "name": "stdout",
     "output_type": "stream",
     "text": [
      "vs. Literal:\n",
      "Welch-Satterthwaite Degrees of Freedom= 6566.9543\n",
      "Ttest_indResult(statistic=-12.959424405229182, pvalue=6.048590399624963e-38)\n",
      "None\n",
      "\n",
      "vs. Pragmatic:\n",
      "Welch-Satterthwaite Degrees of Freedom= 6565.5941\n",
      "Ttest_indResult(statistic=-12.004670362070273, pvalue=7.400730324436234e-33)\n",
      "None\n"
     ]
    }
   ],
   "source": [
    "def welch_dof(x_orig,y_orig):\n",
    "    '''\n",
    "    Helper function: Tally degrees of freedom\n",
    "    Source: https://pythonfordatascienceorg.wordpress.com/welch-t-test-python-pandas/\n",
    "    '''\n",
    "    x = x_orig[~np.isnan(x_orig)]\n",
    "    y = y_orig[~np.isnan(y_orig)]\n",
    "    \n",
    "    dof = (x.var()/x.size + y.var()/y.size)**2 / ((x.var()/x.size)**2 / (x.size-1) + (y.var()/y.size)**2 / (y.size-1))\n",
    "    print(f\"Welch-Satterthwaite Degrees of Freedom= {dof:.4f}\")\n",
    "\n",
    "distance_df = sim_vs_human.pivot(index=['subject', 'problem', 'ex_idx'],columns=['Source'], values=['distance'])\n",
    "\n",
    "print('vs. Literal:')\n",
    "lit_dist = stats.ttest_ind(distance_df[('distance', 'Human')].values,\n",
    "                           distance_df[('distance', 'Literal')].values,\n",
    "                           equal_var=False, nan_policy='omit')\n",
    "lit_dist_dof = welch_dof(distance_df[('distance', 'Human')].values,\n",
    "                         distance_df[('distance', 'Literal')].values)\n",
    "print(lit_dist)\n",
    "print(lit_dist_dof)\n",
    "\n",
    "print('\\nvs. Pragmatic:')\n",
    "prag_dist = stats.ttest_ind(distance_df[('distance', 'Human')].values,\n",
    "                            distance_df[('distance', 'Pedagogical')].values,\n",
    "                            equal_var=False, nan_policy='omit')\n",
    "prag_dist_dof = welch_dof(distance_df[('distance', 'Human')].values,\n",
    "                          distance_df[('distance', 'Pedagogical')].values)\n",
    "\n",
    "print(prag_dist)\n",
    "print(prag_dist_dof)"
   ]
  },
  {
   "cell_type": "markdown",
   "metadata": {},
   "source": [
    "Compare neighbors surrounding examples chosen by humans vs. models:"
   ]
  },
  {
   "cell_type": "code",
   "execution_count": 31,
   "metadata": {},
   "outputs": [
    {
     "name": "stdout",
     "output_type": "stream",
     "text": [
      "vs. Literal:\n",
      "Welch-Satterthwaite Degrees of Freedom= 6325.8738\n",
      "Ttest_indResult(statistic=-13.40335376087858, pvalue=2.049231897865923e-40)\n",
      "None\n",
      "\n",
      "vs. Pragmatic:\n",
      "Welch-Satterthwaite Degrees of Freedom= 6222.0064\n",
      "Ttest_indResult(statistic=-14.799014957918343, pvalue=9.94262893259058e-49)\n",
      "None\n"
     ]
    }
   ],
   "source": [
    "neighbor_df = sim_vs_human.pivot(index=['subject', 'problem', 'ex_idx'],columns=['Source'], values=['neighbors'])\n",
    "\n",
    "print('vs. Literal:')\n",
    "lit_neighbors = stats.ttest_ind(neighbor_df[('neighbors', 'Human')].values,\n",
    "                                neighbor_df[('neighbors', 'Literal')].values,\n",
    "                                equal_var=False, nan_policy='omit')\n",
    "lit_neighbors_dof = welch_dof(neighbor_df[('neighbors', 'Human')].values,\n",
    "                              neighbor_df[('neighbors', 'Literal')].values)\n",
    "print(lit_neighbors)\n",
    "print(lit_neighbors_dof)\n",
    "\n",
    "\n",
    "print('\\nvs. Pragmatic:')\n",
    "prag_neighbors = stats.ttest_ind(neighbor_df[('neighbors', 'Human')].values,\n",
    "                                 neighbor_df[('neighbors', 'Pedagogical')].values,\n",
    "                                 equal_var=False, nan_policy='omit')\n",
    "prag_neighbors_dof = welch_dof(neighbor_df[('neighbors', 'Human')].values,\n",
    "                              neighbor_df[('neighbors', 'Pedagogical')].values)\n",
    "print(prag_neighbors)\n",
    "print(prag_neighbors_dof)"
   ]
  },
  {
   "cell_type": "markdown",
   "metadata": {},
   "source": [
    "Tally neighbors:"
   ]
  },
  {
   "cell_type": "code",
   "execution_count": null,
   "metadata": {},
   "outputs": [],
   "source": [
    "ax = sns.kdeplot(data=sim_vs_human, x='neighbors', hue='Source')\n",
    "ax.set(xlabel='# neighbors')\n",
    "plt.savefig('plots/neighbors_sim_vs_human.png', bbox_inches='tight')"
   ]
  },
  {
   "cell_type": "markdown",
   "metadata": {},
   "source": [
    "## Fig 5: Toy example"
   ]
  },
  {
   "cell_type": "markdown",
   "metadata": {},
   "source": [
    "### Plot belief distributions"
   ]
  },
  {
   "cell_type": "markdown",
   "metadata": {},
   "source": [
    "Assemble belief distributions:"
   ]
  },
  {
   "cell_type": "code",
   "execution_count": null,
   "metadata": {},
   "outputs": [],
   "source": [
    "winning_weights = param_dict['literal_pref_cost']\n",
    "winning_pred = teach.utility_model_predictions(data=prob_data, sampling_fun=teach.strong_sampling, \n",
    "                                               pref_fun=teach.edge_pref, weights=winning_weights, nIter=1)\n",
    "winning_pH = [dict(t['pH']) for t in winning_pred]\n",
    "winning_pH.insert(0, dict(zip(['A', 'B' , 'C', 'D'], .25*np.ones(4))))\n",
    "\n",
    "win_df = (\n",
    "    pd.DataFrame(winning_pH)\n",
    "    .reset_index()\n",
    "    .rename(columns={'index': 't'})\n",
    "    .melt(id_vars=['t'], value_vars=['A', 'B', 'C', 'D'], var_name='hypothesis', value_name='p')\n",
    ")\n",
    "\n",
    "win_df.head()"
   ]
  },
  {
   "cell_type": "markdown",
   "metadata": {},
   "source": [
    "Plot belief distributions over time:"
   ]
  },
  {
   "cell_type": "code",
   "execution_count": null,
   "metadata": {},
   "outputs": [],
   "source": [
    "g = sns.catplot(data=win_df, x='hypothesis', y='p', col='t', kind='bar', color='#333', height=1, aspect=2)\n",
    "g.set(xlabel='', ylabel='', yticks=[])\n",
    "g.despine(left=True)\n",
    "\n",
    "plt.savefig('plots/trial_by_trial_demo.png', bbox_inches='tight')"
   ]
  },
  {
   "cell_type": "markdown",
   "metadata": {},
   "source": [
    "### Plot pTrue, KL over time:"
   ]
  },
  {
   "cell_type": "code",
   "execution_count": null,
   "metadata": {},
   "outputs": [],
   "source": [
    "pTrue = [t['A'] for t in winning_pH[1:]]\n",
    "KL = [kl_divergence(np.array(list(winning_pH[t-1].values())), np.array(list(winning_pH[t].values()))) for t in range(1,4)]\n",
    "\n",
    "fig, ax = plt.subplots(figsize=(3*1.3,3))\n",
    "\n",
    "# Plot linear sequence, and set tick labels to the same color\n",
    "ax1_color ='#06689c'\n",
    "ax.plot(pTrue, color=ax1_color)\n",
    "ax.tick_params(axis='y', labelcolor=ax1_color)\n",
    "ax.set_ylabel(r'$P_L(h_T | d)$', color=ax1_color)\n",
    "ax.set(xlabel='Hints presented', xticks=[0, 1, 2], xticklabels=[1,2,3])\n",
    "\n",
    "# Generate a new Axes instance, on the twin-X axes (same position)\n",
    "ax2_color = '#F0810F'\n",
    "ax2 = ax.twinx()\n",
    "\n",
    "# Plot exponential sequence, set scale to logarithmic and change tick color\n",
    "ax2.plot(KL, color=ax2_color)\n",
    "ax2.tick_params(axis='y', labelcolor=ax2_color)\n",
    "ax2.set_ylabel(r'$D_{KL}(P_{L,t} || P_{L,t-1})$', color=ax2_color, rotation=-90, labelpad=20)\n",
    "ax2.set_ylim((-0.25, 4.25))\n",
    "\n",
    "plt.tight_layout()\n",
    "\n",
    "plt.savefig('plots/trial_by_trial_regressor_demo.png')"
   ]
  }
 ],
 "metadata": {
  "kernelspec": {
   "display_name": "Python3 (py3)",
   "language": "python",
   "name": "py3"
  },
  "language_info": {
   "codemirror_mode": {
    "name": "ipython",
    "version": 3
   },
   "file_extension": ".py",
   "mimetype": "text/x-python",
   "name": "python",
   "nbconvert_exporter": "python",
   "pygments_lexer": "ipython3",
   "version": "3.8.5"
  }
 },
 "nbformat": 4,
 "nbformat_minor": 4
}
