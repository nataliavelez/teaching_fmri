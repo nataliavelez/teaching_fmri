{
 "cells": [
  {
   "cell_type": "markdown",
   "metadata": {},
   "source": [
    "# Exploratory: Which problems are most diagnostic of differences between the info and non-info models? \n",
    "Natalia Vélez, April 2022"
   ]
  },
  {
   "cell_type": "code",
   "execution_count": 1,
   "metadata": {},
   "outputs": [
    {
     "name": "stdout",
     "output_type": "stream",
     "text": [
      "Loading teaching problems\n",
      "{'A': [[0, 0, 1, 1, 0, 0],\n",
      "       [0, 1, 1, 1, 1, 0],\n",
      "       [1, 1, 1, 1, 1, 1],\n",
      "       [1, 1, 1, 1, 1, 1],\n",
      "       [0, 1, 1, 1, 1, 0],\n",
      "       [0, 0, 1, 1, 0, 0]],\n",
      " 'B': [[1, 1, 1, 0, 0, 0],\n",
      "       [1, 1, 1, 0, 0, 0],\n",
      "       [1, 1, 1, 1, 0, 0],\n",
      "       [0, 0, 1, 1, 0, 0],\n",
      "       [0, 0, 0, 0, 0, 0],\n",
      "       [0, 0, 0, 0, 0, 0]],\n",
      " 'C': [[0, 0, 0, 1, 1, 1],\n",
      "       [0, 0, 0, 1, 1, 1],\n",
      "       [0, 0, 1, 1, 1, 1],\n",
      "       [0, 0, 1, 1, 0, 0],\n",
      "       [0, 0, 0, 0, 0, 0],\n",
      "       [0, 0, 0, 0, 0, 0]],\n",
      " 'D': [[0, 0, 0, 0, 0, 0],\n",
      "       [0, 0, 0, 0, 0, 0],\n",
      "       [0, 0, 1, 1, 0, 0],\n",
      "       [1, 1, 1, 1, 1, 1],\n",
      "       [1, 1, 1, 1, 1, 1],\n",
      "       [1, 1, 1, 1, 1, 1]]}\n",
      "Participants excluded from analysis:\n",
      "[3, 17]\n",
      "Cleaning up human behavioral data\n",
      "    subject  run  block_idx  ex_idx first_movement   start  problem  \\\n",
      "0         1    1          0       0         [0, 1]  [0, 0]       22   \n",
      "1         1    1          0       1         [0, 1]  [0, 0]       22   \n",
      "3         1    1          1       0         [0, 4]  [0, 5]       18   \n",
      "4         1    1          1       1         [0, 4]  [0, 5]       18   \n",
      "5         1    1          1       2         [0, 4]  [0, 5]       18   \n",
      "6         1    1          2       0         [5, 4]  [5, 5]        1   \n",
      "7         1    1          2       1         [5, 4]  [5, 5]        1   \n",
      "8         1    1          2       2         [5, 4]  [5, 5]        1   \n",
      "10        1    1          3       1         [5, 1]  [5, 0]       16   \n",
      "11        1    1          3       2         [5, 1]  [5, 0]       16   \n",
      "12        1    2          0       0         [0, 1]  [0, 0]       20   \n",
      "13        1    2          0       1         [0, 1]  [0, 0]       20   \n",
      "14        1    2          0       2         [0, 1]  [0, 0]       20   \n",
      "16        1    2          1       1         [5, 4]  [5, 5]       28   \n",
      "17        1    2          1       2         [5, 4]  [5, 5]       28   \n",
      "\n",
      "                   order  example cursor_coords example_coords  cursor  \n",
      "0   ['C', 'B', 'D', 'A']        8        [0, 0]         [1, 2]       0  \n",
      "1   ['C', 'B', 'D', 'A']       27        [1, 2]         [4, 3]       8  \n",
      "3   ['D', 'B', 'C', 'A']        3        [0, 5]         [0, 3]       5  \n",
      "4   ['D', 'B', 'C', 'A']       32        [0, 3]         [5, 2]       3  \n",
      "5   ['D', 'B', 'C', 'A']        7        [5, 2]         [1, 1]      32  \n",
      "6   ['A', 'D', 'C', 'B']       31        [5, 5]         [5, 1]      35  \n",
      "7   ['A', 'D', 'C', 'B']        1        [5, 1]         [0, 1]      31  \n",
      "8   ['A', 'D', 'C', 'B']        4        [0, 1]         [0, 4]       1  \n",
      "10  ['B', 'C', 'A', 'D']       27        [5, 0]         [4, 3]      30  \n",
      "11  ['B', 'C', 'A', 'D']        8        [4, 3]         [1, 2]      27  \n",
      "12  ['D', 'C', 'A', 'B']        9        [0, 0]         [1, 3]       0  \n",
      "13  ['D', 'C', 'A', 'B']       19        [1, 3]         [3, 1]       9  \n",
      "14  ['D', 'C', 'A', 'B']       21        [3, 1]         [3, 3]      19  \n",
      "16  ['C', 'D', 'B', 'A']       10        [5, 5]         [1, 4]      35  \n",
      "17  ['C', 'D', 'B', 'A']       26        [1, 4]         [4, 2]      10  \n"
     ]
    }
   ],
   "source": [
    "%matplotlib inline\n",
    "import sys, pprint\n",
    "import numpy as np\n",
    "import pandas as pd\n",
    "import teaching_models as teach\n",
    "import matplotlib.pyplot as plt\n",
    "import matplotlib.patches as patches\n",
    "import seaborn as sns\n",
    "from ast import literal_eval\n",
    "from scipy.stats import pearsonr,entropy,mannwhitneyu\n",
    "\n",
    "sys.path.append('..')\n",
    "from utils import gsearch, str_extract, int_extract, read_json\n",
    "\n",
    "sns.set_context('talk')\n",
    "sns.set_style('white')"
   ]
  },
  {
   "cell_type": "markdown",
   "metadata": {},
   "source": [
    "## Load model predictions"
   ]
  },
  {
   "cell_type": "markdown",
   "metadata": {},
   "source": [
    "Find MLE files:"
   ]
  },
  {
   "cell_type": "code",
   "execution_count": 2,
   "metadata": {},
   "outputs": [
    {
     "name": "stdout",
     "output_type": "stream",
     "text": [
      "Found 56 files\n",
      "outputs/fit_model-pref_cost_method-optimize/sub-21_model-pref_cost_method-optimize_result.json\n",
      "outputs/fit_model-pref_cost_method-optimize/sub-22_model-pref_cost_method-optimize_result.json\n",
      "outputs/fit_model-pref_cost_method-optimize/sub-23_model-pref_cost_method-optimize_result.json\n",
      "outputs/fit_model-pref_cost_method-optimize/sub-24_model-pref_cost_method-optimize_result.json\n",
      "outputs/fit_model-pref_cost_method-optimize/sub-25_model-pref_cost_method-optimize_result.json\n",
      "outputs/fit_model-pref_cost_method-optimize/sub-26_model-pref_cost_method-optimize_result.json\n",
      "outputs/fit_model-pref_cost_method-optimize/sub-27_model-pref_cost_method-optimize_result.json\n",
      "outputs/fit_model-pref_cost_method-optimize/sub-28_model-pref_cost_method-optimize_result.json\n",
      "outputs/fit_model-pref_cost_method-optimize/sub-29_model-pref_cost_method-optimize_result.json\n",
      "outputs/fit_model-pref_cost_method-optimize/sub-30_model-pref_cost_method-optimize_result.json\n",
      "...\n"
     ]
    }
   ],
   "source": [
    "param_files = gsearch('outputs/fit_model-*pref_cost_method-optimize/*.json')\n",
    "param_files.sort()\n",
    "\n",
    "print(f'Found {len(param_files)} files')\n",
    "print(*param_files[-10:], sep='\\n')\n",
    "print('...')"
   ]
  },
  {
   "cell_type": "markdown",
   "metadata": {},
   "source": [
    "Load MLE:"
   ]
  },
  {
   "cell_type": "code",
   "execution_count": 6,
   "metadata": {},
   "outputs": [
    {
     "name": "stdout",
     "output_type": "stream",
     "text": [
      "{1: {'info_pref_cost': array([ 0.08682452, 26.92077464,  2.75994875]),\n",
      "     'pref_cost': array([27.13743707,  2.69584274])},\n",
      " 2: {'info_pref_cost': array([1.12689429e-02, 1.17808207e+01, 2.97907311e+00]),\n",
      "     'pref_cost': array([11.81174065,  2.9686911 ])},\n",
      " 4: {'info_pref_cost': array([ 1.33021777, 22.69895661,  4.02278999]),\n",
      "     'pref_cost': array([23.95576724,  3.59063683])},\n",
      " 5: {'info_pref_cost': array([0.20254451, 8.80212628, 2.54752825]),\n",
      "     'pref_cost': array([9.09469943, 2.52391791])},\n",
      " 6: {'info_pref_cost': array([ 0.05806675, 31.32412117,  2.76783619]),\n",
      "     'pref_cost': array([31.48587273,  2.71800423])},\n",
      " 7: {'info_pref_cost': array([1.16181806e-14, 2.37553024e+01, 1.31432790e+00]),\n",
      "     'pref_cost': array([23.7549836 ,  1.31466083])},\n",
      " 8: {'info_pref_cost': array([ 0.0797263 , 23.65380052,  2.40645297]),\n",
      "     'pref_cost': array([23.91047148,  2.36376948])},\n",
      " 9: {'info_pref_cost': array([ 0.        , 15.08929169,  2.66616572]),\n",
      "     'pref_cost': array([15.0885938 ,  2.66597768])},\n",
      " 10: {'info_pref_cost': array([ 1.00391341, 14.71617393,  4.25928774]),\n",
      "      'pref_cost': array([16.0447532 ,  4.06024618])},\n",
      " 11: {'info_pref_cost': array([ 2.36184777, 23.73162343,  0.95591521]),\n",
      "      'pref_cost': array([24.80186569,  0.812887  ])},\n",
      " 12: {'info_pref_cost': array([ 2.27477608, 17.3791758 ,  2.63036876]),\n",
      "      'pref_cost': array([18.07314832,  2.1677239 ])},\n",
      " 13: {'info_pref_cost': array([ 1.47053635, 27.12446805,  2.37017564]),\n",
      "      'pref_cost': array([26.64264841,  1.96558924])},\n",
      " 14: {'info_pref_cost': array([ 0.0599202 , 11.81754121,  5.45340509]),\n",
      "      'pref_cost': array([11.97421239,  5.39824803])},\n",
      " 15: {'info_pref_cost': array([9.32525408e-14, 2.64190062e+01, 4.46781006e+00]),\n",
      "      'pref_cost': array([26.42013827,  4.46778654])},\n",
      " 16: {'info_pref_cost': array([ 0.02862868, 25.73139327,  3.55613723]),\n",
      "      'pref_cost': array([25.77531559,  3.53166105])},\n",
      " 18: {'info_pref_cost': array([2.31202531e-02, 3.14039094e+01, 4.90516079e+00]),\n",
      "      'pref_cost': array([31.46045416,  4.8753414 ])},\n",
      " 19: {'info_pref_cost': array([ 0.62950733, 22.29625927,  3.52710997]),\n",
      "      'pref_cost': array([22.92196097,  3.25414415])},\n",
      " 20: {'info_pref_cost': array([ 1.4820817 , 25.47222357,  5.15474266]),\n",
      "      'pref_cost': array([24.99113682,  4.60357836])},\n",
      " 21: {'info_pref_cost': array([0.56331037, 8.11400335, 1.34637809]),\n",
      "      'pref_cost': array([8.80794099, 1.25047776])},\n",
      " 22: {'info_pref_cost': array([1.42806900e-13, 1.73014652e+01, 3.62244195e+00]),\n",
      "      'pref_cost': array([17.30304695,  3.62239458])},\n",
      " 23: {'info_pref_cost': array([ 0.59194095, 22.04154619,  4.71805158]),\n",
      "      'pref_cost': array([22.67768345,  4.56833968])},\n",
      " 24: {'info_pref_cost': array([ 0.47138423, 19.32047874,  2.53981459]),\n",
      "      'pref_cost': array([19.55932549,  2.42102234])},\n",
      " 25: {'info_pref_cost': array([ 2.14182556, 11.62784972,  2.43215675]),\n",
      "      'pref_cost': array([11.38668845,  2.12586499])},\n",
      " 26: {'info_pref_cost': array([ 0.06892362, 28.5201931 ,  2.86836351]),\n",
      "      'pref_cost': array([28.69858637,  2.79629525])},\n",
      " 27: {'info_pref_cost': array([ 0.49998984, 26.75285698,  3.66376463]),\n",
      "      'pref_cost': array([27.07834569,  3.487258  ])},\n",
      " 28: {'info_pref_cost': array([1.04025238e-17, 4.31019198e+01, 5.17480809e+00]),\n",
      "      'pref_cost': array([43.10061941,  5.1750675 ])},\n",
      " 29: {'info_pref_cost': array([ 1.55063605, 22.15470566,  2.795589  ]),\n",
      "      'pref_cost': array([22.8543473 ,  2.47486161])},\n",
      " 30: {'info_pref_cost': array([ 3.15373244, 20.05639487,  5.06656305]),\n",
      "      'pref_cost': array([20.55474059,  4.42261191])}}\n"
     ]
    }
   ],
   "source": [
    "weights = {}\n",
    "\n",
    "for f in param_files:\n",
    "    # read model-fitting results\n",
    "    res = read_json(f)\n",
    "\n",
    "    # make subject-specific dict\n",
    "    sub = int_extract('(?<=sub-)[0-9]{2}', f)\n",
    "    if sub not in weights:\n",
    "        weights[sub] = {}\n",
    "        \n",
    "    # save param_files\n",
    "    model_name = str_extract('(?<=model-)[a-z_]+(?=_method-)', f)\n",
    "    sub_w = np.array(res['x'])\n",
    "    weights[sub][model_name] = sub_w\n",
    "    \n",
    "pprint.pprint(weights)"
   ]
  },
  {
   "cell_type": "markdown",
   "metadata": {},
   "source": [
    "Helper function: Pad arrays for non-info model"
   ]
  },
  {
   "cell_type": "code",
   "execution_count": 4,
   "metadata": {},
   "outputs": [],
   "source": [
    "def pad_weights(w):\n",
    "    n_fit = len(w)\n",
    "    return np.pad(w, (3-n_fit, 0), 'constant')"
   ]
  },
  {
   "cell_type": "markdown",
   "metadata": {},
   "source": [
    "Helper function: Use parameter values, behavioral data to generate trial-by-trial predictions"
   ]
  },
  {
   "cell_type": "code",
   "execution_count": 7,
   "metadata": {},
   "outputs": [],
   "source": [
    "# model_list = []\n",
    "# all_models = ['info_pref_cost', 'pref_cost']\n",
    "\n",
    "# for sub, sub_data in teach.human_df.groupby('subject'):\n",
    "#     print('===== sub-%02d =====' % sub)\n",
    "    \n",
    "#     for m in all_models:\n",
    "#         print(f'Model: {m}')\n",
    "        \n",
    "#         # get subject-specific weights\n",
    "#         sub_fit_w = weights[sub][m]\n",
    "#         sub_w = pad_weights(sub_fit_w) # pad non-info weights\n",
    "#         print(f'{sub_w}\\n')\n",
    "        \n",
    "#         # iterate over all problems\n",
    "#         for prob, prob_data in sub_data.groupby('problem'):\n",
    "#             preds = teach.utility_model_predictions(data=prob_data, \n",
    "#                                                     pref_fun=teach.edge_pref, \n",
    "#                                                     weights=sub_w)\n",
    "#             preds_df = pd.DataFrame(preds)\n",
    "#             preds_df['model'] = m\n",
    "#             model_list.append(preds_df)"
   ]
  },
  {
   "cell_type": "markdown",
   "metadata": {},
   "source": [
    "Check resulting dataframe"
   ]
  },
  {
   "cell_type": "code",
   "execution_count": 8,
   "metadata": {},
   "outputs": [
    {
     "name": "stdout",
     "output_type": "stream",
     "text": [
      "(6426, 20)\n"
     ]
    },
    {
     "data": {
      "text/html": [
       "<div>\n",
       "<style scoped>\n",
       "    .dataframe tbody tr th:only-of-type {\n",
       "        vertical-align: middle;\n",
       "    }\n",
       "\n",
       "    .dataframe tbody tr th {\n",
       "        vertical-align: top;\n",
       "    }\n",
       "\n",
       "    .dataframe thead th {\n",
       "        text-align: right;\n",
       "    }\n",
       "</style>\n",
       "<table border=\"1\" class=\"dataframe\">\n",
       "  <thead>\n",
       "    <tr style=\"text-align: right;\">\n",
       "      <th></th>\n",
       "      <th>subject</th>\n",
       "      <th>run</th>\n",
       "      <th>block_idx</th>\n",
       "      <th>ex_idx</th>\n",
       "      <th>first_movement</th>\n",
       "      <th>start</th>\n",
       "      <th>problem</th>\n",
       "      <th>order</th>\n",
       "      <th>example</th>\n",
       "      <th>cursor_coords</th>\n",
       "      <th>example_coords</th>\n",
       "      <th>cursor</th>\n",
       "      <th>model</th>\n",
       "      <th>lik</th>\n",
       "      <th>pD</th>\n",
       "      <th>pTrue</th>\n",
       "      <th>pH</th>\n",
       "      <th>entropy</th>\n",
       "      <th>delta</th>\n",
       "      <th>KL</th>\n",
       "    </tr>\n",
       "  </thead>\n",
       "  <tbody>\n",
       "    <tr>\n",
       "      <th>0</th>\n",
       "      <td>1</td>\n",
       "      <td>7</td>\n",
       "      <td>2</td>\n",
       "      <td>0</td>\n",
       "      <td>[1, 5]</td>\n",
       "      <td>[0, 5]</td>\n",
       "      <td>0</td>\n",
       "      <td>['C', 'D', 'A', 'B']</td>\n",
       "      <td>33</td>\n",
       "      <td>[0, 5]</td>\n",
       "      <td>[5, 3]</td>\n",
       "      <td>5</td>\n",
       "      <td>info_pref_cost</td>\n",
       "      <td>0.025516</td>\n",
       "      <td>[[0, 0.0], [1, 0.0], [2, 0.0675951533], [3, 0....</td>\n",
       "      <td>0.709270</td>\n",
       "      <td>[[A, 0.7092697266], [B, 0.0], [C, 0.0], [D, 0....</td>\n",
       "      <td>0.602804</td>\n",
       "      <td>0.459270</td>\n",
       "      <td>0.783490</td>\n",
       "    </tr>\n",
       "    <tr>\n",
       "      <th>1</th>\n",
       "      <td>1</td>\n",
       "      <td>7</td>\n",
       "      <td>2</td>\n",
       "      <td>1</td>\n",
       "      <td>[1, 5]</td>\n",
       "      <td>[0, 5]</td>\n",
       "      <td>0</td>\n",
       "      <td>['C', 'D', 'A', 'B']</td>\n",
       "      <td>32</td>\n",
       "      <td>[5, 3]</td>\n",
       "      <td>[5, 2]</td>\n",
       "      <td>33</td>\n",
       "      <td>info_pref_cost</td>\n",
       "      <td>0.100961</td>\n",
       "      <td>[[0, 0.0], [1, 0.0], [2, 0.0278509906], [3, 0....</td>\n",
       "      <td>0.346161</td>\n",
       "      <td>[[A, 0.3461611284], [B, 0.0], [C, 0.0], [D, 0....</td>\n",
       "      <td>0.645038</td>\n",
       "      <td>-0.363109</td>\n",
       "      <td>0.281601</td>\n",
       "    </tr>\n",
       "    <tr>\n",
       "      <th>2</th>\n",
       "      <td>1</td>\n",
       "      <td>7</td>\n",
       "      <td>2</td>\n",
       "      <td>2</td>\n",
       "      <td>[1, 5]</td>\n",
       "      <td>[0, 5]</td>\n",
       "      <td>0</td>\n",
       "      <td>['C', 'D', 'A', 'B']</td>\n",
       "      <td>2</td>\n",
       "      <td>[5, 2]</td>\n",
       "      <td>[0, 2]</td>\n",
       "      <td>32</td>\n",
       "      <td>info_pref_cost</td>\n",
       "      <td>0.041067</td>\n",
       "      <td>[[0, 0.0], [1, 0.0], [2, 0.0410671598], [3, 0....</td>\n",
       "      <td>1.000000</td>\n",
       "      <td>[[A, 1.0], [B, 0.0], [C, 0.0], [D, 0.0]]</td>\n",
       "      <td>0.000000</td>\n",
       "      <td>0.653839</td>\n",
       "      <td>1.060851</td>\n",
       "    </tr>\n",
       "    <tr>\n",
       "      <th>3</th>\n",
       "      <td>1</td>\n",
       "      <td>1</td>\n",
       "      <td>2</td>\n",
       "      <td>0</td>\n",
       "      <td>[5, 4]</td>\n",
       "      <td>[5, 5]</td>\n",
       "      <td>1</td>\n",
       "      <td>['A', 'D', 'C', 'B']</td>\n",
       "      <td>31</td>\n",
       "      <td>[5, 5]</td>\n",
       "      <td>[5, 1]</td>\n",
       "      <td>35</td>\n",
       "      <td>info_pref_cost</td>\n",
       "      <td>0.066569</td>\n",
       "      <td>[[0, 0.0], [1, 0.0220738095], [2, 0.0075711726...</td>\n",
       "      <td>0.030642</td>\n",
       "      <td>[[A, 0.0306419933], [B, 0.48467900340000003], ...</td>\n",
       "      <td>0.808875</td>\n",
       "      <td>-0.219358</td>\n",
       "      <td>0.577420</td>\n",
       "    </tr>\n",
       "    <tr>\n",
       "      <th>4</th>\n",
       "      <td>1</td>\n",
       "      <td>1</td>\n",
       "      <td>2</td>\n",
       "      <td>1</td>\n",
       "      <td>[5, 4]</td>\n",
       "      <td>[5, 5]</td>\n",
       "      <td>1</td>\n",
       "      <td>['A', 'D', 'C', 'B']</td>\n",
       "      <td>1</td>\n",
       "      <td>[5, 1]</td>\n",
       "      <td>[0, 1]</td>\n",
       "      <td>31</td>\n",
       "      <td>info_pref_cost</td>\n",
       "      <td>0.084346</td>\n",
       "      <td>[[0, 0.0], [1, 0.0843463431], [2, 0.0151310999...</td>\n",
       "      <td>1.000000</td>\n",
       "      <td>[[A, 1.0], [B, 0.0], [C, 0.0], [D, 0.0]]</td>\n",
       "      <td>0.000000</td>\n",
       "      <td>0.969358</td>\n",
       "      <td>3.485384</td>\n",
       "    </tr>\n",
       "  </tbody>\n",
       "</table>\n",
       "</div>"
      ],
      "text/plain": [
       "   subject  run  block_idx  ex_idx first_movement   start  problem  \\\n",
       "0        1    7          2       0         [1, 5]  [0, 5]        0   \n",
       "1        1    7          2       1         [1, 5]  [0, 5]        0   \n",
       "2        1    7          2       2         [1, 5]  [0, 5]        0   \n",
       "3        1    1          2       0         [5, 4]  [5, 5]        1   \n",
       "4        1    1          2       1         [5, 4]  [5, 5]        1   \n",
       "\n",
       "                  order  example cursor_coords example_coords  cursor  \\\n",
       "0  ['C', 'D', 'A', 'B']       33        [0, 5]         [5, 3]       5   \n",
       "1  ['C', 'D', 'A', 'B']       32        [5, 3]         [5, 2]      33   \n",
       "2  ['C', 'D', 'A', 'B']        2        [5, 2]         [0, 2]      32   \n",
       "3  ['A', 'D', 'C', 'B']       31        [5, 5]         [5, 1]      35   \n",
       "4  ['A', 'D', 'C', 'B']        1        [5, 1]         [0, 1]      31   \n",
       "\n",
       "            model       lik  \\\n",
       "0  info_pref_cost  0.025516   \n",
       "1  info_pref_cost  0.100961   \n",
       "2  info_pref_cost  0.041067   \n",
       "3  info_pref_cost  0.066569   \n",
       "4  info_pref_cost  0.084346   \n",
       "\n",
       "                                                  pD     pTrue  \\\n",
       "0  [[0, 0.0], [1, 0.0], [2, 0.0675951533], [3, 0....  0.709270   \n",
       "1  [[0, 0.0], [1, 0.0], [2, 0.0278509906], [3, 0....  0.346161   \n",
       "2  [[0, 0.0], [1, 0.0], [2, 0.0410671598], [3, 0....  1.000000   \n",
       "3  [[0, 0.0], [1, 0.0220738095], [2, 0.0075711726...  0.030642   \n",
       "4  [[0, 0.0], [1, 0.0843463431], [2, 0.0151310999...  1.000000   \n",
       "\n",
       "                                                  pH   entropy     delta  \\\n",
       "0  [[A, 0.7092697266], [B, 0.0], [C, 0.0], [D, 0....  0.602804  0.459270   \n",
       "1  [[A, 0.3461611284], [B, 0.0], [C, 0.0], [D, 0....  0.645038 -0.363109   \n",
       "2           [[A, 1.0], [B, 0.0], [C, 0.0], [D, 0.0]]  0.000000  0.653839   \n",
       "3  [[A, 0.0306419933], [B, 0.48467900340000003], ...  0.808875 -0.219358   \n",
       "4           [[A, 1.0], [B, 0.0], [C, 0.0], [D, 0.0]]  0.000000  0.969358   \n",
       "\n",
       "         KL  \n",
       "0  0.783490  \n",
       "1  0.281601  \n",
       "2  1.060851  \n",
       "3  0.577420  \n",
       "4  3.485384  "
      ]
     },
     "execution_count": 8,
     "metadata": {},
     "output_type": "execute_result"
    }
   ],
   "source": [
    "# model_df = pd.concat(model_list).reset_index(drop=True) # if running anew\n",
    "model_df = pd.read_json('outputs/model_predictions.json', orient='records') # if loading cache\n",
    "print(model_df.shape)\n",
    "model_df.head()"
   ]
  },
  {
   "cell_type": "markdown",
   "metadata": {},
   "source": [
    "Save model predictions to a file so we don't have to run this again :) "
   ]
  },
  {
   "cell_type": "code",
   "execution_count": null,
   "metadata": {},
   "outputs": [],
   "source": [
    "# model_df.to_json('outputs/model_predictions.json', orient='records')"
   ]
  },
  {
   "cell_type": "markdown",
   "metadata": {},
   "source": [
    "Read from JSON"
   ]
  },
  {
   "cell_type": "markdown",
   "metadata": {},
   "source": [
    "## Compare sampling distributions for each problem"
   ]
  },
  {
   "cell_type": "markdown",
   "metadata": {},
   "source": [
    "Helper function: Convert `pD` entry to dataframe"
   ]
  },
  {
   "cell_type": "code",
   "execution_count": 9,
   "metadata": {},
   "outputs": [],
   "source": [
    "def pD_to_dataframe(pD):\n",
    "    df = pd.DataFrame(pD, columns=['idx', 'A']).set_index('idx')\n",
    "    return df"
   ]
  },
  {
   "cell_type": "markdown",
   "metadata": {},
   "source": [
    "Helper function: Get KL divergences between models for a specific observation"
   ]
  },
  {
   "cell_type": "code",
   "execution_count": 10,
   "metadata": {},
   "outputs": [],
   "source": [
    "def model_KL(group):\n",
    "\n",
    "    obs_dict = {}\n",
    "\n",
    "    # Get sampling distributions\n",
    "    for _, row in group.iterrows():\n",
    "        # Load problem to filter\n",
    "        prob_idx = row.problem\n",
    "        prob = teach.problem_df(prob_idx)\n",
    "        prob_filter = prob.A == 1\n",
    "\n",
    "        # Read out values\n",
    "        pD = pD_to_dataframe(row.pD)\n",
    "        pD = pD.loc[prob_filter]\n",
    "        obs_dict[row.model] = pD.values\n",
    "\n",
    "    # Compute KL divergence between distributions\n",
    "    KL = entropy(obs_dict['info_pref_cost'], obs_dict['pref_cost'])\n",
    "    return KL[0]"
   ]
  },
  {
   "cell_type": "markdown",
   "metadata": {},
   "source": [
    "Main loop: Compute KL divergences"
   ]
  },
  {
   "cell_type": "code",
   "execution_count": 11,
   "metadata": {},
   "outputs": [],
   "source": [
    "KL_list = []\n",
    "for (sub, prob, ex_idx),group in model_df.groupby(['subject', 'problem', 'ex_idx']):\n",
    "    KL = model_KL(group)\n",
    "    KL_list.append((sub, prob, ex_idx, KL))"
   ]
  },
  {
   "cell_type": "code",
   "execution_count": 12,
   "metadata": {},
   "outputs": [
    {
     "name": "stdout",
     "output_type": "stream",
     "text": [
      "(3213, 4)\n"
     ]
    },
    {
     "data": {
      "text/html": [
       "<div>\n",
       "<style scoped>\n",
       "    .dataframe tbody tr th:only-of-type {\n",
       "        vertical-align: middle;\n",
       "    }\n",
       "\n",
       "    .dataframe tbody tr th {\n",
       "        vertical-align: top;\n",
       "    }\n",
       "\n",
       "    .dataframe thead th {\n",
       "        text-align: right;\n",
       "    }\n",
       "</style>\n",
       "<table border=\"1\" class=\"dataframe\">\n",
       "  <thead>\n",
       "    <tr style=\"text-align: right;\">\n",
       "      <th></th>\n",
       "      <th>subject</th>\n",
       "      <th>problem</th>\n",
       "      <th>ex_idx</th>\n",
       "      <th>KL</th>\n",
       "    </tr>\n",
       "  </thead>\n",
       "  <tbody>\n",
       "    <tr>\n",
       "      <th>0</th>\n",
       "      <td>1</td>\n",
       "      <td>0</td>\n",
       "      <td>0</td>\n",
       "      <td>0.001721</td>\n",
       "    </tr>\n",
       "    <tr>\n",
       "      <th>1</th>\n",
       "      <td>1</td>\n",
       "      <td>0</td>\n",
       "      <td>1</td>\n",
       "      <td>0.000640</td>\n",
       "    </tr>\n",
       "    <tr>\n",
       "      <th>2</th>\n",
       "      <td>1</td>\n",
       "      <td>0</td>\n",
       "      <td>2</td>\n",
       "      <td>0.000757</td>\n",
       "    </tr>\n",
       "    <tr>\n",
       "      <th>3</th>\n",
       "      <td>1</td>\n",
       "      <td>1</td>\n",
       "      <td>0</td>\n",
       "      <td>0.007526</td>\n",
       "    </tr>\n",
       "    <tr>\n",
       "      <th>4</th>\n",
       "      <td>1</td>\n",
       "      <td>1</td>\n",
       "      <td>1</td>\n",
       "      <td>0.107616</td>\n",
       "    </tr>\n",
       "  </tbody>\n",
       "</table>\n",
       "</div>"
      ],
      "text/plain": [
       "   subject  problem  ex_idx        KL\n",
       "0        1        0       0  0.001721\n",
       "1        1        0       1  0.000640\n",
       "2        1        0       2  0.000757\n",
       "3        1        1       0  0.007526\n",
       "4        1        1       1  0.107616"
      ]
     },
     "execution_count": 12,
     "metadata": {},
     "output_type": "execute_result"
    }
   ],
   "source": [
    "KL_df = pd.DataFrame(KL_list, columns=['subject', 'problem', 'ex_idx', 'KL'])\n",
    "print(KL_df.shape)\n",
    "KL_df.head()"
   ]
  },
  {
   "cell_type": "markdown",
   "metadata": {},
   "source": [
    "Average KL divergence by problem:"
   ]
  },
  {
   "cell_type": "code",
   "execution_count": 13,
   "metadata": {},
   "outputs": [
    {
     "data": {
      "text/plain": [
       "<AxesSubplot:xlabel='problem', ylabel='KL'>"
      ]
     },
     "execution_count": 13,
     "metadata": {},
     "output_type": "execute_result"
    },
    {
     "data": {
      "image/png": "[encoded data removed]",
      "text/plain": [
       "<Figure size 1152x288 with 1 Axes>"
      ]
     },
     "metadata": {},
     "output_type": "display_data"
    }
   ],
   "source": [
    "fig,ax = plt.subplots(figsize=(16,4))\n",
    "sns.barplot(data=KL_df,x='problem', y='KL', ax=ax, fc='#777')"
   ]
  },
  {
   "cell_type": "markdown",
   "metadata": {},
   "source": [
    "Distribution of KL divergences:"
   ]
  },
  {
   "cell_type": "code",
   "execution_count": 14,
   "metadata": {},
   "outputs": [
    {
     "data": {
      "text/plain": [
       "[(0.0, 0.2650549601108639)]"
      ]
     },
     "execution_count": 14,
     "metadata": {},
     "output_type": "execute_result"
    },
    {
     "data": {
      "image/png": "[encoded data removed]",
      "text/plain": [
       "<Figure size 360x360 with 1 Axes>"
      ]
     },
     "metadata": {},
     "output_type": "display_data"
    }
   ],
   "source": [
    "avg_KL = KL_df.groupby('problem').agg({'KL': 'mean'}).reset_index()\n",
    "g = sns.displot(data=avg_KL, x='KL', kind='kde', rug=True)\n",
    "g.ax.set(xlim=(0,None))"
   ]
  },
  {
   "cell_type": "markdown",
   "metadata": {},
   "source": [
    "Helper function: Plot problem"
   ]
  },
  {
   "cell_type": "code",
   "execution_count": 15,
   "metadata": {},
   "outputs": [],
   "source": [
    "def plot_problem(prob_idx):\n",
    "    prob = teach.problems[prob_idx]\n",
    "    prob_labels = list(prob.keys())\n",
    "    fig,axes=plt.subplots(1,4, figsize=(16,4))\n",
    "\n",
    "\n",
    "    for key,val in prob.items():\n",
    "        ax_idx = prob_labels.index(key)\n",
    "        sns.heatmap(val, cmap='Greys', square=True, cbar=False, ax=axes[ax_idx], lw=1, linecolor='#aaa')\n",
    "        axes[ax_idx].set(xticklabels=[], yticklabels=[], title=key)\n",
    "        \n",
    "    fig.suptitle(f'Problem {prob_idx}')"
   ]
  },
  {
   "cell_type": "markdown",
   "metadata": {},
   "source": [
    "Most diagnostic problems:"
   ]
  },
  {
   "cell_type": "code",
   "execution_count": 16,
   "metadata": {},
   "outputs": [
    {
     "data": {
      "image/png": "[encoded data removed]",
      "text/plain": [
       "<Figure size 1152x288 with 4 Axes>"
      ]
     },
     "metadata": {},
     "output_type": "display_data"
    },
    {
     "data": {
      "image/png": "[encoded data removed]",
      "text/plain": [
       "<Figure size 1152x288 with 4 Axes>"
      ]
     },
     "metadata": {},
     "output_type": "display_data"
    },
    {
     "data": {
      "image/png": "[encoded data removed]",
      "text/plain": [
       "<Figure size 1152x288 with 4 Axes>"
      ]
     },
     "metadata": {},
     "output_type": "display_data"
    },
    {
     "data": {
      "image/png": "[encoded data removed]",
      "text/plain": [
       "<Figure size 1152x288 with 4 Axes>"
      ]
     },
     "metadata": {},
     "output_type": "display_data"
    },
    {
     "data": {
      "image/png": "[encoded data removed]",
      "text/plain": [
       "<Figure size 1152x288 with 4 Axes>"
      ]
     },
     "metadata": {},
     "output_type": "display_data"
    }
   ],
   "source": [
    "sorted_KL = avg_KL.sort_values(by='KL', ascending=True)\n",
    "most_diagnostic = sorted_KL.tail(5).problem.values\n",
    "\n",
    "for prob_idx in most_diagnostic[::-1]:\n",
    "    plot_problem(prob_idx)"
   ]
  },
  {
   "cell_type": "code",
   "execution_count": 17,
   "metadata": {},
   "outputs": [
    {
     "data": {
      "image/png": "[encoded data removed]",
      "text/plain": [
       "<Figure size 1152x288 with 4 Axes>"
      ]
     },
     "metadata": {},
     "output_type": "display_data"
    },
    {
     "data": {
      "image/png": "[encoded data removed]",
      "text/plain": [
       "<Figure size 1152x288 with 4 Axes>"
      ]
     },
     "metadata": {},
     "output_type": "display_data"
    },
    {
     "data": {
      "image/png": "[encoded data removed]",
      "text/plain": [
       "<Figure size 1152x288 with 4 Axes>"
      ]
     },
     "metadata": {},
     "output_type": "display_data"
    },
    {
     "data": {
      "image/png": "[encoded data removed]",
      "text/plain": [
       "<Figure size 1152x288 with 4 Axes>"
      ]
     },
     "metadata": {},
     "output_type": "display_data"
    },
    {
     "data": {
      "image/png": "[encoded data removed]",
      "text/plain": [
       "<Figure size 1152x288 with 4 Axes>"
      ]
     },
     "metadata": {},
     "output_type": "display_data"
    }
   ],
   "source": [
    "least_diagnostic = sorted_KL.head(5).problem.values\n",
    "\n",
    "for prob_idx in least_diagnostic:\n",
    "    plot_problem(prob_idx)"
   ]
  },
  {
   "cell_type": "markdown",
   "metadata": {},
   "source": [
    "## Sanity check: Do models diverge in problems where the right answer cannot be uniquely identified?"
   ]
  },
  {
   "cell_type": "markdown",
   "metadata": {},
   "source": [
    "Helper function: Does correct answer contain points that uniquely identify it?"
   ]
  },
  {
   "cell_type": "code",
   "execution_count": 18,
   "metadata": {},
   "outputs": [],
   "source": [
    "def problem_identifiability(prob_idx):\n",
    "\n",
    "    # convert each hypothesis into the indices of the black squares\n",
    "    prob = teach.problems[prob_idx]\n",
    "    _, values = list(zip(*prob.items()))\n",
    "    nonzero_idx = [np.ravel_multi_index(np.nonzero(p), (6,6)) for p in values]\n",
    "\n",
    "    # compare each alternative hypothesis against the true one\n",
    "    is_identifiable = True\n",
    "    for alt in nonzero_idx[1:]:\n",
    "        unique_points = np.setdiff1d(nonzero_idx[0], alt)\n",
    "        if not len(unique_points):\n",
    "            is_identifiable = False\n",
    "            break\n",
    "    \n",
    "    return is_identifiable"
   ]
  },
  {
   "cell_type": "code",
   "execution_count": 19,
   "metadata": {},
   "outputs": [
    {
     "data": {
      "text/html": [
       "<div>\n",
       "<style scoped>\n",
       "    .dataframe tbody tr th:only-of-type {\n",
       "        vertical-align: middle;\n",
       "    }\n",
       "\n",
       "    .dataframe tbody tr th {\n",
       "        vertical-align: top;\n",
       "    }\n",
       "\n",
       "    .dataframe thead th {\n",
       "        text-align: right;\n",
       "    }\n",
       "</style>\n",
       "<table border=\"1\" class=\"dataframe\">\n",
       "  <thead>\n",
       "    <tr style=\"text-align: right;\">\n",
       "      <th></th>\n",
       "      <th>problem</th>\n",
       "      <th>identifiable</th>\n",
       "      <th>KL</th>\n",
       "    </tr>\n",
       "  </thead>\n",
       "  <tbody>\n",
       "    <tr>\n",
       "      <th>0</th>\n",
       "      <td>0</td>\n",
       "      <td>True</td>\n",
       "      <td>0.139883</td>\n",
       "    </tr>\n",
       "    <tr>\n",
       "      <th>1</th>\n",
       "      <td>1</td>\n",
       "      <td>True</td>\n",
       "      <td>0.181885</td>\n",
       "    </tr>\n",
       "    <tr>\n",
       "      <th>2</th>\n",
       "      <td>2</td>\n",
       "      <td>False</td>\n",
       "      <td>0.000091</td>\n",
       "    </tr>\n",
       "    <tr>\n",
       "      <th>3</th>\n",
       "      <td>3</td>\n",
       "      <td>False</td>\n",
       "      <td>0.070523</td>\n",
       "    </tr>\n",
       "    <tr>\n",
       "      <th>4</th>\n",
       "      <td>4</td>\n",
       "      <td>False</td>\n",
       "      <td>0.000739</td>\n",
       "    </tr>\n",
       "  </tbody>\n",
       "</table>\n",
       "</div>"
      ],
      "text/plain": [
       "   problem  identifiable        KL\n",
       "0        0          True  0.139883\n",
       "1        1          True  0.181885\n",
       "2        2         False  0.000091\n",
       "3        3         False  0.070523\n",
       "4        4         False  0.000739"
      ]
     },
     "execution_count": 19,
     "metadata": {},
     "output_type": "execute_result"
    }
   ],
   "source": [
    "ident_df = pd.DataFrame([(idx, problem_identifiability(idx)) for idx in range(40)], columns=['problem', 'identifiable'])\n",
    "ident_df = ident_df.merge(avg_KL)\n",
    "ident_df.head()"
   ]
  },
  {
   "cell_type": "code",
   "execution_count": 20,
   "metadata": {},
   "outputs": [
    {
     "data": {
      "text/plain": [
       "<seaborn.axisgrid.FacetGrid at 0x2b2c17ef9490>"
      ]
     },
     "execution_count": 20,
     "metadata": {},
     "output_type": "execute_result"
    },
    {
     "data": {
      "image/png": "[encoded data removed]",
      "text/plain": [
       "<Figure size 474.575x360 with 1 Axes>"
      ]
     },
     "metadata": {},
     "output_type": "display_data"
    }
   ],
   "source": [
    "sns.displot(data=ident_df, x='KL', hue='identifiable', kind='kde')"
   ]
  },
  {
   "cell_type": "code",
   "execution_count": 21,
   "metadata": {},
   "outputs": [
    {
     "data": {
      "text/html": [
       "<div>\n",
       "<style scoped>\n",
       "    .dataframe tbody tr th:only-of-type {\n",
       "        vertical-align: middle;\n",
       "    }\n",
       "\n",
       "    .dataframe tbody tr th {\n",
       "        vertical-align: top;\n",
       "    }\n",
       "\n",
       "    .dataframe thead tr th {\n",
       "        text-align: left;\n",
       "    }\n",
       "\n",
       "    .dataframe thead tr:last-of-type th {\n",
       "        text-align: right;\n",
       "    }\n",
       "</style>\n",
       "<table border=\"1\" class=\"dataframe\">\n",
       "  <thead>\n",
       "    <tr>\n",
       "      <th></th>\n",
       "      <th>problem</th>\n",
       "      <th colspan=\"2\" halign=\"left\">KL</th>\n",
       "    </tr>\n",
       "    <tr>\n",
       "      <th></th>\n",
       "      <th>count</th>\n",
       "      <th>median</th>\n",
       "      <th>mean</th>\n",
       "    </tr>\n",
       "    <tr>\n",
       "      <th>identifiable</th>\n",
       "      <th></th>\n",
       "      <th></th>\n",
       "      <th></th>\n",
       "    </tr>\n",
       "  </thead>\n",
       "  <tbody>\n",
       "    <tr>\n",
       "      <th>False</th>\n",
       "      <td>25</td>\n",
       "      <td>0.015810</td>\n",
       "      <td>0.025507</td>\n",
       "    </tr>\n",
       "    <tr>\n",
       "      <th>True</th>\n",
       "      <td>15</td>\n",
       "      <td>0.048332</td>\n",
       "      <td>0.071829</td>\n",
       "    </tr>\n",
       "  </tbody>\n",
       "</table>\n",
       "</div>"
      ],
      "text/plain": [
       "             problem        KL          \n",
       "               count    median      mean\n",
       "identifiable                            \n",
       "False             25  0.015810  0.025507\n",
       "True              15  0.048332  0.071829"
      ]
     },
     "execution_count": 21,
     "metadata": {},
     "output_type": "execute_result"
    }
   ],
   "source": [
    "ident_df.groupby('identifiable').agg({'problem': 'count', 'KL': ['median', 'mean']})"
   ]
  },
  {
   "cell_type": "code",
   "execution_count": 22,
   "metadata": {},
   "outputs": [
    {
     "data": {
      "text/plain": [
       "MannwhitneyuResult(statistic=74.0, pvalue=0.0007972666021262133)"
      ]
     },
     "execution_count": 22,
     "metadata": {},
     "output_type": "execute_result"
    }
   ],
   "source": [
    "mannwhitneyu(ident_df[ident_df.identifiable == True].KL, ident_df[ident_df.identifiable == False].KL)"
   ]
  },
  {
   "cell_type": "markdown",
   "metadata": {},
   "source": [
    "Helper function: Size of true hypothesis"
   ]
  },
  {
   "cell_type": "code",
   "execution_count": 23,
   "metadata": {},
   "outputs": [],
   "source": [
    "def true_size(prob_idx):\n",
    "    prob = teach.problems[prob_idx]\n",
    "    h_true = prob['A']\n",
    "\n",
    "    return np.sum(h_true)"
   ]
  },
  {
   "cell_type": "code",
   "execution_count": 24,
   "metadata": {},
   "outputs": [
    {
     "data": {
      "text/html": [
       "<div>\n",
       "<style scoped>\n",
       "    .dataframe tbody tr th:only-of-type {\n",
       "        vertical-align: middle;\n",
       "    }\n",
       "\n",
       "    .dataframe tbody tr th {\n",
       "        vertical-align: top;\n",
       "    }\n",
       "\n",
       "    .dataframe thead th {\n",
       "        text-align: right;\n",
       "    }\n",
       "</style>\n",
       "<table border=\"1\" class=\"dataframe\">\n",
       "  <thead>\n",
       "    <tr style=\"text-align: right;\">\n",
       "      <th></th>\n",
       "      <th>problem</th>\n",
       "      <th>size</th>\n",
       "      <th>identifiable</th>\n",
       "      <th>KL</th>\n",
       "    </tr>\n",
       "  </thead>\n",
       "  <tbody>\n",
       "    <tr>\n",
       "      <th>0</th>\n",
       "      <td>0</td>\n",
       "      <td>24</td>\n",
       "      <td>True</td>\n",
       "      <td>0.139883</td>\n",
       "    </tr>\n",
       "    <tr>\n",
       "      <th>1</th>\n",
       "      <td>1</td>\n",
       "      <td>24</td>\n",
       "      <td>True</td>\n",
       "      <td>0.181885</td>\n",
       "    </tr>\n",
       "    <tr>\n",
       "      <th>2</th>\n",
       "      <td>2</td>\n",
       "      <td>4</td>\n",
       "      <td>False</td>\n",
       "      <td>0.000091</td>\n",
       "    </tr>\n",
       "    <tr>\n",
       "      <th>3</th>\n",
       "      <td>3</td>\n",
       "      <td>24</td>\n",
       "      <td>False</td>\n",
       "      <td>0.070523</td>\n",
       "    </tr>\n",
       "    <tr>\n",
       "      <th>4</th>\n",
       "      <td>4</td>\n",
       "      <td>12</td>\n",
       "      <td>False</td>\n",
       "      <td>0.000739</td>\n",
       "    </tr>\n",
       "  </tbody>\n",
       "</table>\n",
       "</div>"
      ],
      "text/plain": [
       "   problem  size  identifiable        KL\n",
       "0        0    24          True  0.139883\n",
       "1        1    24          True  0.181885\n",
       "2        2     4         False  0.000091\n",
       "3        3    24         False  0.070523\n",
       "4        4    12         False  0.000739"
      ]
     },
     "execution_count": 24,
     "metadata": {},
     "output_type": "execute_result"
    }
   ],
   "source": [
    "size_df = pd.DataFrame([(i, true_size(i)) for i in range(40)], columns=['problem', 'size'])\n",
    "size_df = size_df.merge(ident_df)\n",
    "size_df.head()"
   ]
  },
  {
   "cell_type": "code",
   "execution_count": 25,
   "metadata": {},
   "outputs": [
    {
     "data": {
      "text/plain": [
       "<seaborn.axisgrid.FacetGrid at 0x2b2c17901910>"
      ]
     },
     "execution_count": 25,
     "metadata": {},
     "output_type": "execute_result"
    },
    {
     "data": {
      "image/png": "[encoded data removed]",
      "text/plain": [
       "<Figure size 474.575x360 with 1 Axes>"
      ]
     },
     "metadata": {},
     "output_type": "display_data"
    }
   ],
   "source": [
    "sns.lmplot(data=size_df, x='size', y='KL', hue='identifiable')"
   ]
  },
  {
   "cell_type": "markdown",
   "metadata": {},
   "source": [
    "## Plot predictions for some diagnostic cases"
   ]
  },
  {
   "cell_type": "markdown",
   "metadata": {},
   "source": [
    "Find the most and least information-maximizing participants:"
   ]
  },
  {
   "cell_type": "code",
   "execution_count": 26,
   "metadata": {},
   "outputs": [
    {
     "data": {
      "text/html": [
       "<div>\n",
       "<style scoped>\n",
       "    .dataframe tbody tr th:only-of-type {\n",
       "        vertical-align: middle;\n",
       "    }\n",
       "\n",
       "    .dataframe tbody tr th {\n",
       "        vertical-align: top;\n",
       "    }\n",
       "\n",
       "    .dataframe thead th {\n",
       "        text-align: right;\n",
       "    }\n",
       "</style>\n",
       "<table border=\"1\" class=\"dataframe\">\n",
       "  <thead>\n",
       "    <tr style=\"text-align: right;\">\n",
       "      <th></th>\n",
       "      <th>subject</th>\n",
       "      <th>logBF</th>\n",
       "    </tr>\n",
       "  </thead>\n",
       "  <tbody>\n",
       "    <tr>\n",
       "      <th>19</th>\n",
       "      <td>22</td>\n",
       "      <td>-1.056438</td>\n",
       "    </tr>\n",
       "    <tr>\n",
       "      <th>5</th>\n",
       "      <td>7</td>\n",
       "      <td>-1.052788</td>\n",
       "    </tr>\n",
       "    <tr>\n",
       "      <th>25</th>\n",
       "      <td>28</td>\n",
       "      <td>-1.052788</td>\n",
       "    </tr>\n",
       "    <tr>\n",
       "      <th>7</th>\n",
       "      <td>9</td>\n",
       "      <td>-1.049076</td>\n",
       "    </tr>\n",
       "    <tr>\n",
       "      <th>13</th>\n",
       "      <td>15</td>\n",
       "      <td>-1.039509</td>\n",
       "    </tr>\n",
       "  </tbody>\n",
       "</table>\n",
       "</div>"
      ],
      "text/plain": [
       "    subject     logBF\n",
       "19       22 -1.056438\n",
       "5         7 -1.052788\n",
       "25       28 -1.052788\n",
       "7         9 -1.049076\n",
       "13       15 -1.039509"
      ]
     },
     "execution_count": 26,
     "metadata": {},
     "output_type": "execute_result"
    }
   ],
   "source": [
    "model_fits = pd.read_csv('outputs/second_level_model_regressors.csv').sort_values(by='logBF')\n",
    "model_fits.head()"
   ]
  },
  {
   "cell_type": "code",
   "execution_count": 27,
   "metadata": {},
   "outputs": [],
   "source": [
    "most_info = model_fits.subject.values[-1] # pick out extremes\n",
    "least_info = model_fits.subject.values[0]"
   ]
  },
  {
   "cell_type": "markdown",
   "metadata": {},
   "source": [
    "Helper: Plot predictions for a given problem"
   ]
  },
  {
   "cell_type": "code",
   "execution_count": 33,
   "metadata": {},
   "outputs": [
    {
     "data": {
      "image/png": "[encoded data removed]",
      "text/plain": [
       "<Figure size 864x576 with 6 Axes>"
      ]
     },
     "metadata": {},
     "output_type": "display_data"
    }
   ],
   "source": [
    "sub = most_info\n",
    "prob_idx = 1\n",
    "\n",
    "prob_data = model_df[(model_df.subject == sub) & (model_df.problem == prob_idx)]\n",
    "models = prob_data.model.unique()\n",
    "timepoints = prob_data.ex_idx.unique()\n",
    "\n",
    "fig, axes = plt.subplots(len(models), len(timepoints), figsize=(12, 8))\n",
    "for m_idx, m in enumerate(models):\n",
    "    model_data = prob_data[prob_data.model == m]\n",
    "    for _, row in model_data.iterrows():\n",
    "        pD = pd.DataFrame(row.pD, columns=['idx', 'A'])\n",
    "        pD = pD.set_index('idx')\n",
    "        \n",
    "        # plot heatmap\n",
    "        pD_mtx = teach.sampling_matrix(pD)\n",
    "        sns.heatmap(pD_mtx, cmap='viridis', cbar=False, square=True, ax=axes[m_idx, row.ex_idx])\n",
    "        axes[m_idx, row.ex_idx].set(xticklabels=[], yticklabels=[])\n",
    "        \n",
    "        if row.ex_idx == 0:\n",
    "            axes[m_idx, row.ex_idx].set(ylabel=m)\n",
    "            \n",
    "        if m_idx == 0:\n",
    "            axes[m_idx, row.ex_idx].set(title = f't = {row.ex_idx}')\n",
    "        \n",
    "        # draw square over cursor locations\n",
    "        start = np.unravel_index(row.cursor, (6,6))\n",
    "        end = np.unravel_index(row.example, (6,6))\n",
    "        \n",
    "        axes[m_idx, row.ex_idx].add_patch(patches.Rectangle(start[::-1], 1, 1, edgecolor='#e60000', lw=4, fill=None))\n",
    "        axes[m_idx, row.ex_idx].add_patch(patches.Rectangle(end[::-1], 1, 1, edgecolor='#63e8ff', lw=4, fill=None))\n",
    "        \n",
    "        # label figure\n",
    "        fig.suptitle(f'Participant {sub}, Problem {prob_idx}')"
   ]
  }
 ],
 "metadata": {
  "kernelspec": {
   "display_name": "Python [conda env:root] *",
   "language": "python",
   "name": "conda-root-py"
  },
  "language_info": {
   "codemirror_mode": {
    "name": "ipython",
    "version": 3
   },
   "file_extension": ".py",
   "mimetype": "text/x-python",
   "name": "python",
   "nbconvert_exporter": "python",
   "pygments_lexer": "ipython3",
   "version": "3.8.5"
  }
 },
 "nbformat": 4,
 "nbformat_minor": 4
}
