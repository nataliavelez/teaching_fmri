{
 "cells": [
  {
   "cell_type": "markdown",
   "metadata": {},
   "source": [
    "# Comparing students' bets against a pragmatic listener model\n",
    "Natalia Vélez, February 2022"
   ]
  },
  {
   "cell_type": "code",
   "execution_count": 1,
   "metadata": {},
   "outputs": [
    {
     "name": "stdout",
     "output_type": "stream",
     "text": [
      "Loading teaching problems\n",
      "{'A': [[0, 0, 1, 1, 0, 0],\n",
      "       [0, 1, 1, 1, 1, 0],\n",
      "       [1, 1, 1, 1, 1, 1],\n",
      "       [1, 1, 1, 1, 1, 1],\n",
      "       [0, 1, 1, 1, 1, 0],\n",
      "       [0, 0, 1, 1, 0, 0]],\n",
      " 'B': [[1, 1, 1, 0, 0, 0],\n",
      "       [1, 1, 1, 0, 0, 0],\n",
      "       [1, 1, 1, 1, 0, 0],\n",
      "       [0, 0, 1, 1, 0, 0],\n",
      "       [0, 0, 0, 0, 0, 0],\n",
      "       [0, 0, 0, 0, 0, 0]],\n",
      " 'C': [[0, 0, 0, 1, 1, 1],\n",
      "       [0, 0, 0, 1, 1, 1],\n",
      "       [0, 0, 1, 1, 1, 1],\n",
      "       [0, 0, 1, 1, 0, 0],\n",
      "       [0, 0, 0, 0, 0, 0],\n",
      "       [0, 0, 0, 0, 0, 0]],\n",
      " 'D': [[0, 0, 0, 0, 0, 0],\n",
      "       [0, 0, 0, 0, 0, 0],\n",
      "       [0, 0, 1, 1, 0, 0],\n",
      "       [1, 1, 1, 1, 1, 1],\n",
      "       [1, 1, 1, 1, 1, 1],\n",
      "       [1, 1, 1, 1, 1, 1]]}\n",
      "Participants excluded from analysis:\n",
      "[3, 17]\n",
      "Cleaning up human behavioral data\n",
      "    subject  run  block_idx  ex_idx first_movement   start  problem  \\\n",
      "0         1    1          0       0         [0, 1]  [0, 0]       22   \n",
      "1         1    1          0       1         [0, 1]  [0, 0]       22   \n",
      "3         1    1          1       0         [0, 4]  [0, 5]       18   \n",
      "4         1    1          1       1         [0, 4]  [0, 5]       18   \n",
      "5         1    1          1       2         [0, 4]  [0, 5]       18   \n",
      "6         1    1          2       0         [5, 4]  [5, 5]        1   \n",
      "7         1    1          2       1         [5, 4]  [5, 5]        1   \n",
      "8         1    1          2       2         [5, 4]  [5, 5]        1   \n",
      "10        1    1          3       1         [5, 1]  [5, 0]       16   \n",
      "11        1    1          3       2         [5, 1]  [5, 0]       16   \n",
      "12        1    2          0       0         [0, 1]  [0, 0]       20   \n",
      "13        1    2          0       1         [0, 1]  [0, 0]       20   \n",
      "14        1    2          0       2         [0, 1]  [0, 0]       20   \n",
      "16        1    2          1       1         [5, 4]  [5, 5]       28   \n",
      "17        1    2          1       2         [5, 4]  [5, 5]       28   \n",
      "\n",
      "                   order  example cursor_coords example_coords  cursor  \n",
      "0   ['C', 'B', 'D', 'A']        8        [0, 0]         [1, 2]       0  \n",
      "1   ['C', 'B', 'D', 'A']       27        [1, 2]         [4, 3]       8  \n",
      "3   ['D', 'B', 'C', 'A']        3        [0, 5]         [0, 3]       5  \n",
      "4   ['D', 'B', 'C', 'A']       32        [0, 3]         [5, 2]       3  \n",
      "5   ['D', 'B', 'C', 'A']        7        [5, 2]         [1, 1]      32  \n",
      "6   ['A', 'D', 'C', 'B']       31        [5, 5]         [5, 1]      35  \n",
      "7   ['A', 'D', 'C', 'B']        1        [5, 1]         [0, 1]      31  \n",
      "8   ['A', 'D', 'C', 'B']        4        [0, 1]         [0, 4]       1  \n",
      "10  ['B', 'C', 'A', 'D']       27        [5, 0]         [4, 3]      30  \n",
      "11  ['B', 'C', 'A', 'D']        8        [4, 3]         [1, 2]      27  \n",
      "12  ['D', 'C', 'A', 'B']        9        [0, 0]         [1, 3]       0  \n",
      "13  ['D', 'C', 'A', 'B']       19        [1, 3]         [3, 1]       9  \n",
      "14  ['D', 'C', 'A', 'B']       21        [3, 1]         [3, 3]      19  \n",
      "16  ['C', 'D', 'B', 'A']       10        [5, 5]         [1, 4]      35  \n",
      "17  ['C', 'D', 'B', 'A']       26        [1, 4]         [4, 2]      10  \n"
     ]
    }
   ],
   "source": [
    "%matplotlib inline\n",
    "import os,sys\n",
    "import pandas as pd\n",
    "import numpy as np\n",
    "from ast import literal_eval\n",
    "import matplotlib.pyplot as plt\n",
    "import seaborn as sns\n",
    "from scipy.spatial import distance\n",
    "from os.path import join as opj\n",
    "import rsatoolbox\n",
    "from scipy.stats import spearmanr, ttest_rel\n",
    "\n",
    "sys.path.append('..')\n",
    "from utils import int_extract, read_json\n",
    "\n",
    "sys.path.append('../2_behavioral/')\n",
    "import teaching_models as teach\n",
    "\n",
    "sns.set_style('white')\n",
    "sns.set_context('talk')"
   ]
  },
  {
   "cell_type": "markdown",
   "metadata": {},
   "source": [
    "Load student data:"
   ]
  },
  {
   "cell_type": "code",
   "execution_count": 2,
   "metadata": {},
   "outputs": [
    {
     "name": "stdout",
     "output_type": "stream",
     "text": [
      "Loaded data from 140/140 students\n"
     ]
    },
    {
     "data": {
      "text/html": [
       "<div>\n",
       "<style scoped>\n",
       "    .dataframe tbody tr th:only-of-type {\n",
       "        vertical-align: middle;\n",
       "    }\n",
       "\n",
       "    .dataframe tbody tr th {\n",
       "        vertical-align: top;\n",
       "    }\n",
       "\n",
       "    .dataframe thead th {\n",
       "        text-align: right;\n",
       "    }\n",
       "</style>\n",
       "<table border=\"1\" class=\"dataframe\">\n",
       "  <thead>\n",
       "    <tr style=\"text-align: right;\">\n",
       "      <th></th>\n",
       "      <th>time_elapsed</th>\n",
       "      <th>teacher</th>\n",
       "      <th>problem</th>\n",
       "      <th>num_trial</th>\n",
       "      <th>num_hint</th>\n",
       "      <th>bets</th>\n",
       "      <th>bonus</th>\n",
       "      <th>trial_order</th>\n",
       "      <th>batch</th>\n",
       "      <th>student</th>\n",
       "    </tr>\n",
       "  </thead>\n",
       "  <tbody>\n",
       "    <tr>\n",
       "      <th>0</th>\n",
       "      <td>181304</td>\n",
       "      <td>4</td>\n",
       "      <td>34</td>\n",
       "      <td>0.0</td>\n",
       "      <td>1</td>\n",
       "      <td>[0, 35, 41, 48]</td>\n",
       "      <td>0.013777</td>\n",
       "      <td>0</td>\n",
       "      <td>2022-02-02-1303</td>\n",
       "      <td>1</td>\n",
       "    </tr>\n",
       "    <tr>\n",
       "      <th>1</th>\n",
       "      <td>192911</td>\n",
       "      <td>4</td>\n",
       "      <td>34</td>\n",
       "      <td>0.0</td>\n",
       "      <td>2</td>\n",
       "      <td>[0, 50, 49, 0]</td>\n",
       "      <td>0.020623</td>\n",
       "      <td>0</td>\n",
       "      <td>2022-02-02-1303</td>\n",
       "      <td>1</td>\n",
       "    </tr>\n",
       "    <tr>\n",
       "      <th>2</th>\n",
       "      <td>203582</td>\n",
       "      <td>4</td>\n",
       "      <td>34</td>\n",
       "      <td>0.0</td>\n",
       "      <td>3</td>\n",
       "      <td>[0, 0, 100, 0]</td>\n",
       "      <td>0.041667</td>\n",
       "      <td>0</td>\n",
       "      <td>2022-02-02-1303</td>\n",
       "      <td>1</td>\n",
       "    </tr>\n",
       "    <tr>\n",
       "      <th>3</th>\n",
       "      <td>223655</td>\n",
       "      <td>27</td>\n",
       "      <td>15</td>\n",
       "      <td>1.0</td>\n",
       "      <td>1</td>\n",
       "      <td>[0, 52, 50, 48]</td>\n",
       "      <td>0.014444</td>\n",
       "      <td>0</td>\n",
       "      <td>2022-02-02-1303</td>\n",
       "      <td>1</td>\n",
       "    </tr>\n",
       "    <tr>\n",
       "      <th>4</th>\n",
       "      <td>232054</td>\n",
       "      <td>27</td>\n",
       "      <td>15</td>\n",
       "      <td>1.0</td>\n",
       "      <td>2</td>\n",
       "      <td>[0, 52, 50, 0]</td>\n",
       "      <td>0.021242</td>\n",
       "      <td>0</td>\n",
       "      <td>2022-02-02-1303</td>\n",
       "      <td>1</td>\n",
       "    </tr>\n",
       "  </tbody>\n",
       "</table>\n",
       "</div>"
      ],
      "text/plain": [
       "   time_elapsed  teacher  problem  num_trial  num_hint             bets  \\\n",
       "0        181304        4       34        0.0         1  [0, 35, 41, 48]   \n",
       "1        192911        4       34        0.0         2   [0, 50, 49, 0]   \n",
       "2        203582        4       34        0.0         3   [0, 0, 100, 0]   \n",
       "3        223655       27       15        1.0         1  [0, 52, 50, 48]   \n",
       "4        232054       27       15        1.0         2   [0, 52, 50, 0]   \n",
       "\n",
       "      bonus  trial_order            batch  student  \n",
       "0  0.013777            0  2022-02-02-1303        1  \n",
       "1  0.020623            0  2022-02-02-1303        1  \n",
       "2  0.041667            0  2022-02-02-1303        1  \n",
       "3  0.014444            0  2022-02-02-1303        1  \n",
       "4  0.021242            0  2022-02-02-1303        1  "
      ]
     },
     "execution_count": 2,
     "metadata": {},
     "output_type": "execute_result"
    }
   ],
   "source": [
    "student_df = pd.read_csv('outputs/student_behavior.csv')\n",
    "student_df['num_hint'] = (student_df['num_hint'] + 1).astype(int)\n",
    "student_df['problem'] = student_df['problem'].astype(int)\n",
    "student_df['teacher'] = student_df.teacher.apply(lambda s: int_extract('(?<=sub-)[0-9]+', s))\n",
    "student_df['bets'] = student_df.bets.apply(literal_eval)\n",
    "student_df['student'] = student_df.worker.factorize()[0]+1\n",
    "student_df = student_df.drop(columns=['worker'])\n",
    "\n",
    "student_df = student_df.rename(columns={'order': 'trial_order'})\n",
    "\n",
    "print('Loaded data from %i/140 students' % student_df.student.nunique())\n",
    "student_df.head()"
   ]
  },
  {
   "cell_type": "markdown",
   "metadata": {},
   "source": [
    "Merge with teacher examples:"
   ]
  },
  {
   "cell_type": "code",
   "execution_count": 3,
   "metadata": {},
   "outputs": [
    {
     "data": {
      "text/html": [
       "<div>\n",
       "<style scoped>\n",
       "    .dataframe tbody tr th:only-of-type {\n",
       "        vertical-align: middle;\n",
       "    }\n",
       "\n",
       "    .dataframe tbody tr th {\n",
       "        vertical-align: top;\n",
       "    }\n",
       "\n",
       "    .dataframe thead th {\n",
       "        text-align: right;\n",
       "    }\n",
       "</style>\n",
       "<table border=\"1\" class=\"dataframe\">\n",
       "  <thead>\n",
       "    <tr style=\"text-align: right;\">\n",
       "      <th></th>\n",
       "      <th>teacher</th>\n",
       "      <th>problem</th>\n",
       "      <th>order</th>\n",
       "      <th>num_hint</th>\n",
       "      <th>example</th>\n",
       "    </tr>\n",
       "  </thead>\n",
       "  <tbody>\n",
       "    <tr>\n",
       "      <th>0</th>\n",
       "      <td>1</td>\n",
       "      <td>22</td>\n",
       "      <td>[C, B, D, A]</td>\n",
       "      <td>1</td>\n",
       "      <td>8</td>\n",
       "    </tr>\n",
       "    <tr>\n",
       "      <th>1</th>\n",
       "      <td>1</td>\n",
       "      <td>22</td>\n",
       "      <td>[C, B, D, A]</td>\n",
       "      <td>2</td>\n",
       "      <td>27</td>\n",
       "    </tr>\n",
       "    <tr>\n",
       "      <th>3</th>\n",
       "      <td>1</td>\n",
       "      <td>18</td>\n",
       "      <td>[D, B, C, A]</td>\n",
       "      <td>1</td>\n",
       "      <td>3</td>\n",
       "    </tr>\n",
       "    <tr>\n",
       "      <th>4</th>\n",
       "      <td>1</td>\n",
       "      <td>18</td>\n",
       "      <td>[D, B, C, A]</td>\n",
       "      <td>2</td>\n",
       "      <td>32</td>\n",
       "    </tr>\n",
       "    <tr>\n",
       "      <th>5</th>\n",
       "      <td>1</td>\n",
       "      <td>18</td>\n",
       "      <td>[D, B, C, A]</td>\n",
       "      <td>3</td>\n",
       "      <td>7</td>\n",
       "    </tr>\n",
       "  </tbody>\n",
       "</table>\n",
       "</div>"
      ],
      "text/plain": [
       "   teacher  problem         order  num_hint  example\n",
       "0        1       22  [C, B, D, A]         1        8\n",
       "1        1       22  [C, B, D, A]         2       27\n",
       "3        1       18  [D, B, C, A]         1        3\n",
       "4        1       18  [D, B, C, A]         2       32\n",
       "5        1       18  [D, B, C, A]         3        7"
      ]
     },
     "execution_count": 3,
     "metadata": {},
     "output_type": "execute_result"
    }
   ],
   "source": [
    "# Behavioral data\n",
    "teacher_examples = (\n",
    "    teach.human_df\n",
    "    .copy()\n",
    "    .rename(columns={'subject': 'teacher'})\n",
    ")\n",
    "teacher_examples['dummy'] = 1\n",
    "teacher_examples.head()\n",
    "\n",
    "# replace ex_idx with cumulative index\n",
    "teacher_examples['order'] = teacher_examples.order.apply(literal_eval)\n",
    "teacher_examples['num_hint'] = teacher_examples.groupby(['teacher', 'problem'])['dummy'].cumsum()\n",
    "teacher_examples = teacher_examples[['teacher', 'problem', 'order', 'num_hint', 'example']]\n",
    "teacher_examples.head()"
   ]
  },
  {
   "cell_type": "markdown",
   "metadata": {},
   "source": [
    "Merge with student data:"
   ]
  },
  {
   "cell_type": "code",
   "execution_count": 4,
   "metadata": {},
   "outputs": [
    {
     "data": {
      "text/html": [
       "<div>\n",
       "<style scoped>\n",
       "    .dataframe tbody tr th:only-of-type {\n",
       "        vertical-align: middle;\n",
       "    }\n",
       "\n",
       "    .dataframe tbody tr th {\n",
       "        vertical-align: top;\n",
       "    }\n",
       "\n",
       "    .dataframe thead th {\n",
       "        text-align: right;\n",
       "    }\n",
       "</style>\n",
       "<table border=\"1\" class=\"dataframe\">\n",
       "  <thead>\n",
       "    <tr style=\"text-align: right;\">\n",
       "      <th></th>\n",
       "      <th>student</th>\n",
       "      <th>problem</th>\n",
       "      <th>teacher</th>\n",
       "      <th>t</th>\n",
       "      <th>hypothesis</th>\n",
       "      <th>bet</th>\n",
       "    </tr>\n",
       "  </thead>\n",
       "  <tbody>\n",
       "    <tr>\n",
       "      <th>0</th>\n",
       "      <td>1</td>\n",
       "      <td>0</td>\n",
       "      <td>15</td>\n",
       "      <td>1</td>\n",
       "      <td>A</td>\n",
       "      <td>0.433566</td>\n",
       "    </tr>\n",
       "    <tr>\n",
       "      <th>1</th>\n",
       "      <td>1</td>\n",
       "      <td>0</td>\n",
       "      <td>15</td>\n",
       "      <td>1</td>\n",
       "      <td>B</td>\n",
       "      <td>0.566434</td>\n",
       "    </tr>\n",
       "    <tr>\n",
       "      <th>2</th>\n",
       "      <td>1</td>\n",
       "      <td>0</td>\n",
       "      <td>15</td>\n",
       "      <td>1</td>\n",
       "      <td>C</td>\n",
       "      <td>0.000000</td>\n",
       "    </tr>\n",
       "    <tr>\n",
       "      <th>3</th>\n",
       "      <td>1</td>\n",
       "      <td>0</td>\n",
       "      <td>15</td>\n",
       "      <td>1</td>\n",
       "      <td>D</td>\n",
       "      <td>0.000000</td>\n",
       "    </tr>\n",
       "    <tr>\n",
       "      <th>4</th>\n",
       "      <td>1</td>\n",
       "      <td>0</td>\n",
       "      <td>15</td>\n",
       "      <td>2</td>\n",
       "      <td>A</td>\n",
       "      <td>1.000000</td>\n",
       "    </tr>\n",
       "  </tbody>\n",
       "</table>\n",
       "</div>"
      ],
      "text/plain": [
       "   student  problem  teacher  t hypothesis       bet\n",
       "0        1        0       15  1          A  0.433566\n",
       "1        1        0       15  1          B  0.566434\n",
       "2        1        0       15  1          C  0.000000\n",
       "3        1        0       15  1          D  0.000000\n",
       "4        1        0       15  2          A  1.000000"
      ]
     },
     "execution_count": 4,
     "metadata": {},
     "output_type": "execute_result"
    }
   ],
   "source": [
    "def normalize_bets(row):\n",
    "    '''\n",
    "    Helper function to ensure that bets add up to 1\n",
    "    '''\n",
    "    bets_norm = np.array(row.bets)/np.sum(row.bets)\n",
    "    bets_sorted = [b for _, b in sorted(zip(row.order, bets_norm))]\n",
    "    \n",
    "    return bets_sorted\n",
    "\n",
    "labels = ['A', 'B', 'C', 'D']\n",
    "\n",
    "# merge data\n",
    "student_bets = student_df.merge(teacher_examples).rename(columns={'num_hint': 't'})\n",
    "student_bets = student_bets.sort_values(by=['batch', 'student', 'time_elapsed']).reset_index(drop=True)\n",
    "\n",
    "# order bets and split into columns\n",
    "student_bets['bets_norm'] = student_bets.apply(normalize_bets, axis=1)\n",
    "student_bets[labels] = student_bets['bets_norm'].apply(pd.Series)\n",
    "\n",
    "# clean up dataframe\n",
    "id_vars = ['student', 'problem', 'teacher', 't']\n",
    "student_bets = student_bets[id_vars + labels]\n",
    "student_bets = pd.melt(student_bets, id_vars=id_vars, value_vars=labels, var_name='hypothesis', value_name='bet')\n",
    "student_bets = student_bets.sort_values(by=['student', 'problem', 't']).reset_index(drop=True)\n",
    "student_bets.head()"
   ]
  },
  {
   "cell_type": "markdown",
   "metadata": {},
   "source": [
    "## Plot student bets"
   ]
  },
  {
   "cell_type": "code",
   "execution_count": 34,
   "metadata": {},
   "outputs": [],
   "source": [
    "def plot_problem(prob_idx):\n",
    "    problem = teach.problems[prob_idx]\n",
    "    labels = list(problem.keys())\n",
    "    prob_arr = np.array(list(problem.values()))\n",
    "    \n",
    "    fig,axes=plt.subplots(1,prob_arr.shape[0], figsize=(12,3))\n",
    "    for i,arr in enumerate(prob_arr):\n",
    "        sns.heatmap(arr, square=True, cmap='Greys', cbar=False, ax=axes[i], lw=1, linecolor='#aaa')\n",
    "        axes[i].set(xticklabels=[], yticklabels=[], title=labels[i])\n",
    "\n",
    "    return fig"
   ]
  },
  {
   "cell_type": "code",
   "execution_count": 40,
   "metadata": {},
   "outputs": [
    {
     "data": {
      "image/png": "[encoded data removed]",
      "text/plain": [
       "<Figure size 864x216 with 4 Axes>"
      ]
     },
     "metadata": {},
     "output_type": "display_data"
    }
   ],
   "source": [
    "fig=plot_problem(20)"
   ]
  },
  {
   "cell_type": "code",
   "execution_count": 5,
   "metadata": {},
   "outputs": [],
   "source": [
    "def plot_bets(prob, teacher):\n",
    "    prob_bets = student_bets[(student_bets.problem == prob) & (student_bets.teacher == teacher)]\n",
    "\n",
    "    g = sns.catplot(data=prob_bets, x='hypothesis', y='bet', col='t', hue='student', \n",
    "                    kind='bar', legend=False, palette='Set2', aspect=.8)\n",
    "    g.set_axis_labels('Hypothesis', 'Posterior belief')\n",
    "    g.fig.suptitle(f'Teacher {teacher}, Problem {prob}', y=1.05)\n",
    "    return g"
   ]
  },
  {
   "cell_type": "code",
   "execution_count": 52,
   "metadata": {},
   "outputs": [
    {
     "data": {
      "text/plain": [
       "<seaborn.axisgrid.FacetGrid at 0x2af6693dbf10>"
      ]
     },
     "execution_count": 52,
     "metadata": {},
     "output_type": "execute_result"
    },
    {
     "data": {
      "image/png": "[encoded data removed]",
      "text/plain": [
       "<Figure size 864x360 with 3 Axes>"
      ]
     },
     "metadata": {},
     "output_type": "display_data"
    }
   ],
   "source": [
    "plot_bets(20, 10)"
   ]
  },
  {
   "cell_type": "markdown",
   "metadata": {},
   "source": [
    "Pedagogical model predictions:"
   ]
  },
  {
   "cell_type": "code",
   "execution_count": 53,
   "metadata": {},
   "outputs": [],
   "source": [
    "def pragmatic_beliefs(prob, teacher):\n",
    "\n",
    "    prob_ex = teacher_examples[(teacher_examples.problem == prob) & (teacher_examples.teacher == teacher)]\n",
    "\n",
    "    belief_list = []\n",
    "    pH = None\n",
    "    past_examples = []\n",
    "\n",
    "    # get model predictions at each timestep\n",
    "    for _,row in prob_ex.iterrows():\n",
    "        _, pH = teach.pedagogical_sampling(prob,past_examples=past_examples,last_pH=pH)\n",
    "        past_examples.append(row.example)\n",
    "        belief_list.append(pH.loc[row.example])    \n",
    "    belief_df = pd.DataFrame(belief_list).fillna(0)\n",
    "\n",
    "    # save to dataframe\n",
    "    belief_df['t'] = prob_ex['num_hint'].values\n",
    "    belief_df['problem'] = prob\n",
    "    belief_df['teacher'] = teacher\n",
    "    belief_df['model'] = 'pragmatic'\n",
    "    belief_df = (\n",
    "        belief_df\n",
    "        .melt(id_vars=['model', 'teacher', 'problem', 't'], value_vars=labels, \n",
    "              var_name='hypothesis', value_name='posterior')\n",
    "        .sort_values(by=['teacher', 'problem', 't', 'hypothesis'])\n",
    "        .reset_index(drop=True)\n",
    "    )\n",
    "    \n",
    "    return belief_df"
   ]
  },
  {
   "cell_type": "markdown",
   "metadata": {},
   "source": [
    "Literal model predictions:"
   ]
  },
  {
   "cell_type": "code",
   "execution_count": 54,
   "metadata": {},
   "outputs": [],
   "source": [
    "def literal_beliefs(prob, teacher):\n",
    "\n",
    "    prob_ex = teacher_examples[(teacher_examples.problem == prob) & (teacher_examples.teacher == teacher)]\n",
    "\n",
    "    belief_list = []\n",
    "    past_examples = []\n",
    "\n",
    "    # get model predictions at each timestep\n",
    "    for _, row in prob_ex.iterrows():\n",
    "        pH = teach.filter_consistent_examples(prob, past_examples=past_examples)\n",
    "        pH = pH.div(pH.sum(axis=1), axis=0)\n",
    "        past_examples.append(row.example)\n",
    "        belief_list.append(pH.loc[row.example])    \n",
    "\n",
    "    belief_df = pd.DataFrame(belief_list).fillna(0)\n",
    "\n",
    "    # save to dataframe\n",
    "    belief_df['t'] = prob_ex['num_hint'].values\n",
    "    belief_df['problem'] = prob\n",
    "    belief_df['teacher'] = teacher\n",
    "    belief_df['model'] = 'literal'\n",
    "    belief_df = (\n",
    "        belief_df\n",
    "        .melt(id_vars=['model', 'teacher', 'problem', 't'], value_vars=labels, \n",
    "              var_name='hypothesis', value_name='posterior')\n",
    "        .sort_values(by=['teacher', 'problem', 't', 'hypothesis'])\n",
    "        .reset_index(drop=True)\n",
    "    )\n",
    "    \n",
    "    return belief_df"
   ]
  },
  {
   "cell_type": "code",
   "execution_count": 56,
   "metadata": {},
   "outputs": [
    {
     "data": {
      "image/png": "[encoded data removed]",
      "text/plain": [
       "<Figure size 450x720 with 2 Axes>"
      ]
     },
     "metadata": {},
     "output_type": "display_data"
    }
   ],
   "source": [
    "prag = pragmatic_beliefs(20, 10)\n",
    "lit = literal_beliefs(20, 10)\n",
    "model_test = pd.concat([prag,lit])\n",
    "model_test = model_test[model_test.t == 3]\n",
    "\n",
    "g = sns.catplot(data=model_test, row='model', x='hypothesis', y='posterior', kind='bar', color='#333', aspect=1.25)"
   ]
  },
  {
   "cell_type": "markdown",
   "metadata": {},
   "source": [
    " ## Make RDMs"
   ]
  },
  {
   "cell_type": "markdown",
   "metadata": {},
   "source": [
    "### 1) Behavioral RDM"
   ]
  },
  {
   "cell_type": "code",
   "execution_count": null,
   "metadata": {},
   "outputs": [],
   "source": [
    "def student_rdm(stud):\n",
    "    # initialize output\n",
    "    rdm = np.zeros((40,40))\n",
    "\n",
    "    # split dataframe by timepoint\n",
    "    in_df = stud.copy()\n",
    "    in_df['group_id'] = in_df.groupby(['problem', 't']).ngroup()\n",
    "    n_groups = in_df.group_id.nunique()\n",
    "\n",
    "    # compare belief distributions at each timepoint\n",
    "    rdm = np.zeros((n_groups, n_groups))\n",
    "    for gi in range(n_groups):\n",
    "        gi_belief = in_df[in_df.group_id == gi].bet\n",
    "        for gj in range(gi+1, n_groups):\n",
    "            # compute cosine distances\n",
    "            gj_belief = in_df[in_df.group_id == gj].bet\n",
    "            gi_gj = distance.cosine(gi_belief, gj_belief)\n",
    "\n",
    "            # save to rdm\n",
    "            rdm[gi,gj] = gi_gj\n",
    "            rdm[gj,gi] = gi_gj\n",
    "    return rdm"
   ]
  },
  {
   "cell_type": "markdown",
   "metadata": {},
   "source": [
    "### 2) Model-based RDMs"
   ]
  },
  {
   "cell_type": "markdown",
   "metadata": {},
   "source": [
    "Make dataframe of all model predictions:"
   ]
  },
  {
   "cell_type": "code",
   "execution_count": null,
   "metadata": {},
   "outputs": [],
   "source": [
    "model_list = []\n",
    "for (problem, teacher), _ in student_bets.groupby(['problem', 'teacher']):\n",
    "    prag = pragmatic_beliefs(problem, teacher)\n",
    "    lit = literal_beliefs(problem, teacher)\n",
    "    model_list.append(prag)\n",
    "    model_list.append(lit)\n",
    "\n",
    "model_df = pd.concat(model_list)\n",
    "print(model_df.shape)\n",
    "model_df.head()"
   ]
  },
  {
   "cell_type": "markdown",
   "metadata": {},
   "source": [
    "Save model predictions to file to save some time"
   ]
  },
  {
   "cell_type": "code",
   "execution_count": null,
   "metadata": {},
   "outputs": [],
   "source": [
    "model_df.to_csv('outputs/model_posteriors.csv', index=False)"
   ]
  },
  {
   "cell_type": "markdown",
   "metadata": {},
   "source": [
    "Use model predictions to make a participant-specific RDM:"
   ]
  },
  {
   "cell_type": "code",
   "execution_count": null,
   "metadata": {},
   "outputs": [],
   "source": [
    " def model_rdm(stud, model):\n",
    "    model_in = model_df[model_df.model == model].copy()\n",
    "\n",
    "    # split human data by timepoint\n",
    "    human_df = stud.copy()\n",
    "    human_df['group_id'] = human_df.groupby(['problem', 't']).ngroup()\n",
    "    n_groups = human_df.group_id.nunique()\n",
    "    in_df = human_df.merge(model_in)\n",
    "    \n",
    "    # initialize rdms\n",
    "    model_rdm = np.zeros((n_groups,n_groups))\n",
    "\n",
    "    # compare belief distributions at each timepoint\n",
    "    for gi in range(n_groups):\n",
    "        gi_belief = in_df[in_df.group_id == gi].posterior\n",
    "        for gj in range(gi+1, n_groups):\n",
    "            # compute cosine distances\n",
    "            gj_belief = in_df[in_df.group_id == gj].posterior\n",
    "            gi_gj = distance.cosine(gi_belief, gj_belief)\n",
    "\n",
    "            # save to rdm\n",
    "            model_rdm[gi,gj] = gi_gj\n",
    "            model_rdm[gj,gi] = gi_gj\n",
    "            \n",
    "    return model_rdm"
   ]
  },
  {
   "cell_type": "markdown",
   "metadata": {},
   "source": [
    "Plot RDMs for a single participant:"
   ]
  },
  {
   "cell_type": "code",
   "execution_count": null,
   "metadata": {},
   "outputs": [],
   "source": [
    "def plot_rdms(behav_rdm, prag_rdm, lit_rdm):\n",
    "    fig,axes=plt.subplots(1,3,figsize=(15,4))\n",
    "    sns.heatmap(behav_rdm, square=True, ax=axes[0], vmin=0, vmax=1, cmap='magma')\n",
    "    axes[0].set(xticklabels=[], yticklabels=[], title='Data')\n",
    "\n",
    "    sns.heatmap(prag_rdm, square=True, ax=axes[1], vmin=0, vmax=1, cmap='magma')\n",
    "    axes[1].set(xticklabels=[], yticklabels=[], title='Pragmatic student')\n",
    "\n",
    "    sns.heatmap(lit_rdm, square=True, ax=axes[2], vmin=0, vmax=1, cmap='magma')\n",
    "    axes[2].set(xticklabels=[], yticklabels=[], title='Literal student')\n",
    "    \n",
    "    return fig"
   ]
  },
  {
   "cell_type": "markdown",
   "metadata": {},
   "source": [
    "Main loop: Make RDMs for all participants"
   ]
  },
  {
   "cell_type": "code",
   "execution_count": null,
   "metadata": {},
   "outputs": [],
   "source": [
    "out_dir = 'outputs/rdm'\n",
    "os.makedirs(out_dir, exist_ok=True)\n",
    "corr_list = []\n",
    "\n",
    "for student,group in student_bets.groupby('student'):\n",
    "    behav_mtx = student_rdm(group)\n",
    "    prag_mtx = model_rdm(group, 'pragmatic')\n",
    "    lit_mtx = model_rdm(group, 'literal')\n",
    "\n",
    "    # Compare RDMs\n",
    "    tri=np.tril_indices(behav_mtx.shape[0],-1)\n",
    "    vs_prag = spearmanr(behav_mtx[tri], prag_mtx[tri]).correlation\n",
    "    vs_lit = spearmanr(behav_mtx[tri], lit_mtx[tri]).correlation\n",
    "    corr_list.append((student, vs_prag, vs_lit))\n",
    "\n",
    "    # Save RDMs\n",
    "    np.save(f'outputs/rdm/student-{student:03d}_rdm.npy', np.array([behav_mtx, prag_mtx, lit_mtx]))\n",
    "    fig = plot_rdms(behav_mtx, prag_mtx, lit_mtx)\n",
    "    plt.savefig(f'plots/rdm/student-{student:03d}_rdm.png')\n",
    "    plt.close()\n",
    "    \n",
    "corr_df = pd.DataFrame(corr_list, columns=['student', 'pragmatic', 'literal'])\n",
    "corr_df.to_csv('outputs/student_rdms.csv', index=False)"
   ]
  },
  {
   "cell_type": "markdown",
   "metadata": {},
   "source": [
    "Compare similarities to pragmatic, literal student predictions:"
   ]
  },
  {
   "cell_type": "code",
   "execution_count": null,
   "metadata": {},
   "outputs": [],
   "source": [
    "corr_df[['pragmatic_z', 'literal_z']] = np.arctanh(corr_df[['pragmatic', 'literal']])\n",
    "print(corr_df.shape)\n",
    "corr_df.head()"
   ]
  },
  {
   "cell_type": "code",
   "execution_count": null,
   "metadata": {},
   "outputs": [],
   "source": [
    "corr_df[['pragmatic', 'literal']].agg('mean')"
   ]
  },
  {
   "cell_type": "code",
   "execution_count": null,
   "metadata": {},
   "outputs": [],
   "source": [
    "ttest_rel(corr_df.pragmatic_z, corr_df.literal_z)"
   ]
  },
  {
   "cell_type": "code",
   "execution_count": null,
   "metadata": {},
   "outputs": [],
   "source": []
  }
 ],
 "metadata": {
  "kernelspec": {
   "display_name": "Python 3",
   "language": "python",
   "name": "python3"
  },
  "language_info": {
   "codemirror_mode": {
    "name": "ipython",
    "version": 3
   },
   "file_extension": ".py",
   "mimetype": "text/x-python",
   "name": "python",
   "nbconvert_exporter": "python",
   "pygments_lexer": "ipython3",
   "version": "3.8.5"
  }
 },
 "nbformat": 4,
 "nbformat_minor": 4
}
