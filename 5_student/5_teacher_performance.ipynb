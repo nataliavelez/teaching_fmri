{
 "cells": [
  {
   "cell_type": "markdown",
   "metadata": {},
   "source": [
    "# Teacher performance\n",
    "Natalia Vélez, March 2022"
   ]
  },
  {
   "cell_type": "code",
   "execution_count": 1,
   "metadata": {},
   "outputs": [],
   "source": [
    "%matplotlib inline\n",
    "\n",
    "import os, sys\n",
    "import numpy as np\n",
    "import pandas as pd\n",
    "import matplotlib.pyplot as plt\n",
    "import seaborn as sns\n",
    "\n",
    "sys.path.append('..')\n",
    "from utils import read_json\n",
    "\n",
    "sns.set_context('talk')\n",
    "sns.set_style('white')"
   ]
  },
  {
   "cell_type": "markdown",
   "metadata": {},
   "source": [
    "Load model comparison results:"
   ]
  },
  {
   "cell_type": "code",
   "execution_count": 2,
   "metadata": {},
   "outputs": [
    {
     "data": {
      "text/html": [
       "<div>\n",
       "<style scoped>\n",
       "    .dataframe tbody tr th:only-of-type {\n",
       "        vertical-align: middle;\n",
       "    }\n",
       "\n",
       "    .dataframe tbody tr th {\n",
       "        vertical-align: top;\n",
       "    }\n",
       "\n",
       "    .dataframe thead th {\n",
       "        text-align: right;\n",
       "    }\n",
       "</style>\n",
       "<table border=\"1\" class=\"dataframe\">\n",
       "  <thead>\n",
       "    <tr style=\"text-align: right;\">\n",
       "      <th></th>\n",
       "      <th>subject</th>\n",
       "      <th>logBF</th>\n",
       "    </tr>\n",
       "  </thead>\n",
       "  <tbody>\n",
       "    <tr>\n",
       "      <th>0</th>\n",
       "      <td>1</td>\n",
       "      <td>-0.897386</td>\n",
       "    </tr>\n",
       "    <tr>\n",
       "      <th>1</th>\n",
       "      <td>2</td>\n",
       "      <td>-1.037389</td>\n",
       "    </tr>\n",
       "    <tr>\n",
       "      <th>2</th>\n",
       "      <td>4</td>\n",
       "      <td>2.297325</td>\n",
       "    </tr>\n",
       "    <tr>\n",
       "      <th>3</th>\n",
       "      <td>5</td>\n",
       "      <td>-0.636657</td>\n",
       "    </tr>\n",
       "    <tr>\n",
       "      <th>4</th>\n",
       "      <td>6</td>\n",
       "      <td>-0.963019</td>\n",
       "    </tr>\n",
       "  </tbody>\n",
       "</table>\n",
       "</div>"
      ],
      "text/plain": [
       "   subject     logBF\n",
       "0        1 -0.897386\n",
       "1        2 -1.037389\n",
       "2        4  2.297325\n",
       "3        5 -0.636657\n",
       "4        6 -0.963019"
      ]
     },
     "execution_count": 2,
     "metadata": {},
     "output_type": "execute_result"
    }
   ],
   "source": [
    "model_df = pd.read_csv('../2_behavioral/outputs/second_level_model_regressors.csv')\n",
    "model_df.head()"
   ]
  },
  {
   "cell_type": "markdown",
   "metadata": {},
   "source": [
    "Load student performance:"
   ]
  },
  {
   "cell_type": "code",
   "execution_count": 3,
   "metadata": {},
   "outputs": [
    {
     "data": {
      "text/html": [
       "<div>\n",
       "<style scoped>\n",
       "    .dataframe tbody tr th:only-of-type {\n",
       "        vertical-align: middle;\n",
       "    }\n",
       "\n",
       "    .dataframe tbody tr th {\n",
       "        vertical-align: top;\n",
       "    }\n",
       "\n",
       "    .dataframe thead th {\n",
       "        text-align: right;\n",
       "    }\n",
       "</style>\n",
       "<table border=\"1\" class=\"dataframe\">\n",
       "  <thead>\n",
       "    <tr style=\"text-align: right;\">\n",
       "      <th></th>\n",
       "      <th>time_elapsed</th>\n",
       "      <th>teacher</th>\n",
       "      <th>problem</th>\n",
       "      <th>num_trial</th>\n",
       "      <th>num_hint</th>\n",
       "      <th>bets</th>\n",
       "      <th>bonus</th>\n",
       "      <th>worker</th>\n",
       "      <th>order</th>\n",
       "      <th>batch</th>\n",
       "    </tr>\n",
       "  </thead>\n",
       "  <tbody>\n",
       "    <tr>\n",
       "      <th>0</th>\n",
       "      <td>181304</td>\n",
       "      <td>sub-04</td>\n",
       "      <td>34.0</td>\n",
       "      <td>0.0</td>\n",
       "      <td>0.0</td>\n",
       "      <td>[0, 35, 41, 48]</td>\n",
       "      <td>0.013777</td>\n",
       "      <td>ARI1EMAHUA9PO</td>\n",
       "      <td>0</td>\n",
       "      <td>2022-02-02-1303</td>\n",
       "    </tr>\n",
       "    <tr>\n",
       "      <th>1</th>\n",
       "      <td>192911</td>\n",
       "      <td>sub-04</td>\n",
       "      <td>34.0</td>\n",
       "      <td>0.0</td>\n",
       "      <td>1.0</td>\n",
       "      <td>[0, 50, 49, 0]</td>\n",
       "      <td>0.020623</td>\n",
       "      <td>ARI1EMAHUA9PO</td>\n",
       "      <td>0</td>\n",
       "      <td>2022-02-02-1303</td>\n",
       "    </tr>\n",
       "    <tr>\n",
       "      <th>2</th>\n",
       "      <td>203582</td>\n",
       "      <td>sub-04</td>\n",
       "      <td>34.0</td>\n",
       "      <td>0.0</td>\n",
       "      <td>2.0</td>\n",
       "      <td>[0, 0, 100, 0]</td>\n",
       "      <td>0.041667</td>\n",
       "      <td>ARI1EMAHUA9PO</td>\n",
       "      <td>0</td>\n",
       "      <td>2022-02-02-1303</td>\n",
       "    </tr>\n",
       "    <tr>\n",
       "      <th>3</th>\n",
       "      <td>223655</td>\n",
       "      <td>sub-27</td>\n",
       "      <td>15.0</td>\n",
       "      <td>1.0</td>\n",
       "      <td>0.0</td>\n",
       "      <td>[0, 52, 50, 48]</td>\n",
       "      <td>0.014444</td>\n",
       "      <td>ARI1EMAHUA9PO</td>\n",
       "      <td>0</td>\n",
       "      <td>2022-02-02-1303</td>\n",
       "    </tr>\n",
       "    <tr>\n",
       "      <th>4</th>\n",
       "      <td>232054</td>\n",
       "      <td>sub-27</td>\n",
       "      <td>15.0</td>\n",
       "      <td>1.0</td>\n",
       "      <td>1.0</td>\n",
       "      <td>[0, 52, 50, 0]</td>\n",
       "      <td>0.021242</td>\n",
       "      <td>ARI1EMAHUA9PO</td>\n",
       "      <td>0</td>\n",
       "      <td>2022-02-02-1303</td>\n",
       "    </tr>\n",
       "  </tbody>\n",
       "</table>\n",
       "</div>"
      ],
      "text/plain": [
       "   time_elapsed teacher  problem  num_trial  num_hint             bets  \\\n",
       "0        181304  sub-04     34.0        0.0       0.0  [0, 35, 41, 48]   \n",
       "1        192911  sub-04     34.0        0.0       1.0   [0, 50, 49, 0]   \n",
       "2        203582  sub-04     34.0        0.0       2.0   [0, 0, 100, 0]   \n",
       "3        223655  sub-27     15.0        1.0       0.0  [0, 52, 50, 48]   \n",
       "4        232054  sub-27     15.0        1.0       1.0   [0, 52, 50, 0]   \n",
       "\n",
       "      bonus         worker  order            batch  \n",
       "0  0.013777  ARI1EMAHUA9PO      0  2022-02-02-1303  \n",
       "1  0.020623  ARI1EMAHUA9PO      0  2022-02-02-1303  \n",
       "2  0.041667  ARI1EMAHUA9PO      0  2022-02-02-1303  \n",
       "3  0.014444  ARI1EMAHUA9PO      0  2022-02-02-1303  \n",
       "4  0.021242  ARI1EMAHUA9PO      0  2022-02-02-1303  "
      ]
     },
     "execution_count": 3,
     "metadata": {},
     "output_type": "execute_result"
    }
   ],
   "source": [
    "student_df = pd.read_csv('outputs/student_behavior.csv')\n",
    "student_df.head()"
   ]
  },
  {
   "cell_type": "code",
   "execution_count": null,
   "metadata": {},
   "outputs": [],
   "source": []
  }
 ],
 "metadata": {
  "kernelspec": {
   "display_name": "Python [conda env:root] *",
   "language": "python",
   "name": "conda-root-py"
  },
  "language_info": {
   "codemirror_mode": {
    "name": "ipython",
    "version": 3
   },
   "file_extension": ".py",
   "mimetype": "text/x-python",
   "name": "python",
   "nbconvert_exporter": "python",
   "pygments_lexer": "ipython3",
   "version": "3.8.5"
  }
 },
 "nbformat": 4,
 "nbformat_minor": 4
}
