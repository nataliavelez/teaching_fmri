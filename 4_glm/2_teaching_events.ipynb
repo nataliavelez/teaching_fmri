{
 "cells": [
  {
   "cell_type": "markdown",
   "metadata": {},
   "source": [
    "# Teaching task event files\n",
    "Natalia Vélez, March 2022"
   ]
  },
  {
   "cell_type": "code",
   "execution_count": 1,
   "metadata": {},
   "outputs": [
    {
     "name": "stdout",
     "output_type": "stream",
     "text": [
      "Loading teaching problems\n",
      "{'A': [[0, 0, 1, 1, 0, 0],\n",
      "       [0, 1, 1, 1, 1, 0],\n",
      "       [1, 1, 1, 1, 1, 1],\n",
      "       [1, 1, 1, 1, 1, 1],\n",
      "       [0, 1, 1, 1, 1, 0],\n",
      "       [0, 0, 1, 1, 0, 0]],\n",
      " 'B': [[1, 1, 1, 0, 0, 0],\n",
      "       [1, 1, 1, 0, 0, 0],\n",
      "       [1, 1, 1, 1, 0, 0],\n",
      "       [0, 0, 1, 1, 0, 0],\n",
      "       [0, 0, 0, 0, 0, 0],\n",
      "       [0, 0, 0, 0, 0, 0]],\n",
      " 'C': [[0, 0, 0, 1, 1, 1],\n",
      "       [0, 0, 0, 1, 1, 1],\n",
      "       [0, 0, 1, 1, 1, 1],\n",
      "       [0, 0, 1, 1, 0, 0],\n",
      "       [0, 0, 0, 0, 0, 0],\n",
      "       [0, 0, 0, 0, 0, 0]],\n",
      " 'D': [[0, 0, 0, 0, 0, 0],\n",
      "       [0, 0, 0, 0, 0, 0],\n",
      "       [0, 0, 1, 1, 0, 0],\n",
      "       [1, 1, 1, 1, 1, 1],\n",
      "       [1, 1, 1, 1, 1, 1],\n",
      "       [1, 1, 1, 1, 1, 1]]}\n",
      "Participants excluded from analysis:\n",
      "[3, 17]\n",
      "Cleaning up human behavioral data\n",
      "    subject  run  block_idx  ex_idx first_movement   start  problem  \\\n",
      "0         1    1          0       0         [0, 1]  [0, 0]       22   \n",
      "1         1    1          0       1         [0, 1]  [0, 0]       22   \n",
      "3         1    1          1       0         [0, 4]  [0, 5]       18   \n",
      "4         1    1          1       1         [0, 4]  [0, 5]       18   \n",
      "5         1    1          1       2         [0, 4]  [0, 5]       18   \n",
      "6         1    1          2       0         [5, 4]  [5, 5]        1   \n",
      "7         1    1          2       1         [5, 4]  [5, 5]        1   \n",
      "8         1    1          2       2         [5, 4]  [5, 5]        1   \n",
      "10        1    1          3       1         [5, 1]  [5, 0]       16   \n",
      "11        1    1          3       2         [5, 1]  [5, 0]       16   \n",
      "12        1    2          0       0         [0, 1]  [0, 0]       20   \n",
      "13        1    2          0       1         [0, 1]  [0, 0]       20   \n",
      "14        1    2          0       2         [0, 1]  [0, 0]       20   \n",
      "16        1    2          1       1         [5, 4]  [5, 5]       28   \n",
      "17        1    2          1       2         [5, 4]  [5, 5]       28   \n",
      "\n",
      "                   order  example cursor_coords example_coords  cursor  \n",
      "0   ['C', 'B', 'D', 'A']        8        [0, 0]         [1, 2]       0  \n",
      "1   ['C', 'B', 'D', 'A']       27        [1, 2]         [4, 3]       8  \n",
      "3   ['D', 'B', 'C', 'A']        3        [0, 5]         [0, 3]       5  \n",
      "4   ['D', 'B', 'C', 'A']       32        [0, 3]         [5, 2]       3  \n",
      "5   ['D', 'B', 'C', 'A']        7        [5, 2]         [1, 1]      32  \n",
      "6   ['A', 'D', 'C', 'B']       31        [5, 5]         [5, 1]      35  \n",
      "7   ['A', 'D', 'C', 'B']        1        [5, 1]         [0, 1]      31  \n",
      "8   ['A', 'D', 'C', 'B']        4        [0, 1]         [0, 4]       1  \n",
      "10  ['B', 'C', 'A', 'D']       27        [5, 0]         [4, 3]      30  \n",
      "11  ['B', 'C', 'A', 'D']        8        [4, 3]         [1, 2]      27  \n",
      "12  ['D', 'C', 'A', 'B']        9        [0, 0]         [1, 3]       0  \n",
      "13  ['D', 'C', 'A', 'B']       19        [1, 3]         [3, 1]       9  \n",
      "14  ['D', 'C', 'A', 'B']       21        [3, 1]         [3, 3]      19  \n",
      "16  ['C', 'D', 'B', 'A']       10        [5, 5]         [1, 4]      35  \n",
      "17  ['C', 'D', 'B', 'A']       26        [1, 4]         [4, 2]      10  \n"
     ]
    }
   ],
   "source": [
    "import os,sys,warnings\n",
    "import pandas as pd\n",
    "import numpy as np\n",
    "from os.path import join as opj\n",
    "from sklearn.preprocessing import scale\n",
    "\n",
    "sys.path.append('..')\n",
    "from utils import str_extract, int_extract, gsearch, read_json, write_json\n",
    "\n",
    "sys.path.append('../2_behavioral')\n",
    "import teaching_models as teach"
   ]
  },
  {
   "cell_type": "markdown",
   "metadata": {},
   "source": [
    "Load valid participants:"
   ]
  },
  {
   "cell_type": "code",
   "execution_count": 2,
   "metadata": {},
   "outputs": [
    {
     "name": "stdout",
     "output_type": "stream",
     "text": [
      "['sub-01', 'sub-02', 'sub-04', 'sub-05', 'sub-06', 'sub-07', 'sub-08', 'sub-09', 'sub-10', 'sub-11', 'sub-12', 'sub-13', 'sub-14', 'sub-15', 'sub-16', 'sub-18', 'sub-19', 'sub-20', 'sub-21', 'sub-22', 'sub-23', 'sub-24', 'sub-25', 'sub-26', 'sub-27', 'sub-28', 'sub-29', 'sub-30']\n"
     ]
    }
   ],
   "source": [
    "valid_participants = np.loadtxt('../1_preprocessing/outputs/valid_participants.txt')\n",
    "valid_participants = ['sub-%02d' % s for s in valid_participants]\n",
    "print(valid_participants)"
   ]
  },
  {
   "cell_type": "markdown",
   "metadata": {},
   "source": [
    "## Vanilla event files (for top-level folder)"
   ]
  },
  {
   "cell_type": "markdown",
   "metadata": {},
   "source": [
    "Find behavioral files:"
   ]
  },
  {
   "cell_type": "code",
   "execution_count": 3,
   "metadata": {},
   "outputs": [
    {
     "name": "stdout",
     "output_type": "stream",
     "text": [
      "Found 299 behavioral files\n",
      "../../behavioral/sub-01_task-teaching_run-01_behavioral_1628798255.json\n",
      "../../behavioral/sub-01_task-teaching_run-02_behavioral_1628798680.json\n",
      "../../behavioral/sub-01_task-teaching_run-03_behavioral_1628799162.json\n",
      "../../behavioral/sub-01_task-teaching_run-04_behavioral_1628800012.json\n",
      "../../behavioral/sub-01_task-teaching_run-05_behavioral_1628800423.json\n",
      "../../behavioral/sub-01_task-teaching_run-06_behavioral_1628800796.json\n",
      "../../behavioral/sub-01_task-teaching_run-07_behavioral_1628801177.json\n",
      "../../behavioral/sub-01_task-teaching_run-08_behavioral_1628801584.json\n",
      "../../behavioral/sub-01_task-teaching_run-09_behavioral_1628802076.json\n",
      "../../behavioral/sub-01_task-teaching_run-10_behavioral_1628802432.json\n"
     ]
    }
   ],
   "source": [
    "data_dir = '../../'\n",
    "original_files = gsearch(data_dir, 'behavioral', '*.json')\n",
    "original_files = [f for f in original_files if 'run-practice' not in f] # trim out practice runs\n",
    "original_files.sort()\n",
    "\n",
    "print(f'Found {len(original_files)} behavioral files')\n",
    "print(*original_files[:10], sep='\\n')"
   ]
  },
  {
   "cell_type": "markdown",
   "metadata": {},
   "source": [
    "Helper function: Transforms raw data into BIDS-compliant events files"
   ]
  },
  {
   "cell_type": "code",
   "execution_count": 4,
   "metadata": {},
   "outputs": [],
   "source": [
    "def data_wrangling(f):\n",
    "\n",
    "    # load input data\n",
    "    in_df = pd.read_json(f)\n",
    "\n",
    "    # copy input data\n",
    "    out_df = (\n",
    "        in_df\n",
    "        .copy()\n",
    "        .rename(columns={\n",
    "            'ons': 'onset',\n",
    "            'dur': 'duration',\n",
    "            'type': 'trial_type',\n",
    "            'problem_idx': 'block_no',\n",
    "            'ex_idx': 'trial_no',\n",
    "            'problem': 'stimuli',\n",
    "            'order': 'stimuli_order',\n",
    "            'rt': 'response_time'\n",
    "        })\n",
    "    )\n",
    "\n",
    "    # create additional rows for motor response\n",
    "    choose_trials = out_df[~pd.isna(out_df.movements)]\n",
    "    rate_trials = out_df[out_df.trial_type == 'rate']\n",
    "\n",
    "    # add cursor movements from choose trials\n",
    "    movement_list = []\n",
    "    for _, row in choose_trials.iterrows():\n",
    "        movements = row.movements\n",
    "        movement_dict = [{'trial_type': 'motor', 'onset': row.onset + m[1], 'duration': 0} for m in movements if m[1] >= 0]\n",
    "        movement_list += movement_dict\n",
    "\n",
    "    # add cursor movements from rate trials\n",
    "    for _, row in rate_trials.iterrows():\n",
    "        movement_dict = {'trial_type': 'motor', 'onset': row.onset+row.response_time, 'duration': 0}\n",
    "        movement_list.append(movement_dict)\n",
    "\n",
    "    # add to main event df\n",
    "    movement_df = pd.DataFrame(movement_list)\n",
    "    out_df = pd.concat([out_df, movement_df])\n",
    "\n",
    "    # make a single \"response\" column\n",
    "    response = np.empty(out_df.shape[0])\n",
    "    response = np.where(out_df.example.isna(), out_df.rating, out_df.example)\n",
    "    out_df['response'] = response\n",
    "\n",
    "    # reorganize df\n",
    "    out_df = (\n",
    "        out_df\n",
    "        .sort_values(by='onset')\n",
    "        .dropna(axis='index', subset=['onset'])\n",
    "        .reset_index(drop=True)\n",
    "        [['onset', 'duration', 'trial_type', 'block_no', 'trial_no', 'stimuli',\n",
    "          'stimuli_order', 'response', 'response_time']]\n",
    "    )\n",
    "    \n",
    "    out_df = out_df[~out_df.trial_type.isin(['pause', 'pre'])] # don't explicitly model fixation periods\n",
    "\n",
    "    return out_df"
   ]
  },
  {
   "cell_type": "markdown",
   "metadata": {},
   "source": [
    "Main loop: Iterate through all behavioral files"
   ]
  },
  {
   "cell_type": "code",
   "execution_count": 5,
   "metadata": {},
   "outputs": [],
   "source": [
    "data_dir = '../../BIDS_data/'\n",
    "\n",
    "for f in original_files:\n",
    "    \n",
    "#     print(f'Loading file: {f}')\n",
    "    sub = str_extract('sub-[0-9]{2}', f)\n",
    "    run = str_extract('run-[0-9]{2}', f)\n",
    "    out_f = opj(data_dir, sub, 'func', f'{sub}_task-teaching_{run}_events.tsv')\n",
    "    \n",
    "#     print(f'Saving to: {out_f}\\n')\n",
    "    out_df = data_wrangling(f)\n",
    "    out_df.to_csv(out_f, sep='\\t', index=False, na_rep='n/a')"
   ]
  },
  {
   "cell_type": "markdown",
   "metadata": {},
   "source": [
    "## Model-generated regressors (for GLM)"
   ]
  },
  {
   "cell_type": "markdown",
   "metadata": {},
   "source": [
    "Load model regressors"
   ]
  },
  {
   "cell_type": "code",
   "execution_count": 6,
   "metadata": {},
   "outputs": [
    {
     "data": {
      "text/html": [
       "<div>\n",
       "<style scoped>\n",
       "    .dataframe tbody tr th:only-of-type {\n",
       "        vertical-align: middle;\n",
       "    }\n",
       "\n",
       "    .dataframe tbody tr th {\n",
       "        vertical-align: top;\n",
       "    }\n",
       "\n",
       "    .dataframe thead th {\n",
       "        text-align: right;\n",
       "    }\n",
       "</style>\n",
       "<table border=\"1\" class=\"dataframe\">\n",
       "  <thead>\n",
       "    <tr style=\"text-align: right;\">\n",
       "      <th></th>\n",
       "      <th>subject</th>\n",
       "      <th>run</th>\n",
       "      <th>block_no</th>\n",
       "      <th>trial_no</th>\n",
       "      <th>stimuli</th>\n",
       "      <th>pH</th>\n",
       "      <th>pTrue</th>\n",
       "      <th>KL</th>\n",
       "      <th>logp</th>\n",
       "    </tr>\n",
       "  </thead>\n",
       "  <tbody>\n",
       "    <tr>\n",
       "      <th>0</th>\n",
       "      <td>1</td>\n",
       "      <td>1</td>\n",
       "      <td>0</td>\n",
       "      <td>0</td>\n",
       "      <td>22</td>\n",
       "      <td>[0.3333333333333333, 0.3333333333333333, 0.0, ...</td>\n",
       "      <td>-0.126543</td>\n",
       "      <td>0.516503</td>\n",
       "      <td>-inf</td>\n",
       "    </tr>\n",
       "    <tr>\n",
       "      <th>1</th>\n",
       "      <td>1</td>\n",
       "      <td>1</td>\n",
       "      <td>0</td>\n",
       "      <td>1</td>\n",
       "      <td>22</td>\n",
       "      <td>[0.5, 0.0, 0.0, 0.5]</td>\n",
       "      <td>0.040123</td>\n",
       "      <td>1.209600</td>\n",
       "      <td>-inf</td>\n",
       "    </tr>\n",
       "    <tr>\n",
       "      <th>2</th>\n",
       "      <td>1</td>\n",
       "      <td>1</td>\n",
       "      <td>1</td>\n",
       "      <td>0</td>\n",
       "      <td>18</td>\n",
       "      <td>[0.5, 0.5, 0.0, 0.0]</td>\n",
       "      <td>0.040123</td>\n",
       "      <td>2.341827</td>\n",
       "      <td>-inf</td>\n",
       "    </tr>\n",
       "    <tr>\n",
       "      <th>3</th>\n",
       "      <td>1</td>\n",
       "      <td>1</td>\n",
       "      <td>1</td>\n",
       "      <td>1</td>\n",
       "      <td>18</td>\n",
       "      <td>[0.5, 0.5, 0.0, 0.0]</td>\n",
       "      <td>0.040123</td>\n",
       "      <td>-1.223922</td>\n",
       "      <td>-inf</td>\n",
       "    </tr>\n",
       "    <tr>\n",
       "      <th>4</th>\n",
       "      <td>1</td>\n",
       "      <td>1</td>\n",
       "      <td>1</td>\n",
       "      <td>2</td>\n",
       "      <td>18</td>\n",
       "      <td>[0.5, 0.5, 0.0, 0.0]</td>\n",
       "      <td>0.040123</td>\n",
       "      <td>-1.223922</td>\n",
       "      <td>-inf</td>\n",
       "    </tr>\n",
       "  </tbody>\n",
       "</table>\n",
       "</div>"
      ],
      "text/plain": [
       "   subject  run  block_no  trial_no  stimuli  \\\n",
       "0        1    1         0         0       22   \n",
       "1        1    1         0         1       22   \n",
       "2        1    1         1         0       18   \n",
       "3        1    1         1         1       18   \n",
       "4        1    1         1         2       18   \n",
       "\n",
       "                                                  pH     pTrue        KL  logp  \n",
       "0  [0.3333333333333333, 0.3333333333333333, 0.0, ... -0.126543  0.516503  -inf  \n",
       "1                               [0.5, 0.0, 0.0, 0.5]  0.040123  1.209600  -inf  \n",
       "2                               [0.5, 0.5, 0.0, 0.0]  0.040123  2.341827  -inf  \n",
       "3                               [0.5, 0.5, 0.0, 0.0]  0.040123 -1.223922  -inf  \n",
       "4                               [0.5, 0.5, 0.0, 0.0]  0.040123 -1.223922  -inf  "
      ]
     },
     "execution_count": 6,
     "metadata": {},
     "output_type": "execute_result"
    }
   ],
   "source": [
    "model_reg = (\n",
    "    pd.read_csv('../2_behavioral/outputs/model_regressor_values.csv')\n",
    "    .rename(columns={'block_idx': 'block_no', 'ex_idx': 'trial_no', 'problem': 'stimuli'})\n",
    ")\n",
    "model_reg.head()"
   ]
  },
  {
   "cell_type": "markdown",
   "metadata": {},
   "source": [
    "Helper function: Merge model-based regressors with vanilla event files"
   ]
  },
  {
   "cell_type": "code",
   "execution_count": 7,
   "metadata": {},
   "outputs": [],
   "source": [
    "def make_model_reg(f, reg_df=model_reg):\n",
    "\n",
    "    # get event data\n",
    "    event_df = data_wrangling(f)\n",
    "    event_df.head()\n",
    "\n",
    "    # get regressors\n",
    "    sub = int_extract('(?<=sub-)[0-9]{2}', f)\n",
    "    run = int_extract('(?<=run-)[0-9]{2}', f)\n",
    "    run_reg = reg_df[(reg_df.subject == sub) & (reg_df.run == run)]\n",
    "    run_reg = run_reg[['block_no', 'trial_no', 'pTrue', 'KL']]\n",
    "\n",
    "    # split \"show\" trials based on whether a hint was selected\n",
    "    choose_trials = event_df[event_df.trial_type == 'choose']\n",
    "    missed_trial = pd.isnull(choose_trials.response)\n",
    "    show_renamed = np.where(missed_trial, 'show_missed', 'show_new')\n",
    "    event_df.loc[event_df.trial_type == 'show', 'trial_type'] = show_renamed\n",
    "\n",
    "    # merge with event files\n",
    "    show_trials = (\n",
    "        event_df\n",
    "        [event_df.trial_type == 'show_new']\n",
    "        .copy()\n",
    "        .drop(columns='trial_type')\n",
    "        .merge(run_reg, on=['block_no', 'trial_no'], how='left')\n",
    "        .melt(id_vars=['onset', 'duration', 'block_no', 'trial_no', 'stimuli', 'stimuli_order', 'response', 'response_time'],\n",
    "              value_vars=['pTrue', 'KL'], var_name='trial_type', value_name='value')\n",
    "    )\n",
    "\n",
    "    # put everything together\n",
    "    model_events = pd.concat([event_df, show_trials])\n",
    "    model_events = (\n",
    "        model_events\n",
    "        .assign(trial_type=model_events.trial_type.astype('category').cat.reorder_categories(event_df.trial_type.unique().tolist() + ['pTrue', 'KL']))\n",
    "        .sort_values(by=['onset', 'duration', 'trial_type'])\n",
    "        [['onset', 'duration', 'stimuli', 'trial_type', 'value']]\n",
    "        .reset_index(drop=True)\n",
    "    )\n",
    "\n",
    "    return model_events"
   ]
  },
  {
   "cell_type": "markdown",
   "metadata": {},
   "source": [
    "Save to file:"
   ]
  },
  {
   "cell_type": "code",
   "execution_count": 8,
   "metadata": {},
   "outputs": [],
   "source": [
    "out_dir = '../../BIDS_data/derivatives/model_events'\n",
    "os.makedirs(out_dir, exist_ok=True)\n",
    "\n",
    "for f in original_files:\n",
    "    sub = str_extract('sub-[0-9]{2}', f)\n",
    "    run = str_extract('run-[0-9]{2}', f)\n",
    "    out_f = opj(out_dir, sub, 'func', f'{sub}_task-teaching_{run}_model-main_events.tsv')\n",
    "    \n",
    "    if sub in valid_participants:\n",
    "        out_df = make_model_reg(f)        \n",
    "        os.makedirs(opj(out_dir, sub, 'func'), exist_ok=True)\n",
    "        out_df.to_csv(out_f, sep='\\t', index=False, na_rep='n/a')"
   ]
  },
  {
   "cell_type": "markdown",
   "metadata": {},
   "source": [
    "## Control model: Time regressor"
   ]
  },
  {
   "cell_type": "markdown",
   "metadata": {},
   "source": [
    "Load control regressors:"
   ]
  },
  {
   "cell_type": "code",
   "execution_count": 11,
   "metadata": {},
   "outputs": [
    {
     "name": "stdout",
     "output_type": "stream",
     "text": [
      "(3213, 7)\n"
     ]
    },
    {
     "data": {
      "text/html": [
       "<div>\n",
       "<style scoped>\n",
       "    .dataframe tbody tr th:only-of-type {\n",
       "        vertical-align: middle;\n",
       "    }\n",
       "\n",
       "    .dataframe tbody tr th {\n",
       "        vertical-align: top;\n",
       "    }\n",
       "\n",
       "    .dataframe thead th {\n",
       "        text-align: right;\n",
       "    }\n",
       "</style>\n",
       "<table border=\"1\" class=\"dataframe\">\n",
       "  <thead>\n",
       "    <tr style=\"text-align: right;\">\n",
       "      <th></th>\n",
       "      <th>subject</th>\n",
       "      <th>run</th>\n",
       "      <th>block_no</th>\n",
       "      <th>trial_no</th>\n",
       "      <th>stimuli</th>\n",
       "      <th>pTrue</th>\n",
       "      <th>KL</th>\n",
       "    </tr>\n",
       "  </thead>\n",
       "  <tbody>\n",
       "    <tr>\n",
       "      <th>0</th>\n",
       "      <td>1</td>\n",
       "      <td>7</td>\n",
       "      <td>2</td>\n",
       "      <td>0</td>\n",
       "      <td>0</td>\n",
       "      <td>-0.25463</td>\n",
       "      <td>-1.944137</td>\n",
       "    </tr>\n",
       "    <tr>\n",
       "      <th>1</th>\n",
       "      <td>1</td>\n",
       "      <td>7</td>\n",
       "      <td>2</td>\n",
       "      <td>1</td>\n",
       "      <td>0</td>\n",
       "      <td>-0.00463</td>\n",
       "      <td>-1.526076</td>\n",
       "    </tr>\n",
       "    <tr>\n",
       "      <th>2</th>\n",
       "      <td>1</td>\n",
       "      <td>7</td>\n",
       "      <td>2</td>\n",
       "      <td>2</td>\n",
       "      <td>0</td>\n",
       "      <td>0.24537</td>\n",
       "      <td>3.446987</td>\n",
       "    </tr>\n",
       "    <tr>\n",
       "      <th>3</th>\n",
       "      <td>1</td>\n",
       "      <td>1</td>\n",
       "      <td>2</td>\n",
       "      <td>0</td>\n",
       "      <td>1</td>\n",
       "      <td>-0.25463</td>\n",
       "      <td>-1.944137</td>\n",
       "    </tr>\n",
       "    <tr>\n",
       "      <th>4</th>\n",
       "      <td>1</td>\n",
       "      <td>1</td>\n",
       "      <td>2</td>\n",
       "      <td>1</td>\n",
       "      <td>1</td>\n",
       "      <td>-0.00463</td>\n",
       "      <td>-1.526076</td>\n",
       "    </tr>\n",
       "  </tbody>\n",
       "</table>\n",
       "</div>"
      ],
      "text/plain": [
       "   subject  run  block_no  trial_no  stimuli    pTrue        KL\n",
       "0        1    7         2         0        0 -0.25463 -1.944137\n",
       "1        1    7         2         1        0 -0.00463 -1.526076\n",
       "2        1    7         2         2        0  0.24537  3.446987\n",
       "3        1    1         2         0        1 -0.25463 -1.944137\n",
       "4        1    1         2         1        1 -0.00463 -1.526076"
      ]
     },
     "execution_count": 11,
     "metadata": {},
     "output_type": "execute_result"
    }
   ],
   "source": [
    "time_df = (\n",
    "    pd.read_csv('../2_behavioral/outputs/control_regressor_values.csv')\n",
    "    .rename(columns={\n",
    "            'block_idx': 'block_no',\n",
    "            'ex_idx': 'trial_no',\n",
    "            'problem': 'stimuli',\n",
    "        })\n",
    "    )\n",
    "print(time_df.shape)\n",
    "time_df.head()"
   ]
  },
  {
   "cell_type": "markdown",
   "metadata": {},
   "source": [
    "Make event files:"
   ]
  },
  {
   "cell_type": "code",
   "execution_count": 12,
   "metadata": {},
   "outputs": [],
   "source": [
    "for f in original_files:\n",
    "    sub = str_extract('sub-[0-9]{2}', f)\n",
    "    run = str_extract('run-[0-9]{2}', f)\n",
    "    out_f = opj(out_dir, sub, 'func', f'{sub}_task-teaching_{run}_model-control_events.tsv')\n",
    "    \n",
    "    if sub in valid_participants:\n",
    "        out_df = make_model_reg(f, reg_df=time_df)        \n",
    "        os.makedirs(opj(out_dir, sub, 'func'), exist_ok=True)\n",
    "        out_df.to_csv(out_f, sep='\\t', index=False, na_rep='n/a')"
   ]
  },
  {
   "cell_type": "markdown",
   "metadata": {},
   "source": [
    "## Blended model (partialling out the effect of time)"
   ]
  },
  {
   "cell_type": "markdown",
   "metadata": {},
   "source": [
    "Make event files that blend model-based and control (time) regressors:"
   ]
  },
  {
   "cell_type": "code",
   "execution_count": 13,
   "metadata": {},
   "outputs": [],
   "source": [
    "out_dir = '../../BIDS_data/derivatives/model_events'\n",
    "os.makedirs(out_dir, exist_ok=True)\n",
    "\n",
    "for f in original_files:\n",
    "    sub = str_extract('sub-[0-9]{2}', f)\n",
    "    run = str_extract('run-[0-9]{2}', f)\n",
    "    out_f = opj(out_dir, sub, 'func', f'{sub}_task-teaching_{run}_model-blended_events.tsv')\n",
    "\n",
    "    if sub in valid_participants:\n",
    "        model_sub = make_model_reg(f)\n",
    "        time_sub = make_model_reg(f, reg_df=time_df).dropna()\n",
    "        time_sub = time_sub[time_sub['trial_type'] == 'pTrue']\n",
    "        time_sub['trial_type'] = 'time'\n",
    "\n",
    "        out_df = pd.concat([model_sub, time_sub]).sort_values(by=['onset', 'trial_type']).reset_index(drop=True)    \n",
    "        os.makedirs(opj(out_dir, sub, 'func'), exist_ok=True)\n",
    "        out_df.to_csv(out_f, sep='\\t', index=False, na_rep='n/a')"
   ]
  }
 ],
 "metadata": {
  "kernelspec": {
   "display_name": "Python 3",
   "language": "python",
   "name": "python3"
  },
  "language_info": {
   "codemirror_mode": {
    "name": "ipython",
    "version": 3
   },
   "file_extension": ".py",
   "mimetype": "text/x-python",
   "name": "python",
   "nbconvert_exporter": "python",
   "pygments_lexer": "ipython3",
   "version": "3.8.5"
  }
 },
 "nbformat": 4,
 "nbformat_minor": 4
}
